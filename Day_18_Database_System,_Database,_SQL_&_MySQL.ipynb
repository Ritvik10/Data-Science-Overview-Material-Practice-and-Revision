{
  "nbformat": 4,
  "nbformat_minor": 0,
  "metadata": {
    "colab": {
      "provenance": [],
      "include_colab_link": true
    },
    "kernelspec": {
      "name": "python3",
      "display_name": "Python 3"
    },
    "language_info": {
      "name": "python"
    }
  },
  "cells": [
    {
      "cell_type": "markdown",
      "metadata": {
        "id": "view-in-github",
        "colab_type": "text"
      },
      "source": [
        "<a href=\"https://colab.research.google.com/github/Ritvik10/Data-Science-Overview-Material-Practice-and-Revision/blob/main/Day_18_Database_System%2C_Database%2C_SQL_%26_MySQL.ipynb\" target=\"_parent\"><img src=\"https://colab.research.google.com/assets/colab-badge.svg\" alt=\"Open In Colab\"/></a>"
      ]
    },
    {
      "cell_type": "code",
      "execution_count": 1,
      "metadata": {
        "id": "BqFzMf9FAv3-",
        "outputId": "9e9183f4-ffe3-4100-be8f-a2e2ba861ac4",
        "colab": {
          "base_uri": "https://localhost:8080/",
          "height": 140
        }
      },
      "outputs": [
        {
          "output_type": "execute_result",
          "data": {
            "text/plain": [
              "'\\n-- Show all the database\\nSHOW DATABASES;\\n\\n\\n-- Create a Database\\n-- SYNTAX: CREATE DATABASE database_name;\\nCREATE DATABASE Student;\\n\\nUSE Student;\\n\\n-- Delete a Database\\n-- SYNTAX: DROP DATABASE database_name;\\ndrop database stUDenT;\\n\\n-- Making a Database Backup\\n-- SYNTAX: BACKUP DATABASE database_name TO DISK = \\'filepath\\';\\n\\n\\n\\n-- Creating a Table\\n-- SYNTAX: CREATE TABLE table_name(\\n--                COL1 datatype, COL2 datatype);\\n\\nCREATE TABLE Information(\\nName char(50),\\nAge int,\\nRollNo int,\\nEmail varchar(500)\\n);\\n\\n-- Char -> 255 -> Fixed Length -> Faster than Varchar\\n-- Varchar -> 65,535 -> Variable Length -> Slower than Char\\n-- Admission_Number = \\n\\n\\n\\n-- Deleting a Table\\n-- SYNTAX: DROP TABLE table_name;\\n-- Q. DROP, DELETE & TRUNCATE\\nDROP TABLE information;\\n\\n\\n-- ALTER -> To add, delete or modify columns\\n-- Adding a column\\nALTER TABLE information\\nADD City char(255);\\n\\n-- Deleting a column\\nALTER TABLE information\\nDROP City;\\n\\n\\n\\n-- Changing the datatype of a column\\nALTER TABLE information\\nMODIFY COLUMN EMAIL char(255);\\n\\n-- Constraints\\n\\n-- Email -> str() -> \"Hello\"\\n-- Email -> str(),@ -> \"@Hello\"\\n-- Email -> str(), _________@_____.______ -> hello@world.djfivhfedihfedkgjvhdkjdvkjhvbrkdkvbfd\\n-- Email -> str(), _________@_____.______(10) -> hello@world.phone\\n\\n-- 1st Constraint -> NOT NULL\\n-- Name\\n-- Email*\\n-- Pwd*\\n-- Add\\n-- Phone\\n\\nCREATE TABLE Information1(\\nName char(50) NOT NULL,\\nAge int,\\nRollNo int,\\nEmail varchar(500)\\n);\\n\\n\\nALTER TABLE information1\\nMODIFY COLUMN EMAIL char(255) NOT NULL;\\n\\n\\n\\n-- 2nd Constraint -> UNIQUE\\n\\n-- ORACLE, MS ACCESS, MS SQL SERVER\\nCREATE TABLE Information1(\\nName char(50) UNIQUE,\\nAge int,\\nRollNo int,\\nEmail varchar(500)\\n);\\n\\n-- MYSQL\\nCREATE TABLE Information2(\\nName char(50),\\nAge int,\\nRollNo int,\\nEmail varchar(500),\\nUNIQUE (RollNo)\\n);\\n\\n\\n-- 3rd Constraint -> DEFAULT\\nCREATE TABLE Information4(\\nName char(50) DEFAULT \"XYZ\",\\nAge int,\\nRollNo int,\\nEmail varchar(500)\\n);\\n'"
            ],
            "application/vnd.google.colaboratory.intrinsic+json": {
              "type": "string"
            }
          },
          "metadata": {},
          "execution_count": 1
        }
      ],
      "source": [
        "\"\"\"\n",
        "-- Show all the database\n",
        "SHOW DATABASES;\n",
        "\n",
        "\n",
        "-- Create a Database\n",
        "-- SYNTAX: CREATE DATABASE database_name;\n",
        "CREATE DATABASE Student;\n",
        "\n",
        "USE Student;\n",
        "\n",
        "-- Delete a Database\n",
        "-- SYNTAX: DROP DATABASE database_name;\n",
        "drop database stUDenT;\n",
        "\n",
        "-- Making a Database Backup\n",
        "-- SYNTAX: BACKUP DATABASE database_name TO DISK = 'filepath';\n",
        "\n",
        "\n",
        "\n",
        "-- Creating a Table\n",
        "-- SYNTAX: CREATE TABLE table_name(\n",
        "--                COL1 datatype, COL2 datatype);\n",
        "\n",
        "CREATE TABLE Information(\n",
        "Name char(50),\n",
        "Age int,\n",
        "RollNo int,\n",
        "Email varchar(500)\n",
        ");\n",
        "\n",
        "-- Char -> 255 -> Fixed Length -> Faster than Varchar\n",
        "-- Varchar -> 65,535 -> Variable Length -> Slower than Char\n",
        "-- Admission_Number =\n",
        "\n",
        "\n",
        "\n",
        "-- Deleting a Table\n",
        "-- SYNTAX: DROP TABLE table_name;\n",
        "-- Q. DROP, DELETE & TRUNCATE\n",
        "DROP TABLE information;\n",
        "\n",
        "\n",
        "-- ALTER -> To add, delete or modify columns\n",
        "-- Adding a column\n",
        "ALTER TABLE information\n",
        "ADD City char(255);\n",
        "\n",
        "-- Deleting a column\n",
        "ALTER TABLE information\n",
        "DROP City;\n",
        "\n",
        "\n",
        "\n",
        "-- Changing the datatype of a column\n",
        "ALTER TABLE information\n",
        "MODIFY COLUMN EMAIL char(255);\n",
        "\n",
        "-- Constraints\n",
        "\n",
        "-- Email -> str() -> \"Hello\"\n",
        "-- Email -> str(),@ -> \"@Hello\"\n",
        "-- Email -> str(), _________@_____.______ -> hello@world.djfivhfedihfedkgjvhdkjdvkjhvbrkdkvbfd\n",
        "-- Email -> str(), _________@_____.______(10) -> hello@world.phone\n",
        "\n",
        "-- 1st Constraint -> NOT NULL\n",
        "-- Name\n",
        "-- Email*\n",
        "-- Pwd*\n",
        "-- Add\n",
        "-- Phone\n",
        "\n",
        "CREATE TABLE Information1(\n",
        "Name char(50) NOT NULL,\n",
        "Age int,\n",
        "RollNo int,\n",
        "Email varchar(500)\n",
        ");\n",
        "\n",
        "\n",
        "ALTER TABLE information1\n",
        "MODIFY COLUMN EMAIL char(255) NOT NULL;\n",
        "\n",
        "\n",
        "\n",
        "-- 2nd Constraint -> UNIQUE\n",
        "\n",
        "-- ORACLE, MS ACCESS, MS SQL SERVER\n",
        "CREATE TABLE Information1(\n",
        "Name char(50) UNIQUE,\n",
        "Age int,\n",
        "RollNo int,\n",
        "Email varchar(500)\n",
        ");\n",
        "\n",
        "-- MYSQL\n",
        "CREATE TABLE Information2(\n",
        "Name char(50),\n",
        "Age int,\n",
        "RollNo int,\n",
        "Email varchar(500),\n",
        "UNIQUE (RollNo)\n",
        ");\n",
        "\n",
        "\n",
        "-- 3rd Constraint -> DEFAULT\n",
        "CREATE TABLE Information4(\n",
        "Name char(50) DEFAULT \"XYZ\",\n",
        "Age int,\n",
        "RollNo int,\n",
        "Email varchar(500)\n",
        ");\n",
        "\"\"\""
      ]
    },
    {
      "cell_type": "code",
      "source": [],
      "metadata": {
        "id": "ze8oG0EodKc7"
      },
      "execution_count": null,
      "outputs": []
    }
  ]
}