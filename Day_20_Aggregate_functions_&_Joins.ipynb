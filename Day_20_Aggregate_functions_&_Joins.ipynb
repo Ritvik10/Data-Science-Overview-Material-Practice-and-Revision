{
  "nbformat": 4,
  "nbformat_minor": 0,
  "metadata": {
    "colab": {
      "provenance": [],
      "toc_visible": true,
      "include_colab_link": true
    },
    "kernelspec": {
      "name": "python3",
      "display_name": "Python 3"
    },
    "language_info": {
      "name": "python"
    }
  },
  "cells": [
    {
      "cell_type": "markdown",
      "metadata": {
        "id": "view-in-github",
        "colab_type": "text"
      },
      "source": [
        "<a href=\"https://colab.research.google.com/github/Ritvik10/Data-Science-Overview-Material-Practice-and-Revision/blob/main/Day_20_Aggregate_functions_%26_Joins.ipynb\" target=\"_parent\"><img src=\"https://colab.research.google.com/assets/colab-badge.svg\" alt=\"Open In Colab\"/></a>"
      ]
    },
    {
      "cell_type": "code",
      "source": [
        "\"\"\"\n",
        "CREATE DATABASE University;\n",
        "\n",
        "USE University;\n",
        "\n",
        "CREATE TABLE STUDENT(\n",
        "ADMN_ID int AUTO_INCREMENT,\n",
        "NAME char(100) NOT NULL,\n",
        "AGE int,\n",
        "Email varchar(200) UNIQUE,\n",
        "PRIMARY KEY(ADMN_ID)\n",
        ");\n",
        "\n",
        "\n",
        "CREATE TABLE COURSE_INFO(\n",
        "COURSE_ID int AUTO_INCREMENT,\n",
        "COURSE_NAME char(100) NOT NULL,\n",
        "COURSE_CREDITS int NOT NULL,\n",
        "ADMN_ID int NOT NULL,\n",
        "PRIMARY KEY (COURSE_ID),\n",
        "FOREIGN KEY (ADMN_ID) REFERENCES STUDENT(ADMN_ID)\n",
        ");\n",
        "\n",
        "INSERT INTO STUDENT (Name, Age, Email) VALUES ('Steve', 100, 'steve@rogers.com');\n",
        "INSERT INTO STUDENT (Name, Age, Email) VALUES ('Clint', 56, 'clint@barton.com');\n",
        "INSERT INTO STUDENT (Name, Age, Email) VALUES ('Bruce', 100, 'bruce@banner.com');\n",
        "INSERT INTO STUDENT (Name, Age, Email) VALUES ('Tony', 78, 'tony@stark.com');\n",
        "INSERT INTO STUDENT (Name, Age, Email) VALUES ('Natasha', 98, 'natasha@romaoff.com');\n",
        "INSERT INTO STUDENT (Name, Age, Email) VALUES ('Peter', 34, 'peter@parker.com');\n",
        "INSERT INTO STUDENT (Name, Age, Email) VALUES ('Thor', 15, 'thor@odinson.com');\n",
        "INSERT INTO STUDENT (Name, Age, Email) VALUES ('Loki', 43, 'loki@odinson.com');\n",
        "INSERT INTO STUDENT (Name, Age, Email) VALUES ('Hela', 27, 'hela@odinson.com');\n",
        "INSERT INTO STUDENT (Name, Age, Email) VALUES ('Thanos', 27, 'thanos@thanos.com');\n",
        "INSERT INTO STUDENT (Name, Age, Email) VALUES ('Groot', 33, 'groot@groot.com');\n",
        "INSERT INTO STUDENT (Name, Age, Email) VALUES ('Gamora', 10, 'gamora@gamora.com');\n",
        "INSERT INTO STUDENT (Name, Age, Email) VALUES ('Strange', 67, 'doctor@strange.com');\n",
        "INSERT INTO STUDENT (Name, Age, Email) VALUES ('Wong', 99, 'wong@wong.com');\n",
        "\n",
        "\n",
        "INSERT INTO COURSE_INFO (COURSE_NAME, COURSE_CREDITS, ADMN_ID)\n",
        "VALUES (\"BTEch\", 90, 1);\n",
        "\n",
        "INSERT INTO COURSE_INFO (COURSE_NAME, COURSE_CREDITS, ADMN_ID)\n",
        "VALUES (\"BBA\", 120, 2);\n",
        "INSERT INTO COURSE_INFO (COURSE_NAME, COURSE_CREDITS, ADMN_ID)\n",
        "VALUES (\"MBA\", 50, 3);\n",
        "INSERT INTO COURSE_INFO (COURSE_NAME, COURSE_CREDITS, ADMN_ID)\n",
        "VALUES (\"Phy. Hons.\", 40, 4);\n",
        "INSERT INTO COURSE_INFO (COURSE_NAME, COURSE_CREDITS, ADMN_ID)\n",
        "VALUES (\"Pol. Sci\", 20, 5);\n",
        "INSERT INTO COURSE_INFO (COURSE_NAME, COURSE_CREDITS, ADMN_ID)\n",
        "VALUES (\"History Hons.\", 35, 6);\n",
        "INSERT INTO COURSE_INFO (COURSE_NAME, COURSE_CREDITS, ADMN_ID)\n",
        "VALUES (\"MTech\", 100, 7);\n",
        "INSERT INTO COURSE_INFO (COURSE_NAME, COURSE_CREDITS, ADMN_ID)\n",
        "VALUES (\"BCom\", 45, 8);\n",
        "INSERT INTO COURSE_INFO (COURSE_NAME, COURSE_CREDITS, ADMN_ID)\n",
        "VALUES (\"BEd.\", 50, 9);\n",
        "INSERT INTO COURSE_INFO (COURSE_NAME, COURSE_CREDITS, ADMN_ID)\n",
        "VALUES (\"Hospitality\", 60, 10);\n",
        "\n",
        "\n",
        "SELECT * FROM STUDENT;\n",
        "\n",
        "SELECT *\n",
        "FROM STUDENT\n",
        "WHERE AGE < 50;\n",
        "\n",
        "\n",
        "-- Age is between 34 - 75 (both inclusive) and admn_id is not 10\n",
        "SELECT *\n",
        "FROM STUDENT\n",
        "WHERE AGE >= 34 AND AGE <= 75;\n",
        "\n",
        "SELECT *\n",
        "FROM STUDENT\n",
        "WHERE AGE BETWEEN 34 AND 75;\n",
        "\n",
        "\n",
        "-- CRUD\n",
        "\n",
        "-- UPDATE\n",
        "-- SYNATX: UPDATE table_name SET col=val, col=val.... WHERE condition;\n",
        "\n",
        "UPDATE STUDENT\n",
        "SET Name='IronMan'\n",
        "WHERE ADMN_ID=6;\n",
        "\n",
        "UPDATE STUDENT\n",
        "SET Name='Steve Rogers', Age=170\n",
        "WHERE ADMN_ID=3;\n",
        "\n",
        "USE University;\n",
        "\n",
        "-- DELETE\n",
        "-- SYNTAX: DELETE FROM table_name WHERE condition;\n",
        "\n",
        "DELETE FROM University.STUDENT WHERE ADMN_ID=14;\n",
        "\n",
        "-- Error Code: 1046. No database selected Select the default DB to be used by double-clicking its name in the SCHEMAS list in the sidebar.\n",
        "\n",
        "-- DROP vs DELETE vs TRUNCATE\n",
        "\n",
        "TRUNCATE TABLE STUDENT;\n",
        "\n",
        "\n",
        "CREATE TABLE RANDOM(\n",
        "Name varchar(200),\n",
        "Age int\n",
        ");\n",
        "\n",
        "INSERT INTO RANDOM(NAME, AGE) VALUES (\"Tony\", 45);\n",
        "INSERT INTO RANDOM(NAME, AGE) VALUES (\"Steve\", 56);\n",
        "INSERT INTO RANDOM(NAME, AGE) VALUES (\"Bruce\", 67);\n",
        "\n",
        "\n",
        "TRUNCATE TABLE RANDOM;\n",
        "\n",
        "\n",
        "\n",
        "-- Aggregation Function - MAX, MIN, COUNT, SUM, AVG\n",
        "\n",
        "SELECT * FROM STUDENT;\n",
        "\n",
        "-- MAX()\n",
        "SELECT MAX(AGE) FROM STUDENT;\n",
        "\n",
        "-- SUBQUERY - A query inside a query\n",
        "\n",
        "SELECT *\n",
        "FROM STUDENT\n",
        "WHERE AGE=(SELECT MAX(AGE) FROM STUDENT);\n",
        "\n",
        "\n",
        "-- MIN()\n",
        "SELECT MIN(AGE)\n",
        "FROM STUDENT;\n",
        "\n",
        "\n",
        "SELECT *\n",
        "FROM STUDENT\n",
        "WHERE AGE=(SELECT MIN(AGE) FROM STUDENT);\n",
        "\n",
        "\n",
        "-- COUNT()\n",
        "\n",
        "SELECT COUNT(NAME)\n",
        "FROM STUDENT\n",
        "WHERE AGE > 20;\n",
        "\n",
        "\n",
        "-- AVG()\n",
        "\n",
        "SELECT AVG(AGE)\n",
        "FROM STUDENT;\n",
        "\n",
        "\n",
        "-- AVG = SUM()/COUNT()\n",
        "\n",
        "\n",
        "-- SUM()\n",
        "SELECT SUM(AGE)\n",
        "FROM STUDENT;\n",
        "\n",
        "\n",
        "\n",
        "-- INNER JOIN\n",
        "-- SYNTAX:\n",
        "-- SELECT col_name\n",
        "-- FROM table_1\n",
        "-- INNER JOIN table_2\n",
        "-- ON table_1.col_name = table_2.col_name;\n",
        "\n",
        "\n",
        "SELECT STUDENT.ADMN_ID, NAME, COURSE_NAME\n",
        "FROM STUDENT\n",
        "INNER JOIN COURSE_INFO\n",
        "ON STUDENT.ADMN_ID = COURSE_INFO.ADMN_ID;\n",
        "\"\"\"\n"
      ],
      "metadata": {
        "id": "e6S2LFJI028w",
        "outputId": "20cd7dcd-e6b3-480e-dca5-d35872a9eb4e",
        "colab": {
          "base_uri": "https://localhost:8080/",
          "height": 174
        }
      },
      "execution_count": 2,
      "outputs": [
        {
          "output_type": "execute_result",
          "data": {
            "text/plain": [
              "'\\nCREATE DATABASE University;\\n\\nUSE University;\\n\\nCREATE TABLE STUDENT(\\nADMN_ID int AUTO_INCREMENT,\\nNAME char(100) NOT NULL,\\nAGE int,\\nEmail varchar(200) UNIQUE,\\nPRIMARY KEY(ADMN_ID)\\n);\\n\\n\\nCREATE TABLE COURSE_INFO(\\nCOURSE_ID int AUTO_INCREMENT,\\nCOURSE_NAME char(100) NOT NULL,\\nCOURSE_CREDITS int NOT NULL,\\nADMN_ID int NOT NULL,\\nPRIMARY KEY (COURSE_ID),\\nFOREIGN KEY (ADMN_ID) REFERENCES STUDENT(ADMN_ID)\\n);\\n\\nINSERT INTO STUDENT (Name, Age, Email) VALUES (\\'Steve\\', 100, \\'steve@rogers.com\\');\\nINSERT INTO STUDENT (Name, Age, Email) VALUES (\\'Clint\\', 56, \\'clint@barton.com\\');\\nINSERT INTO STUDENT (Name, Age, Email) VALUES (\\'Bruce\\', 100, \\'bruce@banner.com\\');\\nINSERT INTO STUDENT (Name, Age, Email) VALUES (\\'Tony\\', 78, \\'tony@stark.com\\');\\nINSERT INTO STUDENT (Name, Age, Email) VALUES (\\'Natasha\\', 98, \\'natasha@romaoff.com\\');\\nINSERT INTO STUDENT (Name, Age, Email) VALUES (\\'Peter\\', 34, \\'peter@parker.com\\');\\nINSERT INTO STUDENT (Name, Age, Email) VALUES (\\'Thor\\', 15, \\'thor@odinson.com\\');\\nINSERT INTO STUDENT (Name, Age, Email) VALUES (\\'Loki\\', 43, \\'loki@odinson.com\\');\\nINSERT INTO STUDENT (Name, Age, Email) VALUES (\\'Hela\\', 27, \\'hela@odinson.com\\');\\nINSERT INTO STUDENT (Name, Age, Email) VALUES (\\'Thanos\\', 27, \\'thanos@thanos.com\\');\\nINSERT INTO STUDENT (Name, Age, Email) VALUES (\\'Groot\\', 33, \\'groot@groot.com\\');\\nINSERT INTO STUDENT (Name, Age, Email) VALUES (\\'Gamora\\', 10, \\'gamora@gamora.com\\');\\nINSERT INTO STUDENT (Name, Age, Email) VALUES (\\'Strange\\', 67, \\'doctor@strange.com\\');\\nINSERT INTO STUDENT (Name, Age, Email) VALUES (\\'Wong\\', 99, \\'wong@wong.com\\');\\n\\n\\nINSERT INTO COURSE_INFO (COURSE_NAME, COURSE_CREDITS, ADMN_ID)\\nVALUES (\"BTEch\", 90, 1);\\n\\nINSERT INTO COURSE_INFO (COURSE_NAME, COURSE_CREDITS, ADMN_ID)\\nVALUES (\"BBA\", 120, 2);\\nINSERT INTO COURSE_INFO (COURSE_NAME, COURSE_CREDITS, ADMN_ID)\\nVALUES (\"MBA\", 50, 3);\\nINSERT INTO COURSE_INFO (COURSE_NAME, COURSE_CREDITS, ADMN_ID)\\nVALUES (\"Phy. Hons.\", 40, 4);\\nINSERT INTO COURSE_INFO (COURSE_NAME, COURSE_CREDITS, ADMN_ID)\\nVALUES (\"Pol. Sci\", 20, 5);\\nINSERT INTO COURSE_INFO (COURSE_NAME, COURSE_CREDITS, ADMN_ID)\\nVALUES (\"History Hons.\", 35, 6);\\nINSERT INTO COURSE_INFO (COURSE_NAME, COURSE_CREDITS, ADMN_ID)\\nVALUES (\"MTech\", 100, 7);\\nINSERT INTO COURSE_INFO (COURSE_NAME, COURSE_CREDITS, ADMN_ID)\\nVALUES (\"BCom\", 45, 8);\\nINSERT INTO COURSE_INFO (COURSE_NAME, COURSE_CREDITS, ADMN_ID)\\nVALUES (\"BEd.\", 50, 9);\\nINSERT INTO COURSE_INFO (COURSE_NAME, COURSE_CREDITS, ADMN_ID)\\nVALUES (\"Hospitality\", 60, 10);\\n\\n\\nSELECT * FROM STUDENT;\\n\\nSELECT *\\nFROM STUDENT\\nWHERE AGE < 50;\\n\\n\\n-- Age is between 34 - 75 (both inclusive) and admn_id is not 10\\nSELECT *\\nFROM STUDENT\\nWHERE AGE >= 34 AND AGE <= 75;\\n\\nSELECT *\\nFROM STUDENT\\nWHERE AGE BETWEEN 34 AND 75;\\n\\n\\n-- CRUD\\n\\n-- UPDATE\\n-- SYNATX: UPDATE table_name SET col=val, col=val.... WHERE condition;\\n\\nUPDATE STUDENT\\nSET Name=\\'IronMan\\'\\nWHERE ADMN_ID=6;\\n\\nUPDATE STUDENT\\nSET Name=\\'Steve Rogers\\', Age=170\\nWHERE ADMN_ID=3;\\n\\nUSE University;\\n\\n-- DELETE\\n-- SYNTAX: DELETE FROM table_name WHERE condition;\\n\\nDELETE FROM University.STUDENT WHERE ADMN_ID=14;\\n\\n-- Error Code: 1046. No database selected Select the default DB to be used by double-clicking its name in the SCHEMAS list in the sidebar.\\n\\n-- DROP vs DELETE vs TRUNCATE\\n\\nTRUNCATE TABLE STUDENT;\\n\\n\\nCREATE TABLE RANDOM(\\nName varchar(200),\\nAge int\\n);\\n\\nINSERT INTO RANDOM(NAME, AGE) VALUES (\"Tony\", 45);\\nINSERT INTO RANDOM(NAME, AGE) VALUES (\"Steve\", 56);\\nINSERT INTO RANDOM(NAME, AGE) VALUES (\"Bruce\", 67);\\n\\n\\nTRUNCATE TABLE RANDOM;\\n\\n\\n\\n-- Aggregation Function - MAX, MIN, COUNT, SUM, AVG\\n\\nSELECT * FROM STUDENT;\\n\\n-- MAX()\\nSELECT MAX(AGE) FROM STUDENT;\\n\\n-- SUBQUERY - A query inside a query\\n\\nSELECT *\\nFROM STUDENT\\nWHERE AGE=(SELECT MAX(AGE) FROM STUDENT);\\n\\n\\n-- MIN()\\nSELECT MIN(AGE)\\nFROM STUDENT;\\n\\n\\nSELECT *\\nFROM STUDENT\\nWHERE AGE=(SELECT MIN(AGE) FROM STUDENT);\\n\\n\\n-- COUNT()\\n\\nSELECT COUNT(NAME)\\nFROM STUDENT\\nWHERE AGE > 20;\\n\\n\\n-- AVG()\\n\\nSELECT AVG(AGE)\\nFROM STUDENT;\\n\\n\\n-- AVG = SUM()/COUNT()\\n\\n\\n-- SUM()\\nSELECT SUM(AGE)\\nFROM STUDENT;\\n\\n\\n\\n-- INNER JOIN\\n-- SYNTAX: \\n-- SELECT col_name\\n-- FROM table_1\\n-- INNER JOIN table_2\\n-- ON table_1.col_name = table_2.col_name;\\n\\n\\nSELECT STUDENT.ADMN_ID, NAME, COURSE_NAME\\nFROM STUDENT\\nINNER JOIN COURSE_INFO\\nON STUDENT.ADMN_ID = COURSE_INFO.ADMN_ID;\\n'"
            ],
            "application/vnd.google.colaboratory.intrinsic+json": {
              "type": "string"
            }
          },
          "metadata": {},
          "execution_count": 2
        }
      ]
    },
    {
      "cell_type": "code",
      "execution_count": 3,
      "metadata": {
        "id": "iNYWeuzGb-Pl"
      },
      "outputs": [],
      "source": [
        "import sqlite3 as sq"
      ]
    },
    {
      "cell_type": "code",
      "source": [
        "database = sq.connect('test.db')\n",
        "print(\"Database is created\")"
      ],
      "metadata": {
        "colab": {
          "base_uri": "https://localhost:8080/"
        },
        "id": "0GfU56nMxewF",
        "outputId": "84293b15-101e-4b0b-ed83-43d924f2c088"
      },
      "execution_count": 4,
      "outputs": [
        {
          "output_type": "stream",
          "name": "stdout",
          "text": [
            "Database is created\n"
          ]
        }
      ]
    },
    {
      "cell_type": "code",
      "source": [
        "cur = database.cursor()"
      ],
      "metadata": {
        "id": "CbYIV9fuzVIK"
      },
      "execution_count": 5,
      "outputs": []
    },
    {
      "cell_type": "code",
      "source": [
        "cur.fetchall()"
      ],
      "metadata": {
        "colab": {
          "base_uri": "https://localhost:8080/"
        },
        "id": "2cfVzGYHzhUj",
        "outputId": "fccedca4-987b-4a24-fe68-7c6419e9bc56"
      },
      "execution_count": 6,
      "outputs": [
        {
          "output_type": "execute_result",
          "data": {
            "text/plain": [
              "[]"
            ]
          },
          "metadata": {},
          "execution_count": 6
        }
      ]
    },
    {
      "cell_type": "code",
      "source": [
        "database"
      ],
      "metadata": {
        "colab": {
          "base_uri": "https://localhost:8080/"
        },
        "id": "Wr6Kn53qxezB",
        "outputId": "bc25c50d-fb7e-4355-f1cc-b6bb379d8eaf"
      },
      "execution_count": 7,
      "outputs": [
        {
          "output_type": "execute_result",
          "data": {
            "text/plain": [
              "<sqlite3.Connection at 0x7fa0bca9b040>"
            ]
          },
          "metadata": {},
          "execution_count": 7
        }
      ]
    },
    {
      "cell_type": "code",
      "source": [
        "database.execute('''CREATE TABLE STUDENT(Name char(200), Age int)''')\n",
        "print('Table is created.')"
      ],
      "metadata": {
        "colab": {
          "base_uri": "https://localhost:8080/"
        },
        "id": "0Ba3ETGzxe1n",
        "outputId": "62945c9c-3868-4e62-9641-2d13ae176159"
      },
      "execution_count": 8,
      "outputs": [
        {
          "output_type": "stream",
          "name": "stdout",
          "text": [
            "Table is created.\n"
          ]
        }
      ]
    },
    {
      "cell_type": "code",
      "source": [
        "database.execute('''INSERT INTO STUDENT VALUES ('Loki', 23)''')\n",
        "database.execute('''INSERT INTO STUDENT VALUES ('Thor', 45)''')\n",
        "database.commit()\n",
        "print('Data(s) is/are inserted.')"
      ],
      "metadata": {
        "colab": {
          "base_uri": "https://localhost:8080/"
        },
        "id": "F4Ex1R9Axe56",
        "outputId": "8c39d3b6-2037-4ad2-cabb-c1be749cf82c"
      },
      "execution_count": 9,
      "outputs": [
        {
          "output_type": "stream",
          "name": "stdout",
          "text": [
            "Data(s) is/are inserted.\n"
          ]
        }
      ]
    },
    {
      "cell_type": "code",
      "source": [
        "data = database.execute('''SELECT * FROM STUDENT''')"
      ],
      "metadata": {
        "id": "Ny1MOuAcxe8h"
      },
      "execution_count": 10,
      "outputs": []
    },
    {
      "cell_type": "code",
      "source": [
        "data"
      ],
      "metadata": {
        "colab": {
          "base_uri": "https://localhost:8080/"
        },
        "id": "oBlluLh-xe-d",
        "outputId": "6303f621-5532-47af-a630-fc17797d7729"
      },
      "execution_count": 11,
      "outputs": [
        {
          "output_type": "execute_result",
          "data": {
            "text/plain": [
              "<sqlite3.Cursor at 0x7fa0bc83f5c0>"
            ]
          },
          "metadata": {},
          "execution_count": 11
        }
      ]
    },
    {
      "cell_type": "code",
      "source": [
        "for i in data:\n",
        "  print(i)"
      ],
      "metadata": {
        "colab": {
          "base_uri": "https://localhost:8080/"
        },
        "id": "r4qKrrDyxfAy",
        "outputId": "1fc06baa-1ed2-47c0-df09-8c2fb339c2b6"
      },
      "execution_count": 12,
      "outputs": [
        {
          "output_type": "stream",
          "name": "stdout",
          "text": [
            "('Loki', 23)\n",
            "('Thor', 45)\n"
          ]
        }
      ]
    },
    {
      "cell_type": "code",
      "source": [],
      "metadata": {
        "id": "tCTofuC0eu4A"
      },
      "execution_count": null,
      "outputs": []
    }
  ]
}