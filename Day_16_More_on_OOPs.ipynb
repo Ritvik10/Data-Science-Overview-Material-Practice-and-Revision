{
  "nbformat": 4,
  "nbformat_minor": 0,
  "metadata": {
    "colab": {
      "provenance": [],
      "toc_visible": true,
      "include_colab_link": true
    },
    "kernelspec": {
      "name": "python3",
      "display_name": "Python 3"
    },
    "language_info": {
      "name": "python"
    }
  },
  "cells": [
    {
      "cell_type": "markdown",
      "metadata": {
        "id": "view-in-github",
        "colab_type": "text"
      },
      "source": [
        "<a href=\"https://colab.research.google.com/github/Ritvik10/Data-Science-Overview-Material-Practice-and-Revision/blob/main/Day_16_More_on_OOPs.ipynb\" target=\"_parent\"><img src=\"https://colab.research.google.com/assets/colab-badge.svg\" alt=\"Open In Colab\"/></a>"
      ]
    },
    {
      "cell_type": "markdown",
      "source": [
        "# Inheritance\n",
        "\n",
        "* It is a property that let's the child class to inherit the features from the parent class."
      ],
      "metadata": {
        "id": "97rfmibtpy0Y"
      }
    },
    {
      "cell_type": "markdown",
      "source": [
        "1. Single"
      ],
      "metadata": {
        "id": "z7dlrYj0p2Ke"
      }
    },
    {
      "cell_type": "code",
      "source": [
        "class Animal:\n",
        "  def speak(self):\n",
        "    print(\"Animal is speaking\")\n",
        "\n",
        "class Dog(Animal):\n",
        "  def bark(self):\n",
        "    print(\"The dog barks\")\n",
        "  def speak(self):\n",
        "    print('Dog is Dancing')"
      ],
      "metadata": {
        "id": "Jsn4j4QflJ-X"
      },
      "execution_count": 1,
      "outputs": []
    },
    {
      "cell_type": "code",
      "source": [
        "obj1 = Animal()\n",
        "obj2 = Dog()"
      ],
      "metadata": {
        "id": "lAFYCszilKA-"
      },
      "execution_count": 2,
      "outputs": []
    },
    {
      "cell_type": "code",
      "source": [
        "obj1.speak()"
      ],
      "metadata": {
        "colab": {
          "base_uri": "https://localhost:8080/"
        },
        "id": "u_ABIrZAlKDm",
        "outputId": "089f8f11-b6ca-49fe-b840-2eaa792ee06a"
      },
      "execution_count": 3,
      "outputs": [
        {
          "output_type": "stream",
          "name": "stdout",
          "text": [
            "Animal is speaking\n"
          ]
        }
      ]
    },
    {
      "cell_type": "code",
      "source": [
        "obj2.speak()"
      ],
      "metadata": {
        "colab": {
          "base_uri": "https://localhost:8080/"
        },
        "id": "FKP4Gt53lKH4",
        "outputId": "f9805699-4cdf-4b92-ad4c-d654813c761a"
      },
      "execution_count": 4,
      "outputs": [
        {
          "output_type": "stream",
          "name": "stdout",
          "text": [
            "Dog is Dancing\n"
          ]
        }
      ]
    },
    {
      "cell_type": "code",
      "source": [
        "obj2.speak()"
      ],
      "metadata": {
        "colab": {
          "base_uri": "https://localhost:8080/"
        },
        "id": "7ms4RPkFlKKP",
        "outputId": "b6f2afe1-a608-4788-9626-327de767f0f6"
      },
      "execution_count": 5,
      "outputs": [
        {
          "output_type": "stream",
          "name": "stdout",
          "text": [
            "Dog is Dancing\n"
          ]
        }
      ]
    },
    {
      "cell_type": "markdown",
      "source": [
        "* Multi-level"
      ],
      "metadata": {
        "id": "Iz1471w3rsU2"
      }
    },
    {
      "cell_type": "code",
      "source": [
        "class Animal:\n",
        "  def speak(self):\n",
        "    print(\"Animal is speaking\")\n",
        "\n",
        "\n",
        "class Dog(Animal):\n",
        "  def bark(self):\n",
        "    print(\"The dog is barking\")\n",
        "\n",
        "\n",
        "class Puppy(Dog):\n",
        "  def eat(self):\n",
        "    print(\"The puppy is eating\")\n",
        "\n",
        "class Cat(Puppy):\n",
        "  def play(self):\n",
        "    print(\"The cat is playng with the wool\")"
      ],
      "metadata": {
        "id": "s479vsy3lKNG"
      },
      "execution_count": 6,
      "outputs": []
    },
    {
      "cell_type": "code",
      "source": [
        "obj = Cat()"
      ],
      "metadata": {
        "id": "C1-HW1yalKQi"
      },
      "execution_count": 7,
      "outputs": []
    },
    {
      "cell_type": "code",
      "source": [
        "obj.speak()"
      ],
      "metadata": {
        "colab": {
          "base_uri": "https://localhost:8080/"
        },
        "id": "-0TvqZB6lKTk",
        "outputId": "88c03b79-1bd8-4054-8c11-8c5b08f210df"
      },
      "execution_count": 8,
      "outputs": [
        {
          "output_type": "stream",
          "name": "stdout",
          "text": [
            "Animal is speaking\n"
          ]
        }
      ]
    },
    {
      "cell_type": "markdown",
      "source": [
        "* Multiple"
      ],
      "metadata": {
        "id": "oq9S-oK1uIGG"
      }
    },
    {
      "cell_type": "code",
      "source": [
        "class Samp1:\n",
        "  def new1(self):\n",
        "    print('This is the 1st class')\n",
        "  def new2(self):\n",
        "    print(\"this is the 1st class\")\n",
        "\n",
        "\n",
        "class Samp2:\n",
        "  def new1(self):\n",
        "    print('This is the 2nd class')\n",
        "  def new2(self):\n",
        "    print(\"this is the 2nd class\")\n",
        "\n",
        "\n",
        "class Animal(Samp2, Samp1):\n",
        "  def eat(self):\n",
        "    print('The dog is eating')\n",
        "  def new1(self):\n",
        "    print(\"This is the 3rd class\")"
      ],
      "metadata": {
        "id": "vsmOCcT3lKW8"
      },
      "execution_count": 9,
      "outputs": []
    },
    {
      "cell_type": "code",
      "source": [
        "obj = Animal()"
      ],
      "metadata": {
        "id": "xm1OIXuhlKam"
      },
      "execution_count": 10,
      "outputs": []
    },
    {
      "cell_type": "code",
      "source": [
        "obj.new1()"
      ],
      "metadata": {
        "colab": {
          "base_uri": "https://localhost:8080/"
        },
        "id": "Y9ukR1HklKdx",
        "outputId": "81ebb79c-2af7-44b8-fbe1-4df8b98049be"
      },
      "execution_count": 11,
      "outputs": [
        {
          "output_type": "stream",
          "name": "stdout",
          "text": [
            "This is the 3rd class\n"
          ]
        }
      ]
    },
    {
      "cell_type": "code",
      "source": [
        "obj.new2()"
      ],
      "metadata": {
        "colab": {
          "base_uri": "https://localhost:8080/"
        },
        "id": "_ypvJWY5lKhf",
        "outputId": "be67e548-784a-43b8-c118-18424512dd3a"
      },
      "execution_count": 12,
      "outputs": [
        {
          "output_type": "stream",
          "name": "stdout",
          "text": [
            "this is the 2nd class\n"
          ]
        }
      ]
    },
    {
      "cell_type": "code",
      "source": [
        "obj.new2()"
      ],
      "metadata": {
        "colab": {
          "base_uri": "https://localhost:8080/"
        },
        "id": "vBnVDHBnlKkk",
        "outputId": "55febf8b-a2cd-4605-a982-564ab0616026"
      },
      "execution_count": 13,
      "outputs": [
        {
          "output_type": "stream",
          "name": "stdout",
          "text": [
            "this is the 2nd class\n"
          ]
        }
      ]
    },
    {
      "cell_type": "code",
      "source": [
        "class A:\n",
        "  def __init__(self, name):\n",
        "    self.name = name\n",
        "\n",
        "  def print_name(self):\n",
        "    return self.name\n",
        "\n",
        "\n",
        "class B(A):\n",
        "  def __init__(self, name):\n",
        "    self.name = name\n",
        "\n",
        "  def print_age(self):\n",
        "    return self.name"
      ],
      "metadata": {
        "id": "cT0hAoJ2lKn3"
      },
      "execution_count": 14,
      "outputs": []
    },
    {
      "cell_type": "code",
      "source": [
        "obj = B('Rohan')"
      ],
      "metadata": {
        "id": "ZmdfNiuslKqv"
      },
      "execution_count": 15,
      "outputs": []
    },
    {
      "cell_type": "code",
      "source": [
        "obj.name"
      ],
      "metadata": {
        "colab": {
          "base_uri": "https://localhost:8080/",
          "height": 35
        },
        "id": "BT7CHOJjlKts",
        "outputId": "fa62d2d8-7c8c-42d2-ceb5-095d46ebe19f"
      },
      "execution_count": 16,
      "outputs": [
        {
          "output_type": "execute_result",
          "data": {
            "text/plain": [
              "'Rohan'"
            ],
            "application/vnd.google.colaboratory.intrinsic+json": {
              "type": "string"
            }
          },
          "metadata": {},
          "execution_count": 16
        }
      ]
    },
    {
      "cell_type": "code",
      "source": [
        "obj.print_name()"
      ],
      "metadata": {
        "colab": {
          "base_uri": "https://localhost:8080/",
          "height": 35
        },
        "id": "4MMxZuw_lKw_",
        "outputId": "50b77cda-eecc-40a2-b69d-6e76d3fd9f8e"
      },
      "execution_count": 17,
      "outputs": [
        {
          "output_type": "execute_result",
          "data": {
            "text/plain": [
              "'Rohan'"
            ],
            "application/vnd.google.colaboratory.intrinsic+json": {
              "type": "string"
            }
          },
          "metadata": {},
          "execution_count": 17
        }
      ]
    },
    {
      "cell_type": "code",
      "source": [
        "obj.print_age()"
      ],
      "metadata": {
        "colab": {
          "base_uri": "https://localhost:8080/",
          "height": 35
        },
        "id": "xqpgPB3rlK0c",
        "outputId": "d3f7347c-bca1-4296-b102-6e9565dc3b22"
      },
      "execution_count": 18,
      "outputs": [
        {
          "output_type": "execute_result",
          "data": {
            "text/plain": [
              "'Rohan'"
            ],
            "application/vnd.google.colaboratory.intrinsic+json": {
              "type": "string"
            }
          },
          "metadata": {},
          "execution_count": 18
        }
      ]
    },
    {
      "cell_type": "code",
      "source": [
        "# super, yield, classmethods, static method, abstractmethod/abstractclass"
      ],
      "metadata": {
        "id": "JH5a-50YlK4E"
      },
      "execution_count": 19,
      "outputs": []
    },
    {
      "cell_type": "markdown",
      "source": [
        "# Polymorphism"
      ],
      "metadata": {
        "id": "dEwMQzA0xXCX"
      }
    },
    {
      "cell_type": "code",
      "source": [
        "def Dog():\n",
        "  return 2 + 3\n",
        "\n",
        "\n",
        "def Dog(a,b):\n",
        "  return a+b"
      ],
      "metadata": {
        "id": "mGpSQX2xlK7r"
      },
      "execution_count": 20,
      "outputs": []
    },
    {
      "cell_type": "code",
      "source": [
        "Dog()"
      ],
      "metadata": {
        "colab": {
          "base_uri": "https://localhost:8080/",
          "height": 165
        },
        "id": "kuB5jxwClK-0",
        "outputId": "8e8eb6c9-1ce8-40c8-9a5f-04ba98067b24"
      },
      "execution_count": 21,
      "outputs": [
        {
          "output_type": "error",
          "ename": "TypeError",
          "evalue": "ignored",
          "traceback": [
            "\u001b[0;31m---------------------------------------------------------------------------\u001b[0m",
            "\u001b[0;31mTypeError\u001b[0m                                 Traceback (most recent call last)",
            "\u001b[0;32m<ipython-input-21-2dced99f65a6>\u001b[0m in \u001b[0;36m<cell line: 1>\u001b[0;34m()\u001b[0m\n\u001b[0;32m----> 1\u001b[0;31m \u001b[0mDog\u001b[0m\u001b[0;34m(\u001b[0m\u001b[0;34m)\u001b[0m\u001b[0;34m\u001b[0m\u001b[0;34m\u001b[0m\u001b[0m\n\u001b[0m",
            "\u001b[0;31mTypeError\u001b[0m: Dog() missing 2 required positional arguments: 'a' and 'b'"
          ]
        }
      ]
    },
    {
      "cell_type": "markdown",
      "source": [
        "# Encapsulation & Abstraction"
      ],
      "metadata": {
        "id": "38JKq7tYzKYn"
      }
    },
    {
      "cell_type": "code",
      "source": [
        "class new:\n",
        "  __var = 90\n",
        "  def play(self):\n",
        "    return \"You got it!!\""
      ],
      "metadata": {
        "id": "YMNzUqYUlLBu"
      },
      "execution_count": 22,
      "outputs": []
    },
    {
      "cell_type": "code",
      "source": [
        "obj = new()"
      ],
      "metadata": {
        "id": "M9CSM1gOlLEy"
      },
      "execution_count": 23,
      "outputs": []
    },
    {
      "cell_type": "code",
      "source": [
        "obj.play()"
      ],
      "metadata": {
        "colab": {
          "base_uri": "https://localhost:8080/",
          "height": 35
        },
        "id": "J_RabfTvlLHv",
        "outputId": "db039fc7-4dd2-45e3-d878-88c53524f71e"
      },
      "execution_count": 24,
      "outputs": [
        {
          "output_type": "execute_result",
          "data": {
            "text/plain": [
              "'You got it!!'"
            ],
            "application/vnd.google.colaboratory.intrinsic+json": {
              "type": "string"
            }
          },
          "metadata": {},
          "execution_count": 24
        }
      ]
    },
    {
      "cell_type": "code",
      "source": [
        "obj.var"
      ],
      "metadata": {
        "colab": {
          "base_uri": "https://localhost:8080/",
          "height": 165
        },
        "id": "efoiOLT0lLKf",
        "outputId": "f0a2cdd5-cbbe-4207-d5fc-384196fa3b55"
      },
      "execution_count": 25,
      "outputs": [
        {
          "output_type": "error",
          "ename": "AttributeError",
          "evalue": "ignored",
          "traceback": [
            "\u001b[0;31m---------------------------------------------------------------------------\u001b[0m",
            "\u001b[0;31mAttributeError\u001b[0m                            Traceback (most recent call last)",
            "\u001b[0;32m<ipython-input-25-f89077d205af>\u001b[0m in \u001b[0;36m<cell line: 1>\u001b[0;34m()\u001b[0m\n\u001b[0;32m----> 1\u001b[0;31m \u001b[0mobj\u001b[0m\u001b[0;34m.\u001b[0m\u001b[0mvar\u001b[0m\u001b[0;34m\u001b[0m\u001b[0;34m\u001b[0m\u001b[0m\n\u001b[0m",
            "\u001b[0;31mAttributeError\u001b[0m: 'new' object has no attribute 'var'"
          ]
        }
      ]
    },
    {
      "cell_type": "code",
      "source": [
        "obj.__var"
      ],
      "metadata": {
        "colab": {
          "base_uri": "https://localhost:8080/",
          "height": 165
        },
        "id": "UwwdhYb8lLNB",
        "outputId": "f1d8e720-b0ff-440b-8a7a-7665d34d7212"
      },
      "execution_count": 26,
      "outputs": [
        {
          "output_type": "error",
          "ename": "AttributeError",
          "evalue": "ignored",
          "traceback": [
            "\u001b[0;31m---------------------------------------------------------------------------\u001b[0m",
            "\u001b[0;31mAttributeError\u001b[0m                            Traceback (most recent call last)",
            "\u001b[0;32m<ipython-input-26-0461e0c50624>\u001b[0m in \u001b[0;36m<cell line: 1>\u001b[0;34m()\u001b[0m\n\u001b[0;32m----> 1\u001b[0;31m \u001b[0mobj\u001b[0m\u001b[0;34m.\u001b[0m\u001b[0m__var\u001b[0m\u001b[0;34m\u001b[0m\u001b[0;34m\u001b[0m\u001b[0m\n\u001b[0m",
            "\u001b[0;31mAttributeError\u001b[0m: 'new' object has no attribute '__var'"
          ]
        }
      ]
    },
    {
      "cell_type": "markdown",
      "source": [
        "# Destructor"
      ],
      "metadata": {
        "id": "Sy5K2M8P0nIw"
      }
    },
    {
      "cell_type": "code",
      "source": [
        "class func:\n",
        "  def __init__(self): # Constructor\n",
        "    print(\"Construct\")\n",
        "\n",
        "  def __del__(self): # Destructor\n",
        "    print(\"Destructor\")\n",
        "\n",
        "  def print_name(self):\n",
        "    print(\"hello World\")"
      ],
      "metadata": {
        "id": "pDdZMp2tlLPy"
      },
      "execution_count": 27,
      "outputs": []
    },
    {
      "cell_type": "code",
      "source": [
        "car = func()"
      ],
      "metadata": {
        "colab": {
          "base_uri": "https://localhost:8080/"
        },
        "id": "4Dln3H3NlLSc",
        "outputId": "495d97c3-a28d-40ec-e9b8-6c208c601873"
      },
      "execution_count": 28,
      "outputs": [
        {
          "output_type": "stream",
          "name": "stdout",
          "text": [
            "Construct\n"
          ]
        }
      ]
    },
    {
      "cell_type": "code",
      "source": [
        "car.print_name()"
      ],
      "metadata": {
        "colab": {
          "base_uri": "https://localhost:8080/"
        },
        "id": "k_bG-jnilLVR",
        "outputId": "6cdac4d2-4dd1-490a-c693-1212f13558e6"
      },
      "execution_count": 29,
      "outputs": [
        {
          "output_type": "stream",
          "name": "stdout",
          "text": [
            "hello World\n"
          ]
        }
      ]
    },
    {
      "cell_type": "code",
      "source": [
        "del car"
      ],
      "metadata": {
        "id": "sMnj7c3912rj"
      },
      "execution_count": 30,
      "outputs": []
    },
    {
      "cell_type": "code",
      "source": [
        "car.print_name()"
      ],
      "metadata": {
        "colab": {
          "base_uri": "https://localhost:8080/",
          "height": 165
        },
        "id": "VS4GAqp7lLYl",
        "outputId": "89cc4b0b-9853-4a7a-b9f5-1d6aaa39df14"
      },
      "execution_count": 31,
      "outputs": [
        {
          "output_type": "error",
          "ename": "NameError",
          "evalue": "ignored",
          "traceback": [
            "\u001b[0;31m---------------------------------------------------------------------------\u001b[0m",
            "\u001b[0;31mNameError\u001b[0m                                 Traceback (most recent call last)",
            "\u001b[0;32m<ipython-input-31-f33bd193d460>\u001b[0m in \u001b[0;36m<cell line: 1>\u001b[0;34m()\u001b[0m\n\u001b[0;32m----> 1\u001b[0;31m \u001b[0mcar\u001b[0m\u001b[0;34m.\u001b[0m\u001b[0mprint_name\u001b[0m\u001b[0;34m(\u001b[0m\u001b[0;34m)\u001b[0m\u001b[0;34m\u001b[0m\u001b[0;34m\u001b[0m\u001b[0m\n\u001b[0m",
            "\u001b[0;31mNameError\u001b[0m: name 'car' is not defined"
          ]
        }
      ]
    },
    {
      "cell_type": "code",
      "source": [
        "# Dunder Methods -> __init__, __add__, __len__, __mul__"
      ],
      "metadata": {
        "id": "aNwJOGpdlLbO"
      },
      "execution_count": 32,
      "outputs": []
    },
    {
      "cell_type": "code",
      "source": [
        "#Dunder -> Double Underscore"
      ],
      "metadata": {
        "id": "Ahm0HlERlLdw"
      },
      "execution_count": 33,
      "outputs": []
    },
    {
      "cell_type": "code",
      "source": [
        "if __name__ as '__main__':\n",
        "  app.run()"
      ],
      "metadata": {
        "id": "UXoJpJDnlLg5",
        "outputId": "2267d50b-8134-4f2d-ce5a-8dfbda2264a0",
        "colab": {
          "base_uri": "https://localhost:8080/",
          "height": 130
        }
      },
      "execution_count": 34,
      "outputs": [
        {
          "output_type": "error",
          "ename": "SyntaxError",
          "evalue": "ignored",
          "traceback": [
            "\u001b[0;36m  File \u001b[0;32m\"<ipython-input-34-9a8c2fa5855e>\"\u001b[0;36m, line \u001b[0;32m1\u001b[0m\n\u001b[0;31m    if __name__ as '__main__':\u001b[0m\n\u001b[0m                ^\u001b[0m\n\u001b[0;31mSyntaxError\u001b[0m\u001b[0;31m:\u001b[0m invalid syntax\n"
          ]
        }
      ]
    },
    {
      "cell_type": "code",
      "source": [],
      "metadata": {
        "id": "GeAeb_e7cB6O"
      },
      "execution_count": null,
      "outputs": []
    }
  ]
}