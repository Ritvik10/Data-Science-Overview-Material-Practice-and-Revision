{
  "nbformat": 4,
  "nbformat_minor": 0,
  "metadata": {
    "colab": {
      "provenance": [],
      "include_colab_link": true
    },
    "kernelspec": {
      "name": "python3",
      "display_name": "Python 3"
    },
    "language_info": {
      "name": "python"
    }
  },
  "cells": [
    {
      "cell_type": "markdown",
      "metadata": {
        "id": "view-in-github",
        "colab_type": "text"
      },
      "source": [
        "<a href=\"https://colab.research.google.com/github/Ritvik10/Data-Science-Overview-Material-Practice-and-Revision/blob/main/Day_29_Regular_Expression_(RegEx)_re_module.ipynb\" target=\"_parent\"><img src=\"https://colab.research.google.com/assets/colab-badge.svg\" alt=\"Open In Colab\"/></a>"
      ]
    },
    {
      "cell_type": "code",
      "execution_count": 2,
      "metadata": {
        "id": "fLn2lyNIqXSX",
        "outputId": "77ea81f2-5cdd-4116-e156-8973c7804783",
        "colab": {
          "base_uri": "https://localhost:8080/",
          "height": 140
        }
      },
      "outputs": [
        {
          "output_type": "execute_result",
          "data": {
            "text/plain": [
              "'\\n<li><a href=\"/wiki/Tom_Holland\" title=\"Tom Holland\">Tom Holland</a></li>\\n<li><a href=\"/wiki/Zendaya\" title=\"Zendaya\">Zendaya</a></li>\\n<li><a href=\"/wiki/Benedict_Cumberbatch\" title=\"Benedict Cumberbatch\">Benedict Cumberbatch</a></li>\\n<li><a href=\"/wiki/Jacob_Batalon\" title=\"Jacob Batalon\">Jacob Batalon</a></li>\\n<li><a href=\"/wiki/Jon_Favreau\" title=\"Jon Favreau\">Jon Favreau</a></li>\\n<li><a href=\"/wiki/Jamie_Foxx\" title=\"Jamie Foxx\">Jamie Foxx</a></li>\\n<li><a href=\"/wiki/Willem_Dafoe\" title=\"Willem Dafoe\">Willem Dafoe</a></li>\\n<li><a href=\"/wiki/Alfred_Molina\" title=\"Alfred Molina\">Alfred Molina</a></li>\\n<li><a href=\"/wiki/Benedict_Wong\" title=\"Benedict Wong\">Benedict Wong</a></li>\\n<li><a href=\"/wiki/Tony_Revolori\" title=\"Tony Revolori\">Tony Revolori</a></li>\\n<li><a href=\"/wiki/Marisa_Tomei\" title=\"Marisa Tomei\">Marisa Tomei</a></li>\\n<li><a href=\"/wiki/Andrew_Garfield\" title=\"Andrew Garfield\">Andrew Garfield</a></li>\\n<li><a href=\"/wiki/Tobey_Maguire\" title=\"Tobey Maguire\">Tobey Maguire</a></li>\\n'"
            ],
            "application/vnd.google.colaboratory.intrinsic+json": {
              "type": "string"
            }
          },
          "metadata": {},
          "execution_count": 2
        }
      ],
      "source": [
        "\"\"\"\n",
        "<li><a href=\"/wiki/Tom_Holland\" title=\"Tom Holland\">Tom Holland</a></li>\n",
        "<li><a href=\"/wiki/Zendaya\" title=\"Zendaya\">Zendaya</a></li>\n",
        "<li><a href=\"/wiki/Benedict_Cumberbatch\" title=\"Benedict Cumberbatch\">Benedict Cumberbatch</a></li>\n",
        "<li><a href=\"/wiki/Jacob_Batalon\" title=\"Jacob Batalon\">Jacob Batalon</a></li>\n",
        "<li><a href=\"/wiki/Jon_Favreau\" title=\"Jon Favreau\">Jon Favreau</a></li>\n",
        "<li><a href=\"/wiki/Jamie_Foxx\" title=\"Jamie Foxx\">Jamie Foxx</a></li>\n",
        "<li><a href=\"/wiki/Willem_Dafoe\" title=\"Willem Dafoe\">Willem Dafoe</a></li>\n",
        "<li><a href=\"/wiki/Alfred_Molina\" title=\"Alfred Molina\">Alfred Molina</a></li>\n",
        "<li><a href=\"/wiki/Benedict_Wong\" title=\"Benedict Wong\">Benedict Wong</a></li>\n",
        "<li><a href=\"/wiki/Tony_Revolori\" title=\"Tony Revolori\">Tony Revolori</a></li>\n",
        "<li><a href=\"/wiki/Marisa_Tomei\" title=\"Marisa Tomei\">Marisa Tomei</a></li>\n",
        "<li><a href=\"/wiki/Andrew_Garfield\" title=\"Andrew Garfield\">Andrew Garfield</a></li>\n",
        "<li><a href=\"/wiki/Tobey_Maguire\" title=\"Tobey Maguire\">Tobey Maguire</a></li>\n",
        "\"\"\""
      ]
    },
    {
      "cell_type": "code",
      "source": [
        "\"\"\"\n",
        "Name\n",
        "Tom Holland\n",
        "Zendaya\n",
        "Benedict Cumberbatch\"\"\""
      ],
      "metadata": {
        "id": "_OPrgIbgqf0T",
        "outputId": "d1f23abb-2051-4246-98d1-97ae5f491697",
        "colab": {
          "base_uri": "https://localhost:8080/",
          "height": 35
        }
      },
      "execution_count": 3,
      "outputs": [
        {
          "output_type": "execute_result",
          "data": {
            "text/plain": [
              "'\\nName\\nTom Holland\\nZendaya\\nBenedict Cumberbatch'"
            ],
            "application/vnd.google.colaboratory.intrinsic+json": {
              "type": "string"
            }
          },
          "metadata": {},
          "execution_count": 3
        }
      ]
    },
    {
      "cell_type": "code",
      "source": [
        "import re\n",
        "import pandas as pd"
      ],
      "metadata": {
        "id": "yPtsFy1nqf5q"
      },
      "execution_count": 4,
      "outputs": []
    },
    {
      "cell_type": "code",
      "source": [
        "stri = 'Me and my friend has purchased a phone number where the numbers are +91-9999999999 and +91-8888888888'"
      ],
      "metadata": {
        "id": "YLgOKkGbqf8j"
      },
      "execution_count": 5,
      "outputs": []
    },
    {
      "cell_type": "code",
      "source": [
        "+_ _ - _ _ _ _ _ _ _ _ _ _"
      ],
      "metadata": {
        "id": "0Tjdj1m1ybTr"
      },
      "execution_count": null,
      "outputs": []
    },
    {
      "cell_type": "code",
      "source": [
        "stri"
      ],
      "metadata": {
        "colab": {
          "base_uri": "https://localhost:8080/",
          "height": 35
        },
        "id": "0Qz5IT6wqgBt",
        "outputId": "b8863758-5393-486c-ff0e-fd5c969c9ffc"
      },
      "execution_count": 6,
      "outputs": [
        {
          "output_type": "execute_result",
          "data": {
            "text/plain": [
              "'Me and my friend has purchased a phone number where the numbers are +91-9999999999 and +91-8888888888'"
            ],
            "application/vnd.google.colaboratory.intrinsic+json": {
              "type": "string"
            }
          },
          "metadata": {},
          "execution_count": 6
        }
      ]
    },
    {
      "cell_type": "code",
      "source": [
        "for i in stri.split():\n",
        "  if i.isnumeric() and len(i) == 10:\n",
        "    print(i)"
      ],
      "metadata": {
        "id": "qoLSRi4hqhe1"
      },
      "execution_count": 7,
      "outputs": []
    },
    {
      "cell_type": "code",
      "source": [
        "'''\n",
        "findAll()\n",
        "sub() -> V. imp\n",
        "search()\n",
        "match()\n",
        "split()\n",
        "'''"
      ],
      "metadata": {
        "id": "XQqAbe3HqhhX",
        "outputId": "5372f841-79ef-4a4c-a27b-164dbf9de636",
        "colab": {
          "base_uri": "https://localhost:8080/",
          "height": 35
        }
      },
      "execution_count": 8,
      "outputs": [
        {
          "output_type": "execute_result",
          "data": {
            "text/plain": [
              "'\\nfindAll()\\nsub() -> V. imp\\nsearch()\\nmatch()\\nsplit()\\n'"
            ],
            "application/vnd.google.colaboratory.intrinsic+json": {
              "type": "string"
            }
          },
          "metadata": {},
          "execution_count": 8
        }
      ]
    },
    {
      "cell_type": "code",
      "source": [
        "pattern = '\\d\\d-\\d\\d\\d\\d\\d\\d\\d\\d\\d\\d'\n",
        "re.findall(pattern, stri)"
      ],
      "metadata": {
        "colab": {
          "base_uri": "https://localhost:8080/"
        },
        "id": "_EDU7pMXqhjz",
        "outputId": "09c2fbb0-ecbc-4702-9573-daa7c398fe72"
      },
      "execution_count": 9,
      "outputs": [
        {
          "output_type": "execute_result",
          "data": {
            "text/plain": [
              "['91-9999999999', '91-8888888888']"
            ]
          },
          "metadata": {},
          "execution_count": 9
        }
      ]
    },
    {
      "cell_type": "code",
      "source": [
        "# \\d -> Single Digit 0-9\n",
        "# + -> One or more occurance\n",
        "# * -> Zero or more occurance\n",
        "# ^ -> Starts with\n",
        "# \\w -> Single character A-Z|a-z|0-9|_\n",
        "# \\W"
      ],
      "metadata": {
        "id": "TBlN4D0aqhmY"
      },
      "execution_count": 10,
      "outputs": []
    },
    {
      "cell_type": "code",
      "source": [
        "pattern = '\\d{2}-\\d{10}'\n",
        "re.findall(pattern, stri)"
      ],
      "metadata": {
        "colab": {
          "base_uri": "https://localhost:8080/"
        },
        "id": "JAXsy6FzqhpP",
        "outputId": "bccdff6c-7f6d-42b7-e445-5d40c14ffd39"
      },
      "execution_count": 11,
      "outputs": [
        {
          "output_type": "execute_result",
          "data": {
            "text/plain": [
              "['91-9999999999', '91-8888888888']"
            ]
          },
          "metadata": {},
          "execution_count": 11
        }
      ]
    },
    {
      "cell_type": "code",
      "source": [
        "#_______@____.___"
      ],
      "metadata": {
        "id": "HoTF6bzJqhsE"
      },
      "execution_count": 13,
      "outputs": []
    },
    {
      "cell_type": "markdown",
      "source": [
        "* search()"
      ],
      "metadata": {
        "id": "p9SZ26AezxZM"
      }
    },
    {
      "cell_type": "code",
      "source": [
        "stri = \"On Friday, there will be a chance for a heavy rainfall\""
      ],
      "metadata": {
        "id": "QHZ3o8K1qhvu"
      },
      "execution_count": 14,
      "outputs": []
    },
    {
      "cell_type": "code",
      "source": [
        "stri"
      ],
      "metadata": {
        "colab": {
          "base_uri": "https://localhost:8080/",
          "height": 35
        },
        "id": "vnlPeDa8qhzG",
        "outputId": "0f426481-a1cf-453f-e0cd-7bbc13515753"
      },
      "execution_count": 15,
      "outputs": [
        {
          "output_type": "execute_result",
          "data": {
            "text/plain": [
              "'On Friday, there will be a chance for a heavy rainfall'"
            ],
            "application/vnd.google.colaboratory.intrinsic+json": {
              "type": "string"
            }
          },
          "metadata": {},
          "execution_count": 15
        }
      ]
    },
    {
      "cell_type": "code",
      "source": [
        "if re.search('^On', stri):\n",
        "  print(\"Match found\")\n",
        "else:\n",
        "  print('Match not found')"
      ],
      "metadata": {
        "colab": {
          "base_uri": "https://localhost:8080/"
        },
        "id": "s447AV55qh2J",
        "outputId": "82b2003f-de6b-4f8e-c46f-7f0be0155bdc"
      },
      "execution_count": 16,
      "outputs": [
        {
          "output_type": "stream",
          "name": "stdout",
          "text": [
            "Match found\n"
          ]
        }
      ]
    },
    {
      "cell_type": "code",
      "source": [
        "stri[0:2]"
      ],
      "metadata": {
        "colab": {
          "base_uri": "https://localhost:8080/",
          "height": 35
        },
        "id": "s6_8-rjiqh5Q",
        "outputId": "bf4a9ca1-3524-44ec-c998-05a88f37a9f6"
      },
      "execution_count": 17,
      "outputs": [
        {
          "output_type": "execute_result",
          "data": {
            "text/plain": [
              "'On'"
            ],
            "application/vnd.google.colaboratory.intrinsic+json": {
              "type": "string"
            }
          },
          "metadata": {},
          "execution_count": 17
        }
      ]
    },
    {
      "cell_type": "code",
      "source": [
        "\"\"\"\n",
        "+91- '^+91'\n",
        "\"\"\""
      ],
      "metadata": {
        "id": "tDXcgqp4qh8Z",
        "outputId": "64f44b1d-00be-421e-94aa-4db7c3b62680",
        "colab": {
          "base_uri": "https://localhost:8080/",
          "height": 35
        }
      },
      "execution_count": 19,
      "outputs": [
        {
          "output_type": "execute_result",
          "data": {
            "text/plain": [
              "\"\\n+91- '^+91'\\n\""
            ],
            "application/vnd.google.colaboratory.intrinsic+json": {
              "type": "string"
            }
          },
          "metadata": {},
          "execution_count": 19
        }
      ]
    },
    {
      "cell_type": "markdown",
      "source": [
        "* Match"
      ],
      "metadata": {
        "id": "80Y6K2560zu9"
      }
    },
    {
      "cell_type": "code",
      "source": [
        "stri = \"is a pet animal\""
      ],
      "metadata": {
        "id": "xAuvANjHqh_g"
      },
      "execution_count": 20,
      "outputs": []
    },
    {
      "cell_type": "code",
      "source": [
        "re.match('D\\w\\w\\w', stri)"
      ],
      "metadata": {
        "id": "4zJJ6nfjqiCY"
      },
      "execution_count": 21,
      "outputs": []
    },
    {
      "cell_type": "code",
      "source": [
        "re.match('D\\w\\w', stri).group()"
      ],
      "metadata": {
        "colab": {
          "base_uri": "https://localhost:8080/",
          "height": 165
        },
        "id": "gFcFp9cjqiF0",
        "outputId": "6d8f319c-edae-4c57-fc7a-dfc7762a050f"
      },
      "execution_count": 22,
      "outputs": [
        {
          "output_type": "error",
          "ename": "AttributeError",
          "evalue": "ignored",
          "traceback": [
            "\u001b[0;31m---------------------------------------------------------------------------\u001b[0m",
            "\u001b[0;31mAttributeError\u001b[0m                            Traceback (most recent call last)",
            "\u001b[0;32m<ipython-input-22-463cb9b15950>\u001b[0m in \u001b[0;36m<cell line: 1>\u001b[0;34m()\u001b[0m\n\u001b[0;32m----> 1\u001b[0;31m \u001b[0mre\u001b[0m\u001b[0;34m.\u001b[0m\u001b[0mmatch\u001b[0m\u001b[0;34m(\u001b[0m\u001b[0;34m'D\\w\\w'\u001b[0m\u001b[0;34m,\u001b[0m \u001b[0mstri\u001b[0m\u001b[0;34m)\u001b[0m\u001b[0;34m.\u001b[0m\u001b[0mgroup\u001b[0m\u001b[0;34m(\u001b[0m\u001b[0;34m)\u001b[0m\u001b[0;34m\u001b[0m\u001b[0;34m\u001b[0m\u001b[0m\n\u001b[0m",
            "\u001b[0;31mAttributeError\u001b[0m: 'NoneType' object has no attribute 'group'"
          ]
        }
      ]
    },
    {
      "cell_type": "markdown",
      "source": [
        "* Split"
      ],
      "metadata": {
        "id": "v9U28g482Szd"
      }
    },
    {
      "cell_type": "code",
      "source": [
        "stri"
      ],
      "metadata": {
        "colab": {
          "base_uri": "https://localhost:8080/",
          "height": 35
        },
        "id": "ShUgcV6iqiJH",
        "outputId": "a6c1b17c-4cfa-462d-948c-16089d13ba06"
      },
      "execution_count": 23,
      "outputs": [
        {
          "output_type": "execute_result",
          "data": {
            "text/plain": [
              "'is a pet animal'"
            ],
            "application/vnd.google.colaboratory.intrinsic+json": {
              "type": "string"
            }
          },
          "metadata": {},
          "execution_count": 23
        }
      ]
    },
    {
      "cell_type": "code",
      "source": [
        "re.split('\\s', stri, 5)\n",
        "# \\s -> Space"
      ],
      "metadata": {
        "colab": {
          "base_uri": "https://localhost:8080/"
        },
        "id": "tyUJJ5fYqiMP",
        "outputId": "0deeebe5-e5df-4959-e433-4398bc983b75"
      },
      "execution_count": 24,
      "outputs": [
        {
          "output_type": "execute_result",
          "data": {
            "text/plain": [
              "['is', 'a', 'pet', 'animal']"
            ]
          },
          "metadata": {},
          "execution_count": 24
        }
      ]
    },
    {
      "cell_type": "code",
      "source": [
        "stri.split()"
      ],
      "metadata": {
        "colab": {
          "base_uri": "https://localhost:8080/"
        },
        "id": "99bvplgCqiPI",
        "outputId": "ca3b57a5-c6b3-4c05-d316-949f0d754d3e"
      },
      "execution_count": 25,
      "outputs": [
        {
          "output_type": "execute_result",
          "data": {
            "text/plain": [
              "['is', 'a', 'pet', 'animal']"
            ]
          },
          "metadata": {},
          "execution_count": 25
        }
      ]
    },
    {
      "cell_type": "markdown",
      "source": [
        "* sub() -> replace"
      ],
      "metadata": {
        "id": "J-u49UDP3S3H"
      }
    },
    {
      "cell_type": "code",
      "source": [
        "#SYNTAX:\n",
        "#re.sub(pattern, replace_strin, string)"
      ],
      "metadata": {
        "id": "XUuiIoTcqiSQ"
      },
      "execution_count": 28,
      "outputs": []
    },
    {
      "cell_type": "code",
      "source": [
        "stri = \"Football is not a ball of foot\""
      ],
      "metadata": {
        "id": "M_VN0HOyqiVp"
      },
      "execution_count": 29,
      "outputs": []
    },
    {
      "cell_type": "code",
      "source": [
        "re.sub('o','e',stri)"
      ],
      "metadata": {
        "colab": {
          "base_uri": "https://localhost:8080/",
          "height": 35
        },
        "id": "Mq2Rk9RCqiYj",
        "outputId": "fd6d42cf-46ab-446b-80ee-95cff81950a2"
      },
      "execution_count": 30,
      "outputs": [
        {
          "output_type": "execute_result",
          "data": {
            "text/plain": [
              "'Feetball is net a ball ef feet'"
            ],
            "application/vnd.google.colaboratory.intrinsic+json": {
              "type": "string"
            }
          },
          "metadata": {},
          "execution_count": 30
        }
      ]
    },
    {
      "cell_type": "markdown",
      "source": [
        "* Metacharacters\n",
        "\n",
        "1. [a-z] -> A set of characters"
      ],
      "metadata": {
        "id": "fh-KcCfD30h_"
      }
    },
    {
      "cell_type": "code",
      "source": [
        "stri = 'My number is 9898989898'"
      ],
      "metadata": {
        "id": "GM6XnCPKqibs"
      },
      "execution_count": 31,
      "outputs": []
    },
    {
      "cell_type": "code",
      "source": [
        "re.findall('[a-h]', stri)"
      ],
      "metadata": {
        "colab": {
          "base_uri": "https://localhost:8080/"
        },
        "id": "FKhUNnCiqiev",
        "outputId": "ad5aeba2-d08e-4b67-a9e9-8f41d8cce69b"
      },
      "execution_count": 32,
      "outputs": [
        {
          "output_type": "execute_result",
          "data": {
            "text/plain": [
              "['b', 'e']"
            ]
          },
          "metadata": {},
          "execution_count": 32
        }
      ]
    },
    {
      "cell_type": "markdown",
      "source": [
        "2. ^ -> Starts with"
      ],
      "metadata": {
        "id": "ySwDJLPg4aZI"
      }
    },
    {
      "cell_type": "code",
      "source": [
        "re.findall('^[A-Z]', stri)"
      ],
      "metadata": {
        "colab": {
          "base_uri": "https://localhost:8080/"
        },
        "id": "n2_rvCW-qihq",
        "outputId": "ea50bdfe-2716-497a-dc50-de3acac631a3"
      },
      "execution_count": 33,
      "outputs": [
        {
          "output_type": "execute_result",
          "data": {
            "text/plain": [
              "['M']"
            ]
          },
          "metadata": {},
          "execution_count": 33
        }
      ]
    },
    {
      "cell_type": "markdown",
      "source": [
        "3. $ -> Ends with"
      ],
      "metadata": {
        "id": "a6RJ11Zc4hEL"
      }
    },
    {
      "cell_type": "code",
      "source": [
        "stri"
      ],
      "metadata": {
        "colab": {
          "base_uri": "https://localhost:8080/",
          "height": 35
        },
        "id": "iGImqV6iqilD",
        "outputId": "fa401e68-6d7f-4152-b78e-224af8b01f54"
      },
      "execution_count": 34,
      "outputs": [
        {
          "output_type": "execute_result",
          "data": {
            "text/plain": [
              "'My number is 9898989898'"
            ],
            "application/vnd.google.colaboratory.intrinsic+json": {
              "type": "string"
            }
          },
          "metadata": {},
          "execution_count": 34
        }
      ]
    },
    {
      "cell_type": "code",
      "source": [
        "re.findall('[a-z]$', stri)"
      ],
      "metadata": {
        "colab": {
          "base_uri": "https://localhost:8080/"
        },
        "id": "cudt96gbqioo",
        "outputId": "479a4eb6-54f1-4294-9222-df02169b1051"
      },
      "execution_count": 35,
      "outputs": [
        {
          "output_type": "execute_result",
          "data": {
            "text/plain": [
              "[]"
            ]
          },
          "metadata": {},
          "execution_count": 35
        }
      ]
    },
    {
      "cell_type": "markdown",
      "source": [
        "4. . -> Match single character except newline"
      ],
      "metadata": {
        "id": "Hf7vNCep5bYH"
      }
    },
    {
      "cell_type": "code",
      "source": [
        "stri = \"Today is Monday\""
      ],
      "metadata": {
        "id": "TxqEcqJoqirh"
      },
      "execution_count": 36,
      "outputs": []
    },
    {
      "cell_type": "code",
      "source": [
        "re.search('^To.*ay$', stri)"
      ],
      "metadata": {
        "colab": {
          "base_uri": "https://localhost:8080/"
        },
        "id": "t7n0CGASqiu0",
        "outputId": "1accb0e0-42a4-405e-8a80-f34886992202"
      },
      "execution_count": 37,
      "outputs": [
        {
          "output_type": "execute_result",
          "data": {
            "text/plain": [
              "<re.Match object; span=(0, 15), match='Today is Monday'>"
            ]
          },
          "metadata": {},
          "execution_count": 37
        }
      ]
    },
    {
      "cell_type": "code",
      "source": [
        "data = '''<li><a href=\"/wiki/Tom_Holland\" title=\"Tom Holland\">Tom Holland</a></li>\n",
        "<li><a href=\"/wiki/Zendaya\" title=\"Zendaya\">Zendaya</a></li>\n",
        "<li><a href=\"/wiki/Benedict_Cumberbatch\" title=\"Benedict Cumberbatch\">Benedict Cumberbatch</a></li>\n",
        "<li><a href=\"/wiki/Jacob_Batalon\" title=\"Jacob Batalon\">Jacob Batalon</a></li>\n",
        "<li><a href=\"/wiki/Jon_Favreau\" title=\"Jon Favreau\">Jon Favreau</a></li>\n",
        "<li><a href=\"/wiki/Jamie_Foxx\" title=\"Jamie Foxx\">Jamie Foxx</a></li>\n",
        "<li><a href=\"/wiki/Willem_Dafoe\" title=\"Willem Dafoe\">Willem Dafoe</a></li>\n",
        "<li><a href=\"/wiki/Alfred_Molina\" title=\"Alfred Molina\">Alfred Molina</a></li>\n",
        "<li><a href=\"/wiki/Benedict_Wong\" title=\"Benedict Wong\">Benedict Wong</a></li>\n",
        "<li><a href=\"/wiki/Tony_Revolori\" title=\"Tony Revolori\">Tony Revolori</a></li>\n",
        "<li><a href=\"/wiki/Marisa_Tomei\" title=\"Marisa Tomei\">Marisa Tomei</a></li>\n",
        "<li><a href=\"/wiki/Andrew_Garfield\" title=\"Andrew Garfield\">Andrew Garfield</a></li>\n",
        "<li><a href=\"/wiki/Tobey_Maguire\" title=\"Tobey Maguire\">Tobey Maguire</a></li>\n",
        "'''"
      ],
      "metadata": {
        "id": "7lpZl47KqjGX"
      },
      "execution_count": 41,
      "outputs": []
    },
    {
      "cell_type": "code",
      "source": [
        "data"
      ],
      "metadata": {
        "colab": {
          "base_uri": "https://localhost:8080/",
          "height": 140
        },
        "id": "pJEFfuLAqjJx",
        "outputId": "e0e69b22-d4d5-4f64-9918-9b29c5f0b5dc"
      },
      "execution_count": 42,
      "outputs": [
        {
          "output_type": "execute_result",
          "data": {
            "text/plain": [
              "'<li><a href=\"/wiki/Tom_Holland\" title=\"Tom Holland\">Tom Holland</a></li>\\n<li><a href=\"/wiki/Zendaya\" title=\"Zendaya\">Zendaya</a></li>\\n<li><a href=\"/wiki/Benedict_Cumberbatch\" title=\"Benedict Cumberbatch\">Benedict Cumberbatch</a></li>\\n<li><a href=\"/wiki/Jacob_Batalon\" title=\"Jacob Batalon\">Jacob Batalon</a></li>\\n<li><a href=\"/wiki/Jon_Favreau\" title=\"Jon Favreau\">Jon Favreau</a></li>\\n<li><a href=\"/wiki/Jamie_Foxx\" title=\"Jamie Foxx\">Jamie Foxx</a></li>\\n<li><a href=\"/wiki/Willem_Dafoe\" title=\"Willem Dafoe\">Willem Dafoe</a></li>\\n<li><a href=\"/wiki/Alfred_Molina\" title=\"Alfred Molina\">Alfred Molina</a></li>\\n<li><a href=\"/wiki/Benedict_Wong\" title=\"Benedict Wong\">Benedict Wong</a></li>\\n<li><a href=\"/wiki/Tony_Revolori\" title=\"Tony Revolori\">Tony Revolori</a></li>\\n<li><a href=\"/wiki/Marisa_Tomei\" title=\"Marisa Tomei\">Marisa Tomei</a></li>\\n<li><a href=\"/wiki/Andrew_Garfield\" title=\"Andrew Garfield\">Andrew Garfield</a></li>\\n<li><a href=\"/wiki/Tobey_Maguire\" title=\"Tobey Maguire\">Tobey Maguire</a></li>\\n'"
            ],
            "application/vnd.google.colaboratory.intrinsic+json": {
              "type": "string"
            }
          },
          "metadata": {},
          "execution_count": 42
        }
      ]
    },
    {
      "cell_type": "code",
      "source": [
        "new_data = data.split('\\n')"
      ],
      "metadata": {
        "id": "LGPlIkOSqjNE"
      },
      "execution_count": 43,
      "outputs": []
    },
    {
      "cell_type": "code",
      "source": [
        "new_data"
      ],
      "metadata": {
        "colab": {
          "base_uri": "https://localhost:8080/"
        },
        "id": "f2jWUnU2qjQO",
        "outputId": "53644d27-3246-4650-bdbd-016255fa8d63"
      },
      "execution_count": 44,
      "outputs": [
        {
          "output_type": "execute_result",
          "data": {
            "text/plain": [
              "['<li><a href=\"/wiki/Tom_Holland\" title=\"Tom Holland\">Tom Holland</a></li>',\n",
              " '<li><a href=\"/wiki/Zendaya\" title=\"Zendaya\">Zendaya</a></li>',\n",
              " '<li><a href=\"/wiki/Benedict_Cumberbatch\" title=\"Benedict Cumberbatch\">Benedict Cumberbatch</a></li>',\n",
              " '<li><a href=\"/wiki/Jacob_Batalon\" title=\"Jacob Batalon\">Jacob Batalon</a></li>',\n",
              " '<li><a href=\"/wiki/Jon_Favreau\" title=\"Jon Favreau\">Jon Favreau</a></li>',\n",
              " '<li><a href=\"/wiki/Jamie_Foxx\" title=\"Jamie Foxx\">Jamie Foxx</a></li>',\n",
              " '<li><a href=\"/wiki/Willem_Dafoe\" title=\"Willem Dafoe\">Willem Dafoe</a></li>',\n",
              " '<li><a href=\"/wiki/Alfred_Molina\" title=\"Alfred Molina\">Alfred Molina</a></li>',\n",
              " '<li><a href=\"/wiki/Benedict_Wong\" title=\"Benedict Wong\">Benedict Wong</a></li>',\n",
              " '<li><a href=\"/wiki/Tony_Revolori\" title=\"Tony Revolori\">Tony Revolori</a></li>',\n",
              " '<li><a href=\"/wiki/Marisa_Tomei\" title=\"Marisa Tomei\">Marisa Tomei</a></li>',\n",
              " '<li><a href=\"/wiki/Andrew_Garfield\" title=\"Andrew Garfield\">Andrew Garfield</a></li>',\n",
              " '<li><a href=\"/wiki/Tobey_Maguire\" title=\"Tobey Maguire\">Tobey Maguire</a></li>',\n",
              " '']"
            ]
          },
          "metadata": {},
          "execution_count": 44
        }
      ]
    },
    {
      "cell_type": "code",
      "source": [
        "new_data[0]"
      ],
      "metadata": {
        "colab": {
          "base_uri": "https://localhost:8080/",
          "height": 35
        },
        "id": "fRoynLj-qjTm",
        "outputId": "0a6b2678-6c4d-4b8f-d4f8-2f1cef9975ed"
      },
      "execution_count": 45,
      "outputs": [
        {
          "output_type": "execute_result",
          "data": {
            "text/plain": [
              "'<li><a href=\"/wiki/Tom_Holland\" title=\"Tom Holland\">Tom Holland</a></li>'"
            ],
            "application/vnd.google.colaboratory.intrinsic+json": {
              "type": "string"
            }
          },
          "metadata": {},
          "execution_count": 45
        }
      ]
    },
    {
      "cell_type": "code",
      "source": [
        "re.sub('^<li>.*\">|<.*>','', new_data[0])"
      ],
      "metadata": {
        "colab": {
          "base_uri": "https://localhost:8080/",
          "height": 35
        },
        "id": "H1eV7IMFqjWx",
        "outputId": "29bc618b-72f0-422f-eaa3-c37cac31ac07"
      },
      "execution_count": 46,
      "outputs": [
        {
          "output_type": "execute_result",
          "data": {
            "text/plain": [
              "'Tom Holland'"
            ],
            "application/vnd.google.colaboratory.intrinsic+json": {
              "type": "string"
            }
          },
          "metadata": {},
          "execution_count": 46
        }
      ]
    },
    {
      "cell_type": "code",
      "source": [
        "new_data"
      ],
      "metadata": {
        "colab": {
          "base_uri": "https://localhost:8080/"
        },
        "id": "XJPhhpPG9m94",
        "outputId": "bbe29037-450b-4132-c49c-6be8b7470072"
      },
      "execution_count": 47,
      "outputs": [
        {
          "output_type": "execute_result",
          "data": {
            "text/plain": [
              "['<li><a href=\"/wiki/Tom_Holland\" title=\"Tom Holland\">Tom Holland</a></li>',\n",
              " '<li><a href=\"/wiki/Zendaya\" title=\"Zendaya\">Zendaya</a></li>',\n",
              " '<li><a href=\"/wiki/Benedict_Cumberbatch\" title=\"Benedict Cumberbatch\">Benedict Cumberbatch</a></li>',\n",
              " '<li><a href=\"/wiki/Jacob_Batalon\" title=\"Jacob Batalon\">Jacob Batalon</a></li>',\n",
              " '<li><a href=\"/wiki/Jon_Favreau\" title=\"Jon Favreau\">Jon Favreau</a></li>',\n",
              " '<li><a href=\"/wiki/Jamie_Foxx\" title=\"Jamie Foxx\">Jamie Foxx</a></li>',\n",
              " '<li><a href=\"/wiki/Willem_Dafoe\" title=\"Willem Dafoe\">Willem Dafoe</a></li>',\n",
              " '<li><a href=\"/wiki/Alfred_Molina\" title=\"Alfred Molina\">Alfred Molina</a></li>',\n",
              " '<li><a href=\"/wiki/Benedict_Wong\" title=\"Benedict Wong\">Benedict Wong</a></li>',\n",
              " '<li><a href=\"/wiki/Tony_Revolori\" title=\"Tony Revolori\">Tony Revolori</a></li>',\n",
              " '<li><a href=\"/wiki/Marisa_Tomei\" title=\"Marisa Tomei\">Marisa Tomei</a></li>',\n",
              " '<li><a href=\"/wiki/Andrew_Garfield\" title=\"Andrew Garfield\">Andrew Garfield</a></li>',\n",
              " '<li><a href=\"/wiki/Tobey_Maguire\" title=\"Tobey Maguire\">Tobey Maguire</a></li>',\n",
              " '']"
            ]
          },
          "metadata": {},
          "execution_count": 47
        }
      ]
    },
    {
      "cell_type": "code",
      "source": [
        "for i in new_data:\n",
        "  print(re.sub('^<li>.*\">|<.*>','', i))"
      ],
      "metadata": {
        "colab": {
          "base_uri": "https://localhost:8080/"
        },
        "id": "H5LH0z5hqjZ0",
        "outputId": "563e6f56-8435-4a95-d615-5ede9cef34c6"
      },
      "execution_count": 48,
      "outputs": [
        {
          "output_type": "stream",
          "name": "stdout",
          "text": [
            "Tom Holland\n",
            "Zendaya\n",
            "Benedict Cumberbatch\n",
            "Jacob Batalon\n",
            "Jon Favreau\n",
            "Jamie Foxx\n",
            "Willem Dafoe\n",
            "Alfred Molina\n",
            "Benedict Wong\n",
            "Tony Revolori\n",
            "Marisa Tomei\n",
            "Andrew Garfield\n",
            "Tobey Maguire\n",
            "\n"
          ]
        }
      ]
    },
    {
      "cell_type": "code",
      "source": [
        "arr = [re.sub('^<li>.*\">|<.*>','', i) for i in new_data]"
      ],
      "metadata": {
        "id": "uYHD1ZHpqjc7"
      },
      "execution_count": 49,
      "outputs": []
    },
    {
      "cell_type": "code",
      "source": [
        "df = pd.DataFrame(arr, columns=['Name'])"
      ],
      "metadata": {
        "id": "UeOLZ__tqjf5"
      },
      "execution_count": 50,
      "outputs": []
    },
    {
      "cell_type": "code",
      "source": [
        "df"
      ],
      "metadata": {
        "colab": {
          "base_uri": "https://localhost:8080/",
          "height": 488
        },
        "id": "06WzaxW4qjjG",
        "outputId": "3e8be7ca-76f5-49b3-c7de-fa5bfe8ebc6b"
      },
      "execution_count": 51,
      "outputs": [
        {
          "output_type": "execute_result",
          "data": {
            "text/plain": [
              "                    Name\n",
              "0            Tom Holland\n",
              "1                Zendaya\n",
              "2   Benedict Cumberbatch\n",
              "3          Jacob Batalon\n",
              "4            Jon Favreau\n",
              "5             Jamie Foxx\n",
              "6           Willem Dafoe\n",
              "7          Alfred Molina\n",
              "8          Benedict Wong\n",
              "9          Tony Revolori\n",
              "10          Marisa Tomei\n",
              "11       Andrew Garfield\n",
              "12         Tobey Maguire\n",
              "13                      "
            ],
            "text/html": [
              "\n",
              "  <div id=\"df-116bbbd4-ebe6-44c3-9b22-3d817ef49378\">\n",
              "    <div class=\"colab-df-container\">\n",
              "      <div>\n",
              "<style scoped>\n",
              "    .dataframe tbody tr th:only-of-type {\n",
              "        vertical-align: middle;\n",
              "    }\n",
              "\n",
              "    .dataframe tbody tr th {\n",
              "        vertical-align: top;\n",
              "    }\n",
              "\n",
              "    .dataframe thead th {\n",
              "        text-align: right;\n",
              "    }\n",
              "</style>\n",
              "<table border=\"1\" class=\"dataframe\">\n",
              "  <thead>\n",
              "    <tr style=\"text-align: right;\">\n",
              "      <th></th>\n",
              "      <th>Name</th>\n",
              "    </tr>\n",
              "  </thead>\n",
              "  <tbody>\n",
              "    <tr>\n",
              "      <th>0</th>\n",
              "      <td>Tom Holland</td>\n",
              "    </tr>\n",
              "    <tr>\n",
              "      <th>1</th>\n",
              "      <td>Zendaya</td>\n",
              "    </tr>\n",
              "    <tr>\n",
              "      <th>2</th>\n",
              "      <td>Benedict Cumberbatch</td>\n",
              "    </tr>\n",
              "    <tr>\n",
              "      <th>3</th>\n",
              "      <td>Jacob Batalon</td>\n",
              "    </tr>\n",
              "    <tr>\n",
              "      <th>4</th>\n",
              "      <td>Jon Favreau</td>\n",
              "    </tr>\n",
              "    <tr>\n",
              "      <th>5</th>\n",
              "      <td>Jamie Foxx</td>\n",
              "    </tr>\n",
              "    <tr>\n",
              "      <th>6</th>\n",
              "      <td>Willem Dafoe</td>\n",
              "    </tr>\n",
              "    <tr>\n",
              "      <th>7</th>\n",
              "      <td>Alfred Molina</td>\n",
              "    </tr>\n",
              "    <tr>\n",
              "      <th>8</th>\n",
              "      <td>Benedict Wong</td>\n",
              "    </tr>\n",
              "    <tr>\n",
              "      <th>9</th>\n",
              "      <td>Tony Revolori</td>\n",
              "    </tr>\n",
              "    <tr>\n",
              "      <th>10</th>\n",
              "      <td>Marisa Tomei</td>\n",
              "    </tr>\n",
              "    <tr>\n",
              "      <th>11</th>\n",
              "      <td>Andrew Garfield</td>\n",
              "    </tr>\n",
              "    <tr>\n",
              "      <th>12</th>\n",
              "      <td>Tobey Maguire</td>\n",
              "    </tr>\n",
              "    <tr>\n",
              "      <th>13</th>\n",
              "      <td></td>\n",
              "    </tr>\n",
              "  </tbody>\n",
              "</table>\n",
              "</div>\n",
              "      <button class=\"colab-df-convert\" onclick=\"convertToInteractive('df-116bbbd4-ebe6-44c3-9b22-3d817ef49378')\"\n",
              "              title=\"Convert this dataframe to an interactive table.\"\n",
              "              style=\"display:none;\">\n",
              "        \n",
              "  <svg xmlns=\"http://www.w3.org/2000/svg\" height=\"24px\"viewBox=\"0 0 24 24\"\n",
              "       width=\"24px\">\n",
              "    <path d=\"M0 0h24v24H0V0z\" fill=\"none\"/>\n",
              "    <path d=\"M18.56 5.44l.94 2.06.94-2.06 2.06-.94-2.06-.94-.94-2.06-.94 2.06-2.06.94zm-11 1L8.5 8.5l.94-2.06 2.06-.94-2.06-.94L8.5 2.5l-.94 2.06-2.06.94zm10 10l.94 2.06.94-2.06 2.06-.94-2.06-.94-.94-2.06-.94 2.06-2.06.94z\"/><path d=\"M17.41 7.96l-1.37-1.37c-.4-.4-.92-.59-1.43-.59-.52 0-1.04.2-1.43.59L10.3 9.45l-7.72 7.72c-.78.78-.78 2.05 0 2.83L4 21.41c.39.39.9.59 1.41.59.51 0 1.02-.2 1.41-.59l7.78-7.78 2.81-2.81c.8-.78.8-2.07 0-2.86zM5.41 20L4 18.59l7.72-7.72 1.47 1.35L5.41 20z\"/>\n",
              "  </svg>\n",
              "      </button>\n",
              "      \n",
              "  <style>\n",
              "    .colab-df-container {\n",
              "      display:flex;\n",
              "      flex-wrap:wrap;\n",
              "      gap: 12px;\n",
              "    }\n",
              "\n",
              "    .colab-df-convert {\n",
              "      background-color: #E8F0FE;\n",
              "      border: none;\n",
              "      border-radius: 50%;\n",
              "      cursor: pointer;\n",
              "      display: none;\n",
              "      fill: #1967D2;\n",
              "      height: 32px;\n",
              "      padding: 0 0 0 0;\n",
              "      width: 32px;\n",
              "    }\n",
              "\n",
              "    .colab-df-convert:hover {\n",
              "      background-color: #E2EBFA;\n",
              "      box-shadow: 0px 1px 2px rgba(60, 64, 67, 0.3), 0px 1px 3px 1px rgba(60, 64, 67, 0.15);\n",
              "      fill: #174EA6;\n",
              "    }\n",
              "\n",
              "    [theme=dark] .colab-df-convert {\n",
              "      background-color: #3B4455;\n",
              "      fill: #D2E3FC;\n",
              "    }\n",
              "\n",
              "    [theme=dark] .colab-df-convert:hover {\n",
              "      background-color: #434B5C;\n",
              "      box-shadow: 0px 1px 3px 1px rgba(0, 0, 0, 0.15);\n",
              "      filter: drop-shadow(0px 1px 2px rgba(0, 0, 0, 0.3));\n",
              "      fill: #FFFFFF;\n",
              "    }\n",
              "  </style>\n",
              "\n",
              "      <script>\n",
              "        const buttonEl =\n",
              "          document.querySelector('#df-116bbbd4-ebe6-44c3-9b22-3d817ef49378 button.colab-df-convert');\n",
              "        buttonEl.style.display =\n",
              "          google.colab.kernel.accessAllowed ? 'block' : 'none';\n",
              "\n",
              "        async function convertToInteractive(key) {\n",
              "          const element = document.querySelector('#df-116bbbd4-ebe6-44c3-9b22-3d817ef49378');\n",
              "          const dataTable =\n",
              "            await google.colab.kernel.invokeFunction('convertToInteractive',\n",
              "                                                     [key], {});\n",
              "          if (!dataTable) return;\n",
              "\n",
              "          const docLinkHtml = 'Like what you see? Visit the ' +\n",
              "            '<a target=\"_blank\" href=https://colab.research.google.com/notebooks/data_table.ipynb>data table notebook</a>'\n",
              "            + ' to learn more about interactive tables.';\n",
              "          element.innerHTML = '';\n",
              "          dataTable['output_type'] = 'display_data';\n",
              "          await google.colab.output.renderOutput(dataTable, element);\n",
              "          const docLink = document.createElement('div');\n",
              "          docLink.innerHTML = docLinkHtml;\n",
              "          element.appendChild(docLink);\n",
              "        }\n",
              "      </script>\n",
              "    </div>\n",
              "  </div>\n",
              "  "
            ]
          },
          "metadata": {},
          "execution_count": 51
        }
      ]
    },
    {
      "cell_type": "code",
      "source": [
        "# Email validation\n",
        "\"\"\"\n",
        "_________@______.____\n",
        "\"\"\""
      ],
      "metadata": {
        "id": "5vGEmvNYqjmW",
        "outputId": "254e63bc-6726-48c0-ce5f-d0434f2880f0",
        "colab": {
          "base_uri": "https://localhost:8080/",
          "height": 35
        }
      },
      "execution_count": 54,
      "outputs": [
        {
          "output_type": "execute_result",
          "data": {
            "text/plain": [
              "'\\n_________@______.____\\n'"
            ],
            "application/vnd.google.colaboratory.intrinsic+json": {
              "type": "string"
            }
          },
          "metadata": {},
          "execution_count": 54
        }
      ]
    },
    {
      "cell_type": "code",
      "source": [],
      "metadata": {
        "id": "Z7QR-42WvrfW"
      },
      "execution_count": null,
      "outputs": []
    }
  ]
}