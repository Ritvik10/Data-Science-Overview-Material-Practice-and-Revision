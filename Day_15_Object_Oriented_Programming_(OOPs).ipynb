{
  "nbformat": 4,
  "nbformat_minor": 0,
  "metadata": {
    "colab": {
      "provenance": [],
      "toc_visible": true,
      "include_colab_link": true
    },
    "kernelspec": {
      "name": "python3",
      "display_name": "Python 3"
    },
    "language_info": {
      "name": "python"
    }
  },
  "cells": [
    {
      "cell_type": "markdown",
      "metadata": {
        "id": "view-in-github",
        "colab_type": "text"
      },
      "source": [
        "<a href=\"https://colab.research.google.com/github/Ritvik10/Data-Science-Overview-Material-Practice-and-Revision/blob/main/Day_15_Object_Oriented_Programming_(OOPs).ipynb\" target=\"_parent\"><img src=\"https://colab.research.google.com/assets/colab-badge.svg\" alt=\"Open In Colab\"/></a>"
      ]
    },
    {
      "cell_type": "markdown",
      "source": [
        "# OOPs -> Object Oriented Programming\n",
        "\n",
        "1. It is an approach that will allow us to develop applications/softwares\n",
        "2. It focuses on the concept of code reusability\n",
        "3. It allows to do programming using ther concept of classes and objects"
      ],
      "metadata": {
        "id": "txeeqbtCdg-J"
      }
    },
    {
      "cell_type": "code",
      "execution_count": 1,
      "metadata": {
        "id": "VVY5X1SUU3Fk"
      },
      "outputs": [],
      "source": [
        "# Procedural Oriented Programming (POP) -> C, FORTAN, BASIC, Pascal\n",
        "# Object Oriented Programming (OOPs) -> Python, Java, Ruby, Go"
      ]
    },
    {
      "cell_type": "markdown",
      "source": [
        "# Class\n",
        "\n",
        "1. It is a collection of objects, methods, specific attributes,etc.\n",
        "2. It is a blueprint/map/plan of defining the entire structure of  programming"
      ],
      "metadata": {
        "id": "qZOLzTJfeNAh"
      }
    },
    {
      "cell_type": "code",
      "source": [
        "\"\"\"SYNTAX\n",
        "class Name_of_the_class:\n",
        "  statements\n",
        "  \"\"\""
      ],
      "metadata": {
        "id": "3RWpxh3oVKIf",
        "outputId": "84ab655e-6c0f-49b0-f571-30332af48a74",
        "colab": {
          "base_uri": "https://localhost:8080/",
          "height": 35
        }
      },
      "execution_count": 3,
      "outputs": [
        {
          "output_type": "execute_result",
          "data": {
            "text/plain": [
              "'SYNTAX\\nclass Name_of_the_class:\\n  statements\\n  '"
            ],
            "application/vnd.google.colaboratory.intrinsic+json": {
              "type": "string"
            }
          },
          "metadata": {},
          "execution_count": 3
        }
      ]
    },
    {
      "cell_type": "code",
      "source": [
        "class Student:\n",
        "  pass"
      ],
      "metadata": {
        "id": "qBxcBC_uVKLV"
      },
      "execution_count": 4,
      "outputs": []
    },
    {
      "cell_type": "markdown",
      "source": [
        "# Object\n",
        "\n",
        "1. It's an instance of a class\n",
        "Instance -> an example/a case"
      ],
      "metadata": {
        "id": "vcWc6CP2fAnd"
      }
    },
    {
      "cell_type": "code",
      "source": [
        "# SYNTAX: object_name = class_name(arguments)"
      ],
      "metadata": {
        "id": "reki8sZOgTRs"
      },
      "execution_count": 5,
      "outputs": []
    },
    {
      "cell_type": "code",
      "source": [
        "var = Student()"
      ],
      "metadata": {
        "id": "sqWMhsI9VKOr"
      },
      "execution_count": 6,
      "outputs": []
    },
    {
      "cell_type": "code",
      "source": [
        "var"
      ],
      "metadata": {
        "colab": {
          "base_uri": "https://localhost:8080/"
        },
        "id": "1FZ74v1vVKR0",
        "outputId": "2df1c413-be25-4cc8-812b-5d7eb48437c7"
      },
      "execution_count": 7,
      "outputs": [
        {
          "output_type": "execute_result",
          "data": {
            "text/plain": [
              "<__main__.Student at 0x7f689fd39cf0>"
            ]
          },
          "metadata": {},
          "execution_count": 7
        }
      ]
    },
    {
      "cell_type": "code",
      "source": [
        "class First:\n",
        "  def pass_or_fail(self,marks):\n",
        "    if marks > 75:\n",
        "      return \"Pass\"\n",
        "    else:\n",
        "      return \"Fail\"\n",
        "  def new(self):\n",
        "    return \"Hello\"\n",
        "\n",
        "class Second:\n",
        "  def pass_or_fail(self,marks):\n",
        "    if marks > 50:\n",
        "      return \"Pass\"\n",
        "    else:\n",
        "      return \"Fail\"\n",
        "\n",
        "  def old(self):\n",
        "    return \"World\""
      ],
      "metadata": {
        "id": "Lh_mEpPYVKU7"
      },
      "execution_count": 8,
      "outputs": []
    },
    {
      "cell_type": "code",
      "source": [
        "def pass_or_fail(self,marks):\n",
        "    if marks > 50:\n",
        "      return \"Pass\"\n",
        "    else:\n",
        "      return \"Fail\""
      ],
      "metadata": {
        "id": "q3N92SGmiacu"
      },
      "execution_count": 9,
      "outputs": []
    },
    {
      "cell_type": "code",
      "source": [
        "obj = First()\n",
        "obj1 = Second()"
      ],
      "metadata": {
        "id": "iBrEB6TfVKXz"
      },
      "execution_count": 10,
      "outputs": []
    },
    {
      "cell_type": "code",
      "source": [
        "obj.old()"
      ],
      "metadata": {
        "colab": {
          "base_uri": "https://localhost:8080/",
          "height": 165
        },
        "id": "cpI8GaAzhuH6",
        "outputId": "92f34548-c45b-4ce2-c00b-3fa56e32ce38"
      },
      "execution_count": 11,
      "outputs": [
        {
          "output_type": "error",
          "ename": "AttributeError",
          "evalue": "ignored",
          "traceback": [
            "\u001b[0;31m---------------------------------------------------------------------------\u001b[0m",
            "\u001b[0;31mAttributeError\u001b[0m                            Traceback (most recent call last)",
            "\u001b[0;32m<ipython-input-11-37a7ac36da5b>\u001b[0m in \u001b[0;36m<cell line: 1>\u001b[0;34m()\u001b[0m\n\u001b[0;32m----> 1\u001b[0;31m \u001b[0mobj\u001b[0m\u001b[0;34m.\u001b[0m\u001b[0mold\u001b[0m\u001b[0;34m(\u001b[0m\u001b[0;34m)\u001b[0m\u001b[0;34m\u001b[0m\u001b[0;34m\u001b[0m\u001b[0m\n\u001b[0m",
            "\u001b[0;31mAttributeError\u001b[0m: 'First' object has no attribute 'old'"
          ]
        }
      ]
    },
    {
      "cell_type": "code",
      "source": [
        "obj.pass_or_fail(65)"
      ],
      "metadata": {
        "colab": {
          "base_uri": "https://localhost:8080/",
          "height": 35
        },
        "id": "Oz4c9SZBhSc9",
        "outputId": "dfcfca6c-0be6-422a-9a2a-e336fe71d2ae"
      },
      "execution_count": 12,
      "outputs": [
        {
          "output_type": "execute_result",
          "data": {
            "text/plain": [
              "'Fail'"
            ],
            "application/vnd.google.colaboratory.intrinsic+json": {
              "type": "string"
            }
          },
          "metadata": {},
          "execution_count": 12
        }
      ]
    },
    {
      "cell_type": "code",
      "source": [
        "obj.pass_or_fail(56)"
      ],
      "metadata": {
        "colab": {
          "base_uri": "https://localhost:8080/",
          "height": 35
        },
        "id": "bE7wk9JwVKaq",
        "outputId": "191a9c3b-d68d-41be-be5c-9e4b33f4c310"
      },
      "execution_count": 13,
      "outputs": [
        {
          "output_type": "execute_result",
          "data": {
            "text/plain": [
              "'Fail'"
            ],
            "application/vnd.google.colaboratory.intrinsic+json": {
              "type": "string"
            }
          },
          "metadata": {},
          "execution_count": 13
        }
      ]
    },
    {
      "cell_type": "code",
      "source": [
        "obj1.pass_or_fail(56)"
      ],
      "metadata": {
        "colab": {
          "base_uri": "https://localhost:8080/",
          "height": 35
        },
        "id": "QJxl7lBLVKeC",
        "outputId": "b2fe2637-af47-4849-9144-5bf785ecdf17"
      },
      "execution_count": 14,
      "outputs": [
        {
          "output_type": "execute_result",
          "data": {
            "text/plain": [
              "'Pass'"
            ],
            "application/vnd.google.colaboratory.intrinsic+json": {
              "type": "string"
            }
          },
          "metadata": {},
          "execution_count": 14
        }
      ]
    },
    {
      "cell_type": "code",
      "source": [
        "class Simple:\n",
        "  def Phone(self):\n",
        "    return \"Hello\""
      ],
      "metadata": {
        "id": "P2NjT0hvVKhO"
      },
      "execution_count": 15,
      "outputs": []
    },
    {
      "cell_type": "code",
      "source": [
        "obj1 = Simple()"
      ],
      "metadata": {
        "id": "vpBjlcWbVKlX"
      },
      "execution_count": 16,
      "outputs": []
    },
    {
      "cell_type": "code",
      "source": [
        "obj1.Phone()"
      ],
      "metadata": {
        "colab": {
          "base_uri": "https://localhost:8080/",
          "height": 35
        },
        "id": "PPtf7bg8VKpC",
        "outputId": "1c0d16c5-51ec-4b5b-959e-1521411a12f5"
      },
      "execution_count": 17,
      "outputs": [
        {
          "output_type": "execute_result",
          "data": {
            "text/plain": [
              "'Hello'"
            ],
            "application/vnd.google.colaboratory.intrinsic+json": {
              "type": "string"
            }
          },
          "metadata": {},
          "execution_count": 17
        }
      ]
    },
    {
      "cell_type": "markdown",
      "source": [
        "# Constructor -> Construct"
      ],
      "metadata": {
        "id": "Ca-Zp1BtkIt5"
      }
    },
    {
      "cell_type": "code",
      "source": [
        "# __init__()\n",
        "# __init__.py"
      ],
      "metadata": {
        "id": "ycNfROb4VKsj"
      },
      "execution_count": 18,
      "outputs": []
    },
    {
      "cell_type": "code",
      "source": [
        "class Student:\n",
        "  def __init__(self):\n",
        "    print('Hello')\n",
        "  def marks(self):\n",
        "    print(\"Bye\")"
      ],
      "metadata": {
        "id": "6bdoxtmgVKwG"
      },
      "execution_count": 19,
      "outputs": []
    },
    {
      "cell_type": "code",
      "source": [
        "obj = Student()"
      ],
      "metadata": {
        "colab": {
          "base_uri": "https://localhost:8080/"
        },
        "id": "_4LjW0fZVKzd",
        "outputId": "df46a7f8-fc2d-4026-f399-06cf3aa276c7"
      },
      "execution_count": 20,
      "outputs": [
        {
          "output_type": "stream",
          "name": "stdout",
          "text": [
            "Hello\n"
          ]
        }
      ]
    },
    {
      "cell_type": "code",
      "source": [
        "obj.marks()"
      ],
      "metadata": {
        "colab": {
          "base_uri": "https://localhost:8080/"
        },
        "id": "KRecBtdgVK3C",
        "outputId": "4048545e-0644-483f-9102-6f44c1939aa9"
      },
      "execution_count": 21,
      "outputs": [
        {
          "output_type": "stream",
          "name": "stdout",
          "text": [
            "Bye\n"
          ]
        }
      ]
    },
    {
      "cell_type": "code",
      "source": [
        "class Student:\n",
        "  def __init__(self, name, age):\n",
        "    self.name = name\n",
        "    self.age = age\n",
        "    self.email = \"abc@gmail.com\"\n",
        "\n",
        "  def marks(self):\n",
        "    print(self.name, self.age, self.email)"
      ],
      "metadata": {
        "id": "xa6hl0qEVK6L"
      },
      "execution_count": 22,
      "outputs": []
    },
    {
      "cell_type": "code",
      "source": [
        "obj = Student(\"Tony\", 56)"
      ],
      "metadata": {
        "id": "12KpmCNHVK91"
      },
      "execution_count": 23,
      "outputs": []
    },
    {
      "cell_type": "code",
      "source": [
        "obj.marks()"
      ],
      "metadata": {
        "colab": {
          "base_uri": "https://localhost:8080/"
        },
        "id": "UbxzEW3nVLCz",
        "outputId": "8b8c00cc-2254-4786-ad7a-3dfc8fd9d2e6"
      },
      "execution_count": 24,
      "outputs": [
        {
          "output_type": "stream",
          "name": "stdout",
          "text": [
            "Tony 56 abc@gmail.com\n"
          ]
        }
      ]
    },
    {
      "cell_type": "code",
      "source": [
        "obj1 = Student(\"Bruce\", 23)"
      ],
      "metadata": {
        "id": "UuXXIQ1pVLF9"
      },
      "execution_count": 25,
      "outputs": []
    },
    {
      "cell_type": "code",
      "source": [
        "obj1.marks()"
      ],
      "metadata": {
        "colab": {
          "base_uri": "https://localhost:8080/"
        },
        "id": "nFGHpcnAVLJp",
        "outputId": "08dfbd22-e807-41b3-f27e-a6100269077b"
      },
      "execution_count": 26,
      "outputs": [
        {
          "output_type": "stream",
          "name": "stdout",
          "text": [
            "Bruce 23 abc@gmail.com\n"
          ]
        }
      ]
    },
    {
      "cell_type": "code",
      "source": [
        "class Student:\n",
        "  def __init__(self, name, age):\n",
        "    self.name = name\n",
        "    self.age = age\n",
        "    self.email = \"abc@gmail.com\"\n",
        "    print(self.name, self.age, self.email)\n",
        "\n",
        "  def marks(self):\n",
        "    print(self.name, self.age, self.email)"
      ],
      "metadata": {
        "id": "Bp2f1hj_VLMu"
      },
      "execution_count": 27,
      "outputs": []
    },
    {
      "cell_type": "code",
      "source": [
        "obj3 = Student('Steve', 98)"
      ],
      "metadata": {
        "colab": {
          "base_uri": "https://localhost:8080/"
        },
        "id": "FREV9OFdVLP7",
        "outputId": "92063cf8-a6d5-44d6-be18-884225d32bc1"
      },
      "execution_count": 28,
      "outputs": [
        {
          "output_type": "stream",
          "name": "stdout",
          "text": [
            "Steve 98 abc@gmail.com\n"
          ]
        }
      ]
    },
    {
      "cell_type": "code",
      "source": [
        "obj3.name"
      ],
      "metadata": {
        "colab": {
          "base_uri": "https://localhost:8080/",
          "height": 35
        },
        "id": "JepLlj9zVLS_",
        "outputId": "cd961f5d-cbba-4fa4-ba41-1d0334c4ca34"
      },
      "execution_count": 29,
      "outputs": [
        {
          "output_type": "execute_result",
          "data": {
            "text/plain": [
              "'Steve'"
            ],
            "application/vnd.google.colaboratory.intrinsic+json": {
              "type": "string"
            }
          },
          "metadata": {},
          "execution_count": 29
        }
      ]
    },
    {
      "cell_type": "code",
      "source": [
        "obj3.age"
      ],
      "metadata": {
        "colab": {
          "base_uri": "https://localhost:8080/"
        },
        "id": "Yf8zL7l0VLW4",
        "outputId": "632688bd-89d0-490a-a59b-777fd0181bce"
      },
      "execution_count": 30,
      "outputs": [
        {
          "output_type": "execute_result",
          "data": {
            "text/plain": [
              "98"
            ]
          },
          "metadata": {},
          "execution_count": 30
        }
      ]
    },
    {
      "cell_type": "code",
      "source": [
        "obj3.email"
      ],
      "metadata": {
        "colab": {
          "base_uri": "https://localhost:8080/",
          "height": 35
        },
        "id": "oOteV6WIVLaB",
        "outputId": "d2eb687e-ddf1-49da-c10b-9713176be387"
      },
      "execution_count": 31,
      "outputs": [
        {
          "output_type": "execute_result",
          "data": {
            "text/plain": [
              "'abc@gmail.com'"
            ],
            "application/vnd.google.colaboratory.intrinsic+json": {
              "type": "string"
            }
          },
          "metadata": {},
          "execution_count": 31
        }
      ]
    },
    {
      "cell_type": "code",
      "source": [
        "loop = 20 # Global Variable\n",
        "\n",
        "class Computer:\n",
        "  loop = 10 # Class Variable\n",
        "\n",
        "  def __init__(self, price, ram):\n",
        "    self.price = price\n",
        "    self.ram = ram\n",
        "    self.loop = 70 # Instance Variable\n",
        "\n",
        "  def details(self):\n",
        "    self.loop += 30\n",
        "    print(loop)\n",
        "    # loop += 90\n",
        "    # print(loop, self.loop)\n",
        "\n",
        "\n",
        "print(loop)"
      ],
      "metadata": {
        "id": "IUmUse9jVLdK",
        "outputId": "f3748dbf-9522-472e-baf7-f413e597bced",
        "colab": {
          "base_uri": "https://localhost:8080/"
        }
      },
      "execution_count": 32,
      "outputs": [
        {
          "output_type": "stream",
          "name": "stdout",
          "text": [
            "20\n"
          ]
        }
      ]
    },
    {
      "cell_type": "code",
      "source": [
        "obj123 = Computer(100, 4)"
      ],
      "metadata": {
        "id": "gPYh6g5JVLgh"
      },
      "execution_count": 33,
      "outputs": []
    },
    {
      "cell_type": "code",
      "source": [
        "obj123.details()"
      ],
      "metadata": {
        "colab": {
          "base_uri": "https://localhost:8080/"
        },
        "id": "h4Qe_NqjVLj5",
        "outputId": "9f18a3e4-953f-459a-ff3e-67c50ffaf967"
      },
      "execution_count": 34,
      "outputs": [
        {
          "output_type": "stream",
          "name": "stdout",
          "text": [
            "20\n"
          ]
        }
      ]
    },
    {
      "cell_type": "code",
      "source": [
        "#100 90 - 100 100 -"
      ],
      "metadata": {
        "id": "CSWci89cVLnB"
      },
      "execution_count": 35,
      "outputs": []
    },
    {
      "cell_type": "code",
      "source": [
        "#Task 4 -> Flappy Bird Tkinter, PyGame\n",
        "#Deadline -> Monday 8PM (IST)"
      ],
      "metadata": {
        "id": "YjCMDGvZVLp8"
      },
      "execution_count": 36,
      "outputs": []
    },
    {
      "cell_type": "code",
      "source": [
        "#python main.py\n"
      ],
      "metadata": {
        "id": "t1kKvz7gVLtQ"
      },
      "execution_count": 37,
      "outputs": []
    },
    {
      "cell_type": "code",
      "source": [],
      "metadata": {
        "id": "jLcWWfRTY92k"
      },
      "execution_count": null,
      "outputs": []
    }
  ]
}