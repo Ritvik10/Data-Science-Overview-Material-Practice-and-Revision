{
  "nbformat": 4,
  "nbformat_minor": 0,
  "metadata": {
    "colab": {
      "provenance": [],
      "toc_visible": true,
      "include_colab_link": true
    },
    "kernelspec": {
      "name": "python3",
      "display_name": "Python 3"
    },
    "language_info": {
      "name": "python"
    }
  },
  "cells": [
    {
      "cell_type": "markdown",
      "metadata": {
        "id": "view-in-github",
        "colab_type": "text"
      },
      "source": [
        "<a href=\"https://colab.research.google.com/github/Ritvik10/Data-Science-Overview-Material-Practice-and-Revision/blob/main/Day_6_More_on_String_Methods.ipynb\" target=\"_parent\"><img src=\"https://colab.research.google.com/assets/colab-badge.svg\" alt=\"Open In Colab\"/></a>"
      ]
    },
    {
      "cell_type": "markdown",
      "source": [
        "* isalnum() -> Check if all the characters in the text/word are alphanumeric (a-z|A-Z|0-9)"
      ],
      "metadata": {
        "id": "hLqt52mQQ6Tv"
      }
    },
    {
      "cell_type": "code",
      "source": [
        "stri1 = \"Today is wednesday and it is raining\""
      ],
      "metadata": {
        "id": "0Q-1SmqNLcNX"
      },
      "execution_count": 1,
      "outputs": []
    },
    {
      "cell_type": "code",
      "source": [
        "stri1.isalnum()"
      ],
      "metadata": {
        "colab": {
          "base_uri": "https://localhost:8080/"
        },
        "id": "0rnssSY5LcV0",
        "outputId": "0da07b20-9f43-4d7d-fd83-3c5b9cc69732"
      },
      "execution_count": 2,
      "outputs": [
        {
          "output_type": "execute_result",
          "data": {
            "text/plain": [
              "False"
            ]
          },
          "metadata": {},
          "execution_count": 2
        }
      ]
    },
    {
      "cell_type": "code",
      "source": [
        "\"Today98\".isalnum()"
      ],
      "metadata": {
        "colab": {
          "base_uri": "https://localhost:8080/"
        },
        "id": "USwPOyM9Lcay",
        "outputId": "9936b6db-f97d-41fd-c1e3-e6cf3c8acb13"
      },
      "execution_count": 3,
      "outputs": [
        {
          "output_type": "execute_result",
          "data": {
            "text/plain": [
              "True"
            ]
          },
          "metadata": {},
          "execution_count": 3
        }
      ]
    },
    {
      "cell_type": "markdown",
      "source": [
        "* isalpha() -> Check if all the characters in the text are letters (a-z|A-Z)"
      ],
      "metadata": {
        "id": "hrlVTYgcSxKe"
      }
    },
    {
      "cell_type": "code",
      "source": [
        "stri1.isalpha()"
      ],
      "metadata": {
        "colab": {
          "base_uri": "https://localhost:8080/"
        },
        "id": "dUY3gL07LcdU",
        "outputId": "ec8f43ce-8ae2-47b1-b4ac-c8771dce94f4"
      },
      "execution_count": 4,
      "outputs": [
        {
          "output_type": "execute_result",
          "data": {
            "text/plain": [
              "False"
            ]
          },
          "metadata": {},
          "execution_count": 4
        }
      ]
    },
    {
      "cell_type": "code",
      "source": [
        "\"Today\".isalpha()"
      ],
      "metadata": {
        "colab": {
          "base_uri": "https://localhost:8080/"
        },
        "id": "jAv9Ud0uLcfu",
        "outputId": "be1c64a3-c6ec-46e4-dd6b-9bcc8eb84743"
      },
      "execution_count": 5,
      "outputs": [
        {
          "output_type": "execute_result",
          "data": {
            "text/plain": [
              "True"
            ]
          },
          "metadata": {},
          "execution_count": 5
        }
      ]
    },
    {
      "cell_type": "markdown",
      "source": [
        "* isnumeric() -> Check whether all the characters in the text are digit (Only integer)\n",
        "\n",
        "* isdigit() -> ?"
      ],
      "metadata": {
        "id": "tEGF-E46TMor"
      }
    },
    {
      "cell_type": "code",
      "source": [
        "\"98\".isnumeric()"
      ],
      "metadata": {
        "colab": {
          "base_uri": "https://localhost:8080/"
        },
        "id": "z71yXEUPLciF",
        "outputId": "cc6040b1-4e8e-499f-dfad-552173fc6f04"
      },
      "execution_count": 6,
      "outputs": [
        {
          "output_type": "execute_result",
          "data": {
            "text/plain": [
              "True"
            ]
          },
          "metadata": {},
          "execution_count": 6
        }
      ]
    },
    {
      "cell_type": "code",
      "source": [
        "\"98.0\".isnumeric()"
      ],
      "metadata": {
        "colab": {
          "base_uri": "https://localhost:8080/"
        },
        "id": "QEM2Q2gdLcnC",
        "outputId": "42505760-7872-442c-ab22-5988f05ab41c"
      },
      "execution_count": 7,
      "outputs": [
        {
          "output_type": "execute_result",
          "data": {
            "text/plain": [
              "False"
            ]
          },
          "metadata": {},
          "execution_count": 7
        }
      ]
    },
    {
      "cell_type": "code",
      "source": [
        "'98.String'"
      ],
      "metadata": {
        "id": "l1ODYWsuLctE",
        "outputId": "49ea4b59-7e4a-4727-a7f8-51cceb58a02b",
        "colab": {
          "base_uri": "https://localhost:8080/",
          "height": 35
        }
      },
      "execution_count": 8,
      "outputs": [
        {
          "output_type": "execute_result",
          "data": {
            "text/plain": [
              "'98.String'"
            ],
            "application/vnd.google.colaboratory.intrinsic+json": {
              "type": "string"
            }
          },
          "metadata": {},
          "execution_count": 8
        }
      ]
    },
    {
      "cell_type": "code",
      "source": [
        "\"98\".isdigit()"
      ],
      "metadata": {
        "colab": {
          "base_uri": "https://localhost:8080/"
        },
        "id": "Dg5S3X18LcvY",
        "outputId": "78bbfcb4-05bb-4e16-d23c-9c2897a802f4"
      },
      "execution_count": 9,
      "outputs": [
        {
          "output_type": "execute_result",
          "data": {
            "text/plain": [
              "True"
            ]
          },
          "metadata": {},
          "execution_count": 9
        }
      ]
    },
    {
      "cell_type": "code",
      "source": [
        "\"98\".isalnum()"
      ],
      "metadata": {
        "colab": {
          "base_uri": "https://localhost:8080/"
        },
        "id": "Y8dNirS3Lcx0",
        "outputId": "8ace75c5-53b1-408c-8ee6-69355ebb8991"
      },
      "execution_count": 10,
      "outputs": [
        {
          "output_type": "execute_result",
          "data": {
            "text/plain": [
              "True"
            ]
          },
          "metadata": {},
          "execution_count": 10
        }
      ]
    },
    {
      "cell_type": "code",
      "source": [
        "98.0.isnumeric()"
      ],
      "metadata": {
        "colab": {
          "base_uri": "https://localhost:8080/",
          "height": 165
        },
        "id": "F0qmoabpLc0r",
        "outputId": "f4ca8e7c-0dce-4130-df00-9db643efa3a0"
      },
      "execution_count": 11,
      "outputs": [
        {
          "output_type": "error",
          "ename": "AttributeError",
          "evalue": "ignored",
          "traceback": [
            "\u001b[0;31m---------------------------------------------------------------------------\u001b[0m",
            "\u001b[0;31mAttributeError\u001b[0m                            Traceback (most recent call last)",
            "\u001b[0;32m<ipython-input-11-46d6063996d1>\u001b[0m in \u001b[0;36m<cell line: 1>\u001b[0;34m()\u001b[0m\n\u001b[0;32m----> 1\u001b[0;31m \u001b[0;36m98.0\u001b[0m\u001b[0;34m.\u001b[0m\u001b[0misnumeric\u001b[0m\u001b[0;34m(\u001b[0m\u001b[0;34m)\u001b[0m\u001b[0;34m\u001b[0m\u001b[0;34m\u001b[0m\u001b[0m\n\u001b[0m",
            "\u001b[0;31mAttributeError\u001b[0m: 'float' object has no attribute 'isnumeric'"
          ]
        }
      ]
    },
    {
      "cell_type": "markdown",
      "source": [
        "* isspace() -> Check if all the characters in the text are whitespaces."
      ],
      "metadata": {
        "id": "DRVVJVMQUunr"
      }
    },
    {
      "cell_type": "code",
      "source": [
        "stri1 = \"Hello world\""
      ],
      "metadata": {
        "id": "cPtGuuiULc3P"
      },
      "execution_count": 16,
      "outputs": []
    },
    {
      "cell_type": "code",
      "source": [
        "stri1.isspace()"
      ],
      "metadata": {
        "colab": {
          "base_uri": "https://localhost:8080/"
        },
        "id": "sJsqlKtNLc5f",
        "outputId": "f4e023bf-18df-4fb1-a686-5c93a3d224de"
      },
      "execution_count": 17,
      "outputs": [
        {
          "output_type": "execute_result",
          "data": {
            "text/plain": [
              "False"
            ]
          },
          "metadata": {},
          "execution_count": 17
        }
      ]
    },
    {
      "cell_type": "code",
      "source": [
        "space = \"             \""
      ],
      "metadata": {
        "id": "QGdbvkKlLc_F"
      },
      "execution_count": 18,
      "outputs": []
    },
    {
      "cell_type": "code",
      "source": [
        "space.isspace()"
      ],
      "metadata": {
        "colab": {
          "base_uri": "https://localhost:8080/"
        },
        "id": "Kp0tzerALdCY",
        "outputId": "6727d8d6-4760-429e-dbc6-d4fdc9e56af0"
      },
      "execution_count": 19,
      "outputs": [
        {
          "output_type": "execute_result",
          "data": {
            "text/plain": [
              "True"
            ]
          },
          "metadata": {},
          "execution_count": 19
        }
      ]
    },
    {
      "cell_type": "markdown",
      "source": [
        "* join() -> Joins all the elements in a tuple into a string."
      ],
      "metadata": {
        "id": "xFN8-oE4VO1n"
      }
    },
    {
      "cell_type": "code",
      "source": [
        "stri = \"Tony Anthony Stark\""
      ],
      "metadata": {
        "id": "B4TUcwGPLdEW"
      },
      "execution_count": 14,
      "outputs": []
    },
    {
      "cell_type": "code",
      "source": [
        "stri.split()"
      ],
      "metadata": {
        "colab": {
          "base_uri": "https://localhost:8080/"
        },
        "id": "UVUktVLTLdJ3",
        "outputId": "caa89495-881c-4dc4-b089-7a3a5b2eff0c"
      },
      "execution_count": 15,
      "outputs": [
        {
          "output_type": "execute_result",
          "data": {
            "text/plain": [
              "['Tony', 'Anthony', 'Stark']"
            ]
          },
          "metadata": {},
          "execution_count": 15
        }
      ]
    },
    {
      "cell_type": "code",
      "source": [
        "stri = stri.split()\n",
        "# asd = stri.split()"
      ],
      "metadata": {
        "id": "bm7MITBYLdMG"
      },
      "execution_count": 20,
      "outputs": []
    },
    {
      "cell_type": "code",
      "source": [
        "stri"
      ],
      "metadata": {
        "colab": {
          "base_uri": "https://localhost:8080/"
        },
        "id": "JsCcCj7jLdO7",
        "outputId": "a56993e7-5155-4ec7-907c-e32037291bc7"
      },
      "execution_count": 21,
      "outputs": [
        {
          "output_type": "execute_result",
          "data": {
            "text/plain": [
              "['Tony', 'Anthony', 'Stark']"
            ]
          },
          "metadata": {},
          "execution_count": 21
        }
      ]
    },
    {
      "cell_type": "code",
      "source": [
        "\" \".join(stri)"
      ],
      "metadata": {
        "colab": {
          "base_uri": "https://localhost:8080/",
          "height": 35
        },
        "id": "IJuJgNGCLdUO",
        "outputId": "16e71db4-439c-4961-cbc7-d794ee6e404b"
      },
      "execution_count": 22,
      "outputs": [
        {
          "output_type": "execute_result",
          "data": {
            "text/plain": [
              "'Tony Anthony Stark'"
            ],
            "application/vnd.google.colaboratory.intrinsic+json": {
              "type": "string"
            }
          },
          "metadata": {},
          "execution_count": 22
        }
      ]
    },
    {
      "cell_type": "code",
      "source": [
        "\"\".join(stri)"
      ],
      "metadata": {
        "colab": {
          "base_uri": "https://localhost:8080/",
          "height": 35
        },
        "id": "LOsVBwqKLdW0",
        "outputId": "5d2b9b1c-bd8a-455b-92d9-960344ab6296"
      },
      "execution_count": 23,
      "outputs": [
        {
          "output_type": "execute_result",
          "data": {
            "text/plain": [
              "'TonyAnthonyStark'"
            ],
            "application/vnd.google.colaboratory.intrinsic+json": {
              "type": "string"
            }
          },
          "metadata": {},
          "execution_count": 23
        }
      ]
    },
    {
      "cell_type": "code",
      "source": [
        "\"\"\n",
        "\" \""
      ],
      "metadata": {
        "id": "xGheynM6LdaS",
        "outputId": "382ddd1d-d6b3-402a-b22e-d70e4af6bd28",
        "colab": {
          "base_uri": "https://localhost:8080/",
          "height": 35
        }
      },
      "execution_count": 24,
      "outputs": [
        {
          "output_type": "execute_result",
          "data": {
            "text/plain": [
              "' '"
            ],
            "application/vnd.google.colaboratory.intrinsic+json": {
              "type": "string"
            }
          },
          "metadata": {},
          "execution_count": 24
        }
      ]
    },
    {
      "cell_type": "code",
      "source": [
        "asd = \"\" # Empty String"
      ],
      "metadata": {
        "id": "3M_BL87gLdb4"
      },
      "execution_count": 25,
      "outputs": []
    },
    {
      "cell_type": "markdown",
      "source": [
        "* ljust() -> Justify"
      ],
      "metadata": {
        "id": "y9q57puEWq2w"
      }
    },
    {
      "cell_type": "code",
      "source": [
        "hello world\n",
        "see your all\n"
      ],
      "metadata": {
        "id": "ePNJPWUfLdhG",
        "outputId": "29c3286b-4064-482a-864d-ec3ae320c8a2",
        "colab": {
          "base_uri": "https://localhost:8080/",
          "height": 130
        }
      },
      "execution_count": 26,
      "outputs": [
        {
          "output_type": "error",
          "ename": "SyntaxError",
          "evalue": "ignored",
          "traceback": [
            "\u001b[0;36m  File \u001b[0;32m\"<ipython-input-26-a78db7f62ab4>\"\u001b[0;36m, line \u001b[0;32m1\u001b[0m\n\u001b[0;31m    hello world\u001b[0m\n\u001b[0m          ^\u001b[0m\n\u001b[0;31mSyntaxError\u001b[0m\u001b[0;31m:\u001b[0m invalid syntax\n"
          ]
        }
      ]
    },
    {
      "cell_type": "code",
      "source": [
        "hello world"
      ],
      "metadata": {
        "id": "LbLc9aoULdjG",
        "outputId": "899cddc0-7a95-40ea-9c84-a75125dc8a19",
        "colab": {
          "base_uri": "https://localhost:8080/",
          "height": 130
        }
      },
      "execution_count": 27,
      "outputs": [
        {
          "output_type": "error",
          "ename": "SyntaxError",
          "evalue": "ignored",
          "traceback": [
            "\u001b[0;36m  File \u001b[0;32m\"<ipython-input-27-22596363b3de>\"\u001b[0;36m, line \u001b[0;32m1\u001b[0m\n\u001b[0;31m    hello world\u001b[0m\n\u001b[0m          ^\u001b[0m\n\u001b[0;31mSyntaxError\u001b[0m\u001b[0;31m:\u001b[0m invalid syntax\n"
          ]
        }
      ]
    },
    {
      "cell_type": "code",
      "source": [
        "stri = \"hello\""
      ],
      "metadata": {
        "id": "7n2dNbAwLdnD"
      },
      "execution_count": 28,
      "outputs": []
    },
    {
      "cell_type": "code",
      "source": [
        "len(stri.ljust(10))"
      ],
      "metadata": {
        "colab": {
          "base_uri": "https://localhost:8080/"
        },
        "id": "IbQTjUKkLdoX",
        "outputId": "ea0d24b2-c1a0-437f-a63b-6eaa774271c9"
      },
      "execution_count": 29,
      "outputs": [
        {
          "output_type": "execute_result",
          "data": {
            "text/plain": [
              "10"
            ]
          },
          "metadata": {},
          "execution_count": 29
        }
      ]
    },
    {
      "cell_type": "code",
      "source": [
        "stri.ljust(10)"
      ],
      "metadata": {
        "colab": {
          "base_uri": "https://localhost:8080/",
          "height": 35
        },
        "id": "pM-QBy8IYI3S",
        "outputId": "07366937-3e5b-4351-e8d6-b16b6ec0afd1"
      },
      "execution_count": 30,
      "outputs": [
        {
          "output_type": "execute_result",
          "data": {
            "text/plain": [
              "'hello     '"
            ],
            "application/vnd.google.colaboratory.intrinsic+json": {
              "type": "string"
            }
          },
          "metadata": {},
          "execution_count": 30
        }
      ]
    },
    {
      "cell_type": "code",
      "source": [
        "h e l l o _ _ _ _ _"
      ],
      "metadata": {
        "id": "u6lJXSbfLdqP",
        "outputId": "f5c02c45-005a-48ec-a25d-0197e87c4015",
        "colab": {
          "base_uri": "https://localhost:8080/",
          "height": 130
        }
      },
      "execution_count": 31,
      "outputs": [
        {
          "output_type": "error",
          "ename": "SyntaxError",
          "evalue": "ignored",
          "traceback": [
            "\u001b[0;36m  File \u001b[0;32m\"<ipython-input-31-90aed02133dd>\"\u001b[0;36m, line \u001b[0;32m1\u001b[0m\n\u001b[0;31m    h e l l o _ _ _ _ _\u001b[0m\n\u001b[0m      ^\u001b[0m\n\u001b[0;31mSyntaxError\u001b[0m\u001b[0;31m:\u001b[0m invalid syntax\n"
          ]
        }
      ]
    },
    {
      "cell_type": "code",
      "source": [
        "stri = stri.ljust(30)\n",
        "print(stri, \"world.\")"
      ],
      "metadata": {
        "colab": {
          "base_uri": "https://localhost:8080/"
        },
        "id": "ZrbwWEQGLdrm",
        "outputId": "c7822aab-fc93-44dd-fe7d-8d7673c98564"
      },
      "execution_count": 32,
      "outputs": [
        {
          "output_type": "stream",
          "name": "stdout",
          "text": [
            "hello                          world.\n"
          ]
        }
      ]
    },
    {
      "cell_type": "code",
      "source": [
        "hello     world"
      ],
      "metadata": {
        "id": "fERY-vNpLdtR",
        "outputId": "9fa3b927-590e-4504-bdbc-21163b6ccf3a",
        "colab": {
          "base_uri": "https://localhost:8080/",
          "height": 130
        }
      },
      "execution_count": 33,
      "outputs": [
        {
          "output_type": "error",
          "ename": "SyntaxError",
          "evalue": "ignored",
          "traceback": [
            "\u001b[0;36m  File \u001b[0;32m\"<ipython-input-33-6e8e1535beb0>\"\u001b[0;36m, line \u001b[0;32m1\u001b[0m\n\u001b[0;31m    hello     world\u001b[0m\n\u001b[0m              ^\u001b[0m\n\u001b[0;31mSyntaxError\u001b[0m\u001b[0;31m:\u001b[0m invalid syntax\n"
          ]
        }
      ]
    },
    {
      "cell_type": "markdown",
      "source": [
        "* rjust()"
      ],
      "metadata": {
        "id": "xL_aI0ZYYVrJ"
      }
    },
    {
      "cell_type": "code",
      "source": [
        "stri.ljust(10)"
      ],
      "metadata": {
        "colab": {
          "base_uri": "https://localhost:8080/",
          "height": 35
        },
        "id": "YU7IuU6NLdu5",
        "outputId": "673c6fe7-e452-4a8f-b7a5-2bd04a9bdf86"
      },
      "execution_count": 34,
      "outputs": [
        {
          "output_type": "execute_result",
          "data": {
            "text/plain": [
              "'hello                         '"
            ],
            "application/vnd.google.colaboratory.intrinsic+json": {
              "type": "string"
            }
          },
          "metadata": {},
          "execution_count": 34
        }
      ]
    },
    {
      "cell_type": "code",
      "source": [
        "stri.rjust(10)"
      ],
      "metadata": {
        "colab": {
          "base_uri": "https://localhost:8080/",
          "height": 35
        },
        "id": "3SU0TLikLdw7",
        "outputId": "74c85583-c6da-48fe-f6ff-b57ab471706e"
      },
      "execution_count": 35,
      "outputs": [
        {
          "output_type": "execute_result",
          "data": {
            "text/plain": [
              "'hello                         '"
            ],
            "application/vnd.google.colaboratory.intrinsic+json": {
              "type": "string"
            }
          },
          "metadata": {},
          "execution_count": 35
        }
      ]
    },
    {
      "cell_type": "markdown",
      "source": [
        "* strip()"
      ],
      "metadata": {
        "id": "V64X9SytYkyp"
      }
    },
    {
      "cell_type": "code",
      "source": [
        "stri = \"          hello world         \""
      ],
      "metadata": {
        "id": "QFo7-KrSLdyK"
      },
      "execution_count": 36,
      "outputs": []
    },
    {
      "cell_type": "code",
      "source": [
        "stri.strip()"
      ],
      "metadata": {
        "colab": {
          "base_uri": "https://localhost:8080/",
          "height": 35
        },
        "id": "dyh6AnAjaD9a",
        "outputId": "015adcca-d8fb-4b0c-b681-0d1120e0c3c2"
      },
      "execution_count": 37,
      "outputs": [
        {
          "output_type": "execute_result",
          "data": {
            "text/plain": [
              "'hello world'"
            ],
            "application/vnd.google.colaboratory.intrinsic+json": {
              "type": "string"
            }
          },
          "metadata": {},
          "execution_count": 37
        }
      ]
    },
    {
      "cell_type": "code",
      "source": [
        "stri"
      ],
      "metadata": {
        "colab": {
          "base_uri": "https://localhost:8080/",
          "height": 35
        },
        "id": "HR2nM_cqLdz6",
        "outputId": "5078a227-0922-452e-aa98-731a0f110cc0"
      },
      "execution_count": 38,
      "outputs": [
        {
          "output_type": "execute_result",
          "data": {
            "text/plain": [
              "'          hello world         '"
            ],
            "application/vnd.google.colaboratory.intrinsic+json": {
              "type": "string"
            }
          },
          "metadata": {},
          "execution_count": 38
        }
      ]
    },
    {
      "cell_type": "code",
      "source": [
        "stri.strip()"
      ],
      "metadata": {
        "colab": {
          "base_uri": "https://localhost:8080/",
          "height": 35
        },
        "id": "SuhVEiAjLd1f",
        "outputId": "c94660b9-02a2-4c69-8190-4e6502d3978e"
      },
      "execution_count": 39,
      "outputs": [
        {
          "output_type": "execute_result",
          "data": {
            "text/plain": [
              "'hello world'"
            ],
            "application/vnd.google.colaboratory.intrinsic+json": {
              "type": "string"
            }
          },
          "metadata": {},
          "execution_count": 39
        }
      ]
    },
    {
      "cell_type": "code",
      "source": [
        "#strip() = lstrip() + rstrip()"
      ],
      "metadata": {
        "id": "7E5hnxVJZMbD"
      },
      "execution_count": 41,
      "outputs": []
    },
    {
      "cell_type": "code",
      "source": [
        "stri"
      ],
      "metadata": {
        "colab": {
          "base_uri": "https://localhost:8080/",
          "height": 35
        },
        "id": "ZohWUMO7ZMdV",
        "outputId": "27a445eb-79b1-400c-f3be-5979d51eeb76"
      },
      "execution_count": 42,
      "outputs": [
        {
          "output_type": "execute_result",
          "data": {
            "text/plain": [
              "'          hello world         '"
            ],
            "application/vnd.google.colaboratory.intrinsic+json": {
              "type": "string"
            }
          },
          "metadata": {},
          "execution_count": 42
        }
      ]
    },
    {
      "cell_type": "code",
      "source": [
        "stri.lstrip()"
      ],
      "metadata": {
        "colab": {
          "base_uri": "https://localhost:8080/",
          "height": 35
        },
        "id": "vagIbG4HZMf5",
        "outputId": "b85da123-1d90-40ce-a397-af19eba51331"
      },
      "execution_count": 43,
      "outputs": [
        {
          "output_type": "execute_result",
          "data": {
            "text/plain": [
              "'hello world         '"
            ],
            "application/vnd.google.colaboratory.intrinsic+json": {
              "type": "string"
            }
          },
          "metadata": {},
          "execution_count": 43
        }
      ]
    },
    {
      "cell_type": "code",
      "source": [
        "stri.rstrip()"
      ],
      "metadata": {
        "colab": {
          "base_uri": "https://localhost:8080/",
          "height": 35
        },
        "id": "9Eyot5dgZMiE",
        "outputId": "98b883f2-2d6b-4cee-d9d9-74479bebb2f8"
      },
      "execution_count": 44,
      "outputs": [
        {
          "output_type": "execute_result",
          "data": {
            "text/plain": [
              "'          hello world'"
            ],
            "application/vnd.google.colaboratory.intrinsic+json": {
              "type": "string"
            }
          },
          "metadata": {},
          "execution_count": 44
        }
      ]
    },
    {
      "cell_type": "code",
      "source": [
        "stri = \"#####################\""
      ],
      "metadata": {
        "id": "LqSzvrI9ZMkJ"
      },
      "execution_count": 45,
      "outputs": []
    },
    {
      "cell_type": "code",
      "source": [
        "stri.strip('#')"
      ],
      "metadata": {
        "colab": {
          "base_uri": "https://localhost:8080/",
          "height": 35
        },
        "id": "aHwYxBKLZMpC",
        "outputId": "bbd8f4fa-3cff-4d32-df48-54331799dad8"
      },
      "execution_count": 46,
      "outputs": [
        {
          "output_type": "execute_result",
          "data": {
            "text/plain": [
              "''"
            ],
            "application/vnd.google.colaboratory.intrinsic+json": {
              "type": "string"
            }
          },
          "metadata": {},
          "execution_count": 46
        }
      ]
    },
    {
      "cell_type": "code",
      "source": [
        "stri.lstrip('#')"
      ],
      "metadata": {
        "colab": {
          "base_uri": "https://localhost:8080/",
          "height": 35
        },
        "id": "nEJMr1CDazWd",
        "outputId": "9ced1074-39dd-4897-bc49-6e428b8afb63"
      },
      "execution_count": 47,
      "outputs": [
        {
          "output_type": "execute_result",
          "data": {
            "text/plain": [
              "''"
            ],
            "application/vnd.google.colaboratory.intrinsic+json": {
              "type": "string"
            }
          },
          "metadata": {},
          "execution_count": 47
        }
      ]
    },
    {
      "cell_type": "code",
      "source": [
        "stri.rstrip('#')"
      ],
      "metadata": {
        "colab": {
          "base_uri": "https://localhost:8080/",
          "height": 35
        },
        "id": "OwcYC5ygaziv",
        "outputId": "65b22ce9-d067-4f0f-9204-bdf78fc87ebf"
      },
      "execution_count": 48,
      "outputs": [
        {
          "output_type": "execute_result",
          "data": {
            "text/plain": [
              "''"
            ],
            "application/vnd.google.colaboratory.intrinsic+json": {
              "type": "string"
            }
          },
          "metadata": {},
          "execution_count": 48
        }
      ]
    },
    {
      "cell_type": "code",
      "source": [
        "# 987####876\n",
        "# 987876"
      ],
      "metadata": {
        "id": "L3J6hTCdZMrc"
      },
      "execution_count": 49,
      "outputs": []
    },
    {
      "cell_type": "code",
      "source": [
        "\"\"\"   '      Hello'\n",
        "strip()\n",
        "lstrip()\"\"\""
      ],
      "metadata": {
        "id": "L_7MVP3bZMtZ",
        "outputId": "c3f1f944-7eaf-4b6a-ae47-d3f84f166540",
        "colab": {
          "base_uri": "https://localhost:8080/",
          "height": 35
        }
      },
      "execution_count": 51,
      "outputs": [
        {
          "output_type": "execute_result",
          "data": {
            "text/plain": [
              "\"   '      Hello'\\nstrip()\\nlstrip()\""
            ],
            "application/vnd.google.colaboratory.intrinsic+json": {
              "type": "string"
            }
          },
          "metadata": {},
          "execution_count": 51
        }
      ]
    },
    {
      "cell_type": "markdown",
      "source": [
        "* expandtabs()"
      ],
      "metadata": {
        "id": "aEBYHjxLbtqn"
      }
    },
    {
      "cell_type": "code",
      "source": [
        "print(\"Hello\\n\\tworld\")"
      ],
      "metadata": {
        "colab": {
          "base_uri": "https://localhost:8080/"
        },
        "id": "u1gAwnUPZMwH",
        "outputId": "ad767410-8b57-4e8b-a5c3-2ea17a36ec8b"
      },
      "execution_count": 52,
      "outputs": [
        {
          "output_type": "stream",
          "name": "stdout",
          "text": [
            "Hello\n",
            "\tworld\n"
          ]
        }
      ]
    },
    {
      "cell_type": "code",
      "source": [
        "#\\t -> Tabs"
      ],
      "metadata": {
        "id": "2NpDDi6VZM0s"
      },
      "execution_count": 53,
      "outputs": []
    },
    {
      "cell_type": "code",
      "source": [
        "\n",
        "\n",
        "\n",
        ""
      ],
      "metadata": {
        "id": "NlGqwaC5ZM3H"
      },
      "execution_count": 53,
      "outputs": []
    },
    {
      "cell_type": "code",
      "source": [
        "print)"
      ],
      "metadata": {
        "colab": {
          "base_uri": "https://localhost:8080/",
          "height": 130
        },
        "id": "b09MfyhTZM8O",
        "outputId": "1cb0abbe-b81b-4e77-d1f9-a50ab661204c"
      },
      "execution_count": 54,
      "outputs": [
        {
          "output_type": "error",
          "ename": "SyntaxError",
          "evalue": "ignored",
          "traceback": [
            "\u001b[0;36m  File \u001b[0;32m\"<ipython-input-54-83d2c128485f>\"\u001b[0;36m, line \u001b[0;32m1\u001b[0m\n\u001b[0;31m    print)\u001b[0m\n\u001b[0m         ^\u001b[0m\n\u001b[0;31mSyntaxError\u001b[0m\u001b[0;31m:\u001b[0m unmatched ')'\n"
          ]
        }
      ]
    },
    {
      "cell_type": "code",
      "source": [
        "stri = \"M\\to\\tn\\td\\ta\\ty\""
      ],
      "metadata": {
        "id": "mJJ6v-fmZM-j"
      },
      "execution_count": 55,
      "outputs": []
    },
    {
      "cell_type": "code",
      "source": [
        "stri"
      ],
      "metadata": {
        "colab": {
          "base_uri": "https://localhost:8080/",
          "height": 35
        },
        "id": "4ohSn8foZNBH",
        "outputId": "81fedd63-813f-4d0b-c549-71e0699e65fc"
      },
      "execution_count": 56,
      "outputs": [
        {
          "output_type": "execute_result",
          "data": {
            "text/plain": [
              "'M\\to\\tn\\td\\ta\\ty'"
            ],
            "application/vnd.google.colaboratory.intrinsic+json": {
              "type": "string"
            }
          },
          "metadata": {},
          "execution_count": 56
        }
      ]
    },
    {
      "cell_type": "code",
      "source": [
        "print(stri)"
      ],
      "metadata": {
        "colab": {
          "base_uri": "https://localhost:8080/"
        },
        "id": "dd_KpXjkZNGM",
        "outputId": "800c9bf8-7a83-4fd2-af5b-570047e645c7"
      },
      "execution_count": 57,
      "outputs": [
        {
          "output_type": "stream",
          "name": "stdout",
          "text": [
            "M\to\tn\td\ta\ty\n"
          ]
        }
      ]
    },
    {
      "cell_type": "code",
      "source": [
        "stri.expandtabs(30)"
      ],
      "metadata": {
        "colab": {
          "base_uri": "https://localhost:8080/",
          "height": 53
        },
        "id": "Z755BurRZNIn",
        "outputId": "0a1c5dcd-feca-4ca1-f564-7c6d95f3fd69"
      },
      "execution_count": 58,
      "outputs": [
        {
          "output_type": "execute_result",
          "data": {
            "text/plain": [
              "'M                             o                             n                             d                             a                             y'"
            ],
            "application/vnd.google.colaboratory.intrinsic+json": {
              "type": "string"
            }
          },
          "metadata": {},
          "execution_count": 58
        }
      ]
    },
    {
      "cell_type": "markdown",
      "source": [
        "* f-string & format()"
      ],
      "metadata": {
        "id": "bFbEU6AZdZOT"
      }
    },
    {
      "cell_type": "code",
      "source": [
        "inp = input('Enter the name: ')\n",
        "print(\"Hello\",inp)"
      ],
      "metadata": {
        "colab": {
          "base_uri": "https://localhost:8080/"
        },
        "id": "POPCt6bNZNLJ",
        "outputId": "dab94015-1a77-4a0d-bc51-6596b92c6cdf"
      },
      "execution_count": 59,
      "outputs": [
        {
          "output_type": "stream",
          "name": "stdout",
          "text": [
            "Enter the name: Ritvik\n",
            "Hello Ritvik\n"
          ]
        }
      ]
    },
    {
      "cell_type": "code",
      "source": [],
      "metadata": {
        "id": "7wS-RQeoZNPz"
      },
      "execution_count": 60,
      "outputs": []
    },
    {
      "cell_type": "code",
      "source": [
        "var = \"Bruce\""
      ],
      "metadata": {
        "id": "Bpx0H5_Cevod"
      },
      "execution_count": 61,
      "outputs": []
    },
    {
      "cell_type": "code",
      "source": [
        "inp = input('Enter the name: ')\n",
        "print(f\"Hello {inp}, Nice to meet you {var}\")"
      ],
      "metadata": {
        "colab": {
          "base_uri": "https://localhost:8080/"
        },
        "id": "rd3cVJ4UZNR3",
        "outputId": "bb304602-158d-4e5f-d388-84fb1c064337"
      },
      "execution_count": 62,
      "outputs": [
        {
          "output_type": "stream",
          "name": "stdout",
          "text": [
            "Enter the name: Adam\n",
            "Hello Adam, Nice to meet you Bruce\n"
          ]
        }
      ]
    },
    {
      "cell_type": "code",
      "source": [
        "f\"Hello {inp}\"\n",
        "\"Hello {inp}\""
      ],
      "metadata": {
        "id": "DRQqdaW2ZNTU",
        "outputId": "f6f1ad55-ee91-49ad-c3de-7ba3b2966e6d",
        "colab": {
          "base_uri": "https://localhost:8080/",
          "height": 35
        }
      },
      "execution_count": 63,
      "outputs": [
        {
          "output_type": "execute_result",
          "data": {
            "text/plain": [
              "'Hello {inp}'"
            ],
            "application/vnd.google.colaboratory.intrinsic+json": {
              "type": "string"
            }
          },
          "metadata": {},
          "execution_count": 63
        }
      ]
    },
    {
      "cell_type": "code",
      "source": [
        "\"Hello {0}, welcome to {1}\".format(inp,var)"
      ],
      "metadata": {
        "colab": {
          "base_uri": "https://localhost:8080/",
          "height": 35
        },
        "id": "e-uk8lJZZNVM",
        "outputId": "3777eec0-3711-42ad-8bd8-0e6c3a9f8587"
      },
      "execution_count": 64,
      "outputs": [
        {
          "output_type": "execute_result",
          "data": {
            "text/plain": [
              "'Hello Adam, welcome to Bruce'"
            ],
            "application/vnd.google.colaboratory.intrinsic+json": {
              "type": "string"
            }
          },
          "metadata": {},
          "execution_count": 64
        }
      ]
    },
    {
      "cell_type": "markdown",
      "source": [
        "* splitlines()"
      ],
      "metadata": {
        "id": "no8Ue3B-f4L0"
      }
    },
    {
      "cell_type": "code",
      "source": [
        "lines = '''Google Docs is an online word processor\n",
        "included as part of the free, web-based\n",
        "Google Docs Editors suite offered by Google,\n",
        "which also includes: Google Sheets, Google Slides,\n",
        "Google Drawings, Google Forms, Google Sites and Google Keep'''"
      ],
      "metadata": {
        "id": "LubFlYp-ZNZ5"
      },
      "execution_count": 65,
      "outputs": []
    },
    {
      "cell_type": "code",
      "source": [
        "lines.splitlines()"
      ],
      "metadata": {
        "colab": {
          "base_uri": "https://localhost:8080/"
        },
        "id": "CQBpc9eBZNdl",
        "outputId": "29a3149a-ea33-461e-b2bc-2fb253631b39"
      },
      "execution_count": 66,
      "outputs": [
        {
          "output_type": "execute_result",
          "data": {
            "text/plain": [
              "['Google Docs is an online word processor',\n",
              " 'included as part of the free, web-based',\n",
              " 'Google Docs Editors suite offered by Google,',\n",
              " 'which also includes: Google Sheets, Google Slides,',\n",
              " 'Google Drawings, Google Forms, Google Sites and Google Keep']"
            ]
          },
          "metadata": {},
          "execution_count": 66
        }
      ]
    },
    {
      "cell_type": "code",
      "source": [
        "test = \"\"\"Hello,\n",
        "my\n",
        "name\n",
        "is\n",
        "Tony\"\"\""
      ],
      "metadata": {
        "id": "dGzqik9DZNhI"
      },
      "execution_count": 67,
      "outputs": []
    },
    {
      "cell_type": "code",
      "source": [
        "test"
      ],
      "metadata": {
        "colab": {
          "base_uri": "https://localhost:8080/",
          "height": 35
        },
        "id": "SzUtNtlCY6Bz",
        "outputId": "f1456f26-200f-48ac-ff29-510bfc2d9e57"
      },
      "execution_count": 68,
      "outputs": [
        {
          "output_type": "execute_result",
          "data": {
            "text/plain": [
              "'Hello,\\nmy \\nname \\nis \\nTony'"
            ],
            "application/vnd.google.colaboratory.intrinsic+json": {
              "type": "string"
            }
          },
          "metadata": {},
          "execution_count": 68
        }
      ]
    },
    {
      "cell_type": "code",
      "source": [
        "' '.join(test.splitlines())"
      ],
      "metadata": {
        "colab": {
          "base_uri": "https://localhost:8080/",
          "height": 35
        },
        "id": "k3l0RIx2hAC_",
        "outputId": "29c9df0b-01da-46b8-8d9c-724134cea337"
      },
      "execution_count": 69,
      "outputs": [
        {
          "output_type": "execute_result",
          "data": {
            "text/plain": [
              "'Hello, my  name  is  Tony'"
            ],
            "application/vnd.google.colaboratory.intrinsic+json": {
              "type": "string"
            }
          },
          "metadata": {},
          "execution_count": 69
        }
      ]
    },
    {
      "cell_type": "code",
      "source": [],
      "metadata": {
        "id": "ekxPl6m_LD52"
      },
      "execution_count": null,
      "outputs": []
    }
  ]
}