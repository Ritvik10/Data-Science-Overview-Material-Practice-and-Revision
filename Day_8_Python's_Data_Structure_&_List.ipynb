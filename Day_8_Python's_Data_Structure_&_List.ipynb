{
  "nbformat": 4,
  "nbformat_minor": 0,
  "metadata": {
    "colab": {
      "provenance": [],
      "toc_visible": true,
      "include_colab_link": true
    },
    "kernelspec": {
      "name": "python3",
      "display_name": "Python 3"
    },
    "language_info": {
      "name": "python"
    }
  },
  "cells": [
    {
      "cell_type": "markdown",
      "metadata": {
        "id": "view-in-github",
        "colab_type": "text"
      },
      "source": [
        "<a href=\"https://colab.research.google.com/github/Ritvik10/Data-Science-Overview-Material-Practice-and-Revision/blob/main/Day_8_Python's_Data_Structure_%26_List.ipynb\" target=\"_parent\"><img src=\"https://colab.research.google.com/assets/colab-badge.svg\" alt=\"Open In Colab\"/></a>"
      ]
    },
    {
      "cell_type": "code",
      "execution_count": 1,
      "metadata": {
        "id": "7LT9dopj8ai7"
      },
      "outputs": [],
      "source": [
        "var = \"Hello World\""
      ]
    },
    {
      "cell_type": "code",
      "source": [
        "var[0:4+1]"
      ],
      "metadata": {
        "colab": {
          "base_uri": "https://localhost:8080/",
          "height": 35
        },
        "id": "UvvinGxs8gsf",
        "outputId": "ec5bed57-56ae-4707-bcfe-61e603dfff79"
      },
      "execution_count": 2,
      "outputs": [
        {
          "output_type": "execute_result",
          "data": {
            "text/plain": [
              "'Hello'"
            ],
            "application/vnd.google.colaboratory.intrinsic+json": {
              "type": "string"
            }
          },
          "metadata": {},
          "execution_count": 2
        }
      ]
    },
    {
      "cell_type": "code",
      "source": [
        "var"
      ],
      "metadata": {
        "colab": {
          "base_uri": "https://localhost:8080/",
          "height": 35
        },
        "id": "RdrhTPFp8gw5",
        "outputId": "5a282bc8-44a7-4de1-9904-43ab2f18be50"
      },
      "execution_count": 3,
      "outputs": [
        {
          "output_type": "execute_result",
          "data": {
            "text/plain": [
              "'Hello World'"
            ],
            "application/vnd.google.colaboratory.intrinsic+json": {
              "type": "string"
            }
          },
          "metadata": {},
          "execution_count": 3
        }
      ]
    },
    {
      "cell_type": "code",
      "source": [
        "var[6:]"
      ],
      "metadata": {
        "colab": {
          "base_uri": "https://localhost:8080/",
          "height": 35
        },
        "id": "1HWj-zJN8gyF",
        "outputId": "d0b928f4-59dc-44ea-91a8-ae8185eb8fc3"
      },
      "execution_count": 4,
      "outputs": [
        {
          "output_type": "execute_result",
          "data": {
            "text/plain": [
              "'World'"
            ],
            "application/vnd.google.colaboratory.intrinsic+json": {
              "type": "string"
            }
          },
          "metadata": {},
          "execution_count": 4
        }
      ]
    },
    {
      "cell_type": "code",
      "source": [
        "var[0:0]"
      ],
      "metadata": {
        "colab": {
          "base_uri": "https://localhost:8080/",
          "height": 35
        },
        "id": "Qm_wgmd68g0L",
        "outputId": "c5badab2-17e2-4968-95c0-07659414736c"
      },
      "execution_count": 5,
      "outputs": [
        {
          "output_type": "execute_result",
          "data": {
            "text/plain": [
              "''"
            ],
            "application/vnd.google.colaboratory.intrinsic+json": {
              "type": "string"
            }
          },
          "metadata": {},
          "execution_count": 5
        }
      ]
    },
    {
      "cell_type": "code",
      "source": [
        "var[start:stop:1]"
      ],
      "metadata": {
        "id": "BiH8Q7OU8g4y",
        "outputId": "efe59977-2d18-4288-8e34-785b69e289b0",
        "colab": {
          "base_uri": "https://localhost:8080/",
          "height": 165
        }
      },
      "execution_count": 8,
      "outputs": [
        {
          "output_type": "error",
          "ename": "NameError",
          "evalue": "ignored",
          "traceback": [
            "\u001b[0;31m---------------------------------------------------------------------------\u001b[0m",
            "\u001b[0;31mNameError\u001b[0m                                 Traceback (most recent call last)",
            "\u001b[0;32m<ipython-input-8-e54304db9feb>\u001b[0m in \u001b[0;36m<cell line: 1>\u001b[0;34m()\u001b[0m\n\u001b[0;32m----> 1\u001b[0;31m \u001b[0mvar\u001b[0m\u001b[0;34m[\u001b[0m\u001b[0mstart\u001b[0m\u001b[0;34m:\u001b[0m\u001b[0mstop\u001b[0m\u001b[0;34m:\u001b[0m\u001b[0;36m1\u001b[0m\u001b[0;34m]\u001b[0m\u001b[0;34m\u001b[0m\u001b[0;34m\u001b[0m\u001b[0m\n\u001b[0m",
            "\u001b[0;31mNameError\u001b[0m: name 'start' is not defined"
          ]
        }
      ]
    },
    {
      "cell_type": "code",
      "source": [
        "var = 4"
      ],
      "metadata": {
        "id": "eOg4VDNq8g-Z"
      },
      "execution_count": 9,
      "outputs": []
    },
    {
      "cell_type": "code",
      "source": [
        "var += 1"
      ],
      "metadata": {
        "id": "-qRc7-pC8hAG"
      },
      "execution_count": 10,
      "outputs": []
    },
    {
      "cell_type": "code",
      "source": [
        "var"
      ],
      "metadata": {
        "colab": {
          "base_uri": "https://localhost:8080/"
        },
        "id": "AW5GhDNe8hEE",
        "outputId": "d296ec9a-ce60-4102-af70-250f5a82d337"
      },
      "execution_count": 11,
      "outputs": [
        {
          "output_type": "execute_result",
          "data": {
            "text/plain": [
              "5"
            ]
          },
          "metadata": {},
          "execution_count": 11
        }
      ]
    },
    {
      "cell_type": "code",
      "source": [
        "var"
      ],
      "metadata": {
        "colab": {
          "base_uri": "https://localhost:8080/"
        },
        "id": "7lB0Kr1XDZIT",
        "outputId": "a7bf53e2-5a50-493d-f5ab-1062e3fd8d0a"
      },
      "execution_count": 12,
      "outputs": [
        {
          "output_type": "execute_result",
          "data": {
            "text/plain": [
              "5"
            ]
          },
          "metadata": {},
          "execution_count": 12
        }
      ]
    },
    {
      "cell_type": "code",
      "source": [],
      "metadata": {
        "id": "0kuotfwu8hHN"
      },
      "execution_count": 13,
      "outputs": []
    },
    {
      "cell_type": "code",
      "source": [],
      "metadata": {
        "id": "I992V2Cj8hKM"
      },
      "execution_count": 13,
      "outputs": []
    },
    {
      "cell_type": "markdown",
      "source": [
        "# Data Structure\n",
        "\n",
        "An optimisal way of storing, managing, arranging & organizing the data.\n",
        "\n",
        "1. List\n",
        "2. Tuple\n",
        "3. Sets\n",
        "4. Dictionary"
      ],
      "metadata": {
        "id": "-h6uris7Mycl"
      }
    },
    {
      "cell_type": "markdown",
      "source": [
        "# List\n",
        "1. Python's Data Structure\n",
        "2. It supports heterogenous data\n",
        "3. It allows duplicate values\n",
        "4. It is mutable (Changeable) -> CRUD -> (C->Create, R->Read, U->Update, D->Delete)\n",
        "5. Ordered\n",
        "6. Square Bracket -> [data(s)]"
      ],
      "metadata": {
        "id": "IvKQ1dNXM8H-"
      }
    },
    {
      "cell_type": "code",
      "source": [
        "# List Vs Array\n",
        "# List Vs Tuple\n",
        "# List Vs NumPy Array"
      ],
      "metadata": {
        "id": "eSX-ZWhW8hNa"
      },
      "execution_count": 14,
      "outputs": []
    },
    {
      "cell_type": "markdown",
      "source": [
        "Array -> It only contain data that are homogenous [34,67,89,345]\n",
        "\n",
        "List -> It only contain data that are heterogenous [\"String\", 23, 67.90, True]"
      ],
      "metadata": {
        "id": "w2s5DKs8OnfT"
      }
    },
    {
      "cell_type": "markdown",
      "source": [
        "* Create a List"
      ],
      "metadata": {
        "id": "tiAl4RKDO1Sf"
      }
    },
    {
      "cell_type": "code",
      "source": [
        "lis = [\n",
        "    \"Potatoes\",\n",
        "    \"Tomatoes\",\n",
        "    \"Peas\",\n",
        "    \"Onion\",\n",
        "    \"Raddish\",\n",
        "    \"Lady Finger\",\n",
        "    \"Carrots\",\n",
        "    \"Spinach\"\n",
        "    ]"
      ],
      "metadata": {
        "id": "20H_43Mb8hQz"
      },
      "execution_count": 15,
      "outputs": []
    },
    {
      "cell_type": "code",
      "source": [
        "type(lis)"
      ],
      "metadata": {
        "colab": {
          "base_uri": "https://localhost:8080/"
        },
        "id": "vSSZt_6n8hT8",
        "outputId": "f7444026-c961-416c-fd31-cf0296a33bbc"
      },
      "execution_count": 16,
      "outputs": [
        {
          "output_type": "execute_result",
          "data": {
            "text/plain": [
              "list"
            ]
          },
          "metadata": {},
          "execution_count": 16
        }
      ]
    },
    {
      "cell_type": "code",
      "source": [
        "lis"
      ],
      "metadata": {
        "colab": {
          "base_uri": "https://localhost:8080/"
        },
        "id": "hvM3Na8h8hW0",
        "outputId": "daa37142-c923-4e00-bbf9-1892403f37dd"
      },
      "execution_count": 17,
      "outputs": [
        {
          "output_type": "execute_result",
          "data": {
            "text/plain": [
              "['Potatoes',\n",
              " 'Tomatoes',\n",
              " 'Peas',\n",
              " 'Onion',\n",
              " 'Raddish',\n",
              " 'Lady Finger',\n",
              " 'Carrots',\n",
              " 'Spinach']"
            ]
          },
          "metadata": {},
          "execution_count": 17
        }
      ]
    },
    {
      "cell_type": "code",
      "source": [
        "lis[2]"
      ],
      "metadata": {
        "colab": {
          "base_uri": "https://localhost:8080/",
          "height": 35
        },
        "id": "wGlHmEFR8hZr",
        "outputId": "d02fa843-6c5f-42e4-d873-0fd6bf6dce6b"
      },
      "execution_count": 18,
      "outputs": [
        {
          "output_type": "execute_result",
          "data": {
            "text/plain": [
              "'Peas'"
            ],
            "application/vnd.google.colaboratory.intrinsic+json": {
              "type": "string"
            }
          },
          "metadata": {},
          "execution_count": 18
        }
      ]
    },
    {
      "cell_type": "code",
      "source": [
        "lis[4][2]"
      ],
      "metadata": {
        "colab": {
          "base_uri": "https://localhost:8080/",
          "height": 35
        },
        "id": "GP2sUpaE8hcv",
        "outputId": "e8c74ed6-b650-49e2-c820-8db1d1aec364"
      },
      "execution_count": 19,
      "outputs": [
        {
          "output_type": "execute_result",
          "data": {
            "text/plain": [
              "'d'"
            ],
            "application/vnd.google.colaboratory.intrinsic+json": {
              "type": "string"
            }
          },
          "metadata": {},
          "execution_count": 19
        }
      ]
    },
    {
      "cell_type": "code",
      "source": [
        "lis[-2][-500]"
      ],
      "metadata": {
        "colab": {
          "base_uri": "https://localhost:8080/",
          "height": 165
        },
        "id": "ACBFDZ_y8hfY",
        "outputId": "3205c989-ee72-4670-8686-bad7229b740d"
      },
      "execution_count": 20,
      "outputs": [
        {
          "output_type": "error",
          "ename": "IndexError",
          "evalue": "ignored",
          "traceback": [
            "\u001b[0;31m---------------------------------------------------------------------------\u001b[0m",
            "\u001b[0;31mIndexError\u001b[0m                                Traceback (most recent call last)",
            "\u001b[0;32m<ipython-input-20-d5bf1e235630>\u001b[0m in \u001b[0;36m<cell line: 1>\u001b[0;34m()\u001b[0m\n\u001b[0;32m----> 1\u001b[0;31m \u001b[0mlis\u001b[0m\u001b[0;34m[\u001b[0m\u001b[0;34m-\u001b[0m\u001b[0;36m2\u001b[0m\u001b[0;34m]\u001b[0m\u001b[0;34m[\u001b[0m\u001b[0;34m-\u001b[0m\u001b[0;36m500\u001b[0m\u001b[0;34m]\u001b[0m\u001b[0;34m\u001b[0m\u001b[0;34m\u001b[0m\u001b[0m\n\u001b[0m",
            "\u001b[0;31mIndexError\u001b[0m: string index out of range"
          ]
        }
      ]
    },
    {
      "cell_type": "code",
      "source": [
        "lis[-500]"
      ],
      "metadata": {
        "colab": {
          "base_uri": "https://localhost:8080/",
          "height": 165
        },
        "id": "ucOSYoDo8hig",
        "outputId": "2f63e8e7-c115-44a4-e2dd-d9814ca8e2a8"
      },
      "execution_count": 21,
      "outputs": [
        {
          "output_type": "error",
          "ename": "IndexError",
          "evalue": "ignored",
          "traceback": [
            "\u001b[0;31m---------------------------------------------------------------------------\u001b[0m",
            "\u001b[0;31mIndexError\u001b[0m                                Traceback (most recent call last)",
            "\u001b[0;32m<ipython-input-21-c73ed74c4ba7>\u001b[0m in \u001b[0;36m<cell line: 1>\u001b[0;34m()\u001b[0m\n\u001b[0;32m----> 1\u001b[0;31m \u001b[0mlis\u001b[0m\u001b[0;34m[\u001b[0m\u001b[0;34m-\u001b[0m\u001b[0;36m500\u001b[0m\u001b[0;34m]\u001b[0m\u001b[0;34m\u001b[0m\u001b[0;34m\u001b[0m\u001b[0m\n\u001b[0m",
            "\u001b[0;31mIndexError\u001b[0m: list index out of range"
          ]
        }
      ]
    },
    {
      "cell_type": "code",
      "source": [
        "lis"
      ],
      "metadata": {
        "colab": {
          "base_uri": "https://localhost:8080/"
        },
        "id": "n7GOEg4R8hmJ",
        "outputId": "b26b9449-f9c5-4c60-ce55-bd495408f1f3"
      },
      "execution_count": 22,
      "outputs": [
        {
          "output_type": "execute_result",
          "data": {
            "text/plain": [
              "['Potatoes',\n",
              " 'Tomatoes',\n",
              " 'Peas',\n",
              " 'Onion',\n",
              " 'Raddish',\n",
              " 'Lady Finger',\n",
              " 'Carrots',\n",
              " 'Spinach']"
            ]
          },
          "metadata": {},
          "execution_count": 22
        }
      ]
    },
    {
      "cell_type": "code",
      "source": [
        "lis[-2:-5:-1]"
      ],
      "metadata": {
        "colab": {
          "base_uri": "https://localhost:8080/"
        },
        "id": "ntm8uQrw8hpQ",
        "outputId": "458ea65b-74fd-4916-e835-a14bd8f45f50"
      },
      "execution_count": 23,
      "outputs": [
        {
          "output_type": "execute_result",
          "data": {
            "text/plain": [
              "['Carrots', 'Lady Finger', 'Raddish']"
            ]
          },
          "metadata": {},
          "execution_count": 23
        }
      ]
    },
    {
      "cell_type": "code",
      "source": [
        "lis[-4:-1]"
      ],
      "metadata": {
        "colab": {
          "base_uri": "https://localhost:8080/"
        },
        "id": "R-0EyDupSLkg",
        "outputId": "604611c2-adb5-4a56-b06c-9c79718edd70"
      },
      "execution_count": 24,
      "outputs": [
        {
          "output_type": "execute_result",
          "data": {
            "text/plain": [
              "['Raddish', 'Lady Finger', 'Carrots']"
            ]
          },
          "metadata": {},
          "execution_count": 24
        }
      ]
    },
    {
      "cell_type": "code",
      "source": [
        "lis[4:7]"
      ],
      "metadata": {
        "colab": {
          "base_uri": "https://localhost:8080/"
        },
        "id": "hXhHyKc68hsc",
        "outputId": "08594092-6cb2-40ec-93fb-bbcb0029ba3b"
      },
      "execution_count": 25,
      "outputs": [
        {
          "output_type": "execute_result",
          "data": {
            "text/plain": [
              "['Raddish', 'Lady Finger', 'Carrots']"
            ]
          },
          "metadata": {},
          "execution_count": 25
        }
      ]
    },
    {
      "cell_type": "code",
      "source": [
        "lis1 = [] # Empty List"
      ],
      "metadata": {
        "id": "EnDXSZgU8hvT"
      },
      "execution_count": 26,
      "outputs": []
    },
    {
      "cell_type": "code",
      "source": [
        "print(lis)"
      ],
      "metadata": {
        "colab": {
          "base_uri": "https://localhost:8080/"
        },
        "id": "ir7mPu4ISp0j",
        "outputId": "c509c140-eb00-4876-d7b1-ecee031a92b6"
      },
      "execution_count": 27,
      "outputs": [
        {
          "output_type": "stream",
          "name": "stdout",
          "text": [
            "['Potatoes', 'Tomatoes', 'Peas', 'Onion', 'Raddish', 'Lady Finger', 'Carrots', 'Spinach']\n"
          ]
        }
      ]
    },
    {
      "cell_type": "markdown",
      "source": [
        "* Update"
      ],
      "metadata": {
        "id": "B58HIq7sSm9E"
      }
    },
    {
      "cell_type": "code",
      "source": [
        "lis"
      ],
      "metadata": {
        "colab": {
          "base_uri": "https://localhost:8080/"
        },
        "id": "xPA9Z5oJ8hyc",
        "outputId": "7b541c56-8980-4706-c68c-133e2750fe38"
      },
      "execution_count": 28,
      "outputs": [
        {
          "output_type": "execute_result",
          "data": {
            "text/plain": [
              "['Potatoes',\n",
              " 'Tomatoes',\n",
              " 'Peas',\n",
              " 'Onion',\n",
              " 'Raddish',\n",
              " 'Lady Finger',\n",
              " 'Carrots',\n",
              " 'Spinach']"
            ]
          },
          "metadata": {},
          "execution_count": 28
        }
      ]
    },
    {
      "cell_type": "code",
      "source": [
        "lis[3] = 'Apple'"
      ],
      "metadata": {
        "id": "TKpr8hkF8h1T"
      },
      "execution_count": 29,
      "outputs": []
    },
    {
      "cell_type": "code",
      "source": [
        "lis"
      ],
      "metadata": {
        "colab": {
          "base_uri": "https://localhost:8080/"
        },
        "id": "KDMl-S248h4o",
        "outputId": "7fe0ec4e-1fde-42a4-e3fd-bce546d1f88b"
      },
      "execution_count": 30,
      "outputs": [
        {
          "output_type": "execute_result",
          "data": {
            "text/plain": [
              "['Potatoes',\n",
              " 'Tomatoes',\n",
              " 'Peas',\n",
              " 'Apple',\n",
              " 'Raddish',\n",
              " 'Lady Finger',\n",
              " 'Carrots',\n",
              " 'Spinach']"
            ]
          },
          "metadata": {},
          "execution_count": 30
        }
      ]
    },
    {
      "cell_type": "code",
      "source": [
        "lis[5:] = \"Laptop\""
      ],
      "metadata": {
        "id": "62YqiWkk8h70"
      },
      "execution_count": 31,
      "outputs": []
    },
    {
      "cell_type": "code",
      "source": [
        "lis"
      ],
      "metadata": {
        "colab": {
          "base_uri": "https://localhost:8080/"
        },
        "id": "eVRWiIxn8h_N",
        "outputId": "6a574aea-5024-45bd-fdb7-2babfa2444ca"
      },
      "execution_count": 32,
      "outputs": [
        {
          "output_type": "execute_result",
          "data": {
            "text/plain": [
              "['Potatoes',\n",
              " 'Tomatoes',\n",
              " 'Peas',\n",
              " 'Apple',\n",
              " 'Raddish',\n",
              " 'L',\n",
              " 'a',\n",
              " 'p',\n",
              " 't',\n",
              " 'o',\n",
              " 'p']"
            ]
          },
          "metadata": {},
          "execution_count": 32
        }
      ]
    },
    {
      "cell_type": "code",
      "source": [
        "lis[5:] = [\"Laptop\"]"
      ],
      "metadata": {
        "id": "EBblyRaC8iCT"
      },
      "execution_count": 33,
      "outputs": []
    },
    {
      "cell_type": "code",
      "source": [
        "lis"
      ],
      "metadata": {
        "colab": {
          "base_uri": "https://localhost:8080/"
        },
        "id": "Vj5kaguf8iF6",
        "outputId": "15ccd745-2d49-4c51-ef7e-ac450fad0ede"
      },
      "execution_count": 34,
      "outputs": [
        {
          "output_type": "execute_result",
          "data": {
            "text/plain": [
              "['Potatoes', 'Tomatoes', 'Peas', 'Apple', 'Raddish', 'Laptop']"
            ]
          },
          "metadata": {},
          "execution_count": 34
        }
      ]
    },
    {
      "cell_type": "code",
      "source": [
        "lis[5:] = [\"Laptop\", \"Mobile\", \"Computer\"]"
      ],
      "metadata": {
        "id": "hLn9Ef-m8iI8"
      },
      "execution_count": 35,
      "outputs": []
    },
    {
      "cell_type": "code",
      "source": [
        "lis"
      ],
      "metadata": {
        "colab": {
          "base_uri": "https://localhost:8080/"
        },
        "id": "L8I5c7Om8iL9",
        "outputId": "0a63937e-21e5-45ed-a5fb-136b916eebd3"
      },
      "execution_count": 36,
      "outputs": [
        {
          "output_type": "execute_result",
          "data": {
            "text/plain": [
              "['Potatoes',\n",
              " 'Tomatoes',\n",
              " 'Peas',\n",
              " 'Apple',\n",
              " 'Raddish',\n",
              " 'Laptop',\n",
              " 'Mobile',\n",
              " 'Computer']"
            ]
          },
          "metadata": {},
          "execution_count": 36
        }
      ]
    },
    {
      "cell_type": "code",
      "source": [
        "lis[5:5] = [\"A\", \"B\", \"C\"]"
      ],
      "metadata": {
        "id": "hYEiilIV8iPm"
      },
      "execution_count": 37,
      "outputs": []
    },
    {
      "cell_type": "code",
      "source": [
        "lis"
      ],
      "metadata": {
        "colab": {
          "base_uri": "https://localhost:8080/"
        },
        "id": "z4X16SZC8iSv",
        "outputId": "0b7cf695-a292-4b67-cb6c-8044634645b6"
      },
      "execution_count": 38,
      "outputs": [
        {
          "output_type": "execute_result",
          "data": {
            "text/plain": [
              "['Potatoes',\n",
              " 'Tomatoes',\n",
              " 'Peas',\n",
              " 'Apple',\n",
              " 'Raddish',\n",
              " 'A',\n",
              " 'B',\n",
              " 'C',\n",
              " 'Laptop',\n",
              " 'Mobile',\n",
              " 'Computer']"
            ]
          },
          "metadata": {},
          "execution_count": 38
        }
      ]
    },
    {
      "cell_type": "code",
      "source": [
        "lis[5:5]"
      ],
      "metadata": {
        "colab": {
          "base_uri": "https://localhost:8080/"
        },
        "id": "T1zbrv258iWd",
        "outputId": "6f994242-ab33-4671-c570-65485d2d2bb2"
      },
      "execution_count": 39,
      "outputs": [
        {
          "output_type": "execute_result",
          "data": {
            "text/plain": [
              "[]"
            ]
          },
          "metadata": {},
          "execution_count": 39
        }
      ]
    },
    {
      "cell_type": "code",
      "source": [
        "lis[5] = [\"Y\", \"Z\", \"W\"]"
      ],
      "metadata": {
        "id": "i9eMzAgI8iZu"
      },
      "execution_count": 40,
      "outputs": []
    },
    {
      "cell_type": "code",
      "source": [
        "lis"
      ],
      "metadata": {
        "colab": {
          "base_uri": "https://localhost:8080/"
        },
        "id": "_r6SqzS98ic0",
        "outputId": "c1142a9f-7408-4e09-cb0a-ff5ae81aadb0"
      },
      "execution_count": 41,
      "outputs": [
        {
          "output_type": "execute_result",
          "data": {
            "text/plain": [
              "['Potatoes',\n",
              " 'Tomatoes',\n",
              " 'Peas',\n",
              " 'Apple',\n",
              " 'Raddish',\n",
              " ['Y', 'Z', 'W'],\n",
              " 'B',\n",
              " 'C',\n",
              " 'Laptop',\n",
              " 'Mobile',\n",
              " 'Computer']"
            ]
          },
          "metadata": {},
          "execution_count": 41
        }
      ]
    },
    {
      "cell_type": "code",
      "source": [
        "lis[5][2] = [\"T\", \"P\", \"O\"]"
      ],
      "metadata": {
        "id": "EWU8WOd_8igN"
      },
      "execution_count": 42,
      "outputs": []
    },
    {
      "cell_type": "code",
      "source": [
        "lis"
      ],
      "metadata": {
        "colab": {
          "base_uri": "https://localhost:8080/"
        },
        "id": "olpa05dO8ijq",
        "outputId": "c0941b4b-c66b-46b6-e9a1-3504e2d4a6a0"
      },
      "execution_count": 43,
      "outputs": [
        {
          "output_type": "execute_result",
          "data": {
            "text/plain": [
              "['Potatoes',\n",
              " 'Tomatoes',\n",
              " 'Peas',\n",
              " 'Apple',\n",
              " 'Raddish',\n",
              " ['Y', 'Z', ['T', 'P', 'O']],\n",
              " 'B',\n",
              " 'C',\n",
              " 'Laptop',\n",
              " 'Mobile',\n",
              " 'Computer']"
            ]
          },
          "metadata": {},
          "execution_count": 43
        }
      ]
    },
    {
      "cell_type": "code",
      "source": [
        "lis[5][-1][1]"
      ],
      "metadata": {
        "colab": {
          "base_uri": "https://localhost:8080/",
          "height": 35
        },
        "id": "-LqkvHV48inD",
        "outputId": "c5776ebe-79f5-45d6-cc58-5e2a2d1ba880"
      },
      "execution_count": 44,
      "outputs": [
        {
          "output_type": "execute_result",
          "data": {
            "text/plain": [
              "'P'"
            ],
            "application/vnd.google.colaboratory.intrinsic+json": {
              "type": "string"
            }
          },
          "metadata": {},
          "execution_count": 44
        }
      ]
    },
    {
      "cell_type": "markdown",
      "source": [
        "* Adding elements in a list"
      ],
      "metadata": {
        "id": "SN4C1lq_W1v0"
      }
    },
    {
      "cell_type": "code",
      "source": [
        "\"\"\"append() -> Add the elements into the list at the end\n",
        "extend() -> Add the elements from another list into the current list\n",
        "insert() -> Add the elements into the list w.r.t. the provided index\"\"\""
      ],
      "metadata": {
        "id": "6WtPgh34W1M5",
        "outputId": "103cf871-290a-47fe-b7b1-e2035973222f",
        "colab": {
          "base_uri": "https://localhost:8080/",
          "height": 53
        }
      },
      "execution_count": 46,
      "outputs": [
        {
          "output_type": "execute_result",
          "data": {
            "text/plain": [
              "'append() -> Add the elements into the list at the end\\nextend() -> Add the elements from another list into the current list\\ninsert() -> Add the elements into the list w.r.t. the provided index'"
            ],
            "application/vnd.google.colaboratory.intrinsic+json": {
              "type": "string"
            }
          },
          "metadata": {},
          "execution_count": 46
        }
      ]
    },
    {
      "cell_type": "code",
      "source": [
        "lis = [\n",
        "    \"Potatoes\",\n",
        "    \"Tomatoes\",\n",
        "    \"Peas\",\n",
        "    \"Onion\",\n",
        "    \"Raddish\",\n",
        "    \"Lady Finger\",\n",
        "    \"Carrots\",\n",
        "    \"Spinach\"\n",
        "    ]"
      ],
      "metadata": {
        "id": "C6abm7Bb8iqK"
      },
      "execution_count": 47,
      "outputs": []
    },
    {
      "cell_type": "code",
      "source": [
        "print(lis)"
      ],
      "metadata": {
        "colab": {
          "base_uri": "https://localhost:8080/"
        },
        "id": "mqVLWsmu8itT",
        "outputId": "a7fad2db-cb35-4810-ae78-31f9f9093af7"
      },
      "execution_count": 48,
      "outputs": [
        {
          "output_type": "stream",
          "name": "stdout",
          "text": [
            "['Potatoes', 'Tomatoes', 'Peas', 'Onion', 'Raddish', 'Lady Finger', 'Carrots', 'Spinach']\n"
          ]
        }
      ]
    },
    {
      "cell_type": "code",
      "source": [
        "lis.append('Banana')"
      ],
      "metadata": {
        "id": "KZxGTlGN8ixN"
      },
      "execution_count": 49,
      "outputs": []
    },
    {
      "cell_type": "code",
      "source": [
        "lis"
      ],
      "metadata": {
        "colab": {
          "base_uri": "https://localhost:8080/"
        },
        "id": "L_WN4LsI8i0U",
        "outputId": "264c1b90-4e7a-421f-a386-02282c248c65"
      },
      "execution_count": 50,
      "outputs": [
        {
          "output_type": "execute_result",
          "data": {
            "text/plain": [
              "['Potatoes',\n",
              " 'Tomatoes',\n",
              " 'Peas',\n",
              " 'Onion',\n",
              " 'Raddish',\n",
              " 'Lady Finger',\n",
              " 'Carrots',\n",
              " 'Spinach',\n",
              " 'Banana']"
            ]
          },
          "metadata": {},
          "execution_count": 50
        }
      ]
    },
    {
      "cell_type": "code",
      "source": [
        "arr1 = ['Noddy', 'Bob the Builder', 'Pokemon', 'Oswald']\n",
        "arr2 = ['Doraemon', 'Shin Chan', 'Ben10', 'Tom & Jerry']"
      ],
      "metadata": {
        "id": "dfP3QDHC8i3v"
      },
      "execution_count": 51,
      "outputs": []
    },
    {
      "cell_type": "code",
      "source": [
        "arr1"
      ],
      "metadata": {
        "colab": {
          "base_uri": "https://localhost:8080/"
        },
        "id": "2Q6dBpWs8i7F",
        "outputId": "440c078d-eac9-4bb3-eeb0-930c1915d78f"
      },
      "execution_count": 52,
      "outputs": [
        {
          "output_type": "execute_result",
          "data": {
            "text/plain": [
              "['Noddy', 'Bob the Builder', 'Pokemon', 'Oswald']"
            ]
          },
          "metadata": {},
          "execution_count": 52
        }
      ]
    },
    {
      "cell_type": "code",
      "source": [
        "arr2"
      ],
      "metadata": {
        "colab": {
          "base_uri": "https://localhost:8080/"
        },
        "id": "gnWMwipU8i-g",
        "outputId": "4e9e260a-8f2e-4db3-9562-7df088dc4db4"
      },
      "execution_count": 53,
      "outputs": [
        {
          "output_type": "execute_result",
          "data": {
            "text/plain": [
              "['Doraemon', 'Shin Chan', 'Ben10', 'Tom & Jerry']"
            ]
          },
          "metadata": {},
          "execution_count": 53
        }
      ]
    },
    {
      "cell_type": "code",
      "source": [
        "arr1.append(arr2)"
      ],
      "metadata": {
        "id": "iceg-keO8jBo"
      },
      "execution_count": 54,
      "outputs": []
    },
    {
      "cell_type": "code",
      "source": [
        "arr1"
      ],
      "metadata": {
        "colab": {
          "base_uri": "https://localhost:8080/"
        },
        "id": "3l55fSvn8jEr",
        "outputId": "5d95807c-739b-40ce-97ae-74768ff9bd56"
      },
      "execution_count": 55,
      "outputs": [
        {
          "output_type": "execute_result",
          "data": {
            "text/plain": [
              "['Noddy',\n",
              " 'Bob the Builder',\n",
              " 'Pokemon',\n",
              " 'Oswald',\n",
              " ['Doraemon', 'Shin Chan', 'Ben10', 'Tom & Jerry']]"
            ]
          },
          "metadata": {},
          "execution_count": 55
        }
      ]
    },
    {
      "cell_type": "code",
      "source": [
        "arr1.extend(arr2)"
      ],
      "metadata": {
        "id": "F3SJozJS8jHk"
      },
      "execution_count": 56,
      "outputs": []
    },
    {
      "cell_type": "code",
      "source": [
        "arr1"
      ],
      "metadata": {
        "colab": {
          "base_uri": "https://localhost:8080/"
        },
        "id": "At9tQmub8jKq",
        "outputId": "5ea24f99-f268-4692-fff9-58cadc5f4715"
      },
      "execution_count": 57,
      "outputs": [
        {
          "output_type": "execute_result",
          "data": {
            "text/plain": [
              "['Noddy',\n",
              " 'Bob the Builder',\n",
              " 'Pokemon',\n",
              " 'Oswald',\n",
              " ['Doraemon', 'Shin Chan', 'Ben10', 'Tom & Jerry'],\n",
              " 'Doraemon',\n",
              " 'Shin Chan',\n",
              " 'Ben10',\n",
              " 'Tom & Jerry']"
            ]
          },
          "metadata": {},
          "execution_count": 57
        }
      ]
    },
    {
      "cell_type": "code",
      "source": [
        "arr1"
      ],
      "metadata": {
        "colab": {
          "base_uri": "https://localhost:8080/"
        },
        "id": "DfFZVDWy8jNj",
        "outputId": "0d1cc084-ccd3-438c-f924-041eb5f38b96"
      },
      "execution_count": 58,
      "outputs": [
        {
          "output_type": "execute_result",
          "data": {
            "text/plain": [
              "['Noddy',\n",
              " 'Bob the Builder',\n",
              " 'Pokemon',\n",
              " 'Oswald',\n",
              " ['Doraemon', 'Shin Chan', 'Ben10', 'Tom & Jerry'],\n",
              " 'Doraemon',\n",
              " 'Shin Chan',\n",
              " 'Ben10',\n",
              " 'Tom & Jerry']"
            ]
          },
          "metadata": {},
          "execution_count": 58
        }
      ]
    },
    {
      "cell_type": "code",
      "source": [
        "arr1.extend(arr1)"
      ],
      "metadata": {
        "id": "95dnAmgx8jQs"
      },
      "execution_count": 59,
      "outputs": []
    },
    {
      "cell_type": "code",
      "source": [
        "arr1"
      ],
      "metadata": {
        "colab": {
          "base_uri": "https://localhost:8080/"
        },
        "id": "eURj92Sf8jUF",
        "outputId": "317c5672-3ee9-4515-ed9b-e4efae58d2ad"
      },
      "execution_count": 60,
      "outputs": [
        {
          "output_type": "execute_result",
          "data": {
            "text/plain": [
              "['Noddy',\n",
              " 'Bob the Builder',\n",
              " 'Pokemon',\n",
              " 'Oswald',\n",
              " ['Doraemon', 'Shin Chan', 'Ben10', 'Tom & Jerry'],\n",
              " 'Doraemon',\n",
              " 'Shin Chan',\n",
              " 'Ben10',\n",
              " 'Tom & Jerry',\n",
              " 'Noddy',\n",
              " 'Bob the Builder',\n",
              " 'Pokemon',\n",
              " 'Oswald',\n",
              " ['Doraemon', 'Shin Chan', 'Ben10', 'Tom & Jerry'],\n",
              " 'Doraemon',\n",
              " 'Shin Chan',\n",
              " 'Ben10',\n",
              " 'Tom & Jerry']"
            ]
          },
          "metadata": {},
          "execution_count": 60
        }
      ]
    },
    {
      "cell_type": "code",
      "source": [
        "arr1"
      ],
      "metadata": {
        "colab": {
          "base_uri": "https://localhost:8080/"
        },
        "id": "JhhO5BpW8jph",
        "outputId": "9ace5e7a-37ad-4cf1-837d-15415ee07c0d"
      },
      "execution_count": 61,
      "outputs": [
        {
          "output_type": "execute_result",
          "data": {
            "text/plain": [
              "['Noddy',\n",
              " 'Bob the Builder',\n",
              " 'Pokemon',\n",
              " 'Oswald',\n",
              " ['Doraemon', 'Shin Chan', 'Ben10', 'Tom & Jerry'],\n",
              " 'Doraemon',\n",
              " 'Shin Chan',\n",
              " 'Ben10',\n",
              " 'Tom & Jerry',\n",
              " 'Noddy',\n",
              " 'Bob the Builder',\n",
              " 'Pokemon',\n",
              " 'Oswald',\n",
              " ['Doraemon', 'Shin Chan', 'Ben10', 'Tom & Jerry'],\n",
              " 'Doraemon',\n",
              " 'Shin Chan',\n",
              " 'Ben10',\n",
              " 'Tom & Jerry']"
            ]
          },
          "metadata": {},
          "execution_count": 61
        }
      ]
    },
    {
      "cell_type": "code",
      "source": [
        "arr1.append('Ninja Hattori')"
      ],
      "metadata": {
        "id": "unWpYSvP8js0"
      },
      "execution_count": 62,
      "outputs": []
    },
    {
      "cell_type": "code",
      "source": [
        "arr1"
      ],
      "metadata": {
        "colab": {
          "base_uri": "https://localhost:8080/"
        },
        "id": "LQH7At5_8j_T",
        "outputId": "79f0aaf7-ea97-47ea-a271-692fd5ae1a1b"
      },
      "execution_count": 63,
      "outputs": [
        {
          "output_type": "execute_result",
          "data": {
            "text/plain": [
              "['Noddy',\n",
              " 'Bob the Builder',\n",
              " 'Pokemon',\n",
              " 'Oswald',\n",
              " ['Doraemon', 'Shin Chan', 'Ben10', 'Tom & Jerry'],\n",
              " 'Doraemon',\n",
              " 'Shin Chan',\n",
              " 'Ben10',\n",
              " 'Tom & Jerry',\n",
              " 'Noddy',\n",
              " 'Bob the Builder',\n",
              " 'Pokemon',\n",
              " 'Oswald',\n",
              " ['Doraemon', 'Shin Chan', 'Ben10', 'Tom & Jerry'],\n",
              " 'Doraemon',\n",
              " 'Shin Chan',\n",
              " 'Ben10',\n",
              " 'Tom & Jerry',\n",
              " 'Ninja Hattori']"
            ]
          },
          "metadata": {},
          "execution_count": 63
        }
      ]
    },
    {
      "cell_type": "code",
      "source": [
        "arr1.insert(1,'Looney Tunes')"
      ],
      "metadata": {
        "id": "eICWOoKu8kC1"
      },
      "execution_count": 64,
      "outputs": []
    },
    {
      "cell_type": "code",
      "source": [
        "arr1"
      ],
      "metadata": {
        "colab": {
          "base_uri": "https://localhost:8080/"
        },
        "id": "5zvVCXh88kGA",
        "outputId": "3c9ed749-842e-4a65-844c-acce90d94338"
      },
      "execution_count": 65,
      "outputs": [
        {
          "output_type": "execute_result",
          "data": {
            "text/plain": [
              "['Noddy',\n",
              " 'Looney Tunes',\n",
              " 'Bob the Builder',\n",
              " 'Pokemon',\n",
              " 'Oswald',\n",
              " ['Doraemon', 'Shin Chan', 'Ben10', 'Tom & Jerry'],\n",
              " 'Doraemon',\n",
              " 'Shin Chan',\n",
              " 'Ben10',\n",
              " 'Tom & Jerry',\n",
              " 'Noddy',\n",
              " 'Bob the Builder',\n",
              " 'Pokemon',\n",
              " 'Oswald',\n",
              " ['Doraemon', 'Shin Chan', 'Ben10', 'Tom & Jerry'],\n",
              " 'Doraemon',\n",
              " 'Shin Chan',\n",
              " 'Ben10',\n",
              " 'Tom & Jerry',\n",
              " 'Ninja Hattori']"
            ]
          },
          "metadata": {},
          "execution_count": 65
        }
      ]
    },
    {
      "cell_type": "markdown",
      "source": [
        "* Deleting elements in a List"
      ],
      "metadata": {
        "id": "rwW00hGzaN3_"
      }
    },
    {
      "cell_type": "code",
      "source": [
        "\"\"\"remove() -> Remove the first occurance of the specified element\n",
        "pop() -> Remove the specified element w.r.t. the index value\n",
        "del -> \"\"\""
      ],
      "metadata": {
        "id": "VU_qAQZD8kLd",
        "outputId": "4d87f83b-7191-429d-edee-010f61b16740",
        "colab": {
          "base_uri": "https://localhost:8080/",
          "height": 53
        }
      },
      "execution_count": 66,
      "outputs": [
        {
          "output_type": "execute_result",
          "data": {
            "text/plain": [
              "'remove() -> Remove the first occurance of the specified element\\npop() -> Remove the specified element w.r.t. the index value\\ndel -> '"
            ],
            "application/vnd.google.colaboratory.intrinsic+json": {
              "type": "string"
            }
          },
          "metadata": {},
          "execution_count": 66
        }
      ]
    },
    {
      "cell_type": "code",
      "source": [
        "new_lis = ['A', 'B', 'C', 'D', 'E', 'F']"
      ],
      "metadata": {
        "id": "rR-HJfrE8kOk"
      },
      "execution_count": 67,
      "outputs": []
    },
    {
      "cell_type": "code",
      "source": [
        "new_lis"
      ],
      "metadata": {
        "colab": {
          "base_uri": "https://localhost:8080/"
        },
        "id": "z2Opms0b8kRr",
        "outputId": "6ceaf4f1-9539-4f6d-d8be-e79a8da02a9f"
      },
      "execution_count": 68,
      "outputs": [
        {
          "output_type": "execute_result",
          "data": {
            "text/plain": [
              "['A', 'B', 'C', 'D', 'E', 'F']"
            ]
          },
          "metadata": {},
          "execution_count": 68
        }
      ]
    },
    {
      "cell_type": "code",
      "source": [
        "new_lis.remove('C')"
      ],
      "metadata": {
        "id": "qeP1kohy8kU1"
      },
      "execution_count": 69,
      "outputs": []
    },
    {
      "cell_type": "code",
      "source": [
        "new_lis"
      ],
      "metadata": {
        "colab": {
          "base_uri": "https://localhost:8080/"
        },
        "id": "zrl-pUWl8kX8",
        "outputId": "7bfc0872-9405-4ab5-b46f-874a0965cf4e"
      },
      "execution_count": 70,
      "outputs": [
        {
          "output_type": "execute_result",
          "data": {
            "text/plain": [
              "['A', 'B', 'D', 'E', 'F']"
            ]
          },
          "metadata": {},
          "execution_count": 70
        }
      ]
    },
    {
      "cell_type": "code",
      "source": [
        "new_lis = ['A', 'B', 'C', 'D', 'E', 'F','C']"
      ],
      "metadata": {
        "id": "eVPxvgGJ8kbP"
      },
      "execution_count": 71,
      "outputs": []
    },
    {
      "cell_type": "code",
      "source": [
        "new_lis.remove('C')"
      ],
      "metadata": {
        "id": "IMT13juD8keZ"
      },
      "execution_count": 72,
      "outputs": []
    },
    {
      "cell_type": "code",
      "source": [
        "new_lis"
      ],
      "metadata": {
        "colab": {
          "base_uri": "https://localhost:8080/"
        },
        "id": "BRbCapqt8khF",
        "outputId": "b2dda11a-9023-41c4-ab33-c6fb86b028b5"
      },
      "execution_count": 73,
      "outputs": [
        {
          "output_type": "execute_result",
          "data": {
            "text/plain": [
              "['A', 'B', 'D', 'E', 'F', 'C']"
            ]
          },
          "metadata": {},
          "execution_count": 73
        }
      ]
    },
    {
      "cell_type": "code",
      "source": [
        "new_lis"
      ],
      "metadata": {
        "colab": {
          "base_uri": "https://localhost:8080/"
        },
        "id": "yZw3EEhc8kks",
        "outputId": "1b8d2e80-b6af-4f6b-8837-11ff0fc005c4"
      },
      "execution_count": 74,
      "outputs": [
        {
          "output_type": "execute_result",
          "data": {
            "text/plain": [
              "['A', 'B', 'D', 'E', 'F', 'C']"
            ]
          },
          "metadata": {},
          "execution_count": 74
        }
      ]
    },
    {
      "cell_type": "code",
      "source": [
        "new_lis"
      ],
      "metadata": {
        "colab": {
          "base_uri": "https://localhost:8080/"
        },
        "id": "AvUoj9ep8koF",
        "outputId": "076cd8fd-941f-4417-b698-fb8ddf9bf534"
      },
      "execution_count": 75,
      "outputs": [
        {
          "output_type": "execute_result",
          "data": {
            "text/plain": [
              "['A', 'B', 'D', 'E', 'F', 'C']"
            ]
          },
          "metadata": {},
          "execution_count": 75
        }
      ]
    },
    {
      "cell_type": "code",
      "source": [
        "new_lis.pop(-1)"
      ],
      "metadata": {
        "colab": {
          "base_uri": "https://localhost:8080/",
          "height": 35
        },
        "id": "KJpE0NEB8krN",
        "outputId": "f1c2f0f3-fed8-4b74-9c57-b55fb364acee"
      },
      "execution_count": 76,
      "outputs": [
        {
          "output_type": "execute_result",
          "data": {
            "text/plain": [
              "'C'"
            ],
            "application/vnd.google.colaboratory.intrinsic+json": {
              "type": "string"
            }
          },
          "metadata": {},
          "execution_count": 76
        }
      ]
    },
    {
      "cell_type": "code",
      "source": [
        "new_lis"
      ],
      "metadata": {
        "colab": {
          "base_uri": "https://localhost:8080/"
        },
        "id": "azj0_G9h8kuW",
        "outputId": "fee49779-1222-4ba6-c139-5e8cf1523f38"
      },
      "execution_count": 77,
      "outputs": [
        {
          "output_type": "execute_result",
          "data": {
            "text/plain": [
              "['A', 'B', 'D', 'E', 'F']"
            ]
          },
          "metadata": {},
          "execution_count": 77
        }
      ]
    },
    {
      "cell_type": "code",
      "source": [
        "new_lis.pop()"
      ],
      "metadata": {
        "colab": {
          "base_uri": "https://localhost:8080/",
          "height": 35
        },
        "id": "quZ1-6C08kxe",
        "outputId": "fdec04b4-a6a8-4fee-8dfc-08e18a9beae7"
      },
      "execution_count": 78,
      "outputs": [
        {
          "output_type": "execute_result",
          "data": {
            "text/plain": [
              "'F'"
            ],
            "application/vnd.google.colaboratory.intrinsic+json": {
              "type": "string"
            }
          },
          "metadata": {},
          "execution_count": 78
        }
      ]
    },
    {
      "cell_type": "code",
      "source": [
        "new_lis"
      ],
      "metadata": {
        "colab": {
          "base_uri": "https://localhost:8080/"
        },
        "id": "ex58SApj8k0m",
        "outputId": "cd5fbcb9-d40f-44aa-9235-e1c67d7baa88"
      },
      "execution_count": 79,
      "outputs": [
        {
          "output_type": "execute_result",
          "data": {
            "text/plain": [
              "['A', 'B', 'D', 'E']"
            ]
          },
          "metadata": {},
          "execution_count": 79
        }
      ]
    },
    {
      "cell_type": "code",
      "source": [
        "new_lis"
      ],
      "metadata": {
        "colab": {
          "base_uri": "https://localhost:8080/"
        },
        "id": "iCMeiy6G8k3-",
        "outputId": "d2a60824-19c9-4f82-9c10-fbff034790e4"
      },
      "execution_count": 80,
      "outputs": [
        {
          "output_type": "execute_result",
          "data": {
            "text/plain": [
              "['A', 'B', 'D', 'E']"
            ]
          },
          "metadata": {},
          "execution_count": 80
        }
      ]
    },
    {
      "cell_type": "code",
      "source": [
        "new_lis[3]"
      ],
      "metadata": {
        "colab": {
          "base_uri": "https://localhost:8080/",
          "height": 35
        },
        "id": "vimyQhem8k7Y",
        "outputId": "6f2c773b-b095-47b5-c88b-33ab91030b46"
      },
      "execution_count": 81,
      "outputs": [
        {
          "output_type": "execute_result",
          "data": {
            "text/plain": [
              "'E'"
            ],
            "application/vnd.google.colaboratory.intrinsic+json": {
              "type": "string"
            }
          },
          "metadata": {},
          "execution_count": 81
        }
      ]
    },
    {
      "cell_type": "code",
      "source": [
        "del new_lis[3]"
      ],
      "metadata": {
        "id": "AyxLTB638k-b"
      },
      "execution_count": 82,
      "outputs": []
    },
    {
      "cell_type": "code",
      "source": [
        "new_lis"
      ],
      "metadata": {
        "colab": {
          "base_uri": "https://localhost:8080/"
        },
        "id": "Jh11d9PT8lBW",
        "outputId": "cdf992e3-ccfd-450e-cdf4-3372631e514b"
      },
      "execution_count": 83,
      "outputs": [
        {
          "output_type": "execute_result",
          "data": {
            "text/plain": [
              "['A', 'B', 'D']"
            ]
          },
          "metadata": {},
          "execution_count": 83
        }
      ]
    },
    {
      "cell_type": "code",
      "source": [
        "var = [[1,2,3,4],[5,6,7,8],[9,10,11,12]]"
      ],
      "metadata": {
        "id": "HsRZV9mg8lEf"
      },
      "execution_count": 84,
      "outputs": []
    },
    {
      "cell_type": "code",
      "source": [
        "var[3]"
      ],
      "metadata": {
        "colab": {
          "base_uri": "https://localhost:8080/",
          "height": 165
        },
        "id": "T9MAEYeJ8lHg",
        "outputId": "db972b2e-87fa-442a-a416-81ce6fab71af"
      },
      "execution_count": 85,
      "outputs": [
        {
          "output_type": "error",
          "ename": "IndexError",
          "evalue": "ignored",
          "traceback": [
            "\u001b[0;31m---------------------------------------------------------------------------\u001b[0m",
            "\u001b[0;31mIndexError\u001b[0m                                Traceback (most recent call last)",
            "\u001b[0;32m<ipython-input-85-aaf9a2cec1d9>\u001b[0m in \u001b[0;36m<cell line: 1>\u001b[0;34m()\u001b[0m\n\u001b[0;32m----> 1\u001b[0;31m \u001b[0mvar\u001b[0m\u001b[0;34m[\u001b[0m\u001b[0;36m3\u001b[0m\u001b[0;34m]\u001b[0m\u001b[0;34m\u001b[0m\u001b[0;34m\u001b[0m\u001b[0m\n\u001b[0m",
            "\u001b[0;31mIndexError\u001b[0m: list index out of range"
          ]
        }
      ]
    },
    {
      "cell_type": "code",
      "source": [
        "var[0]"
      ],
      "metadata": {
        "colab": {
          "base_uri": "https://localhost:8080/"
        },
        "id": "lb8LPBKl8lKd",
        "outputId": "fe6ec6e9-ad98-4c7b-aad2-ddc208af0ef2"
      },
      "execution_count": 86,
      "outputs": [
        {
          "output_type": "execute_result",
          "data": {
            "text/plain": [
              "[1, 2, 3, 4]"
            ]
          },
          "metadata": {},
          "execution_count": 86
        }
      ]
    },
    {
      "cell_type": "code",
      "source": [
        "var = [\"A\", \"B\", 'C', \"D\", \"E\"]"
      ],
      "metadata": {
        "id": "7E23Mu-U8lN3"
      },
      "execution_count": 87,
      "outputs": []
    },
    {
      "cell_type": "code",
      "source": [
        "var"
      ],
      "metadata": {
        "colab": {
          "base_uri": "https://localhost:8080/"
        },
        "id": "xSaAhsLU8lTg",
        "outputId": "40bd7c67-89a0-4821-dec3-37dc69d1a0ab"
      },
      "execution_count": 88,
      "outputs": [
        {
          "output_type": "execute_result",
          "data": {
            "text/plain": [
              "['A', 'B', 'C', 'D', 'E']"
            ]
          },
          "metadata": {},
          "execution_count": 88
        }
      ]
    },
    {
      "cell_type": "code",
      "source": [
        "'Z' in var"
      ],
      "metadata": {
        "colab": {
          "base_uri": "https://localhost:8080/"
        },
        "id": "P8pTtZBk8lXq",
        "outputId": "79e12761-81a1-400b-b42b-1b2b31e3d391"
      },
      "execution_count": 89,
      "outputs": [
        {
          "output_type": "execute_result",
          "data": {
            "text/plain": [
              "False"
            ]
          },
          "metadata": {},
          "execution_count": 89
        }
      ]
    },
    {
      "cell_type": "code",
      "source": [
        "len(var)"
      ],
      "metadata": {
        "colab": {
          "base_uri": "https://localhost:8080/"
        },
        "id": "waAY3mZ38lbk",
        "outputId": "79645f3d-e92a-47b0-a28e-c24a9581c3da"
      },
      "execution_count": 90,
      "outputs": [
        {
          "output_type": "execute_result",
          "data": {
            "text/plain": [
              "5"
            ]
          },
          "metadata": {},
          "execution_count": 90
        }
      ]
    },
    {
      "cell_type": "code",
      "source": [
        "math = [1,2,3,4,5,6,7,8,9,10]"
      ],
      "metadata": {
        "id": "Ixg6a7Qy8lfT"
      },
      "execution_count": 91,
      "outputs": []
    },
    {
      "cell_type": "code",
      "source": [
        "math"
      ],
      "metadata": {
        "colab": {
          "base_uri": "https://localhost:8080/"
        },
        "id": "mG0CXnrE8ljO",
        "outputId": "1332efca-9f8e-4860-944f-3865e14ac776"
      },
      "execution_count": 92,
      "outputs": [
        {
          "output_type": "execute_result",
          "data": {
            "text/plain": [
              "[1, 2, 3, 4, 5, 6, 7, 8, 9, 10]"
            ]
          },
          "metadata": {},
          "execution_count": 92
        }
      ]
    },
    {
      "cell_type": "code",
      "source": [
        "# Maximum -> max()\n",
        "max(math)"
      ],
      "metadata": {
        "colab": {
          "base_uri": "https://localhost:8080/"
        },
        "id": "igaMaIk38lmV",
        "outputId": "3691fe61-257a-4095-876e-110e4d684952"
      },
      "execution_count": 93,
      "outputs": [
        {
          "output_type": "execute_result",
          "data": {
            "text/plain": [
              "10"
            ]
          },
          "metadata": {},
          "execution_count": 93
        }
      ]
    },
    {
      "cell_type": "code",
      "source": [
        "# Minimum -> min()\n",
        "min(math)"
      ],
      "metadata": {
        "colab": {
          "base_uri": "https://localhost:8080/"
        },
        "id": "ZYzv8Epy8lqm",
        "outputId": "eee6a918-8b68-43e8-edd2-f226f6d637cd"
      },
      "execution_count": 94,
      "outputs": [
        {
          "output_type": "execute_result",
          "data": {
            "text/plain": [
              "1"
            ]
          },
          "metadata": {},
          "execution_count": 94
        }
      ]
    },
    {
      "cell_type": "code",
      "source": [
        "sum(math)"
      ],
      "metadata": {
        "colab": {
          "base_uri": "https://localhost:8080/"
        },
        "id": "dg9sFn-08luF",
        "outputId": "e2a6cee6-d662-4bb2-cdde-7672145c85ca"
      },
      "execution_count": 95,
      "outputs": [
        {
          "output_type": "execute_result",
          "data": {
            "text/plain": [
              "55"
            ]
          },
          "metadata": {},
          "execution_count": 95
        }
      ]
    },
    {
      "cell_type": "code",
      "source": [
        "Average = sum(math)/len(math)"
      ],
      "metadata": {
        "id": "WDRN2Zt18lyY"
      },
      "execution_count": 96,
      "outputs": []
    },
    {
      "cell_type": "code",
      "source": [
        "sum(math)/len(math)"
      ],
      "metadata": {
        "colab": {
          "base_uri": "https://localhost:8080/"
        },
        "id": "y7sraB9B8l4Q",
        "outputId": "39bce82d-ed6e-4419-ad59-7737641dbd08"
      },
      "execution_count": 97,
      "outputs": [
        {
          "output_type": "execute_result",
          "data": {
            "text/plain": [
              "5.5"
            ]
          },
          "metadata": {},
          "execution_count": 97
        }
      ]
    },
    {
      "cell_type": "code",
      "source": [
        "# copy()"
      ],
      "metadata": {
        "id": "aIvX7lwB8l8l"
      },
      "execution_count": 98,
      "outputs": []
    },
    {
      "cell_type": "code",
      "source": [
        "math"
      ],
      "metadata": {
        "colab": {
          "base_uri": "https://localhost:8080/"
        },
        "id": "gLMZEmDO8mA-",
        "outputId": "ac249ffe-6541-464a-9d03-523a50068517"
      },
      "execution_count": 99,
      "outputs": [
        {
          "output_type": "execute_result",
          "data": {
            "text/plain": [
              "[1, 2, 3, 4, 5, 6, 7, 8, 9, 10]"
            ]
          },
          "metadata": {},
          "execution_count": 99
        }
      ]
    },
    {
      "cell_type": "code",
      "source": [
        "math1 = math.copy()"
      ],
      "metadata": {
        "id": "icon1Uun8mER"
      },
      "execution_count": 100,
      "outputs": []
    },
    {
      "cell_type": "code",
      "source": [
        "math1"
      ],
      "metadata": {
        "colab": {
          "base_uri": "https://localhost:8080/"
        },
        "id": "9jQ7OSHp8mMo",
        "outputId": "5b24af87-c159-4be8-b13c-0c418b8fbeef"
      },
      "execution_count": 101,
      "outputs": [
        {
          "output_type": "execute_result",
          "data": {
            "text/plain": [
              "[1, 2, 3, 4, 5, 6, 7, 8, 9, 10]"
            ]
          },
          "metadata": {},
          "execution_count": 101
        }
      ]
    },
    {
      "cell_type": "code",
      "source": [
        "math2 = math"
      ],
      "metadata": {
        "id": "xViitf8R8mQ2"
      },
      "execution_count": 102,
      "outputs": []
    },
    {
      "cell_type": "code",
      "source": [
        "math2"
      ],
      "metadata": {
        "colab": {
          "base_uri": "https://localhost:8080/"
        },
        "id": "qri6FNWG8mUn",
        "outputId": "edf6df84-e9d1-471c-c6cf-385d8bff7079"
      },
      "execution_count": 103,
      "outputs": [
        {
          "output_type": "execute_result",
          "data": {
            "text/plain": [
              "[1, 2, 3, 4, 5, 6, 7, 8, 9, 10]"
            ]
          },
          "metadata": {},
          "execution_count": 103
        }
      ]
    },
    {
      "cell_type": "code",
      "source": [
        "# count()\n",
        "math2.append(2)"
      ],
      "metadata": {
        "id": "03XClHez8mi4"
      },
      "execution_count": 104,
      "outputs": []
    },
    {
      "cell_type": "code",
      "source": [
        "math2"
      ],
      "metadata": {
        "colab": {
          "base_uri": "https://localhost:8080/"
        },
        "id": "6DG5z3pm8mmB",
        "outputId": "5ec93b82-265f-46df-ea48-6ed447047acc"
      },
      "execution_count": 105,
      "outputs": [
        {
          "output_type": "execute_result",
          "data": {
            "text/plain": [
              "[1, 2, 3, 4, 5, 6, 7, 8, 9, 10, 2]"
            ]
          },
          "metadata": {},
          "execution_count": 105
        }
      ]
    },
    {
      "cell_type": "code",
      "source": [
        "math2.count(2)"
      ],
      "metadata": {
        "colab": {
          "base_uri": "https://localhost:8080/"
        },
        "id": "7-6ZqjNJ8mtH",
        "outputId": "200c0949-aaf6-4651-fd39-a8c654065d4e"
      },
      "execution_count": 106,
      "outputs": [
        {
          "output_type": "execute_result",
          "data": {
            "text/plain": [
              "2"
            ]
          },
          "metadata": {},
          "execution_count": 106
        }
      ]
    },
    {
      "cell_type": "code",
      "source": [
        "# index()\n",
        "math2"
      ],
      "metadata": {
        "colab": {
          "base_uri": "https://localhost:8080/"
        },
        "id": "9Kg4t5X68m16",
        "outputId": "edf34c4e-15d1-4198-a2ee-1126994d0e3f"
      },
      "execution_count": 107,
      "outputs": [
        {
          "output_type": "execute_result",
          "data": {
            "text/plain": [
              "[1, 2, 3, 4, 5, 6, 7, 8, 9, 10, 2]"
            ]
          },
          "metadata": {},
          "execution_count": 107
        }
      ]
    },
    {
      "cell_type": "code",
      "source": [
        "math2.index(8)"
      ],
      "metadata": {
        "colab": {
          "base_uri": "https://localhost:8080/"
        },
        "id": "tUXIYUTg8m52",
        "outputId": "76daf4ef-8f8c-4eb6-8f9f-8272bca41edb"
      },
      "execution_count": 108,
      "outputs": [
        {
          "output_type": "execute_result",
          "data": {
            "text/plain": [
              "7"
            ]
          },
          "metadata": {},
          "execution_count": 108
        }
      ]
    },
    {
      "cell_type": "code",
      "source": [
        "math2[7]"
      ],
      "metadata": {
        "colab": {
          "base_uri": "https://localhost:8080/"
        },
        "id": "QB5He6LB8ncJ",
        "outputId": "adbd5dd0-7bc9-48ab-ebec-71cca20af72a"
      },
      "execution_count": 109,
      "outputs": [
        {
          "output_type": "execute_result",
          "data": {
            "text/plain": [
              "8"
            ]
          },
          "metadata": {},
          "execution_count": 109
        }
      ]
    },
    {
      "cell_type": "code",
      "source": [
        "# sort() -> Timsort\n",
        "math2.sort()"
      ],
      "metadata": {
        "id": "LGOsRZ8X8nfG"
      },
      "execution_count": 110,
      "outputs": []
    },
    {
      "cell_type": "code",
      "source": [
        "math2"
      ],
      "metadata": {
        "colab": {
          "base_uri": "https://localhost:8080/"
        },
        "id": "PuPR8ACgf0DL",
        "outputId": "f0f4921a-2d14-48ef-b3c3-ce9a9ff4ba36"
      },
      "execution_count": 111,
      "outputs": [
        {
          "output_type": "execute_result",
          "data": {
            "text/plain": [
              "[1, 2, 2, 3, 4, 5, 6, 7, 8, 9, 10]"
            ]
          },
          "metadata": {},
          "execution_count": 111
        }
      ]
    },
    {
      "cell_type": "code",
      "source": [
        "math2.sort(reverse=True)"
      ],
      "metadata": {
        "id": "RKFgZEDYf0JB"
      },
      "execution_count": 112,
      "outputs": []
    },
    {
      "cell_type": "code",
      "source": [
        "math2"
      ],
      "metadata": {
        "colab": {
          "base_uri": "https://localhost:8080/"
        },
        "id": "oN4ywBHpf0Ls",
        "outputId": "3242bc7d-6acf-4f57-bb9e-559b858ab411"
      },
      "execution_count": 113,
      "outputs": [
        {
          "output_type": "execute_result",
          "data": {
            "text/plain": [
              "[10, 9, 8, 7, 6, 5, 4, 3, 2, 2, 1]"
            ]
          },
          "metadata": {},
          "execution_count": 113
        }
      ]
    },
    {
      "cell_type": "code",
      "source": [
        "new_lis = [56, 78, 36, 21, 67, 34, 101, 76, 56]"
      ],
      "metadata": {
        "id": "-vFltswZf0Op"
      },
      "execution_count": 114,
      "outputs": []
    },
    {
      "cell_type": "code",
      "source": [
        "# Q. Given a list, you have to find out the 2nd largest value"
      ],
      "metadata": {
        "id": "CmME9aXxf0Rp"
      },
      "execution_count": 115,
      "outputs": []
    },
    {
      "cell_type": "code",
      "source": [
        "# 1st Method\n",
        "new_lis.sort()"
      ],
      "metadata": {
        "id": "0wYR6NmRf0UX"
      },
      "execution_count": 116,
      "outputs": []
    },
    {
      "cell_type": "code",
      "source": [
        "new_lis"
      ],
      "metadata": {
        "colab": {
          "base_uri": "https://localhost:8080/"
        },
        "id": "5FNUmNi3f0eA",
        "outputId": "2dcf3d80-500e-45c3-ad26-014e38a7a915"
      },
      "execution_count": 117,
      "outputs": [
        {
          "output_type": "execute_result",
          "data": {
            "text/plain": [
              "[21, 34, 36, 56, 56, 67, 76, 78, 101]"
            ]
          },
          "metadata": {},
          "execution_count": 117
        }
      ]
    },
    {
      "cell_type": "code",
      "source": [
        "new_lis[-2]"
      ],
      "metadata": {
        "colab": {
          "base_uri": "https://localhost:8080/"
        },
        "id": "TaqaHVnff0jm",
        "outputId": "accedb54-579c-4f6d-8700-87b7ddb7407e"
      },
      "execution_count": 118,
      "outputs": [
        {
          "output_type": "execute_result",
          "data": {
            "text/plain": [
              "78"
            ]
          },
          "metadata": {},
          "execution_count": 118
        }
      ]
    }
  ]
}