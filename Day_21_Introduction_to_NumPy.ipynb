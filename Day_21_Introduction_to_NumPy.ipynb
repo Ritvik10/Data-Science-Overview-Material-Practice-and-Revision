{
  "nbformat": 4,
  "nbformat_minor": 0,
  "metadata": {
    "colab": {
      "provenance": [],
      "toc_visible": true,
      "include_colab_link": true
    },
    "kernelspec": {
      "name": "python3",
      "display_name": "Python 3"
    },
    "language_info": {
      "name": "python"
    }
  },
  "cells": [
    {
      "cell_type": "markdown",
      "metadata": {
        "id": "view-in-github",
        "colab_type": "text"
      },
      "source": [
        "<a href=\"https://colab.research.google.com/github/Ritvik10/Data-Science-Overview-Material-Practice-and-Revision/blob/main/Day_21_Introduction_to_NumPy.ipynb\" target=\"_parent\"><img src=\"https://colab.research.google.com/assets/colab-badge.svg\" alt=\"Open In Colab\"/></a>"
      ]
    },
    {
      "cell_type": "markdown",
      "source": [
        "# NumPy\n",
        "\n",
        "* It stands for Numerical Python\n",
        "* It is a Python library for working with arrays\n",
        "* It also has functions that helps to work on some domains such as Linear Algebra, Metrics, Fourier Theorem, etc."
      ],
      "metadata": {
        "id": "S1_WBPvpniMf"
      }
    },
    {
      "cell_type": "markdown",
      "source": [
        "# Why NumPy\n",
        "\n",
        "* It is 50x faster than list\n",
        "* It consumes less memory\n",
        "* The NumPy array is known as ndarray"
      ],
      "metadata": {
        "id": "aAXWXVjznyl2"
      }
    },
    {
      "cell_type": "markdown",
      "source": [
        "# Demo to show that how the NumPy is faster than List"
      ],
      "metadata": {
        "id": "3alRNdkaoAUW"
      }
    },
    {
      "cell_type": "code",
      "execution_count": 1,
      "metadata": {
        "id": "q4XxHHcahzEV",
        "outputId": "2a15615c-48cf-4817-9b4e-9c3cced59f3b",
        "colab": {
          "base_uri": "https://localhost:8080/"
        }
      },
      "outputs": [
        {
          "output_type": "stream",
          "name": "stdout",
          "text": [
            "/bin/bash: -c: line 0: syntax error near unexpected token `('\n",
            "/bin/bash: -c: line 0: `pip install numpy -> Notebooks (Jupyter, Google Colab)'\n"
          ]
        }
      ],
      "source": [
        "# pip install numpy -> Local (PyCharm, VSCode)\n",
        "!pip install numpy -> Notebooks (Jupyter, Google Colab)"
      ]
    },
    {
      "cell_type": "code",
      "source": [
        "import numpy as np\n",
        "import time"
      ],
      "metadata": {
        "id": "pRetvf2wh1sH"
      },
      "execution_count": 2,
      "outputs": []
    },
    {
      "cell_type": "code",
      "source": [
        "elements = np.random.rand(100000000)"
      ],
      "metadata": {
        "id": "Vp_K1TRYh1uy"
      },
      "execution_count": 3,
      "outputs": []
    },
    {
      "cell_type": "code",
      "source": [
        "elements"
      ],
      "metadata": {
        "colab": {
          "base_uri": "https://localhost:8080/"
        },
        "id": "m6DRZAxPh1xs",
        "outputId": "65a6602b-4dd4-43ff-f813-bbb6de4c6708"
      },
      "execution_count": 4,
      "outputs": [
        {
          "output_type": "execute_result",
          "data": {
            "text/plain": [
              "array([0.04496598, 0.99991867, 0.26783263, ..., 0.2589319 , 0.94323999,\n",
              "       0.11135898])"
            ]
          },
          "metadata": {},
          "execution_count": 4
        }
      ]
    },
    {
      "cell_type": "code",
      "source": [
        "len(elements)"
      ],
      "metadata": {
        "colab": {
          "base_uri": "https://localhost:8080/"
        },
        "id": "1Md5cFT4h10B",
        "outputId": "b2452962-4865-42e3-ff3c-687faecf9eed"
      },
      "execution_count": 5,
      "outputs": [
        {
          "output_type": "execute_result",
          "data": {
            "text/plain": [
              "100000000"
            ]
          },
          "metadata": {},
          "execution_count": 5
        }
      ]
    },
    {
      "cell_type": "code",
      "source": [
        "# NumPY\n",
        "start = time.time()\n",
        "mean_np = np.mean(elements)\n",
        "print(time.time() - start)"
      ],
      "metadata": {
        "colab": {
          "base_uri": "https://localhost:8080/"
        },
        "id": "Y0ew4OeZh12n",
        "outputId": "256d444b-90d7-4b34-8387-22918202f823"
      },
      "execution_count": 6,
      "outputs": [
        {
          "output_type": "stream",
          "name": "stdout",
          "text": [
            "0.09391450881958008\n"
          ]
        }
      ]
    },
    {
      "cell_type": "code",
      "source": [
        "# List\n",
        "start = time.time()\n",
        "mean_li = sum(elements) / len(elements)\n",
        "print(time.time() - start)"
      ],
      "metadata": {
        "colab": {
          "base_uri": "https://localhost:8080/"
        },
        "id": "UgGU9SJvh15c",
        "outputId": "58626681-8d9f-43c3-c471-ec9dbddfe2ab"
      },
      "execution_count": 7,
      "outputs": [
        {
          "output_type": "stream",
          "name": "stdout",
          "text": [
            "10.787930965423584\n"
          ]
        }
      ]
    },
    {
      "cell_type": "code",
      "source": [
        "mean_np"
      ],
      "metadata": {
        "colab": {
          "base_uri": "https://localhost:8080/"
        },
        "id": "uYm89ZYLh18W",
        "outputId": "3396762f-5489-409a-8a91-1a72d984d1b6"
      },
      "execution_count": 8,
      "outputs": [
        {
          "output_type": "execute_result",
          "data": {
            "text/plain": [
              "0.5000165280643037"
            ]
          },
          "metadata": {},
          "execution_count": 8
        }
      ]
    },
    {
      "cell_type": "code",
      "source": [
        "mean_li"
      ],
      "metadata": {
        "colab": {
          "base_uri": "https://localhost:8080/"
        },
        "id": "DZ4cRGrgh1_N",
        "outputId": "2d024c06-ed52-48cf-c397-e8a3999553c1"
      },
      "execution_count": 9,
      "outputs": [
        {
          "output_type": "execute_result",
          "data": {
            "text/plain": [
              "0.500016528064199"
            ]
          },
          "metadata": {},
          "execution_count": 9
        }
      ]
    },
    {
      "cell_type": "markdown",
      "source": [
        "# Check the NumPy version"
      ],
      "metadata": {
        "id": "lvzpmj4OqW4F"
      }
    },
    {
      "cell_type": "code",
      "source": [
        "#np.__version__ -> Google Colab\n",
        "# numpy --version -> Local"
      ],
      "metadata": {
        "id": "3NIYipoVh2CG"
      },
      "execution_count": 12,
      "outputs": []
    },
    {
      "cell_type": "markdown",
      "source": [
        "# Initializing the NumPy array"
      ],
      "metadata": {
        "id": "ifr-qpgNrkFp"
      }
    },
    {
      "cell_type": "code",
      "source": [
        "# Zeroth Dimension -> 0D\n",
        "\n",
        "arr = np.array(1)\n",
        "print(type(arr))"
      ],
      "metadata": {
        "colab": {
          "base_uri": "https://localhost:8080/"
        },
        "id": "zS2dGFRth2FJ",
        "outputId": "160f0f59-e7ba-443b-d5d4-24f06671b25c"
      },
      "execution_count": 13,
      "outputs": [
        {
          "output_type": "stream",
          "name": "stdout",
          "text": [
            "<class 'numpy.ndarray'>\n"
          ]
        }
      ]
    },
    {
      "cell_type": "code",
      "source": [
        "arr.ndim"
      ],
      "metadata": {
        "colab": {
          "base_uri": "https://localhost:8080/"
        },
        "id": "qadZUIsqh2IB",
        "outputId": "2b7a7695-19b9-44d1-f490-64a4a5b80759"
      },
      "execution_count": 14,
      "outputs": [
        {
          "output_type": "execute_result",
          "data": {
            "text/plain": [
              "0"
            ]
          },
          "metadata": {},
          "execution_count": 14
        }
      ]
    },
    {
      "cell_type": "code",
      "source": [
        "arr"
      ],
      "metadata": {
        "colab": {
          "base_uri": "https://localhost:8080/"
        },
        "id": "fcjvQJdNtCEX",
        "outputId": "c760fdf0-0f74-470c-fc56-1c18c089dd48"
      },
      "execution_count": 15,
      "outputs": [
        {
          "output_type": "execute_result",
          "data": {
            "text/plain": [
              "array(1)"
            ]
          },
          "metadata": {},
          "execution_count": 15
        }
      ]
    },
    {
      "cell_type": "code",
      "source": [
        "# One Dimension -> 1D\n",
        "\n",
        "arr_one = np.array([1,2,3,4,5,6])\n",
        "print(type(arr_one))\n",
        "print(arr_one)\n",
        "print(arr_one.ndim)"
      ],
      "metadata": {
        "colab": {
          "base_uri": "https://localhost:8080/"
        },
        "id": "snVGyVzQh2K7",
        "outputId": "68256cce-c2b2-41dc-bb96-cc0a51d5ccbf"
      },
      "execution_count": 16,
      "outputs": [
        {
          "output_type": "stream",
          "name": "stdout",
          "text": [
            "<class 'numpy.ndarray'>\n",
            "[1 2 3 4 5 6]\n",
            "1\n"
          ]
        }
      ]
    },
    {
      "cell_type": "code",
      "source": [
        "# Two Dimension -> 2D\n",
        "\n",
        "arr_two = np.array(\n",
        "                    [\n",
        "                      [1,2,3,4],\n",
        "                      [5,6,7,8]\n",
        "                     ]\n",
        "                   )\n",
        "print(type(arr_two))\n",
        "print(arr_two)\n",
        "print(arr_two.ndim)"
      ],
      "metadata": {
        "colab": {
          "base_uri": "https://localhost:8080/"
        },
        "id": "cV8EQU2Mh2N2",
        "outputId": "a9ac7da6-ec2f-4f54-a839-6305ce937ef1"
      },
      "execution_count": 17,
      "outputs": [
        {
          "output_type": "stream",
          "name": "stdout",
          "text": [
            "<class 'numpy.ndarray'>\n",
            "[[1 2 3 4]\n",
            " [5 6 7 8]]\n",
            "2\n"
          ]
        }
      ]
    },
    {
      "cell_type": "code",
      "source": [
        "# Three Dimension -> 3D\n",
        "\n",
        "arr_three = np.array(\n",
        "                    [[\n",
        "                      [1,2,3,4],\n",
        "                      [5,6,7,8]\n",
        "                     ],\n",
        "                   [\n",
        "                      [1,2,3,4],\n",
        "                      [5,6,7,8]\n",
        "                     ]]\n",
        "                   )\n",
        "print(type(arr_three))\n",
        "print(arr_three)\n",
        "print(arr_three.ndim)"
      ],
      "metadata": {
        "colab": {
          "base_uri": "https://localhost:8080/"
        },
        "id": "DcQvFrzsh2Q5",
        "outputId": "08f484af-43cf-4738-baa5-5628671baea0"
      },
      "execution_count": 18,
      "outputs": [
        {
          "output_type": "stream",
          "name": "stdout",
          "text": [
            "<class 'numpy.ndarray'>\n",
            "[[[1 2 3 4]\n",
            "  [5 6 7 8]]\n",
            "\n",
            " [[1 2 3 4]\n",
            "  [5 6 7 8]]]\n",
            "3\n"
          ]
        }
      ]
    },
    {
      "cell_type": "markdown",
      "source": [
        "# Check the dimension"
      ],
      "metadata": {
        "id": "Zzk5cXUKudQ4"
      }
    },
    {
      "cell_type": "code",
      "source": [
        "arr.ndim"
      ],
      "metadata": {
        "colab": {
          "base_uri": "https://localhost:8080/"
        },
        "id": "QkTPnABTh2Tg",
        "outputId": "09b64a3c-f98c-4a5f-f23f-b2fc491855ec"
      },
      "execution_count": 19,
      "outputs": [
        {
          "output_type": "execute_result",
          "data": {
            "text/plain": [
              "0"
            ]
          },
          "metadata": {},
          "execution_count": 19
        }
      ]
    },
    {
      "cell_type": "code",
      "source": [
        "arr_one.ndim"
      ],
      "metadata": {
        "colab": {
          "base_uri": "https://localhost:8080/"
        },
        "id": "SDsfPgl2h2WW",
        "outputId": "33340761-324e-4ef2-cd09-e8d939fbd0e0"
      },
      "execution_count": 20,
      "outputs": [
        {
          "output_type": "execute_result",
          "data": {
            "text/plain": [
              "1"
            ]
          },
          "metadata": {},
          "execution_count": 20
        }
      ]
    },
    {
      "cell_type": "code",
      "source": [
        "arr_two.ndim"
      ],
      "metadata": {
        "colab": {
          "base_uri": "https://localhost:8080/"
        },
        "id": "rJwQa58Zh2ZS",
        "outputId": "2a811ec8-71d6-4715-938a-37f3cc6b502d"
      },
      "execution_count": 21,
      "outputs": [
        {
          "output_type": "execute_result",
          "data": {
            "text/plain": [
              "2"
            ]
          },
          "metadata": {},
          "execution_count": 21
        }
      ]
    },
    {
      "cell_type": "code",
      "source": [
        "arr_three.ndim"
      ],
      "metadata": {
        "colab": {
          "base_uri": "https://localhost:8080/"
        },
        "id": "8bqYsiQ-h2cL",
        "outputId": "5597f921-8eaa-496b-a167-b1657c5fdef3"
      },
      "execution_count": 22,
      "outputs": [
        {
          "output_type": "execute_result",
          "data": {
            "text/plain": [
              "3"
            ]
          },
          "metadata": {},
          "execution_count": 22
        }
      ]
    },
    {
      "cell_type": "markdown",
      "source": [
        "# Making a ndarray to n-dimensional array"
      ],
      "metadata": {
        "id": "hnDslUSdusMu"
      }
    },
    {
      "cell_type": "code",
      "source": [
        "one_arr = np.array([1,2,3,4,5])\n",
        "one_arr.ndim"
      ],
      "metadata": {
        "colab": {
          "base_uri": "https://localhost:8080/"
        },
        "id": "VmSavT7fh2e0",
        "outputId": "e11bd21a-35bc-4596-d676-ddd9c33ccfd4"
      },
      "execution_count": 23,
      "outputs": [
        {
          "output_type": "execute_result",
          "data": {
            "text/plain": [
              "1"
            ]
          },
          "metadata": {},
          "execution_count": 23
        }
      ]
    },
    {
      "cell_type": "code",
      "source": [
        "one_arr = np.array([1,2,3,4,5], ndmin=10)\n",
        "print(one_arr)\n",
        "one_arr.ndim"
      ],
      "metadata": {
        "colab": {
          "base_uri": "https://localhost:8080/"
        },
        "id": "I2CDvsBvh2h1",
        "outputId": "9cdc4606-68ae-42e7-f2b4-2531b7e25c76"
      },
      "execution_count": 24,
      "outputs": [
        {
          "output_type": "stream",
          "name": "stdout",
          "text": [
            "[[[[[[[[[[1 2 3 4 5]]]]]]]]]]\n"
          ]
        },
        {
          "output_type": "execute_result",
          "data": {
            "text/plain": [
              "10"
            ]
          },
          "metadata": {},
          "execution_count": 24
        }
      ]
    },
    {
      "cell_type": "code",
      "source": [
        "one_arr = np.array([1,2,3,4,5], ndmin=31)\n",
        "print(one_arr)\n",
        "one_arr.ndim"
      ],
      "metadata": {
        "colab": {
          "base_uri": "https://localhost:8080/"
        },
        "id": "vHvgiEsHh2kx",
        "outputId": "d31f06af-f5fa-4478-f14b-37261bc8f0f6"
      },
      "execution_count": 25,
      "outputs": [
        {
          "output_type": "stream",
          "name": "stdout",
          "text": [
            "[[[[[[[[[[[[[[[[[[[[[[[[[[[[[[[1 2 3 4 5]]]]]]]]]]]]]]]]]]]]]]]]]]]]]]]\n"
          ]
        },
        {
          "output_type": "execute_result",
          "data": {
            "text/plain": [
              "31"
            ]
          },
          "metadata": {},
          "execution_count": 25
        }
      ]
    },
    {
      "cell_type": "code",
      "source": [
        "two_arr = np.array([[1,2,3,4],\n",
        "                    [5,6,7,8]], ndmin=3)\n",
        "print(two_arr)\n",
        "two_arr.ndim"
      ],
      "metadata": {
        "colab": {
          "base_uri": "https://localhost:8080/"
        },
        "id": "yRMBL2ALh2n7",
        "outputId": "590cd655-b721-41f0-ab8b-4f017a58e78c"
      },
      "execution_count": 26,
      "outputs": [
        {
          "output_type": "stream",
          "name": "stdout",
          "text": [
            "[[[1 2 3 4]\n",
            "  [5 6 7 8]]]\n"
          ]
        },
        {
          "output_type": "execute_result",
          "data": {
            "text/plain": [
              "3"
            ]
          },
          "metadata": {},
          "execution_count": 26
        }
      ]
    },
    {
      "cell_type": "markdown",
      "source": [
        "# No. of rows X No. of Columns"
      ],
      "metadata": {
        "id": "ff5Wea5GvwGr"
      }
    },
    {
      "cell_type": "code",
      "source": [
        "b = np.array([[1,2,3,4,5],\n",
        "              [6,7,8,9,10]])"
      ],
      "metadata": {
        "id": "GXQBSfh1h2q9"
      },
      "execution_count": 27,
      "outputs": []
    },
    {
      "cell_type": "code",
      "source": [
        "b"
      ],
      "metadata": {
        "colab": {
          "base_uri": "https://localhost:8080/"
        },
        "id": "7fsmYwk_h2t6",
        "outputId": "2cfac7a1-4dcc-423a-882d-12f961ecb5b3"
      },
      "execution_count": 28,
      "outputs": [
        {
          "output_type": "execute_result",
          "data": {
            "text/plain": [
              "array([[ 1,  2,  3,  4,  5],\n",
              "       [ 6,  7,  8,  9, 10]])"
            ]
          },
          "metadata": {},
          "execution_count": 28
        }
      ]
    },
    {
      "cell_type": "code",
      "source": [
        "b.shape"
      ],
      "metadata": {
        "colab": {
          "base_uri": "https://localhost:8080/"
        },
        "id": "oty4EMrih2w1",
        "outputId": "ba6254c4-4831-4a00-8577-6a2ed8aaba0d"
      },
      "execution_count": 29,
      "outputs": [
        {
          "output_type": "execute_result",
          "data": {
            "text/plain": [
              "(2, 5)"
            ]
          },
          "metadata": {},
          "execution_count": 29
        }
      ]
    },
    {
      "cell_type": "code",
      "source": [
        "one = np.array([1,2,3,4])"
      ],
      "metadata": {
        "id": "TbUcMMR2h2z0"
      },
      "execution_count": 30,
      "outputs": []
    },
    {
      "cell_type": "code",
      "source": [
        "one.shape"
      ],
      "metadata": {
        "colab": {
          "base_uri": "https://localhost:8080/"
        },
        "id": "Du8lKukBh23A",
        "outputId": "42f297d6-e722-411c-95a7-bf69688a9139"
      },
      "execution_count": 31,
      "outputs": [
        {
          "output_type": "execute_result",
          "data": {
            "text/plain": [
              "(4,)"
            ]
          },
          "metadata": {},
          "execution_count": 31
        }
      ]
    },
    {
      "cell_type": "code",
      "source": [
        "(2,3)\n",
        "(4,)"
      ],
      "metadata": {
        "id": "QX3TFTWth254",
        "outputId": "d339ab37-6c5a-4d53-98e4-43b300c2a8ae",
        "colab": {
          "base_uri": "https://localhost:8080/"
        }
      },
      "execution_count": 32,
      "outputs": [
        {
          "output_type": "execute_result",
          "data": {
            "text/plain": [
              "(4,)"
            ]
          },
          "metadata": {},
          "execution_count": 32
        }
      ]
    },
    {
      "cell_type": "markdown",
      "source": [
        "# Size -> To count the number of elements"
      ],
      "metadata": {
        "id": "h-sCnygSxBAd"
      }
    },
    {
      "cell_type": "code",
      "source": [
        "b"
      ],
      "metadata": {
        "colab": {
          "base_uri": "https://localhost:8080/"
        },
        "id": "DRb6cH_Ah28-",
        "outputId": "7c96a1a4-1da3-4d1a-c5d9-9278a3b017cb"
      },
      "execution_count": 33,
      "outputs": [
        {
          "output_type": "execute_result",
          "data": {
            "text/plain": [
              "array([[ 1,  2,  3,  4,  5],\n",
              "       [ 6,  7,  8,  9, 10]])"
            ]
          },
          "metadata": {},
          "execution_count": 33
        }
      ]
    },
    {
      "cell_type": "code",
      "source": [
        "b.size"
      ],
      "metadata": {
        "colab": {
          "base_uri": "https://localhost:8080/"
        },
        "id": "pLpxNBYxh2_3",
        "outputId": "5e1928a9-3d88-4c76-a8ff-2533644d6b44"
      },
      "execution_count": 34,
      "outputs": [
        {
          "output_type": "execute_result",
          "data": {
            "text/plain": [
              "10"
            ]
          },
          "metadata": {},
          "execution_count": 34
        }
      ]
    },
    {
      "cell_type": "code",
      "source": [
        "len(b)"
      ],
      "metadata": {
        "colab": {
          "base_uri": "https://localhost:8080/"
        },
        "id": "thDnUeF1h3C8",
        "outputId": "06d52d34-5606-41d7-c79d-a71f6feb203f"
      },
      "execution_count": 35,
      "outputs": [
        {
          "output_type": "execute_result",
          "data": {
            "text/plain": [
              "2"
            ]
          },
          "metadata": {},
          "execution_count": 35
        }
      ]
    },
    {
      "cell_type": "markdown",
      "source": [
        "# Accessing the elements"
      ],
      "metadata": {
        "id": "v4W-YcTzxnUs"
      }
    },
    {
      "cell_type": "code",
      "source": [
        "# 1D\n",
        "arr_one = np.array([1,2,3,4,5])\n",
        "arr_one"
      ],
      "metadata": {
        "colab": {
          "base_uri": "https://localhost:8080/"
        },
        "id": "tN2Pxuo-h3Gj",
        "outputId": "a2a6000c-5fa1-45d6-d522-a4fa1374fb1d"
      },
      "execution_count": 36,
      "outputs": [
        {
          "output_type": "execute_result",
          "data": {
            "text/plain": [
              "array([1, 2, 3, 4, 5])"
            ]
          },
          "metadata": {},
          "execution_count": 36
        }
      ]
    },
    {
      "cell_type": "code",
      "source": [
        "arr_one[:]"
      ],
      "metadata": {
        "colab": {
          "base_uri": "https://localhost:8080/"
        },
        "id": "M4RP3Jzsh3I-",
        "outputId": "8140f401-c052-48f7-d394-5878291fd46b"
      },
      "execution_count": 37,
      "outputs": [
        {
          "output_type": "execute_result",
          "data": {
            "text/plain": [
              "array([1, 2, 3, 4, 5])"
            ]
          },
          "metadata": {},
          "execution_count": 37
        }
      ]
    },
    {
      "cell_type": "code",
      "source": [
        "arr_one[3]"
      ],
      "metadata": {
        "colab": {
          "base_uri": "https://localhost:8080/"
        },
        "id": "u8IeVKVlh3L9",
        "outputId": "4caac2c8-af97-49df-ebcf-c7b2fbc57928"
      },
      "execution_count": 38,
      "outputs": [
        {
          "output_type": "execute_result",
          "data": {
            "text/plain": [
              "4"
            ]
          },
          "metadata": {},
          "execution_count": 38
        }
      ]
    },
    {
      "cell_type": "code",
      "source": [
        "# 2D\n",
        "arr_two = np.array([[1,2,3,4],\n",
        "                    [5,6,7,8]])\n",
        "arr_two"
      ],
      "metadata": {
        "colab": {
          "base_uri": "https://localhost:8080/"
        },
        "id": "Zw0JkBXth3Ot",
        "outputId": "803f17a1-36ed-4c70-a033-38a1adc96437"
      },
      "execution_count": 39,
      "outputs": [
        {
          "output_type": "execute_result",
          "data": {
            "text/plain": [
              "array([[1, 2, 3, 4],\n",
              "       [5, 6, 7, 8]])"
            ]
          },
          "metadata": {},
          "execution_count": 39
        }
      ]
    },
    {
      "cell_type": "code",
      "source": [
        "arr_two[1,2]"
      ],
      "metadata": {
        "colab": {
          "base_uri": "https://localhost:8080/"
        },
        "id": "ZS8rATxmh3RV",
        "outputId": "9b1660be-53e9-4c6b-af24-ae2eae5f6a45"
      },
      "execution_count": 40,
      "outputs": [
        {
          "output_type": "execute_result",
          "data": {
            "text/plain": [
              "7"
            ]
          },
          "metadata": {},
          "execution_count": 40
        }
      ]
    },
    {
      "cell_type": "code",
      "source": [
        "arr_two[1,2] = 70"
      ],
      "metadata": {
        "id": "HAPNtkLAh3Ud"
      },
      "execution_count": 41,
      "outputs": []
    },
    {
      "cell_type": "code",
      "source": [
        "arr_two"
      ],
      "metadata": {
        "colab": {
          "base_uri": "https://localhost:8080/"
        },
        "id": "yEI8W_5nh3Xk",
        "outputId": "3576a8f4-ea5f-4fa7-ec1b-7bb9decdc2ac"
      },
      "execution_count": 42,
      "outputs": [
        {
          "output_type": "execute_result",
          "data": {
            "text/plain": [
              "array([[ 1,  2,  3,  4],\n",
              "       [ 5,  6, 70,  8]])"
            ]
          },
          "metadata": {},
          "execution_count": 42
        }
      ]
    },
    {
      "cell_type": "code",
      "source": [
        "arr_two[0,0:3]"
      ],
      "metadata": {
        "colab": {
          "base_uri": "https://localhost:8080/"
        },
        "id": "sCQa4Ef2h3at",
        "outputId": "d70e13a4-d5b5-4e1a-ef70-8539b326e150"
      },
      "execution_count": 43,
      "outputs": [
        {
          "output_type": "execute_result",
          "data": {
            "text/plain": [
              "array([1, 2, 3])"
            ]
          },
          "metadata": {},
          "execution_count": 43
        }
      ]
    },
    {
      "cell_type": "code",
      "source": [
        "arr_two[0,0:3] = [10, 20, 30]"
      ],
      "metadata": {
        "id": "j4Jgyb5Eh3eC"
      },
      "execution_count": 44,
      "outputs": []
    },
    {
      "cell_type": "code",
      "source": [
        "arr_two"
      ],
      "metadata": {
        "colab": {
          "base_uri": "https://localhost:8080/"
        },
        "id": "LemU73Tbh3hS",
        "outputId": "ae7f0c9f-f2e7-49bc-ac84-d984a8b5bde0"
      },
      "execution_count": 45,
      "outputs": [
        {
          "output_type": "execute_result",
          "data": {
            "text/plain": [
              "array([[10, 20, 30,  4],\n",
              "       [ 5,  6, 70,  8]])"
            ]
          },
          "metadata": {},
          "execution_count": 45
        }
      ]
    },
    {
      "cell_type": "code",
      "source": [
        "arr_two[0,0:3] = 23"
      ],
      "metadata": {
        "id": "nxQH9MI-h3kS"
      },
      "execution_count": 46,
      "outputs": []
    },
    {
      "cell_type": "code",
      "source": [
        "arr_two"
      ],
      "metadata": {
        "colab": {
          "base_uri": "https://localhost:8080/"
        },
        "id": "77VF6IB7h3nc",
        "outputId": "c8579876-f6b2-4e48-e5c9-d45f6115603a"
      },
      "execution_count": 47,
      "outputs": [
        {
          "output_type": "execute_result",
          "data": {
            "text/plain": [
              "array([[23, 23, 23,  4],\n",
              "       [ 5,  6, 70,  8]])"
            ]
          },
          "metadata": {},
          "execution_count": 47
        }
      ]
    },
    {
      "cell_type": "code",
      "source": [
        "arr_two[0:4]"
      ],
      "metadata": {
        "colab": {
          "base_uri": "https://localhost:8080/"
        },
        "id": "kOu8GsUoh3qW",
        "outputId": "252dc4be-f0fe-4d64-d8ab-2dfda3eb3b0e"
      },
      "execution_count": 48,
      "outputs": [
        {
          "output_type": "execute_result",
          "data": {
            "text/plain": [
              "array([[23, 23, 23,  4],\n",
              "       [ 5,  6, 70,  8]])"
            ]
          },
          "metadata": {},
          "execution_count": 48
        }
      ]
    },
    {
      "cell_type": "markdown",
      "source": [
        "# Operations"
      ],
      "metadata": {
        "id": "-2uFtPmKzsuw"
      }
    },
    {
      "cell_type": "code",
      "source": [
        "arr_two"
      ],
      "metadata": {
        "colab": {
          "base_uri": "https://localhost:8080/"
        },
        "id": "FDikgFcYh3tf",
        "outputId": "de7d220b-57c7-4408-9f00-ee2cc25811ea"
      },
      "execution_count": 49,
      "outputs": [
        {
          "output_type": "execute_result",
          "data": {
            "text/plain": [
              "array([[23, 23, 23,  4],\n",
              "       [ 5,  6, 70,  8]])"
            ]
          },
          "metadata": {},
          "execution_count": 49
        }
      ]
    },
    {
      "cell_type": "code",
      "source": [
        "arr_two + 10"
      ],
      "metadata": {
        "colab": {
          "base_uri": "https://localhost:8080/"
        },
        "id": "_dZbTa-3h3wz",
        "outputId": "0eafbf38-79b3-4fe0-9f65-8b8b92a63392"
      },
      "execution_count": 50,
      "outputs": [
        {
          "output_type": "execute_result",
          "data": {
            "text/plain": [
              "array([[33, 33, 33, 14],\n",
              "       [15, 16, 80, 18]])"
            ]
          },
          "metadata": {},
          "execution_count": 50
        }
      ]
    },
    {
      "cell_type": "code",
      "source": [
        "arr_two - 10"
      ],
      "metadata": {
        "colab": {
          "base_uri": "https://localhost:8080/"
        },
        "id": "mSVJEjZsh30g",
        "outputId": "15df2d10-e06b-4dce-f86c-0f12a9e1df9a"
      },
      "execution_count": 51,
      "outputs": [
        {
          "output_type": "execute_result",
          "data": {
            "text/plain": [
              "array([[13, 13, 13, -6],\n",
              "       [-5, -4, 60, -2]])"
            ]
          },
          "metadata": {},
          "execution_count": 51
        }
      ]
    },
    {
      "cell_type": "code",
      "source": [
        "arr_two * 10"
      ],
      "metadata": {
        "colab": {
          "base_uri": "https://localhost:8080/"
        },
        "id": "bYbFfdv6h4AZ",
        "outputId": "7da53d4b-3965-45a3-d031-b0c68f40e982"
      },
      "execution_count": 52,
      "outputs": [
        {
          "output_type": "execute_result",
          "data": {
            "text/plain": [
              "array([[230, 230, 230,  40],\n",
              "       [ 50,  60, 700,  80]])"
            ]
          },
          "metadata": {},
          "execution_count": 52
        }
      ]
    },
    {
      "cell_type": "code",
      "source": [
        "arr_two / 10"
      ],
      "metadata": {
        "colab": {
          "base_uri": "https://localhost:8080/"
        },
        "id": "31wyUfMyh4DH",
        "outputId": "b9a55fed-8034-4d52-b523-95030deed4df"
      },
      "execution_count": 53,
      "outputs": [
        {
          "output_type": "execute_result",
          "data": {
            "text/plain": [
              "array([[2.3, 2.3, 2.3, 0.4],\n",
              "       [0.5, 0.6, 7. , 0.8]])"
            ]
          },
          "metadata": {},
          "execution_count": 53
        }
      ]
    },
    {
      "cell_type": "code",
      "source": [
        "[1,2,3,4,5] + 10"
      ],
      "metadata": {
        "colab": {
          "base_uri": "https://localhost:8080/",
          "height": 165
        },
        "id": "qOESbtR3h4Fs",
        "outputId": "82649d28-7af2-4625-c55d-2b3998681840"
      },
      "execution_count": 54,
      "outputs": [
        {
          "output_type": "error",
          "ename": "TypeError",
          "evalue": "ignored",
          "traceback": [
            "\u001b[0;31m---------------------------------------------------------------------------\u001b[0m",
            "\u001b[0;31mTypeError\u001b[0m                                 Traceback (most recent call last)",
            "\u001b[0;32m<ipython-input-54-93a2581987ac>\u001b[0m in \u001b[0;36m<cell line: 1>\u001b[0;34m()\u001b[0m\n\u001b[0;32m----> 1\u001b[0;31m \u001b[0;34m[\u001b[0m\u001b[0;36m1\u001b[0m\u001b[0;34m,\u001b[0m\u001b[0;36m2\u001b[0m\u001b[0;34m,\u001b[0m\u001b[0;36m3\u001b[0m\u001b[0;34m,\u001b[0m\u001b[0;36m4\u001b[0m\u001b[0;34m,\u001b[0m\u001b[0;36m5\u001b[0m\u001b[0;34m]\u001b[0m \u001b[0;34m+\u001b[0m \u001b[0;36m10\u001b[0m\u001b[0;34m\u001b[0m\u001b[0;34m\u001b[0m\u001b[0m\n\u001b[0m",
            "\u001b[0;31mTypeError\u001b[0m: can only concatenate list (not \"int\") to list"
          ]
        }
      ]
    },
    {
      "cell_type": "code",
      "source": [
        "np.array([1,2,3,4,5]) + 10"
      ],
      "metadata": {
        "colab": {
          "base_uri": "https://localhost:8080/"
        },
        "id": "41HXlurMh4Im",
        "outputId": "2c8195e3-5db6-4591-942a-53d3c5b8ccaa"
      },
      "execution_count": 55,
      "outputs": [
        {
          "output_type": "execute_result",
          "data": {
            "text/plain": [
              "array([11, 12, 13, 14, 15])"
            ]
          },
          "metadata": {},
          "execution_count": 55
        }
      ]
    },
    {
      "cell_type": "markdown",
      "source": [
        "# Copy Vs View"
      ],
      "metadata": {
        "id": "Uu0KMBzX01-G"
      }
    },
    {
      "cell_type": "code",
      "source": [
        "arr_two"
      ],
      "metadata": {
        "colab": {
          "base_uri": "https://localhost:8080/"
        },
        "id": "7irXhYJb0yXp",
        "outputId": "597a264a-e8ae-420a-c5d3-022e201fd8bc"
      },
      "execution_count": 56,
      "outputs": [
        {
          "output_type": "execute_result",
          "data": {
            "text/plain": [
              "array([[23, 23, 23,  4],\n",
              "       [ 5,  6, 70,  8]])"
            ]
          },
          "metadata": {},
          "execution_count": 56
        }
      ]
    },
    {
      "cell_type": "code",
      "source": [
        "# Copy\n",
        "copy_fun = arr_two.copy()"
      ],
      "metadata": {
        "id": "DpQpi43t0yeA"
      },
      "execution_count": 57,
      "outputs": []
    },
    {
      "cell_type": "code",
      "source": [
        "copy_fun += 100"
      ],
      "metadata": {
        "id": "_fuTXaV-0yhO"
      },
      "execution_count": 58,
      "outputs": []
    },
    {
      "cell_type": "code",
      "source": [
        "copy_fun"
      ],
      "metadata": {
        "colab": {
          "base_uri": "https://localhost:8080/"
        },
        "id": "QdohB2Wf0ymh",
        "outputId": "3d6f3501-b8ae-42ec-bd60-e17cbc7b9c98"
      },
      "execution_count": 59,
      "outputs": [
        {
          "output_type": "execute_result",
          "data": {
            "text/plain": [
              "array([[123, 123, 123, 104],\n",
              "       [105, 106, 170, 108]])"
            ]
          },
          "metadata": {},
          "execution_count": 59
        }
      ]
    },
    {
      "cell_type": "code",
      "source": [
        "arr_two"
      ],
      "metadata": {
        "colab": {
          "base_uri": "https://localhost:8080/"
        },
        "id": "mhpbSadK0yqE",
        "outputId": "b6a37580-cb84-40ee-da2f-b33c4e2bca7b"
      },
      "execution_count": 60,
      "outputs": [
        {
          "output_type": "execute_result",
          "data": {
            "text/plain": [
              "array([[23, 23, 23,  4],\n",
              "       [ 5,  6, 70,  8]])"
            ]
          },
          "metadata": {},
          "execution_count": 60
        }
      ]
    },
    {
      "cell_type": "code",
      "source": [
        "# View\n",
        "view_fun = arr_two.view()"
      ],
      "metadata": {
        "id": "76R8sYWZ0yyx"
      },
      "execution_count": 61,
      "outputs": []
    },
    {
      "cell_type": "code",
      "source": [
        "view_fun += 100"
      ],
      "metadata": {
        "id": "yZvAXs3X0y2b"
      },
      "execution_count": 62,
      "outputs": []
    },
    {
      "cell_type": "code",
      "source": [
        "view_fun"
      ],
      "metadata": {
        "colab": {
          "base_uri": "https://localhost:8080/"
        },
        "id": "FElT1Y5M0y-y",
        "outputId": "7608d3f4-bb20-4fff-fa42-6e9ed63e0c7d"
      },
      "execution_count": 63,
      "outputs": [
        {
          "output_type": "execute_result",
          "data": {
            "text/plain": [
              "array([[123, 123, 123, 104],\n",
              "       [105, 106, 170, 108]])"
            ]
          },
          "metadata": {},
          "execution_count": 63
        }
      ]
    },
    {
      "cell_type": "code",
      "source": [
        "arr_two"
      ],
      "metadata": {
        "colab": {
          "base_uri": "https://localhost:8080/"
        },
        "id": "Dmu7EF0D0zCU",
        "outputId": "8b09a4ee-61c0-4aab-cca7-86884e1973aa"
      },
      "execution_count": 64,
      "outputs": [
        {
          "output_type": "execute_result",
          "data": {
            "text/plain": [
              "array([[123, 123, 123, 104],\n",
              "       [105, 106, 170, 108]])"
            ]
          },
          "metadata": {},
          "execution_count": 64
        }
      ]
    },
    {
      "cell_type": "markdown",
      "source": [
        "# Reshape"
      ],
      "metadata": {
        "id": "ymUu2_ep1rgk"
      }
    },
    {
      "cell_type": "code",
      "source": [
        "a = np.array([1,2,3,4,5,6,7,8,9,10,11,12])"
      ],
      "metadata": {
        "id": "d2-YSv960zHB"
      },
      "execution_count": 65,
      "outputs": []
    },
    {
      "cell_type": "code",
      "source": [
        "a"
      ],
      "metadata": {
        "colab": {
          "base_uri": "https://localhost:8080/"
        },
        "id": "RfOXAAyd3CS6",
        "outputId": "fc5ac632-0059-419c-e79a-a8d7928d4a6a"
      },
      "execution_count": 66,
      "outputs": [
        {
          "output_type": "execute_result",
          "data": {
            "text/plain": [
              "array([ 1,  2,  3,  4,  5,  6,  7,  8,  9, 10, 11, 12])"
            ]
          },
          "metadata": {},
          "execution_count": 66
        }
      ]
    },
    {
      "cell_type": "code",
      "source": [
        "a.shape"
      ],
      "metadata": {
        "colab": {
          "base_uri": "https://localhost:8080/"
        },
        "id": "mpXh7sxO0zK1",
        "outputId": "383be1e0-59d6-4387-95fd-fb91faecc0f9"
      },
      "execution_count": 67,
      "outputs": [
        {
          "output_type": "execute_result",
          "data": {
            "text/plain": [
              "(12,)"
            ]
          },
          "metadata": {},
          "execution_count": 67
        }
      ]
    },
    {
      "cell_type": "code",
      "source": [
        "#(2,6)(6,2)(4,3)(3,4)(1,12)(12,1) -> 2D\n",
        "#(1,2,6)(1,6,2)(2,6,1)(6,2,1)(1,4,3)()"
      ],
      "metadata": {
        "id": "CyleqP6q0zOf"
      },
      "execution_count": 69,
      "outputs": []
    },
    {
      "cell_type": "code",
      "source": [
        "a.reshape(3,2,2)"
      ],
      "metadata": {
        "colab": {
          "base_uri": "https://localhost:8080/"
        },
        "id": "DzjtnKk40zUJ",
        "outputId": "52fb19f9-a77c-43ee-b8f3-5d59c26fd9a7"
      },
      "execution_count": 70,
      "outputs": [
        {
          "output_type": "execute_result",
          "data": {
            "text/plain": [
              "array([[[ 1,  2],\n",
              "        [ 3,  4]],\n",
              "\n",
              "       [[ 5,  6],\n",
              "        [ 7,  8]],\n",
              "\n",
              "       [[ 9, 10],\n",
              "        [11, 12]]])"
            ]
          },
          "metadata": {},
          "execution_count": 70
        }
      ]
    },
    {
      "cell_type": "code",
      "source": [
        "a.reshape(2,6)"
      ],
      "metadata": {
        "colab": {
          "base_uri": "https://localhost:8080/"
        },
        "id": "s3Hq58Ro0zZm",
        "outputId": "d553e06c-68bf-4037-d94b-43400ef53a6e"
      },
      "execution_count": 71,
      "outputs": [
        {
          "output_type": "execute_result",
          "data": {
            "text/plain": [
              "array([[ 1,  2,  3,  4,  5,  6],\n",
              "       [ 7,  8,  9, 10, 11, 12]])"
            ]
          },
          "metadata": {},
          "execution_count": 71
        }
      ]
    },
    {
      "cell_type": "code",
      "source": [
        "a.reshape(-1,6)"
      ],
      "metadata": {
        "colab": {
          "base_uri": "https://localhost:8080/"
        },
        "id": "FMUai6wM0zeW",
        "outputId": "1bc0f2f0-6953-4f9a-f21b-47f3edcb9cb2"
      },
      "execution_count": 72,
      "outputs": [
        {
          "output_type": "execute_result",
          "data": {
            "text/plain": [
              "array([[ 1,  2,  3,  4,  5,  6],\n",
              "       [ 7,  8,  9, 10, 11, 12]])"
            ]
          },
          "metadata": {},
          "execution_count": 72
        }
      ]
    },
    {
      "cell_type": "code",
      "source": [
        "a.reshape(-1,2)"
      ],
      "metadata": {
        "colab": {
          "base_uri": "https://localhost:8080/"
        },
        "id": "VUnEGnBH0zmA",
        "outputId": "695b4a28-05d7-4b77-d9bc-b3dc3d3fbc42"
      },
      "execution_count": 73,
      "outputs": [
        {
          "output_type": "execute_result",
          "data": {
            "text/plain": [
              "array([[ 1,  2],\n",
              "       [ 3,  4],\n",
              "       [ 5,  6],\n",
              "       [ 7,  8],\n",
              "       [ 9, 10],\n",
              "       [11, 12]])"
            ]
          },
          "metadata": {},
          "execution_count": 73
        }
      ]
    },
    {
      "cell_type": "code",
      "source": [
        "a.reshape(-1,3,2)"
      ],
      "metadata": {
        "colab": {
          "base_uri": "https://localhost:8080/"
        },
        "id": "G-py7B4g0zpO",
        "outputId": "c419f0b1-a9ff-45b3-8d3c-54ad61e07c93"
      },
      "execution_count": 74,
      "outputs": [
        {
          "output_type": "execute_result",
          "data": {
            "text/plain": [
              "array([[[ 1,  2],\n",
              "        [ 3,  4],\n",
              "        [ 5,  6]],\n",
              "\n",
              "       [[ 7,  8],\n",
              "        [ 9, 10],\n",
              "        [11, 12]]])"
            ]
          },
          "metadata": {},
          "execution_count": 74
        }
      ]
    },
    {
      "cell_type": "code",
      "source": [
        "a.reshape(-1,5)"
      ],
      "metadata": {
        "colab": {
          "base_uri": "https://localhost:8080/",
          "height": 165
        },
        "id": "_WOto5sW0zuQ",
        "outputId": "c63ad88d-ea10-45c9-be5f-c1487e236b72"
      },
      "execution_count": 75,
      "outputs": [
        {
          "output_type": "error",
          "ename": "ValueError",
          "evalue": "ignored",
          "traceback": [
            "\u001b[0;31m---------------------------------------------------------------------------\u001b[0m",
            "\u001b[0;31mValueError\u001b[0m                                Traceback (most recent call last)",
            "\u001b[0;32m<ipython-input-75-f6f6067c0c46>\u001b[0m in \u001b[0;36m<cell line: 1>\u001b[0;34m()\u001b[0m\n\u001b[0;32m----> 1\u001b[0;31m \u001b[0ma\u001b[0m\u001b[0;34m.\u001b[0m\u001b[0mreshape\u001b[0m\u001b[0;34m(\u001b[0m\u001b[0;34m-\u001b[0m\u001b[0;36m1\u001b[0m\u001b[0;34m,\u001b[0m\u001b[0;36m5\u001b[0m\u001b[0;34m)\u001b[0m\u001b[0;34m\u001b[0m\u001b[0;34m\u001b[0m\u001b[0m\n\u001b[0m",
            "\u001b[0;31mValueError\u001b[0m: cannot reshape array of size 12 into shape (5)"
          ]
        }
      ]
    },
    {
      "cell_type": "markdown",
      "source": [
        "# Iterate"
      ],
      "metadata": {
        "id": "HXiXvy5f5GeA"
      }
    },
    {
      "cell_type": "code",
      "source": [
        "a = np.array([1,2,3,4,5,6])"
      ],
      "metadata": {
        "id": "8PH2Ns4m0zye"
      },
      "execution_count": 76,
      "outputs": []
    },
    {
      "cell_type": "code",
      "source": [
        "for i in a:\n",
        "  print(i)"
      ],
      "metadata": {
        "colab": {
          "base_uri": "https://localhost:8080/"
        },
        "id": "rJJP5EGB0z4F",
        "outputId": "8733e179-20e6-4e55-bbe7-d4b81abf6436"
      },
      "execution_count": 77,
      "outputs": [
        {
          "output_type": "stream",
          "name": "stdout",
          "text": [
            "1\n",
            "2\n",
            "3\n",
            "4\n",
            "5\n",
            "6\n"
          ]
        }
      ]
    },
    {
      "cell_type": "code",
      "source": [
        "a_2 = np.array([[1,2,3,4,5,6],\n",
        "                [7,8,9,10,11,12]])"
      ],
      "metadata": {
        "id": "EkFrIubY5Sft"
      },
      "execution_count": 78,
      "outputs": []
    },
    {
      "cell_type": "code",
      "source": [
        "for i in a_2:\n",
        "  for j in i:\n",
        "    print(j)"
      ],
      "metadata": {
        "colab": {
          "base_uri": "https://localhost:8080/"
        },
        "id": "CsKg8RJw5Sth",
        "outputId": "7c53ccc6-12c3-4c77-844d-69ec8a6f656d"
      },
      "execution_count": 79,
      "outputs": [
        {
          "output_type": "stream",
          "name": "stdout",
          "text": [
            "1\n",
            "2\n",
            "3\n",
            "4\n",
            "5\n",
            "6\n",
            "7\n",
            "8\n",
            "9\n",
            "10\n",
            "11\n",
            "12\n"
          ]
        }
      ]
    },
    {
      "cell_type": "code",
      "source": [
        "for i in np.nditer(a_2):\n",
        "  print(i)"
      ],
      "metadata": {
        "colab": {
          "base_uri": "https://localhost:8080/"
        },
        "id": "ksR_ecDc5Sv7",
        "outputId": "4fb87c20-b4f2-4947-d892-06b6ce4d8714"
      },
      "execution_count": 80,
      "outputs": [
        {
          "output_type": "stream",
          "name": "stdout",
          "text": [
            "1\n",
            "2\n",
            "3\n",
            "4\n",
            "5\n",
            "6\n",
            "7\n",
            "8\n",
            "9\n",
            "10\n",
            "11\n",
            "12\n"
          ]
        }
      ]
    },
    {
      "cell_type": "code",
      "source": [
        "a_2.dtype"
      ],
      "metadata": {
        "colab": {
          "base_uri": "https://localhost:8080/"
        },
        "id": "BgsSBjOk5Sya",
        "outputId": "aefdc17e-6d1d-48be-9e02-5f73638787ee"
      },
      "execution_count": 81,
      "outputs": [
        {
          "output_type": "execute_result",
          "data": {
            "text/plain": [
              "dtype('int64')"
            ]
          },
          "metadata": {},
          "execution_count": 81
        }
      ]
    },
    {
      "cell_type": "markdown",
      "source": [
        "# Task 5\n",
        "\n",
        "* https://colab.research.google.com/drive/1iVw8dEYI883E-Q8Qd4Th9-jeum-Aa2TE?usp=sharing\n",
        "\n",
        "* https://colab.research.google.com/drive/1amBpsmUeVu-71Oi1Lnvyd986IrF6o48j?usp=sharing\n",
        "\n",
        "* https://colab.research.google.com/drive/1lWS1UXQCntu_HWNNBHbzojE6mVR6x4iJ?usp=sharing\n",
        "\n",
        "* https://colab.research.google.com/drive/1CS85AaHrNxTabO5_b_ICaDEiYaYyeWV_?usp=sharing\n",
        "\n",
        "* https://colab.research.google.com/drive/1gHLSDVEGAHuSBbf2U98Adqj1gXro-dEy?usp=sharing\n",
        "\n",
        "* https://colab.research.google.com/drive/1PXMDTFoJvkhNi5lr-wUhjwSxSgVGr2Ls?usp=sharing\n",
        "\n",
        "* https://colab.research.google.com/drive/1ANh-NZb6hnrJnpR2KN9VPCGdGezkihkM?usp=sharing\n",
        "\n",
        "* https://colab.research.google.com/drive/1Fp_erNhIXremdlXyqHWmKhCYPrmmqWAE?usp=sharing\n",
        "\n",
        "* https://colab.research.google.com/drive/1OQfyH1oL0Mdfl3OR7ky0m4HUKOApyCJI?usp=sharing\n",
        "\n",
        "* https://colab.research.google.com/drive/1iVw8dEYI883E-Q8Qd4Th9-jeum-Aa2TE?usp=sharing\n",
        "\n",
        "* https://colab.research.google.com/drive/1QoMWXOdwL2Vbw81bCsclNthUxVZWlTG_#scrollTo=iXpAefN46lOk\n",
        "\n",
        "* https://colab.research.google.com/drive/1Jnk56M9o_Qz4Qo1FgxSCK7ppf59VaZTR?usp=sharing\n",
        "\n",
        "* https://colab.research.google.com/drive/1nP0JYswlp3QmzT1hZyA1N-PmswMChMV_?usp=sharing\n"
      ],
      "metadata": {
        "id": "H8iOlcHAzirk"
      }
    }
  ]
}