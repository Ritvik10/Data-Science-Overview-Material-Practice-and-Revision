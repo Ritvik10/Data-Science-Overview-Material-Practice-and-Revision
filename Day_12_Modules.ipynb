{
  "nbformat": 4,
  "nbformat_minor": 0,
  "metadata": {
    "colab": {
      "provenance": [],
      "toc_visible": true,
      "include_colab_link": true
    },
    "kernelspec": {
      "name": "python3",
      "display_name": "Python 3"
    },
    "language_info": {
      "name": "python"
    }
  },
  "cells": [
    {
      "cell_type": "markdown",
      "metadata": {
        "id": "view-in-github",
        "colab_type": "text"
      },
      "source": [
        "<a href=\"https://colab.research.google.com/github/Ritvik10/Data-Science-Overview-Material-Practice-and-Revision/blob/main/Day_12_Modules.ipynb\" target=\"_parent\"><img src=\"https://colab.research.google.com/assets/colab-badge.svg\" alt=\"Open In Colab\"/></a>"
      ]
    },
    {
      "cell_type": "markdown",
      "source": [
        "import main\n",
        "\n",
        "print(main.fun1(4,5)) -> random.choice()\n",
        "\n",
        "import main as(Alias) mn\n",
        "\n",
        "main.fun\n",
        "\n",
        "mn.fun\n",
        "\n",
        "\n",
        "\n",
        "from main import fun1, fun2\n",
        "\n",
        "print(fun1(4,5))\n",
        "\n",
        "\n",
        "from main import * -> ALL\n",
        "\n",
        "print(fun1(4,5))"
      ],
      "metadata": {
        "id": "fJ2e-uL6xisg"
      }
    },
    {
      "cell_type": "markdown",
      "source": [
        "* Random Module"
      ],
      "metadata": {
        "id": "ltRi31ZMyq5y"
      }
    },
    {
      "cell_type": "code",
      "execution_count": 1,
      "metadata": {
        "colab": {
          "base_uri": "https://localhost:8080/"
        },
        "id": "MUaojlGHkwOI",
        "outputId": "61066354-fba5-4a6f-b794-7c133fce6d9f"
      },
      "outputs": [
        {
          "output_type": "stream",
          "name": "stdout",
          "text": [
            "\u001b[31mERROR: Could not find a version that satisfies the requirement random (from versions: none)\u001b[0m\u001b[31m\n",
            "\u001b[0m\u001b[31mERROR: No matching distribution found for random\u001b[0m\u001b[31m\n",
            "\u001b[0m"
          ]
        }
      ],
      "source": [
        "!pip install random"
      ]
    },
    {
      "cell_type": "code",
      "source": [
        "import java.util.*;\n",
        "import java.io;"
      ],
      "metadata": {
        "id": "UeEnEE1Skw4J",
        "outputId": "e8360344-7333-4d69-9a31-6cc9346ba3a3",
        "colab": {
          "base_uri": "https://localhost:8080/",
          "height": 130
        }
      },
      "execution_count": 2,
      "outputs": [
        {
          "output_type": "error",
          "ename": "SyntaxError",
          "evalue": "ignored",
          "traceback": [
            "\u001b[0;36m  File \u001b[0;32m\"<ipython-input-2-8f5faa4e7fcc>\"\u001b[0;36m, line \u001b[0;32m1\u001b[0m\n\u001b[0;31m    import java.util.*;\u001b[0m\n\u001b[0m                     ^\u001b[0m\n\u001b[0;31mSyntaxError\u001b[0m\u001b[0;31m:\u001b[0m invalid syntax\n"
          ]
        }
      ]
    },
    {
      "cell_type": "code",
      "source": [
        "import random"
      ],
      "metadata": {
        "id": "Klwea7w1kw65"
      },
      "execution_count": 3,
      "outputs": []
    },
    {
      "cell_type": "code",
      "source": [
        "# randrange(start, stop, step)"
      ],
      "metadata": {
        "id": "CGu-cNsvkw9u"
      },
      "execution_count": 4,
      "outputs": []
    },
    {
      "cell_type": "code",
      "source": [
        "for i in range(10):\n",
        "  print(random.randrange(6,9))"
      ],
      "metadata": {
        "colab": {
          "base_uri": "https://localhost:8080/"
        },
        "id": "VvVdDmA9kxDf",
        "outputId": "d9f7f8ea-8e73-460a-aa59-98b257e52a67"
      },
      "execution_count": 5,
      "outputs": [
        {
          "output_type": "stream",
          "name": "stdout",
          "text": [
            "8\n",
            "8\n",
            "8\n",
            "8\n",
            "8\n",
            "8\n",
            "6\n",
            "8\n",
            "7\n",
            "8\n"
          ]
        }
      ]
    },
    {
      "cell_type": "code",
      "source": [
        "6\n",
        "7\n",
        "8"
      ],
      "metadata": {
        "id": "r_C9HRd_kxGE",
        "outputId": "1d4a4a50-3934-4926-83b9-8c46b35145ee",
        "colab": {
          "base_uri": "https://localhost:8080/"
        }
      },
      "execution_count": 6,
      "outputs": [
        {
          "output_type": "execute_result",
          "data": {
            "text/plain": [
              "8"
            ]
          },
          "metadata": {},
          "execution_count": 6
        }
      ]
    },
    {
      "cell_type": "code",
      "source": [
        "1-6"
      ],
      "metadata": {
        "id": "gKsiJVNakxOp",
        "outputId": "19995d09-4cf5-4285-fd25-ba135b9bb535",
        "colab": {
          "base_uri": "https://localhost:8080/"
        }
      },
      "execution_count": 7,
      "outputs": [
        {
          "output_type": "execute_result",
          "data": {
            "text/plain": [
              "-5"
            ]
          },
          "metadata": {},
          "execution_count": 7
        }
      ]
    },
    {
      "cell_type": "code",
      "source": [
        "for i in range(20):\n",
        "  print(random.randrange(5,25,-1))"
      ],
      "metadata": {
        "colab": {
          "base_uri": "https://localhost:8080/",
          "height": 304
        },
        "id": "M5BtWQl0kxRj",
        "outputId": "c3203a60-6dd4-4d07-8324-0875aad7700e"
      },
      "execution_count": 8,
      "outputs": [
        {
          "output_type": "error",
          "ename": "ValueError",
          "evalue": "ignored",
          "traceback": [
            "\u001b[0;31m---------------------------------------------------------------------------\u001b[0m",
            "\u001b[0;31mValueError\u001b[0m                                Traceback (most recent call last)",
            "\u001b[0;32m<ipython-input-8-6d0d7197681b>\u001b[0m in \u001b[0;36m<cell line: 1>\u001b[0;34m()\u001b[0m\n\u001b[1;32m      1\u001b[0m \u001b[0;32mfor\u001b[0m \u001b[0mi\u001b[0m \u001b[0;32min\u001b[0m \u001b[0mrange\u001b[0m\u001b[0;34m(\u001b[0m\u001b[0;36m20\u001b[0m\u001b[0;34m)\u001b[0m\u001b[0;34m:\u001b[0m\u001b[0;34m\u001b[0m\u001b[0;34m\u001b[0m\u001b[0m\n\u001b[0;32m----> 2\u001b[0;31m   \u001b[0mprint\u001b[0m\u001b[0;34m(\u001b[0m\u001b[0mrandom\u001b[0m\u001b[0;34m.\u001b[0m\u001b[0mrandrange\u001b[0m\u001b[0;34m(\u001b[0m\u001b[0;36m5\u001b[0m\u001b[0;34m,\u001b[0m\u001b[0;36m25\u001b[0m\u001b[0;34m,\u001b[0m\u001b[0;34m-\u001b[0m\u001b[0;36m1\u001b[0m\u001b[0;34m)\u001b[0m\u001b[0;34m)\u001b[0m\u001b[0;34m\u001b[0m\u001b[0;34m\u001b[0m\u001b[0m\n\u001b[0m",
            "\u001b[0;32m/usr/lib/python3.10/random.py\u001b[0m in \u001b[0;36mrandrange\u001b[0;34m(self, start, stop, step)\u001b[0m\n\u001b[1;32m    361\u001b[0m             \u001b[0;32mraise\u001b[0m \u001b[0mValueError\u001b[0m\u001b[0;34m(\u001b[0m\u001b[0;34m\"zero step for randrange()\"\u001b[0m\u001b[0;34m)\u001b[0m\u001b[0;34m\u001b[0m\u001b[0;34m\u001b[0m\u001b[0m\n\u001b[1;32m    362\u001b[0m         \u001b[0;32mif\u001b[0m \u001b[0mn\u001b[0m \u001b[0;34m<=\u001b[0m \u001b[0;36m0\u001b[0m\u001b[0;34m:\u001b[0m\u001b[0;34m\u001b[0m\u001b[0;34m\u001b[0m\u001b[0m\n\u001b[0;32m--> 363\u001b[0;31m             \u001b[0;32mraise\u001b[0m \u001b[0mValueError\u001b[0m\u001b[0;34m(\u001b[0m\u001b[0;34m\"empty range for randrange()\"\u001b[0m\u001b[0;34m)\u001b[0m\u001b[0;34m\u001b[0m\u001b[0;34m\u001b[0m\u001b[0m\n\u001b[0m\u001b[1;32m    364\u001b[0m         \u001b[0;32mreturn\u001b[0m \u001b[0mistart\u001b[0m \u001b[0;34m+\u001b[0m \u001b[0mistep\u001b[0m \u001b[0;34m*\u001b[0m \u001b[0mself\u001b[0m\u001b[0;34m.\u001b[0m\u001b[0m_randbelow\u001b[0m\u001b[0;34m(\u001b[0m\u001b[0mn\u001b[0m\u001b[0;34m)\u001b[0m\u001b[0;34m\u001b[0m\u001b[0;34m\u001b[0m\u001b[0m\n\u001b[1;32m    365\u001b[0m \u001b[0;34m\u001b[0m\u001b[0m\n",
            "\u001b[0;31mValueError\u001b[0m: empty range for randrange()"
          ]
        }
      ]
    },
    {
      "cell_type": "code",
      "source": [
        "for i in range(20):\n",
        "  print(random.randrange(25,5,-1))"
      ],
      "metadata": {
        "colab": {
          "base_uri": "https://localhost:8080/"
        },
        "id": "gDpFra5hkxS_",
        "outputId": "de48ca98-1174-4c69-f75b-483503a70dc6"
      },
      "execution_count": 9,
      "outputs": [
        {
          "output_type": "stream",
          "name": "stdout",
          "text": [
            "18\n",
            "10\n",
            "19\n",
            "21\n",
            "10\n",
            "21\n",
            "19\n",
            "20\n",
            "17\n",
            "24\n",
            "11\n",
            "15\n",
            "14\n",
            "10\n",
            "11\n",
            "14\n",
            "6\n",
            "6\n",
            "7\n",
            "20\n"
          ]
        }
      ]
    },
    {
      "cell_type": "code",
      "source": [
        "# randint()\n",
        "for i in range(10):\n",
        "  print(random.randint(6,9))"
      ],
      "metadata": {
        "colab": {
          "base_uri": "https://localhost:8080/"
        },
        "id": "Lcq8fLcikxU0",
        "outputId": "f0075aad-b179-44fe-9a1d-2d9a99402716"
      },
      "execution_count": 10,
      "outputs": [
        {
          "output_type": "stream",
          "name": "stdout",
          "text": [
            "8\n",
            "6\n",
            "9\n",
            "9\n",
            "7\n",
            "9\n",
            "6\n",
            "8\n",
            "6\n",
            "6\n"
          ]
        }
      ]
    },
    {
      "cell_type": "code",
      "source": [
        "randint = randrange(start, end+1)"
      ],
      "metadata": {
        "id": "QLP50zXbkxX4",
        "outputId": "0233777b-ea11-4de4-80ea-c691b84679b3",
        "colab": {
          "base_uri": "https://localhost:8080/",
          "height": 165
        }
      },
      "execution_count": 11,
      "outputs": [
        {
          "output_type": "error",
          "ename": "NameError",
          "evalue": "ignored",
          "traceback": [
            "\u001b[0;31m---------------------------------------------------------------------------\u001b[0m",
            "\u001b[0;31mNameError\u001b[0m                                 Traceback (most recent call last)",
            "\u001b[0;32m<ipython-input-11-06f3f27878be>\u001b[0m in \u001b[0;36m<cell line: 1>\u001b[0;34m()\u001b[0m\n\u001b[0;32m----> 1\u001b[0;31m \u001b[0mrandint\u001b[0m \u001b[0;34m=\u001b[0m \u001b[0mrandrange\u001b[0m\u001b[0;34m(\u001b[0m\u001b[0mstart\u001b[0m\u001b[0;34m,\u001b[0m \u001b[0mend\u001b[0m\u001b[0;34m+\u001b[0m\u001b[0;36m1\u001b[0m\u001b[0;34m)\u001b[0m\u001b[0;34m\u001b[0m\u001b[0;34m\u001b[0m\u001b[0m\n\u001b[0m",
            "\u001b[0;31mNameError\u001b[0m: name 'randrange' is not defined"
          ]
        }
      ]
    },
    {
      "cell_type": "code",
      "source": [
        "# choice()\n",
        "lis = [\"A\", \"B\", \"C\", \"D\", 'E']\n",
        "for i in range(10):\n",
        "  print(random.choice(lis))"
      ],
      "metadata": {
        "colab": {
          "base_uri": "https://localhost:8080/"
        },
        "id": "Bv-XfMd7kxbM",
        "outputId": "d2e51b59-e255-4342-e3b3-052d6cfc55ff"
      },
      "execution_count": 12,
      "outputs": [
        {
          "output_type": "stream",
          "name": "stdout",
          "text": [
            "E\n",
            "C\n",
            "B\n",
            "A\n",
            "D\n",
            "C\n",
            "D\n",
            "D\n",
            "D\n",
            "C\n"
          ]
        }
      ]
    },
    {
      "cell_type": "code",
      "source": [
        "# shuffle\n",
        "lis = [\"A\", \"B\", \"C\", \"D\", 'E']\n",
        "lis"
      ],
      "metadata": {
        "colab": {
          "base_uri": "https://localhost:8080/"
        },
        "id": "l5dwTumbkxfc",
        "outputId": "fdb648f2-87f0-41f3-83a8-c53e34c49e5e"
      },
      "execution_count": 13,
      "outputs": [
        {
          "output_type": "execute_result",
          "data": {
            "text/plain": [
              "['A', 'B', 'C', 'D', 'E']"
            ]
          },
          "metadata": {},
          "execution_count": 13
        }
      ]
    },
    {
      "cell_type": "code",
      "source": [
        "random.shuffle(lis)"
      ],
      "metadata": {
        "id": "nWqcGqCwkxgk"
      },
      "execution_count": 14,
      "outputs": []
    },
    {
      "cell_type": "code",
      "source": [
        "lis"
      ],
      "metadata": {
        "colab": {
          "base_uri": "https://localhost:8080/"
        },
        "id": "dF_hfYrqkxhp",
        "outputId": "d6db359a-8a84-4023-b4c8-c14e57066078"
      },
      "execution_count": 15,
      "outputs": [
        {
          "output_type": "execute_result",
          "data": {
            "text/plain": [
              "['B', 'E', 'C', 'A', 'D']"
            ]
          },
          "metadata": {},
          "execution_count": 15
        }
      ]
    },
    {
      "cell_type": "code",
      "source": [
        "# sample\n",
        "lis = [\"A\", \"B\", \"C\", \"D\", 'E']\n",
        "random.sample(lis, k=3)"
      ],
      "metadata": {
        "colab": {
          "base_uri": "https://localhost:8080/"
        },
        "id": "vPndcD_vkxiv",
        "outputId": "2b481f90-b1e2-4fee-deb2-87906e089853"
      },
      "execution_count": 16,
      "outputs": [
        {
          "output_type": "execute_result",
          "data": {
            "text/plain": [
              "['E', 'D', 'C']"
            ]
          },
          "metadata": {},
          "execution_count": 16
        }
      ]
    },
    {
      "cell_type": "code",
      "source": [
        "# random() -> 0.0 (Inclusive) - 1.0 (Exclusive)"
      ],
      "metadata": {
        "id": "d6YkiI_8kxkb"
      },
      "execution_count": 17,
      "outputs": []
    },
    {
      "cell_type": "code",
      "source": [
        "for i in range(10):print(round(random.random(),2))"
      ],
      "metadata": {
        "colab": {
          "base_uri": "https://localhost:8080/"
        },
        "id": "EbuymxIBkxlw",
        "outputId": "e82a8db0-f27c-420d-c947-16511d93902d"
      },
      "execution_count": 18,
      "outputs": [
        {
          "output_type": "stream",
          "name": "stdout",
          "text": [
            "0.45\n",
            "0.98\n",
            "0.89\n",
            "0.87\n",
            "0.3\n",
            "0.8\n",
            "0.79\n",
            "0.19\n",
            "0.78\n",
            "0.94\n"
          ]
        }
      ]
    },
    {
      "cell_type": "code",
      "source": [
        "# uniform()\n",
        "random.uniform(10,15)"
      ],
      "metadata": {
        "colab": {
          "base_uri": "https://localhost:8080/"
        },
        "id": "wTyvkEEOkxng",
        "outputId": "d1c407ad-f7f6-49b8-de03-fd0b4edc6cbb"
      },
      "execution_count": 19,
      "outputs": [
        {
          "output_type": "execute_result",
          "data": {
            "text/plain": [
              "11.35250469396783"
            ]
          },
          "metadata": {},
          "execution_count": 19
        }
      ]
    },
    {
      "cell_type": "code",
      "source": [
        "10\n",
        "11\n",
        "12\n",
        "13\n",
        "14"
      ],
      "metadata": {
        "id": "eKbt0p6WkxpD",
        "outputId": "7b16b3ca-dc9d-4bea-ba1c-5e244e59cc54",
        "colab": {
          "base_uri": "https://localhost:8080/"
        }
      },
      "execution_count": 20,
      "outputs": [
        {
          "output_type": "execute_result",
          "data": {
            "text/plain": [
              "14"
            ]
          },
          "metadata": {},
          "execution_count": 20
        }
      ]
    },
    {
      "cell_type": "markdown",
      "source": [
        "* math"
      ],
      "metadata": {
        "id": "_lr5Acvo6MYw"
      }
    },
    {
      "cell_type": "code",
      "source": [
        "import math"
      ],
      "metadata": {
        "id": "3RdK57nDkxsx"
      },
      "execution_count": 21,
      "outputs": []
    },
    {
      "cell_type": "code",
      "source": [
        "# ceil\n",
        "math.ceil(6.7)"
      ],
      "metadata": {
        "colab": {
          "base_uri": "https://localhost:8080/"
        },
        "id": "ESksTctnkxrK",
        "outputId": "97e0f5c0-5be8-491a-e7f0-0e1008abd547"
      },
      "execution_count": 22,
      "outputs": [
        {
          "output_type": "execute_result",
          "data": {
            "text/plain": [
              "7"
            ]
          },
          "metadata": {},
          "execution_count": 22
        }
      ]
    },
    {
      "cell_type": "code",
      "source": [
        "# floor\n",
        "math.floor(6.7)"
      ],
      "metadata": {
        "colab": {
          "base_uri": "https://localhost:8080/"
        },
        "id": "nU6RJMYUkxue",
        "outputId": "f5bdb160-8c1e-4d16-d694-bb4239c770c5"
      },
      "execution_count": 23,
      "outputs": [
        {
          "output_type": "execute_result",
          "data": {
            "text/plain": [
              "6"
            ]
          },
          "metadata": {},
          "execution_count": 23
        }
      ]
    },
    {
      "cell_type": "code",
      "source": [
        "math.ceil(-6.7)"
      ],
      "metadata": {
        "colab": {
          "base_uri": "https://localhost:8080/"
        },
        "id": "rcUFDABSkxwJ",
        "outputId": "8c4ff406-5e1e-4898-9800-04bf8301bb33"
      },
      "execution_count": 24,
      "outputs": [
        {
          "output_type": "execute_result",
          "data": {
            "text/plain": [
              "-6"
            ]
          },
          "metadata": {},
          "execution_count": 24
        }
      ]
    },
    {
      "cell_type": "code",
      "source": [
        "math.floor(-0.04)"
      ],
      "metadata": {
        "colab": {
          "base_uri": "https://localhost:8080/"
        },
        "id": "nx1AYx-rkxy0",
        "outputId": "8d9526ed-9033-4c0e-af62-fcb76d2afd14"
      },
      "execution_count": 25,
      "outputs": [
        {
          "output_type": "execute_result",
          "data": {
            "text/plain": [
              "-1"
            ]
          },
          "metadata": {},
          "execution_count": 25
        }
      ]
    },
    {
      "cell_type": "code",
      "source": [
        "# dist"
      ],
      "metadata": {
        "id": "poy-JOyekx0U"
      },
      "execution_count": 26,
      "outputs": []
    },
    {
      "cell_type": "code",
      "source": [
        "point1 = [4,5]\n",
        "point2 = [12,14]"
      ],
      "metadata": {
        "id": "mF89jt4Ekx1m"
      },
      "execution_count": 27,
      "outputs": []
    },
    {
      "cell_type": "code",
      "source": [
        "math.dist(point1, point2)"
      ],
      "metadata": {
        "colab": {
          "base_uri": "https://localhost:8080/"
        },
        "id": "QExOBI7nkx62",
        "outputId": "8de10c25-ad7a-4d1d-e82c-fc650868393e"
      },
      "execution_count": 28,
      "outputs": [
        {
          "output_type": "execute_result",
          "data": {
            "text/plain": [
              "12.041594578792296"
            ]
          },
          "metadata": {},
          "execution_count": 28
        }
      ]
    },
    {
      "cell_type": "code",
      "source": [
        "# exp()\n",
        "math.exp(2)"
      ],
      "metadata": {
        "colab": {
          "base_uri": "https://localhost:8080/"
        },
        "id": "jvCiK2CQkx8t",
        "outputId": "166bc379-3e18-4f43-d582-7ce24f544419"
      },
      "execution_count": 29,
      "outputs": [
        {
          "output_type": "execute_result",
          "data": {
            "text/plain": [
              "7.38905609893065"
            ]
          },
          "metadata": {},
          "execution_count": 29
        }
      ]
    },
    {
      "cell_type": "code",
      "source": [
        "# factorial\n",
        "math.factorial(4)\n",
        "\n",
        "# 4 * 3 * 2 * 1 ="
      ],
      "metadata": {
        "colab": {
          "base_uri": "https://localhost:8080/"
        },
        "id": "ckThfd04kx_n",
        "outputId": "a5c50586-4252-47e4-a35d-19ecc8c9cb35"
      },
      "execution_count": 30,
      "outputs": [
        {
          "output_type": "execute_result",
          "data": {
            "text/plain": [
              "24"
            ]
          },
          "metadata": {},
          "execution_count": 30
        }
      ]
    },
    {
      "cell_type": "code",
      "source": [
        "inp = int(input('Enter: '))\n",
        "fact = 1\n",
        "for i in range(inp,0,-1):\n",
        "  fact *= i\n",
        "fact"
      ],
      "metadata": {
        "colab": {
          "base_uri": "https://localhost:8080/"
        },
        "id": "QjGQFcxmkyBs",
        "outputId": "3c4eb833-d6a1-4365-fabe-0e02e5b27af5"
      },
      "execution_count": 31,
      "outputs": [
        {
          "name": "stdout",
          "output_type": "stream",
          "text": [
            "Enter: 3\n"
          ]
        },
        {
          "output_type": "execute_result",
          "data": {
            "text/plain": [
              "6"
            ]
          },
          "metadata": {},
          "execution_count": 31
        }
      ]
    },
    {
      "cell_type": "code",
      "source": [
        "# Recursion Vs Iteration\n",
        "# 0 1 1 2 3 5  -> Factorial & Fibonacci using Recusrion"
      ],
      "metadata": {
        "id": "tqV0DR1qkyEA"
      },
      "execution_count": 32,
      "outputs": []
    },
    {
      "cell_type": "code",
      "source": [
        "math.sqrt(9)"
      ],
      "metadata": {
        "colab": {
          "base_uri": "https://localhost:8080/"
        },
        "id": "YjTLUyXQkyFp",
        "outputId": "a232396b-82c4-4cbb-c2df-44d3a0178378"
      },
      "execution_count": 33,
      "outputs": [
        {
          "output_type": "execute_result",
          "data": {
            "text/plain": [
              "3.0"
            ]
          },
          "metadata": {},
          "execution_count": 33
        }
      ]
    },
    {
      "cell_type": "code",
      "source": [
        "math.pow(2,3)"
      ],
      "metadata": {
        "colab": {
          "base_uri": "https://localhost:8080/"
        },
        "id": "msSvUJxmkyH9",
        "outputId": "d2917e38-ad7a-4907-eec4-5e2ec146e352"
      },
      "execution_count": 34,
      "outputs": [
        {
          "output_type": "execute_result",
          "data": {
            "text/plain": [
              "8.0"
            ]
          },
          "metadata": {},
          "execution_count": 34
        }
      ]
    },
    {
      "cell_type": "code",
      "source": [
        "2**3"
      ],
      "metadata": {
        "colab": {
          "base_uri": "https://localhost:8080/"
        },
        "id": "nZdCR4FbkyJx",
        "outputId": "a23955b9-2cdb-46ec-f19f-f9f947d35d49"
      },
      "execution_count": 35,
      "outputs": [
        {
          "output_type": "execute_result",
          "data": {
            "text/plain": [
              "8"
            ]
          },
          "metadata": {},
          "execution_count": 35
        }
      ]
    },
    {
      "cell_type": "code",
      "source": [
        "math.remainder(9,3)"
      ],
      "metadata": {
        "colab": {
          "base_uri": "https://localhost:8080/"
        },
        "id": "tLlbkMObkyMR",
        "outputId": "91e9e27e-a667-4248-cc97-ae5fd77741c6"
      },
      "execution_count": 36,
      "outputs": [
        {
          "output_type": "execute_result",
          "data": {
            "text/plain": [
              "0.0"
            ]
          },
          "metadata": {},
          "execution_count": 36
        }
      ]
    },
    {
      "cell_type": "code",
      "source": [
        "9%3"
      ],
      "metadata": {
        "colab": {
          "base_uri": "https://localhost:8080/"
        },
        "id": "1lN3fFn1kyOc",
        "outputId": "5b547f31-dbee-4cb8-a263-03ed4b0fdcb0"
      },
      "execution_count": 37,
      "outputs": [
        {
          "output_type": "execute_result",
          "data": {
            "text/plain": [
              "0"
            ]
          },
          "metadata": {},
          "execution_count": 37
        }
      ]
    },
    {
      "cell_type": "code",
      "source": [
        "# NumPy -> SciPy"
      ],
      "metadata": {
        "id": "eJCN0ByKkyW8"
      },
      "execution_count": 38,
      "outputs": []
    },
    {
      "cell_type": "code",
      "source": [
        "#os, warning, multiprocessing, multithreading -. SEO"
      ],
      "metadata": {
        "id": "1VICAsDwkyZd"
      },
      "execution_count": 40,
      "outputs": []
    },
    {
      "cell_type": "code",
      "source": [
        "# Task 3 -> Hand Cricket\n",
        "\n",
        "\"\"\"print('Lets the toss begin')\n",
        "(\"O/o\", 'E/e')\n",
        "\n",
        "User -> \"O\"\n",
        "User -> Choose a number b/w 1-6 (both should be inclusive) -> 5\n",
        "\n",
        "Computer -> Choose a number b/w 1-6 (both should be inclusive) \"E\" -> 4\n",
        "\n",
        "total = User + Computer -> 5 + 4 = 9\n",
        "\n",
        "9 is odd / Even\n",
        "\n",
        "\n",
        "print(\"Whether BALL or BAT\")\n",
        "\n",
        "user_run = 0\n",
        "computer_run = 0\n",
        "\n",
        "User -> BAT\n",
        "user = Choose a number b/w 1-6 (both should be inclusive\n",
        "computer = Choose a number b/w 1-6 (both should be inclusive\n",
        "if user == computer : User -> OUT\n",
        "if user != computer:\n",
        "  user_run += user\n",
        "\n",
        "\n",
        "user_run > computer_run ->User\n",
        "\n",
        "user_run < computer_run ->Computer\n",
        "\n",
        "user_run == computer_run ->Draw\"\"\""
      ],
      "metadata": {
        "id": "ZUOVo3bMkybU",
        "outputId": "9640d31e-6573-4865-feaf-910ef7c6af17",
        "colab": {
          "base_uri": "https://localhost:8080/",
          "height": 122
        }
      },
      "execution_count": 41,
      "outputs": [
        {
          "output_type": "execute_result",
          "data": {
            "text/plain": [
              "'print(\\'Lets the toss begin\\')\\n(\"O/o\", \\'E/e\\')\\n\\nUser -> \"O\"\\nUser -> Choose a number b/w 1-6 (both should be inclusive) -> 5\\n\\nComputer -> Choose a number b/w 1-6 (both should be inclusive) \"E\" -> 4\\n\\ntotal = User + Computer -> 5 + 4 = 9\\n\\n9 is odd / Even\\n\\n\\nprint(\"Whether BALL or BAT\")\\n\\nuser_run = 0\\ncomputer_run = 0\\n\\nUser -> BAT\\nuser = Choose a number b/w 1-6 (both should be inclusive\\ncomputer = Choose a number b/w 1-6 (both should be inclusive\\nif user == computer : User -> OUT\\nif user != computer:\\n  user_run += user\\n\\n\\nuser_run > computer_run ->User\\n\\nuser_run < computer_run ->Computer\\n\\nuser_run == computer_run ->Draw'"
            ],
            "application/vnd.google.colaboratory.intrinsic+json": {
              "type": "string"
            }
          },
          "metadata": {},
          "execution_count": 41
        }
      ]
    },
    {
      "cell_type": "code",
      "source": [
        "1\n",
        "2\n",
        "3\n",
        "4\n",
        "5\n",
        "6\n"
      ],
      "metadata": {
        "id": "gPgNnje3kyd4",
        "outputId": "b2dc900b-cb55-46b2-a311-2c3502931743",
        "colab": {
          "base_uri": "https://localhost:8080/"
        }
      },
      "execution_count": 42,
      "outputs": [
        {
          "output_type": "execute_result",
          "data": {
            "text/plain": [
              "6"
            ]
          },
          "metadata": {},
          "execution_count": 42
        }
      ]
    },
    {
      "cell_type": "code",
      "source": [
        "while 2>4:\n",
        "  while 5>6:\n",
        "    break\n",
        "  break"
      ],
      "metadata": {
        "id": "UZyQ9Hu5kyfs"
      },
      "execution_count": 43,
      "outputs": []
    },
    {
      "cell_type": "code",
      "source": [
        "\"\"\"20\n",
        "\n",
        "5 15\n",
        "4 11\n",
        "6 5\n",
        "4 1\n",
        "6\"\"\""
      ],
      "metadata": {
        "id": "a1cBxsBWkymn",
        "outputId": "c7e7c86f-3d01-4ef9-f429-34985cdb74ba",
        "colab": {
          "base_uri": "https://localhost:8080/",
          "height": 35
        }
      },
      "execution_count": 45,
      "outputs": [
        {
          "output_type": "execute_result",
          "data": {
            "text/plain": [
              "'20\\n\\n5 15\\n4 11\\n6 5\\n4 1\\n6'"
            ],
            "application/vnd.google.colaboratory.intrinsic+json": {
              "type": "string"
            }
          },
          "metadata": {},
          "execution_count": 45
        }
      ]
    },
    {
      "cell_type": "markdown",
      "source": [
        "* Task 2 Sol: https://colab.research.google.com/drive/1SBPSkYlryRXPESSPBRYEM9xSYwW9pUrX?usp=sharing"
      ],
      "metadata": {
        "id": "kAGvOFoWI4l6"
      }
    },
    {
      "cell_type": "code",
      "source": [],
      "metadata": {
        "id": "3YUAu66pdFWg"
      },
      "execution_count": null,
      "outputs": []
    }
  ]
}