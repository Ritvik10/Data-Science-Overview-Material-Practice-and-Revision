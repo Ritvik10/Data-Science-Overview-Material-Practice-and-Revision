{
  "nbformat": 4,
  "nbformat_minor": 0,
  "metadata": {
    "colab": {
      "provenance": [],
      "toc_visible": true,
      "include_colab_link": true
    },
    "kernelspec": {
      "name": "python3",
      "display_name": "Python 3"
    },
    "language_info": {
      "name": "python"
    }
  },
  "cells": [
    {
      "cell_type": "markdown",
      "metadata": {
        "id": "view-in-github",
        "colab_type": "text"
      },
      "source": [
        "<a href=\"https://colab.research.google.com/github/Ritvik10/Data-Science-Overview-Material-Practice-and-Revision/blob/main/Day_57_Natural_Language_Processing_(NLP).ipynb\" target=\"_parent\"><img src=\"https://colab.research.google.com/assets/colab-badge.svg\" alt=\"Open In Colab\"/></a>"
      ]
    },
    {
      "cell_type": "markdown",
      "source": [
        "# Sentimental Analyzer\n",
        "\n",
        "Link: https://github.com/attreyabhatt/Sentiment-Analysis/blob/master/emotions.txt"
      ],
      "metadata": {
        "id": "RIWUQpif0DEh"
      }
    },
    {
      "cell_type": "code",
      "source": [
        "import string"
      ],
      "metadata": {
        "id": "OezfkSOV0k_i"
      },
      "execution_count": 1,
      "outputs": []
    },
    {
      "cell_type": "code",
      "source": [
        "data = \"Ramu was victimized of stealing other's belonging and seems like cheated on its owner\""
      ],
      "metadata": {
        "id": "drcZHrivlEI0"
      },
      "execution_count": 2,
      "outputs": []
    },
    {
      "cell_type": "code",
      "source": [
        "# Convert the data into lowercase\n",
        "lower_case = data.lower()\n",
        "lower_case"
      ],
      "metadata": {
        "colab": {
          "base_uri": "https://localhost:8080/",
          "height": 35
        },
        "id": "b_TsSScvoR5k",
        "outputId": "5bc4b417-b079-4467-ba20-f3abcd19d808"
      },
      "execution_count": 3,
      "outputs": [
        {
          "output_type": "execute_result",
          "data": {
            "text/plain": [
              "\"ramu was victimized of stealing other's belonging and seems like cheated on its owner\""
            ],
            "application/vnd.google.colaboratory.intrinsic+json": {
              "type": "string"
            }
          },
          "metadata": {},
          "execution_count": 3
        }
      ]
    },
    {
      "cell_type": "code",
      "source": [
        "\"\"\"\n",
        ".?/';'\n",
        "\"\"\""
      ],
      "metadata": {
        "id": "Fwf4FIGGoR8P",
        "outputId": "fca894bb-5cda-42a8-bedd-af1731056083",
        "colab": {
          "base_uri": "https://localhost:8080/",
          "height": 35
        }
      },
      "execution_count": 4,
      "outputs": [
        {
          "output_type": "execute_result",
          "data": {
            "text/plain": [
              "\"\\n.?/';'\\n\""
            ],
            "application/vnd.google.colaboratory.intrinsic+json": {
              "type": "string"
            }
          },
          "metadata": {},
          "execution_count": 4
        }
      ]
    },
    {
      "cell_type": "code",
      "source": [
        "string.punctuation"
      ],
      "metadata": {
        "colab": {
          "base_uri": "https://localhost:8080/",
          "height": 35
        },
        "id": "bxq613DuoR-p",
        "outputId": "4f37694c-e119-4412-8ed2-1ed43b70fcd0"
      },
      "execution_count": 5,
      "outputs": [
        {
          "output_type": "execute_result",
          "data": {
            "text/plain": [
              "'!\"#$%&\\'()*+,-./:;<=>?@[\\\\]^_`{|}~'"
            ],
            "application/vnd.google.colaboratory.intrinsic+json": {
              "type": "string"
            }
          },
          "metadata": {},
          "execution_count": 5
        }
      ]
    },
    {
      "cell_type": "code",
      "source": [
        "cleaned_data = lower_case.translate(str.maketrans('','',string.punctuation))"
      ],
      "metadata": {
        "id": "ksU5jLfaoSBP"
      },
      "execution_count": 6,
      "outputs": []
    },
    {
      "cell_type": "code",
      "source": [
        "cleaned_data"
      ],
      "metadata": {
        "colab": {
          "base_uri": "https://localhost:8080/",
          "height": 35
        },
        "id": "bYQ4iW9coSEI",
        "outputId": "8f570810-6c27-4242-b6b5-418976cd81d6"
      },
      "execution_count": 7,
      "outputs": [
        {
          "output_type": "execute_result",
          "data": {
            "text/plain": [
              "'ramu was victimized of stealing others belonging and seems like cheated on its owner'"
            ],
            "application/vnd.google.colaboratory.intrinsic+json": {
              "type": "string"
            }
          },
          "metadata": {},
          "execution_count": 7
        }
      ]
    },
    {
      "cell_type": "code",
      "source": [
        "tokenized_words = cleaned_data.split()"
      ],
      "metadata": {
        "id": "HL0gUXLAoSFD"
      },
      "execution_count": 8,
      "outputs": []
    },
    {
      "cell_type": "code",
      "source": [
        "tokenized_words"
      ],
      "metadata": {
        "colab": {
          "base_uri": "https://localhost:8080/"
        },
        "id": "Apch9YqxoSH8",
        "outputId": "cdbb6892-d3d0-4206-fb0c-601ee938db62"
      },
      "execution_count": 9,
      "outputs": [
        {
          "output_type": "execute_result",
          "data": {
            "text/plain": [
              "['ramu',\n",
              " 'was',\n",
              " 'victimized',\n",
              " 'of',\n",
              " 'stealing',\n",
              " 'others',\n",
              " 'belonging',\n",
              " 'and',\n",
              " 'seems',\n",
              " 'like',\n",
              " 'cheated',\n",
              " 'on',\n",
              " 'its',\n",
              " 'owner']"
            ]
          },
          "metadata": {},
          "execution_count": 9
        }
      ]
    },
    {
      "cell_type": "code",
      "source": [
        "stop_words = [\"i\", \"me\", \"my\", \"myself\", \"we\", \"our\", \"ours\", \"ourselves\", \"you\", \"your\", \"yours\", \"yourself\",\n",
        "              \"yourselves\", \"he\", \"him\", \"his\", \"himself\", \"she\", \"her\", \"hers\", \"herself\", \"it\", \"its\", \"itself\",\n",
        "              \"they\", \"them\", \"their\", \"theirs\", \"themselves\", \"what\", \"which\", \"who\", \"whom\", \"this\", \"that\", \"these\",\n",
        "              \"those\", \"am\", \"is\", \"are\", \"was\", \"were\", \"be\", \"been\", \"being\", \"have\", \"has\", \"had\", \"having\", \"do\",\n",
        "              \"does\", \"did\", \"doing\", \"a\", \"an\", \"the\", \"and\", \"but\", \"if\", \"or\", \"because\", \"as\", \"until\", \"while\",\n",
        "              \"of\", \"at\", \"by\", \"for\", \"with\", \"about\", \"against\", \"between\", \"into\", \"through\", \"during\", \"before\",\n",
        "              \"after\", \"above\", \"below\", \"to\", \"from\", \"up\", \"down\", \"in\", \"out\", \"on\", \"off\", \"over\", \"under\", \"again\",\n",
        "              \"further\", \"then\", \"once\", \"here\", \"there\", \"when\", \"where\", \"why\", \"how\", \"all\", \"any\", \"both\", \"each\",\n",
        "              \"few\", \"more\", \"most\", \"other\", \"some\", \"such\", \"no\", \"nor\", \"not\", \"only\", \"own\", \"same\", \"so\", \"than\",\n",
        "              \"too\", \"very\", \"s\", \"t\", \"can\", \"will\", \"just\", \"don\", \"should\", \"now\"]"
      ],
      "metadata": {
        "id": "nOsetqzjoSKd"
      },
      "execution_count": 10,
      "outputs": []
    },
    {
      "cell_type": "code",
      "source": [
        "final_words = []\n",
        "for i in tokenized_words:\n",
        "  if i not in stop_words:\n",
        "    final_words.append(i)"
      ],
      "metadata": {
        "id": "00MaSGgLoSOA"
      },
      "execution_count": 11,
      "outputs": []
    },
    {
      "cell_type": "code",
      "source": [
        "final_words"
      ],
      "metadata": {
        "colab": {
          "base_uri": "https://localhost:8080/"
        },
        "id": "C_VTZR7DoSQ6",
        "outputId": "93ab1d9b-8a0c-4a4f-8483-6093989795ac"
      },
      "execution_count": 12,
      "outputs": [
        {
          "output_type": "execute_result",
          "data": {
            "text/plain": [
              "['ramu',\n",
              " 'victimized',\n",
              " 'stealing',\n",
              " 'others',\n",
              " 'belonging',\n",
              " 'seems',\n",
              " 'like',\n",
              " 'cheated',\n",
              " 'owner']"
            ]
          },
          "metadata": {},
          "execution_count": 12
        }
      ]
    },
    {
      "cell_type": "code",
      "source": [
        "word_emotions = { 'victimized': 'cheated',\n",
        " 'accused': 'cheated',\n",
        " 'acquitted': 'singled out',\n",
        " 'adorable': 'loved',\n",
        " 'adored': 'loved',\n",
        " 'affected': 'attracted',\n",
        " 'afflicted': 'sad',\n",
        " 'aghast': 'fearful',\n",
        " 'agog': 'attracted',\n",
        " 'agonized': 'sad',\n",
        " 'alarmed': 'fearful',\n",
        " 'amused': 'happy',\n",
        " 'angry': 'angry',\n",
        " 'anguished': 'sad',\n",
        " 'animated': 'happy',\n",
        " 'annoyed': 'angry',\n",
        " 'anxious': 'attracted',\n",
        " 'apathetic': 'bored',\n",
        " 'appalled': 'angry',\n",
        " 'appeased': 'singled out',\n",
        " 'appreciated': 'esteemed',\n",
        " 'apprehensive': 'fearful',\n",
        " 'approved of': 'loved',\n",
        " 'ardent': 'lustful',\n",
        " 'aroused': 'lustful',\n",
        " 'attached': 'attached',\n",
        " 'attracted': 'attracted',\n",
        " 'autonomous': 'independent',\n",
        " 'awed': 'fearful',\n",
        " 'awkward': 'embarrassed',\n",
        " 'beaten down': 'powerless',\n",
        " 'beatific': 'happy',\n",
        " 'belonging': 'attached',\n",
        " 'bereaved': 'sad',\n",
        " 'betrayed': 'cheated',\n",
        " 'bewildered': 'surprise',\n",
        " 'bitter': 'angry',\n",
        " 'blissful': 'happy',\n",
        " 'blithe': 'happy',\n",
        " 'blocked': 'powerless',\n",
        " 'blue': 'sad',\n",
        " 'boiling': 'angry',\n",
        " 'bold': 'fearless',\n",
        " 'bored': 'bored',\n",
        " 'brave': 'fearless',\n",
        " 'bright': 'happy',\n",
        " 'brisk': 'happy',\n",
        " 'calm': 'safe',\n",
        " 'capable': 'adequate',\n",
        " 'captivated': 'attached',\n",
        " 'careless': 'powerless',\n",
        " 'categorized': 'singled out',\n",
        " 'cautious': 'fearful',\n",
        " 'certain': 'fearless',\n",
        " 'chagrined': 'belittled',\n",
        " 'challenged': 'attracted',\n",
        " 'chastised': 'hated',\n",
        " 'cheated': 'cheated',\n",
        " 'cheerful': 'happy',\n",
        " 'cheerless': 'sad',\n",
        " 'cheery': 'happy',\n",
        " 'cherished': 'attached',\n",
        " 'chicken': 'fearful',\n",
        " 'cocky': 'independent',\n",
        " 'codependent': 'codependent',\n",
        " 'coerced': 'cheated',\n",
        " 'comfortable': 'happy',\n",
        " 'common': 'average',\n",
        " 'competent': 'adequate',\n",
        " 'complacent': 'apathetic',\n",
        " 'composed': 'adequate',\n",
        " 'concerned': 'attracted',\n",
        " 'confident': 'adequate',\n",
        " 'confused': 'surprise',\n",
        " 'connected': 'attached',\n",
        " 'conned': 'cheated',\n",
        " 'consumed': 'obsessed',\n",
        " 'contented': 'happy',\n",
        " 'controlled': 'powerless',\n",
        " 'convivial': 'happy',\n",
        " 'cornered': 'entitled',\n",
        " 'courageous': 'fearless',\n",
        " 'cowardly': 'fearful',\n",
        " 'craving': 'attracted',\n",
        " 'crestfallen': 'sad',\n",
        " 'criticized': 'hated',\n",
        " 'cross': 'angry',\n",
        " 'cross-examined': 'singled out',\n",
        " 'crushed': 'sad',\n",
        " 'curious': 'attracted',\n",
        " 'cut off': 'alone',\n",
        " 'daring': 'fearless',\n",
        " 'dark': 'sad',\n",
        " 'dedicated': 'attracted',\n",
        " 'defeated': 'powerless',\n",
        " 'defenseless': 'fearful',\n",
        " 'degraded': 'belittled',\n",
        " 'dejected': 'sad',\n",
        " 'depressed': 'sad',\n",
        " 'deserted': 'hated',\n",
        " 'desirable': 'loved',\n",
        " 'despondent': 'sad',\n",
        " 'detached': 'alone',\n",
        " 'determined': 'focused',\n",
        " 'diminished': 'belittled',\n",
        " 'disappointed': 'demoralized',\n",
        " 'discarded': 'hated',\n",
        " 'disconsolate': 'sad',\n",
        " 'discontented': 'sad',\n",
        " 'discounted': 'belittled',\n",
        " 'discouraged': 'powerless',\n",
        " 'disgraced': 'belittled',\n",
        " 'disgusted': 'angry',\n",
        " 'disheartened': 'demoralized',\n",
        " 'disillusioned': 'demoralized',\n",
        " 'disjointed': 'derailed',\n",
        " 'dismal': 'sad',\n",
        " 'dismayed': 'fearful',\n",
        " 'disoriented': 'derailed',\n",
        " 'disparaged': 'cheated',\n",
        " 'displeased': 'sad',\n",
        " 'disrespected': 'belittled',\n",
        " 'distressed': 'sad',\n",
        " 'distrustful': 'anxious',\n",
        " 'dolorous': 'sad',\n",
        " 'doubtful': 'fearful',\n",
        " 'down': 'sad',\n",
        " 'downhearted': 'sad',\n",
        " 'dreadful': 'sad',\n",
        " 'dreary': 'sad',\n",
        " 'dubious': 'anxious',\n",
        " 'dull': 'sad',\n",
        " 'duped': 'cheated',\n",
        " 'eager': 'attracted',\n",
        " 'earnest': 'attracted',\n",
        " 'ecstatic': 'happy',\n",
        " 'elated': 'happy',\n",
        " 'embarrassed': 'embarrassed',\n",
        " 'empathetic': 'attached',\n",
        " 'enchanted': 'attracted',\n",
        " 'encouraged': 'adequate',\n",
        " 'engrossed': 'attracted',\n",
        " 'enraged': 'angry',\n",
        " 'enterprising': 'fearless',\n",
        " 'enthusiastic': 'happy',\n",
        " 'entrusted': 'loved',\n",
        " 'esteemed': 'esteemed',\n",
        " 'excited': 'happy',\n",
        " 'excluded': 'alone',\n",
        " 'exempt': 'entitled',\n",
        " 'exhausted hopeless': 'powerless',\n",
        " 'exhilarated': 'happy',\n",
        " 'exploited': 'cheated',\n",
        " 'exposed': 'fearful',\n",
        " 'fabulous': 'ecstatic',\n",
        " 'fainthearted': 'fearful',\n",
        " 'fantastic': 'ecstatic',\n",
        " 'fascinated': 'attracted',\n",
        " 'favored': 'entitled',\n",
        " 'fearful': 'fearful',\n",
        " 'fervent': 'attracted',\n",
        " 'fervid': 'attracted',\n",
        " 'festive': 'happy',\n",
        " 'flat': 'sad',\n",
        " 'focused': 'focused',\n",
        " 'forced': 'powerless',\n",
        " 'forsaken': 'hated',\n",
        " 'framed': 'cheated',\n",
        " 'free': 'free',\n",
        " 'free & easy': 'happy',\n",
        " 'frightened': 'fearful',\n",
        " 'frisky': 'happy',\n",
        " 'frustrated': 'angry',\n",
        " 'full of anticipation': 'attracted',\n",
        " 'full of ennui': 'apathetic',\n",
        " 'fuming': 'angry',\n",
        " 'funereal': 'sad',\n",
        " 'furious': 'angry',\n",
        " 'gallant': 'fearless',\n",
        " 'genial': 'happy',\n",
        " 'glad': 'happy',\n",
        " 'gleeful': 'happy',\n",
        " 'gloomy': 'sad',\n",
        " 'glum': 'sad',\n",
        " 'grief-stricken': 'sad',\n",
        " 'grieved': 'sad',\n",
        " 'guilt': 'sad',\n",
        " 'guilty': 'singled out',\n",
        " 'happy': 'happy',\n",
        " 'hardy': 'fearless',\n",
        " 'heartbroken': 'sad',\n",
        " 'heavyhearted': 'sad',\n",
        " 'hesitant': 'fearful',\n",
        " 'high-spirited': 'happy',\n",
        " 'hilarious': 'happy',\n",
        " 'hopeful': 'attracted',\n",
        " 'horny': 'lustful',\n",
        " 'horrified': 'fearful',\n",
        " 'hot and bothered': 'lustful',\n",
        " 'humiliated': 'sad',\n",
        " 'humorous': 'happy',\n",
        " 'hurt': 'sad',\n",
        " 'hysterical': 'fearful',\n",
        " 'ignored': 'hated',\n",
        " 'ill at ease': 'sad',\n",
        " 'immobilized': 'apathetic',\n",
        " 'immune': 'entitled',\n",
        " 'important': 'happy',\n",
        " 'impotent': 'powerless',\n",
        " 'imprisoned': 'entitled',\n",
        " 'in a huff': 'angry',\n",
        " 'in a stew': 'angry',\n",
        " 'in control': 'adequate',\n",
        " 'in fear': 'fearful',\n",
        " 'in pain': 'sad',\n",
        " 'in the dumps': 'sad',\n",
        " 'in the zone': 'focused',\n",
        " 'incensed': 'angry',\n",
        " 'included': 'attached',\n",
        " 'indecisive': 'anxious',\n",
        " 'independent': 'free',\n",
        " 'indignant': 'angry',\n",
        " 'infatuated': 'lustful',\n",
        " 'inflamed': 'angry',\n",
        " 'injured': 'sad',\n",
        " 'inquisitive': 'attracted',\n",
        " 'insecure': 'codependent',\n",
        " 'insignificant': 'belittled',\n",
        " 'intent': 'attracted',\n",
        " 'interested': 'attracted',\n",
        " 'interrogated': 'singled out',\n",
        " 'intrigued': 'attracted',\n",
        " 'irate': 'angry',\n",
        " 'irresolute': 'fearful',\n",
        " 'irresponsible': 'powerless',\n",
        " 'irritated': 'angry',\n",
        " 'isolated': 'alone',\n",
        " 'jaunty': 'happy',\n",
        " 'jocular': 'happy',\n",
        " 'jolly': 'happy',\n",
        " 'jovial': 'happy',\n",
        " 'joyful': 'happy',\n",
        " 'joyless': 'sad',\n",
        " 'joyous': 'happy',\n",
        " 'jubilant': 'happy',\n",
        " 'justified': 'singled out',\n",
        " 'keen': 'attracted',\n",
        " 'labeled': 'singled out',\n",
        " 'lackadaisical': 'bored',\n",
        " 'lazy': 'apathetic',\n",
        " 'left out': 'hated',\n",
        " 'let down': 'hated',\n",
        " 'lethargic': 'apathetic',\n",
        " 'lied to': 'cheated',\n",
        " 'lighthearted': 'happy',\n",
        " 'liked': 'attached',\n",
        " 'lively': 'happy',\n",
        " 'livid': 'angry',\n",
        " 'lonely': 'alone',\n",
        " 'lonesome': 'alone',\n",
        " 'lost': 'lost',\n",
        " 'loved': 'attached',\n",
        " 'low': 'sad',\n",
        " 'lucky': 'happy',\n",
        " 'lugubrious': 'sad',\n",
        " 'macho': 'independent',\n",
        " 'mad': 'angry',\n",
        " 'melancholy': 'sad',\n",
        " 'menaced': 'fearful',\n",
        " 'merry': 'happy',\n",
        " 'mirthful': 'happy',\n",
        " 'misgiving': 'fearful',\n",
        " 'misunderstood': 'alone',\n",
        " 'moody': 'sad',\n",
        " 'moping': 'sad',\n",
        " 'motivated': 'attracted',\n",
        " 'mournful': 'sad',\n",
        " 'needed': 'attracted',\n",
        " 'needy': 'codependent',\n",
        " 'nervous': 'fearful',\n",
        " 'obligated': 'powerless',\n",
        " 'obsessed': 'obsessed',\n",
        " 'offended': 'angry',\n",
        " 'oppressed': 'sad',\n",
        " 'optionless': 'entitled',\n",
        " 'ordinary': 'average',\n",
        " 'organized': 'adequate',\n",
        " 'out of control': 'powerless',\n",
        " 'out of sorts': 'sad',\n",
        " 'outmaneuvered': 'entitled',\n",
        " 'outraged': 'angry',\n",
        " 'overjoyed': 'happy',\n",
        " 'overlooked': 'hated',\n",
        " 'overwhelmed': 'powerless',\n",
        " 'panicked': 'fearful',\n",
        " 'passionate': 'lustful',\n",
        " 'passive': 'apathetic',\n",
        " 'pathetic': 'sad',\n",
        " 'peaceful': 'safe',\n",
        " 'pensive': 'anxious',\n",
        " 'perplexed': 'anxious',\n",
        " 'phobic': 'fearful',\n",
        " 'playful': 'happy',\n",
        " 'pleased': 'happy',\n",
        " 'powerless': 'powerless',\n",
        " 'pressured': 'burdened',\n",
        " 'privileged': 'entitled',\n",
        " 'proud': 'happy',\n",
        " 'provoked': 'angry',\n",
        " 'punished': 'hated',\n",
        " 'put upon': 'burdened',\n",
        " 'quaking': 'fearful',\n",
        " 'quiescent': 'apathetic',\n",
        " 'rageful': 'angry',\n",
        " 'rapturous': 'happy',\n",
        " 'rated': 'singled out',\n",
        " 'reassured': 'fearless',\n",
        " 'reckless': 'powerless',\n",
        " 'redeemed': 'singled out',\n",
        " 'regretful': 'sad',\n",
        " 'rejected': 'alone',\n",
        " 'released': 'free',\n",
        " 'remorse': 'sad',\n",
        " 'replaced': 'hated',\n",
        " 'repulsed': 'demoralized',\n",
        " 'resentful': 'angry',\n",
        " 'resolute': 'fearless',\n",
        " 'respected': 'esteemed',\n",
        " 'responsible': 'adequate',\n",
        " 'restful': 'fearful',\n",
        " 'revered': 'esteemed',\n",
        " 'rueful': 'sad',\n",
        " 'sad': 'sad',\n",
        " 'satisfied': 'happy',\n",
        " 'saucy': 'happy',\n",
        " 'scared': 'fearful',\n",
        " 'secure': 'fearless',\n",
        " 'self-reliant': 'fearless',\n",
        " 'serene': 'happy',\n",
        " 'shaky': 'fearful',\n",
        " 'shamed': 'sad',\n",
        " 'shocked': 'surprise',\n",
        " 'significant': 'esteemed',\n",
        " 'singled out': 'singled out',\n",
        " 'skeptical': 'anxious',\n",
        " 'snoopy': 'attracted',\n",
        " 'somber': 'sad',\n",
        " 'sparkling': 'happy',\n",
        " 'spirited': 'happy',\n",
        " 'spiritless': 'sad',\n",
        " 'sprightly': 'happy',\n",
        " 'startled': 'surprise',\n",
        " 'stereotyped': 'singled out',\n",
        " 'stifled': 'powerless',\n",
        " 'stout hearted': 'fearless',\n",
        " 'strong': 'independent',\n",
        " 'suffering': 'sad',\n",
        " 'sulky': 'sad',\n",
        " 'sullen': 'angry',\n",
        " 'sunny': 'happy',\n",
        " 'surprised': 'surprise',\n",
        " 'suspicious': 'anxious',\n",
        " 'sympathetic': 'codependent',\n",
        " 'tense': 'anxious',\n",
        " 'terrified': 'fearful',\n",
        " 'terrorized': 'fearful',\n",
        " 'thankful': 'happy',\n",
        " 'threatened': 'fearful',\n",
        " 'thwarted': 'powerless',\n",
        " 'timid': 'fearful',\n",
        " 'timorous': 'fearful',\n",
        " 'torn': 'derailed',\n",
        " 'tortured': 'sad',\n",
        " 'tragic': 'sad',\n",
        " 'tranquil': 'happy',\n",
        " 'transported': 'happy',\n",
        " 'trapped': 'entitled',\n",
        " 'tremulous': 'fearful',\n",
        " 'tricked': 'entitled',\n",
        " 'turned on': 'lustful',\n",
        " 'unapproved of': 'hated',\n",
        " 'unbelieving': 'anxious',\n",
        " 'uncertain': 'anxious',\n",
        " 'unconcerned': 'apathetic',\n",
        " 'understood': 'attached',\n",
        " 'unfocussed': 'lost',\n",
        " 'unlovable': 'hated',\n",
        " 'unloved': 'hated',\n",
        " 'unmotivated': 'apathetic',\n",
        " 'unshackled': 'free',\n",
        " 'unsupported': 'belittled',\n",
        " 'up in arms': 'angry',\n",
        " 'upset': 'fearful',\n",
        " 'validated': 'loved',\n",
        " 'valued': 'esteemed',\n",
        " 'victimized': 'sad',\n",
        " 'violated': 'cheated',\n",
        " 'virulent': 'angry',\n",
        " 'vivacious': 'happy',\n",
        " 'vulnerable': 'powerless',\n",
        " 'wavering': 'anxious',\n",
        " 'weak': 'powerless',\n",
        " 'welcomed': 'loved',\n",
        " 'woebegone': 'sad',\n",
        " 'woeful': 'sad',\n",
        " 'worn down': 'powerless',\n",
        " 'worn out': 'powerless',\n",
        " 'worried': 'fearful',\n",
        " 'worshiped': 'esteemed',\n",
        " 'wrathful': 'angry',\n",
        " 'wronged': 'singled out',\n",
        " 'wrought up': 'angry',\n",
        " 'yearning': 'lustful',\n",
        " 'yellow': 'fearful',\n",
        " 'zealous': 'attracted',\n",
        " 'abandoned': 'hated',\n",
        " 'absolved': 'singled out',\n",
        " 'absorbed': 'attracted',\n",
        " 'abused': 'powerless',\n",
        " 'accepted': 'loved',\n",
        " 'aching': 'sad',\n",
        " 'acrimonious': 'angry',\n",
        " 'addicted': 'codependent',\n",
        " 'adequate': 'adequate',\n",
        " 'admired': 'esteemed',\n",
        " 'affectionate': 'attached',\n",
        " 'affronted': 'singled out',\n",
        " 'afraid': 'fearful',\n",
        " 'airy': 'happy',\n",
        " 'alone': 'alone',\n",
        " 'ambivalent': 'bored',\n",
        " 'apathetic': 'apathetic',\n",
        " 'apprehensive': 'anxious',\n",
        " 'arrogant': 'independent',\n",
        " 'ashamed': 'embarrassed',\n",
        " 'astonished': 'surprise',\n",
        " 'at ease': 'safe',\n",
        " 'attacked': 'fearful',\n",
        " 'audacious': 'fearless',\n",
        " 'autonomous': 'free',\n",
        " 'average': 'average',\n",
        " 'avid': 'attracted',\n",
        " 'baffled': 'lost',\n",
        " 'bashful': 'powerless',\n",
        " 'belittled': 'belittled',\n",
        " 'buoyant': 'happy',\n",
        " 'burdened': 'burdened',\n",
        " 'clouded': 'sad',\n",
        " 'committed': 'focused',\n",
        " 'compassionate': 'attached',\n",
        " 'compelled': 'obsessed',\n",
        " 'dauntless': 'fearless',\n",
        " 'debonair': 'happy',\n",
        " 'deceived': 'entitled',\n",
        " 'delighted': 'ecstatic',\n",
        " 'demoralized': 'demoralized',\n",
        " 'derailed': 'derailed',\n",
        " 'desirous': 'attracted',\n",
        " 'despairing': 'sad',\n",
        " 'devastated': 'angry',\n",
        " 'diffident': 'fearful',\n",
        " 'discredited': 'belittled',\n",
        " 'disheartened': 'sad',\n",
        " 'disinclined': 'demoralized',\n",
        " 'disorganized': 'powerless',\n",
        " 'downcast': 'sad',\n",
        " 'entitled': 'entitled',\n",
        " 'excited': 'adequate',\n",
        " 'exultant': 'happy',\n",
        " 'fidgety': 'fearful',\n",
        " 'frowning': 'sad',\n",
        " 'full of misgiving': 'anxious',\n",
        " 'great': 'happy',\n",
        " 'hapless': 'sad',\n",
        " 'hated': 'hated',\n",
        " 'heroic': 'fearless',\n",
        " 'hostile': 'angry',\n",
        " 'in despair': 'sad',\n",
        " 'indifferent': 'bored',\n",
        " 'infuriated': 'angry',\n",
        " 'insecure': 'fearful',\n",
        " 'inspired': 'happy',\n",
        " 'inspiring': 'attracted',\n",
        " 'judged': 'singled out',\n",
        " 'justified': 'singled out',\n",
        " 'laughting': 'happy',\n",
        " 'loved': 'loved',\n",
        " 'loving': 'attached',\n",
        " 'low': 'sad',\n",
        " 'lustful': 'lustful',\n",
        " 'manipulated': 'cheated',\n",
        " 'mumpish': 'sad',\n",
        " 'nosey': 'attracted',\n",
        " 'numb': 'apathetic',\n",
        " 'obliterated': 'powerless',\n",
        " 'peaceful': 'happy',\n",
        " 'petrified': 'fearful',\n",
        " 'piqued': 'angry',\n",
        " 'piteous': 'sad',\n",
        " 'powerless': 'powerless',\n",
        " 'questioning': 'anxious',\n",
        " 'rejected': 'hated',\n",
        " 'self-satisfied': 'happy',\n",
        " 'set up': 'entitled',\n",
        " 'shut out': 'alone',\n",
        " 'sorrowful': 'sad',\n",
        " 'spirited': 'sad',\n",
        " 'supported': 'esteemed',\n",
        " 'suspicious': 'fearful',\n",
        " 'terrific': 'happy',\n",
        " 'trapped': 'entitled',\n",
        " 'trembling': 'fearful',\n",
        " 'uncomfortable': 'anxious',\n",
        " 'underestimated': 'belittled',\n",
        " 'unhappy': 'sad',\n",
        " 'vindicated': 'singled out',\n",
        " 'worked up': 'angry'}"
      ],
      "metadata": {
        "id": "yr0YcmQvoSSZ"
      },
      "execution_count": 13,
      "outputs": []
    },
    {
      "cell_type": "code",
      "source": [
        "word_emotions.keys()"
      ],
      "metadata": {
        "colab": {
          "base_uri": "https://localhost:8080/"
        },
        "id": "QjU59btyoSUQ",
        "outputId": "8e12723d-00d9-4c7b-ad12-d0c9524b1c81"
      },
      "execution_count": 14,
      "outputs": [
        {
          "output_type": "execute_result",
          "data": {
            "text/plain": [
              "dict_keys(['victimized', 'accused', 'acquitted', 'adorable', 'adored', 'affected', 'afflicted', 'aghast', 'agog', 'agonized', 'alarmed', 'amused', 'angry', 'anguished', 'animated', 'annoyed', 'anxious', 'apathetic', 'appalled', 'appeased', 'appreciated', 'apprehensive', 'approved of', 'ardent', 'aroused', 'attached', 'attracted', 'autonomous', 'awed', 'awkward', 'beaten down', 'beatific', 'belonging', 'bereaved', 'betrayed', 'bewildered', 'bitter', 'blissful', 'blithe', 'blocked', 'blue', 'boiling', 'bold', 'bored', 'brave', 'bright', 'brisk', 'calm', 'capable', 'captivated', 'careless', 'categorized', 'cautious', 'certain', 'chagrined', 'challenged', 'chastised', 'cheated', 'cheerful', 'cheerless', 'cheery', 'cherished', 'chicken', 'cocky', 'codependent', 'coerced', 'comfortable', 'common', 'competent', 'complacent', 'composed', 'concerned', 'confident', 'confused', 'connected', 'conned', 'consumed', 'contented', 'controlled', 'convivial', 'cornered', 'courageous', 'cowardly', 'craving', 'crestfallen', 'criticized', 'cross', 'cross-examined', 'crushed', 'curious', 'cut off', 'daring', 'dark', 'dedicated', 'defeated', 'defenseless', 'degraded', 'dejected', 'depressed', 'deserted', 'desirable', 'despondent', 'detached', 'determined', 'diminished', 'disappointed', 'discarded', 'disconsolate', 'discontented', 'discounted', 'discouraged', 'disgraced', 'disgusted', 'disheartened', 'disillusioned', 'disjointed', 'dismal', 'dismayed', 'disoriented', 'disparaged', 'displeased', 'disrespected', 'distressed', 'distrustful', 'dolorous', 'doubtful', 'down', 'downhearted', 'dreadful', 'dreary', 'dubious', 'dull', 'duped', 'eager', 'earnest', 'ecstatic', 'elated', 'embarrassed', 'empathetic', 'enchanted', 'encouraged', 'engrossed', 'enraged', 'enterprising', 'enthusiastic', 'entrusted', 'esteemed', 'excited', 'excluded', 'exempt', 'exhausted hopeless', 'exhilarated', 'exploited', 'exposed', 'fabulous', 'fainthearted', 'fantastic', 'fascinated', 'favored', 'fearful', 'fervent', 'fervid', 'festive', 'flat', 'focused', 'forced', 'forsaken', 'framed', 'free', 'free & easy', 'frightened', 'frisky', 'frustrated', 'full of anticipation', 'full of ennui', 'fuming', 'funereal', 'furious', 'gallant', 'genial', 'glad', 'gleeful', 'gloomy', 'glum', 'grief-stricken', 'grieved', 'guilt', 'guilty', 'happy', 'hardy', 'heartbroken', 'heavyhearted', 'hesitant', 'high-spirited', 'hilarious', 'hopeful', 'horny', 'horrified', 'hot and bothered', 'humiliated', 'humorous', 'hurt', 'hysterical', 'ignored', 'ill at ease', 'immobilized', 'immune', 'important', 'impotent', 'imprisoned', 'in a huff', 'in a stew', 'in control', 'in fear', 'in pain', 'in the dumps', 'in the zone', 'incensed', 'included', 'indecisive', 'independent', 'indignant', 'infatuated', 'inflamed', 'injured', 'inquisitive', 'insecure', 'insignificant', 'intent', 'interested', 'interrogated', 'intrigued', 'irate', 'irresolute', 'irresponsible', 'irritated', 'isolated', 'jaunty', 'jocular', 'jolly', 'jovial', 'joyful', 'joyless', 'joyous', 'jubilant', 'justified', 'keen', 'labeled', 'lackadaisical', 'lazy', 'left out', 'let down', 'lethargic', 'lied to', 'lighthearted', 'liked', 'lively', 'livid', 'lonely', 'lonesome', 'lost', 'loved', 'low', 'lucky', 'lugubrious', 'macho', 'mad', 'melancholy', 'menaced', 'merry', 'mirthful', 'misgiving', 'misunderstood', 'moody', 'moping', 'motivated', 'mournful', 'needed', 'needy', 'nervous', 'obligated', 'obsessed', 'offended', 'oppressed', 'optionless', 'ordinary', 'organized', 'out of control', 'out of sorts', 'outmaneuvered', 'outraged', 'overjoyed', 'overlooked', 'overwhelmed', 'panicked', 'passionate', 'passive', 'pathetic', 'peaceful', 'pensive', 'perplexed', 'phobic', 'playful', 'pleased', 'powerless', 'pressured', 'privileged', 'proud', 'provoked', 'punished', 'put upon', 'quaking', 'quiescent', 'rageful', 'rapturous', 'rated', 'reassured', 'reckless', 'redeemed', 'regretful', 'rejected', 'released', 'remorse', 'replaced', 'repulsed', 'resentful', 'resolute', 'respected', 'responsible', 'restful', 'revered', 'rueful', 'sad', 'satisfied', 'saucy', 'scared', 'secure', 'self-reliant', 'serene', 'shaky', 'shamed', 'shocked', 'significant', 'singled out', 'skeptical', 'snoopy', 'somber', 'sparkling', 'spirited', 'spiritless', 'sprightly', 'startled', 'stereotyped', 'stifled', 'stout hearted', 'strong', 'suffering', 'sulky', 'sullen', 'sunny', 'surprised', 'suspicious', 'sympathetic', 'tense', 'terrified', 'terrorized', 'thankful', 'threatened', 'thwarted', 'timid', 'timorous', 'torn', 'tortured', 'tragic', 'tranquil', 'transported', 'trapped', 'tremulous', 'tricked', 'turned on', 'unapproved of', 'unbelieving', 'uncertain', 'unconcerned', 'understood', 'unfocussed', 'unlovable', 'unloved', 'unmotivated', 'unshackled', 'unsupported', 'up in arms', 'upset', 'validated', 'valued', 'violated', 'virulent', 'vivacious', 'vulnerable', 'wavering', 'weak', 'welcomed', 'woebegone', 'woeful', 'worn down', 'worn out', 'worried', 'worshiped', 'wrathful', 'wronged', 'wrought up', 'yearning', 'yellow', 'zealous', 'abandoned', 'absolved', 'absorbed', 'abused', 'accepted', 'aching', 'acrimonious', 'addicted', 'adequate', 'admired', 'affectionate', 'affronted', 'afraid', 'airy', 'alone', 'ambivalent', 'arrogant', 'ashamed', 'astonished', 'at ease', 'attacked', 'audacious', 'average', 'avid', 'baffled', 'bashful', 'belittled', 'buoyant', 'burdened', 'clouded', 'committed', 'compassionate', 'compelled', 'dauntless', 'debonair', 'deceived', 'delighted', 'demoralized', 'derailed', 'desirous', 'despairing', 'devastated', 'diffident', 'discredited', 'disinclined', 'disorganized', 'downcast', 'entitled', 'exultant', 'fidgety', 'frowning', 'full of misgiving', 'great', 'hapless', 'hated', 'heroic', 'hostile', 'in despair', 'indifferent', 'infuriated', 'inspired', 'inspiring', 'judged', 'laughting', 'loving', 'lustful', 'manipulated', 'mumpish', 'nosey', 'numb', 'obliterated', 'petrified', 'piqued', 'piteous', 'questioning', 'self-satisfied', 'set up', 'shut out', 'sorrowful', 'supported', 'terrific', 'trembling', 'uncomfortable', 'underestimated', 'unhappy', 'vindicated', 'worked up'])"
            ]
          },
          "metadata": {},
          "execution_count": 14
        }
      ]
    },
    {
      "cell_type": "code",
      "source": [
        "emotion_list = []\n",
        "for key in word_emotions.keys():\n",
        "  if key in final_words:\n",
        "    emotion_list.append(word_emotions[key])"
      ],
      "metadata": {
        "id": "bILnD2JboSXq"
      },
      "execution_count": 15,
      "outputs": []
    },
    {
      "cell_type": "code",
      "source": [
        "emotion_list"
      ],
      "metadata": {
        "colab": {
          "base_uri": "https://localhost:8080/"
        },
        "id": "U7eVMrYooSc1",
        "outputId": "f3047ced-b5ac-4b07-af97-e6d7a1c90ec0"
      },
      "execution_count": 16,
      "outputs": [
        {
          "output_type": "execute_result",
          "data": {
            "text/plain": [
              "['sad', 'attached', 'cheated']"
            ]
          },
          "metadata": {},
          "execution_count": 16
        }
      ]
    },
    {
      "cell_type": "code",
      "source": [
        "import nltk\n",
        "from nltk.corpus import stopwords\n",
        "from nltk.tokenize import word_tokenize, sent_tokenize"
      ],
      "metadata": {
        "id": "yXCYNJucoSgJ"
      },
      "execution_count": 17,
      "outputs": []
    },
    {
      "cell_type": "code",
      "source": [
        "nltk.download('stopwords')"
      ],
      "metadata": {
        "colab": {
          "base_uri": "https://localhost:8080/"
        },
        "id": "9AkKRm635IBb",
        "outputId": "a49bea0f-8ea0-49ae-f125-3691b404d158"
      },
      "execution_count": 18,
      "outputs": [
        {
          "output_type": "stream",
          "name": "stderr",
          "text": [
            "[nltk_data] Downloading package stopwords to /root/nltk_data...\n",
            "[nltk_data]   Unzipping corpora/stopwords.zip.\n"
          ]
        },
        {
          "output_type": "execute_result",
          "data": {
            "text/plain": [
              "True"
            ]
          },
          "metadata": {},
          "execution_count": 18
        }
      ]
    },
    {
      "cell_type": "code",
      "source": [
        "list(stopwords.words('english'))"
      ],
      "metadata": {
        "colab": {
          "base_uri": "https://localhost:8080/"
        },
        "id": "rqgkNoz5oSil",
        "outputId": "89eecb5f-68fc-42a3-9a03-2bd3000fb7e8"
      },
      "execution_count": 19,
      "outputs": [
        {
          "output_type": "execute_result",
          "data": {
            "text/plain": [
              "['i',\n",
              " 'me',\n",
              " 'my',\n",
              " 'myself',\n",
              " 'we',\n",
              " 'our',\n",
              " 'ours',\n",
              " 'ourselves',\n",
              " 'you',\n",
              " \"you're\",\n",
              " \"you've\",\n",
              " \"you'll\",\n",
              " \"you'd\",\n",
              " 'your',\n",
              " 'yours',\n",
              " 'yourself',\n",
              " 'yourselves',\n",
              " 'he',\n",
              " 'him',\n",
              " 'his',\n",
              " 'himself',\n",
              " 'she',\n",
              " \"she's\",\n",
              " 'her',\n",
              " 'hers',\n",
              " 'herself',\n",
              " 'it',\n",
              " \"it's\",\n",
              " 'its',\n",
              " 'itself',\n",
              " 'they',\n",
              " 'them',\n",
              " 'their',\n",
              " 'theirs',\n",
              " 'themselves',\n",
              " 'what',\n",
              " 'which',\n",
              " 'who',\n",
              " 'whom',\n",
              " 'this',\n",
              " 'that',\n",
              " \"that'll\",\n",
              " 'these',\n",
              " 'those',\n",
              " 'am',\n",
              " 'is',\n",
              " 'are',\n",
              " 'was',\n",
              " 'were',\n",
              " 'be',\n",
              " 'been',\n",
              " 'being',\n",
              " 'have',\n",
              " 'has',\n",
              " 'had',\n",
              " 'having',\n",
              " 'do',\n",
              " 'does',\n",
              " 'did',\n",
              " 'doing',\n",
              " 'a',\n",
              " 'an',\n",
              " 'the',\n",
              " 'and',\n",
              " 'but',\n",
              " 'if',\n",
              " 'or',\n",
              " 'because',\n",
              " 'as',\n",
              " 'until',\n",
              " 'while',\n",
              " 'of',\n",
              " 'at',\n",
              " 'by',\n",
              " 'for',\n",
              " 'with',\n",
              " 'about',\n",
              " 'against',\n",
              " 'between',\n",
              " 'into',\n",
              " 'through',\n",
              " 'during',\n",
              " 'before',\n",
              " 'after',\n",
              " 'above',\n",
              " 'below',\n",
              " 'to',\n",
              " 'from',\n",
              " 'up',\n",
              " 'down',\n",
              " 'in',\n",
              " 'out',\n",
              " 'on',\n",
              " 'off',\n",
              " 'over',\n",
              " 'under',\n",
              " 'again',\n",
              " 'further',\n",
              " 'then',\n",
              " 'once',\n",
              " 'here',\n",
              " 'there',\n",
              " 'when',\n",
              " 'where',\n",
              " 'why',\n",
              " 'how',\n",
              " 'all',\n",
              " 'any',\n",
              " 'both',\n",
              " 'each',\n",
              " 'few',\n",
              " 'more',\n",
              " 'most',\n",
              " 'other',\n",
              " 'some',\n",
              " 'such',\n",
              " 'no',\n",
              " 'nor',\n",
              " 'not',\n",
              " 'only',\n",
              " 'own',\n",
              " 'same',\n",
              " 'so',\n",
              " 'than',\n",
              " 'too',\n",
              " 'very',\n",
              " 's',\n",
              " 't',\n",
              " 'can',\n",
              " 'will',\n",
              " 'just',\n",
              " 'don',\n",
              " \"don't\",\n",
              " 'should',\n",
              " \"should've\",\n",
              " 'now',\n",
              " 'd',\n",
              " 'll',\n",
              " 'm',\n",
              " 'o',\n",
              " 're',\n",
              " 've',\n",
              " 'y',\n",
              " 'ain',\n",
              " 'aren',\n",
              " \"aren't\",\n",
              " 'couldn',\n",
              " \"couldn't\",\n",
              " 'didn',\n",
              " \"didn't\",\n",
              " 'doesn',\n",
              " \"doesn't\",\n",
              " 'hadn',\n",
              " \"hadn't\",\n",
              " 'hasn',\n",
              " \"hasn't\",\n",
              " 'haven',\n",
              " \"haven't\",\n",
              " 'isn',\n",
              " \"isn't\",\n",
              " 'ma',\n",
              " 'mightn',\n",
              " \"mightn't\",\n",
              " 'mustn',\n",
              " \"mustn't\",\n",
              " 'needn',\n",
              " \"needn't\",\n",
              " 'shan',\n",
              " \"shan't\",\n",
              " 'shouldn',\n",
              " \"shouldn't\",\n",
              " 'wasn',\n",
              " \"wasn't\",\n",
              " 'weren',\n",
              " \"weren't\",\n",
              " 'won',\n",
              " \"won't\",\n",
              " 'wouldn',\n",
              " \"wouldn't\"]"
            ]
          },
          "metadata": {},
          "execution_count": 19
        }
      ]
    },
    {
      "cell_type": "code",
      "source": [
        "nltk.download('punkt')"
      ],
      "metadata": {
        "colab": {
          "base_uri": "https://localhost:8080/"
        },
        "id": "x83ygjsC5lw5",
        "outputId": "8bf42e94-94c9-4989-eb9b-25954bf29a9a"
      },
      "execution_count": 20,
      "outputs": [
        {
          "output_type": "stream",
          "name": "stderr",
          "text": [
            "[nltk_data] Downloading package punkt to /root/nltk_data...\n",
            "[nltk_data]   Unzipping tokenizers/punkt.zip.\n"
          ]
        },
        {
          "output_type": "execute_result",
          "data": {
            "text/plain": [
              "True"
            ]
          },
          "metadata": {},
          "execution_count": 20
        }
      ]
    },
    {
      "cell_type": "code",
      "source": [
        "data = \"In this competition, you’re challenged to build a machine learning model that predicts which Tweets are about real disasters and which one’s aren’t. You’ll have access to a dataset of 10,000 tweets that were hand classified. If this is your first time working on an NLP problem, we've created a quick tutorial to get you up and running.\""
      ],
      "metadata": {
        "id": "zHmhV1FVoSkS"
      },
      "execution_count": 21,
      "outputs": []
    },
    {
      "cell_type": "code",
      "source": [
        "word_tokenize(data)"
      ],
      "metadata": {
        "colab": {
          "base_uri": "https://localhost:8080/"
        },
        "id": "xk9qfLpXoSmA",
        "outputId": "95c8cfd0-df53-4983-b319-3fee87895b8d"
      },
      "execution_count": 22,
      "outputs": [
        {
          "output_type": "execute_result",
          "data": {
            "text/plain": [
              "['In',\n",
              " 'this',\n",
              " 'competition',\n",
              " ',',\n",
              " 'you',\n",
              " '’',\n",
              " 're',\n",
              " 'challenged',\n",
              " 'to',\n",
              " 'build',\n",
              " 'a',\n",
              " 'machine',\n",
              " 'learning',\n",
              " 'model',\n",
              " 'that',\n",
              " 'predicts',\n",
              " 'which',\n",
              " 'Tweets',\n",
              " 'are',\n",
              " 'about',\n",
              " 'real',\n",
              " 'disasters',\n",
              " 'and',\n",
              " 'which',\n",
              " 'one',\n",
              " '’',\n",
              " 's',\n",
              " 'aren',\n",
              " '’',\n",
              " 't',\n",
              " '.',\n",
              " 'You',\n",
              " '’',\n",
              " 'll',\n",
              " 'have',\n",
              " 'access',\n",
              " 'to',\n",
              " 'a',\n",
              " 'dataset',\n",
              " 'of',\n",
              " '10,000',\n",
              " 'tweets',\n",
              " 'that',\n",
              " 'were',\n",
              " 'hand',\n",
              " 'classified',\n",
              " '.',\n",
              " 'If',\n",
              " 'this',\n",
              " 'is',\n",
              " 'your',\n",
              " 'first',\n",
              " 'time',\n",
              " 'working',\n",
              " 'on',\n",
              " 'an',\n",
              " 'NLP',\n",
              " 'problem',\n",
              " ',',\n",
              " 'we',\n",
              " \"'ve\",\n",
              " 'created',\n",
              " 'a',\n",
              " 'quick',\n",
              " 'tutorial',\n",
              " 'to',\n",
              " 'get',\n",
              " 'you',\n",
              " 'up',\n",
              " 'and',\n",
              " 'running',\n",
              " '.']"
            ]
          },
          "metadata": {},
          "execution_count": 22
        }
      ]
    },
    {
      "cell_type": "code",
      "source": [
        "x=sent_tokenize(data)\n",
        "x"
      ],
      "metadata": {
        "colab": {
          "base_uri": "https://localhost:8080/"
        },
        "id": "2EiqPhXCoSnc",
        "outputId": "e92a370d-8313-4535-d058-a84362a78991"
      },
      "execution_count": 24,
      "outputs": [
        {
          "output_type": "execute_result",
          "data": {
            "text/plain": [
              "['In this competition, you’re challenged to build a machine learning model that predicts which Tweets are about real disasters and which one’s aren’t.',\n",
              " 'You’ll have access to a dataset of 10,000 tweets that were hand classified.',\n",
              " \"If this is your first time working on an NLP problem, we've created a quick tutorial to get you up and running.\"]"
            ]
          },
          "metadata": {},
          "execution_count": 24
        }
      ]
    },
    {
      "cell_type": "code",
      "source": [],
      "metadata": {
        "id": "HirLFg1B0VeE"
      },
      "execution_count": null,
      "outputs": []
    }
  ]
}