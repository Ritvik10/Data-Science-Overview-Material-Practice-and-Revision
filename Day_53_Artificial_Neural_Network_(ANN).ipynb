{
  "nbformat": 4,
  "nbformat_minor": 0,
  "metadata": {
    "colab": {
      "provenance": [],
      "include_colab_link": true
    },
    "kernelspec": {
      "name": "python3",
      "display_name": "Python 3"
    },
    "language_info": {
      "name": "python"
    }
  },
  "cells": [
    {
      "cell_type": "markdown",
      "metadata": {
        "id": "view-in-github",
        "colab_type": "text"
      },
      "source": [
        "<a href=\"https://colab.research.google.com/github/Ritvik10/Data-Science-Overview-Material-Practice-and-Revision/blob/main/Day_53_Artificial_Neural_Network_(ANN).ipynb\" target=\"_parent\"><img src=\"https://colab.research.google.com/assets/colab-badge.svg\" alt=\"Open In Colab\"/></a>"
      ]
    },
    {
      "cell_type": "markdown",
      "source": [
        "# Libraries\n",
        "\n",
        "Keras: https://keras.io/\n",
        "\n",
        "Tensorflow: https://www.tensorflow.org/\n",
        "\n",
        "PyTorch: https://pytorch.org/\n",
        "\n",
        "Theano: https://pypi.org/project/Theano/"
      ],
      "metadata": {
        "id": "WSsvg5-_46wJ"
      }
    },
    {
      "cell_type": "markdown",
      "source": [
        "* About the dataset - This is a dataset of 60,000 28x28 grayscale imahges of the 10 digits, along with a test set of 10,000 images."
      ],
      "metadata": {
        "id": "5JeZHap05Qnl"
      }
    },
    {
      "cell_type": "code",
      "execution_count": 1,
      "metadata": {
        "id": "-xN2QJi_guEM",
        "outputId": "3318813b-055e-43d9-908f-a04926faa548",
        "colab": {
          "base_uri": "https://localhost:8080/",
          "height": 35
        }
      },
      "outputs": [
        {
          "output_type": "execute_result",
          "data": {
            "text/plain": [
              "'70K - Images (60k - Train, 10k - Test)\\n'"
            ],
            "application/vnd.google.colaboratory.intrinsic+json": {
              "type": "string"
            }
          },
          "metadata": {},
          "execution_count": 1
        }
      ],
      "source": [
        "\"\"\"70K - Images (60k - Train, 10k - Test)\n",
        "\"\"\""
      ]
    },
    {
      "cell_type": "markdown",
      "source": [
        "# Importing libraries"
      ],
      "metadata": {
        "id": "otcGoDuC7LxJ"
      }
    },
    {
      "cell_type": "code",
      "source": [
        "import numpy as np\n",
        "import matplotlib.pyplot as plt\n",
        "import seaborn as sns\n",
        "import tensorflow as tf\n",
        "from tensorflow import keras"
      ],
      "metadata": {
        "id": "0o9dem6Ng0bU"
      },
      "execution_count": 2,
      "outputs": []
    },
    {
      "cell_type": "markdown",
      "source": [
        "# Importing the datatset"
      ],
      "metadata": {
        "id": "ssBExSBs7hXE"
      }
    },
    {
      "cell_type": "code",
      "source": [
        "data = keras.datasets.mnist"
      ],
      "metadata": {
        "id": "XKVYQVZMg0iX"
      },
      "execution_count": 3,
      "outputs": []
    },
    {
      "cell_type": "code",
      "source": [
        "data"
      ],
      "metadata": {
        "colab": {
          "base_uri": "https://localhost:8080/"
        },
        "id": "xD4P13NWg0je",
        "outputId": "f0b354c5-268d-41eb-bec2-f5765eebbddd"
      },
      "execution_count": 4,
      "outputs": [
        {
          "output_type": "execute_result",
          "data": {
            "text/plain": [
              "<module 'keras.api._v2.keras.datasets.mnist' from '/usr/local/lib/python3.10/dist-packages/keras/api/_v2/keras/datasets/mnist/__init__.py'>"
            ]
          },
          "metadata": {},
          "execution_count": 4
        }
      ]
    },
    {
      "cell_type": "code",
      "source": [
        "df = data.load_data()"
      ],
      "metadata": {
        "colab": {
          "base_uri": "https://localhost:8080/"
        },
        "id": "xAd0ZSRcg0ot",
        "outputId": "030ab33d-7121-4645-8978-34f75711640c"
      },
      "execution_count": 5,
      "outputs": [
        {
          "output_type": "stream",
          "name": "stdout",
          "text": [
            "Downloading data from https://storage.googleapis.com/tensorflow/tf-keras-datasets/mnist.npz\n",
            "11490434/11490434 [==============================] - 0s 0us/step\n"
          ]
        }
      ]
    },
    {
      "cell_type": "code",
      "source": [
        "df"
      ],
      "metadata": {
        "colab": {
          "base_uri": "https://localhost:8080/"
        },
        "id": "StIym77Sg0rb",
        "outputId": "228df740-d55d-421d-8e1d-9cc3d2d9de17"
      },
      "execution_count": 6,
      "outputs": [
        {
          "output_type": "execute_result",
          "data": {
            "text/plain": [
              "((array([[[0, 0, 0, ..., 0, 0, 0],\n",
              "          [0, 0, 0, ..., 0, 0, 0],\n",
              "          [0, 0, 0, ..., 0, 0, 0],\n",
              "          ...,\n",
              "          [0, 0, 0, ..., 0, 0, 0],\n",
              "          [0, 0, 0, ..., 0, 0, 0],\n",
              "          [0, 0, 0, ..., 0, 0, 0]],\n",
              "  \n",
              "         [[0, 0, 0, ..., 0, 0, 0],\n",
              "          [0, 0, 0, ..., 0, 0, 0],\n",
              "          [0, 0, 0, ..., 0, 0, 0],\n",
              "          ...,\n",
              "          [0, 0, 0, ..., 0, 0, 0],\n",
              "          [0, 0, 0, ..., 0, 0, 0],\n",
              "          [0, 0, 0, ..., 0, 0, 0]],\n",
              "  \n",
              "         [[0, 0, 0, ..., 0, 0, 0],\n",
              "          [0, 0, 0, ..., 0, 0, 0],\n",
              "          [0, 0, 0, ..., 0, 0, 0],\n",
              "          ...,\n",
              "          [0, 0, 0, ..., 0, 0, 0],\n",
              "          [0, 0, 0, ..., 0, 0, 0],\n",
              "          [0, 0, 0, ..., 0, 0, 0]],\n",
              "  \n",
              "         ...,\n",
              "  \n",
              "         [[0, 0, 0, ..., 0, 0, 0],\n",
              "          [0, 0, 0, ..., 0, 0, 0],\n",
              "          [0, 0, 0, ..., 0, 0, 0],\n",
              "          ...,\n",
              "          [0, 0, 0, ..., 0, 0, 0],\n",
              "          [0, 0, 0, ..., 0, 0, 0],\n",
              "          [0, 0, 0, ..., 0, 0, 0]],\n",
              "  \n",
              "         [[0, 0, 0, ..., 0, 0, 0],\n",
              "          [0, 0, 0, ..., 0, 0, 0],\n",
              "          [0, 0, 0, ..., 0, 0, 0],\n",
              "          ...,\n",
              "          [0, 0, 0, ..., 0, 0, 0],\n",
              "          [0, 0, 0, ..., 0, 0, 0],\n",
              "          [0, 0, 0, ..., 0, 0, 0]],\n",
              "  \n",
              "         [[0, 0, 0, ..., 0, 0, 0],\n",
              "          [0, 0, 0, ..., 0, 0, 0],\n",
              "          [0, 0, 0, ..., 0, 0, 0],\n",
              "          ...,\n",
              "          [0, 0, 0, ..., 0, 0, 0],\n",
              "          [0, 0, 0, ..., 0, 0, 0],\n",
              "          [0, 0, 0, ..., 0, 0, 0]]], dtype=uint8),\n",
              "  array([5, 0, 4, ..., 5, 6, 8], dtype=uint8)),\n",
              " (array([[[0, 0, 0, ..., 0, 0, 0],\n",
              "          [0, 0, 0, ..., 0, 0, 0],\n",
              "          [0, 0, 0, ..., 0, 0, 0],\n",
              "          ...,\n",
              "          [0, 0, 0, ..., 0, 0, 0],\n",
              "          [0, 0, 0, ..., 0, 0, 0],\n",
              "          [0, 0, 0, ..., 0, 0, 0]],\n",
              "  \n",
              "         [[0, 0, 0, ..., 0, 0, 0],\n",
              "          [0, 0, 0, ..., 0, 0, 0],\n",
              "          [0, 0, 0, ..., 0, 0, 0],\n",
              "          ...,\n",
              "          [0, 0, 0, ..., 0, 0, 0],\n",
              "          [0, 0, 0, ..., 0, 0, 0],\n",
              "          [0, 0, 0, ..., 0, 0, 0]],\n",
              "  \n",
              "         [[0, 0, 0, ..., 0, 0, 0],\n",
              "          [0, 0, 0, ..., 0, 0, 0],\n",
              "          [0, 0, 0, ..., 0, 0, 0],\n",
              "          ...,\n",
              "          [0, 0, 0, ..., 0, 0, 0],\n",
              "          [0, 0, 0, ..., 0, 0, 0],\n",
              "          [0, 0, 0, ..., 0, 0, 0]],\n",
              "  \n",
              "         ...,\n",
              "  \n",
              "         [[0, 0, 0, ..., 0, 0, 0],\n",
              "          [0, 0, 0, ..., 0, 0, 0],\n",
              "          [0, 0, 0, ..., 0, 0, 0],\n",
              "          ...,\n",
              "          [0, 0, 0, ..., 0, 0, 0],\n",
              "          [0, 0, 0, ..., 0, 0, 0],\n",
              "          [0, 0, 0, ..., 0, 0, 0]],\n",
              "  \n",
              "         [[0, 0, 0, ..., 0, 0, 0],\n",
              "          [0, 0, 0, ..., 0, 0, 0],\n",
              "          [0, 0, 0, ..., 0, 0, 0],\n",
              "          ...,\n",
              "          [0, 0, 0, ..., 0, 0, 0],\n",
              "          [0, 0, 0, ..., 0, 0, 0],\n",
              "          [0, 0, 0, ..., 0, 0, 0]],\n",
              "  \n",
              "         [[0, 0, 0, ..., 0, 0, 0],\n",
              "          [0, 0, 0, ..., 0, 0, 0],\n",
              "          [0, 0, 0, ..., 0, 0, 0],\n",
              "          ...,\n",
              "          [0, 0, 0, ..., 0, 0, 0],\n",
              "          [0, 0, 0, ..., 0, 0, 0],\n",
              "          [0, 0, 0, ..., 0, 0, 0]]], dtype=uint8),\n",
              "  array([7, 2, 1, ..., 4, 5, 6], dtype=uint8)))"
            ]
          },
          "metadata": {},
          "execution_count": 6
        }
      ]
    },
    {
      "cell_type": "code",
      "source": [
        "len(df)"
      ],
      "metadata": {
        "colab": {
          "base_uri": "https://localhost:8080/"
        },
        "id": "KeWNfsK9g0tO",
        "outputId": "52793877-328d-4122-8480-e050057bcb2e"
      },
      "execution_count": 7,
      "outputs": [
        {
          "output_type": "execute_result",
          "data": {
            "text/plain": [
              "2"
            ]
          },
          "metadata": {},
          "execution_count": 7
        }
      ]
    },
    {
      "cell_type": "code",
      "source": [
        "(X_train, y_train), (X_test, y_test) = df"
      ],
      "metadata": {
        "id": "xtiLxnKAg0vb"
      },
      "execution_count": 8,
      "outputs": []
    },
    {
      "cell_type": "code",
      "source": [
        "X_train.shape"
      ],
      "metadata": {
        "colab": {
          "base_uri": "https://localhost:8080/"
        },
        "id": "w7E3OEymg0xg",
        "outputId": "3b55ab08-306f-4ab7-d5b9-a27a99e5cf1e"
      },
      "execution_count": 9,
      "outputs": [
        {
          "output_type": "execute_result",
          "data": {
            "text/plain": [
              "(60000, 28, 28)"
            ]
          },
          "metadata": {},
          "execution_count": 9
        }
      ]
    },
    {
      "cell_type": "code",
      "source": [
        "X_train.ndim"
      ],
      "metadata": {
        "colab": {
          "base_uri": "https://localhost:8080/"
        },
        "id": "DiMJmFF8g0zp",
        "outputId": "f59f4fbf-e724-43aa-f608-ae564bcd1ddc"
      },
      "execution_count": 10,
      "outputs": [
        {
          "output_type": "execute_result",
          "data": {
            "text/plain": [
              "3"
            ]
          },
          "metadata": {},
          "execution_count": 10
        }
      ]
    },
    {
      "cell_type": "code",
      "source": [
        "X_train[0][5]"
      ],
      "metadata": {
        "colab": {
          "base_uri": "https://localhost:8080/"
        },
        "id": "mkmCfWxUg02S",
        "outputId": "ed637023-5951-470e-c685-9c65508db091"
      },
      "execution_count": 11,
      "outputs": [
        {
          "output_type": "execute_result",
          "data": {
            "text/plain": [
              "array([  0,   0,   0,   0,   0,   0,   0,   0,   0,   0,   0,   0,   3,\n",
              "        18,  18,  18, 126, 136, 175,  26, 166, 255, 247, 127,   0,   0,\n",
              "         0,   0], dtype=uint8)"
            ]
          },
          "metadata": {},
          "execution_count": 11
        }
      ]
    },
    {
      "cell_type": "code",
      "source": [
        "X_train[0]"
      ],
      "metadata": {
        "colab": {
          "base_uri": "https://localhost:8080/"
        },
        "id": "LkOpCmhZg05q",
        "outputId": "3cb088a6-e96c-4e02-9fd5-d30e62900319"
      },
      "execution_count": 12,
      "outputs": [
        {
          "output_type": "execute_result",
          "data": {
            "text/plain": [
              "array([[  0,   0,   0,   0,   0,   0,   0,   0,   0,   0,   0,   0,   0,\n",
              "          0,   0,   0,   0,   0,   0,   0,   0,   0,   0,   0,   0,   0,\n",
              "          0,   0],\n",
              "       [  0,   0,   0,   0,   0,   0,   0,   0,   0,   0,   0,   0,   0,\n",
              "          0,   0,   0,   0,   0,   0,   0,   0,   0,   0,   0,   0,   0,\n",
              "          0,   0],\n",
              "       [  0,   0,   0,   0,   0,   0,   0,   0,   0,   0,   0,   0,   0,\n",
              "          0,   0,   0,   0,   0,   0,   0,   0,   0,   0,   0,   0,   0,\n",
              "          0,   0],\n",
              "       [  0,   0,   0,   0,   0,   0,   0,   0,   0,   0,   0,   0,   0,\n",
              "          0,   0,   0,   0,   0,   0,   0,   0,   0,   0,   0,   0,   0,\n",
              "          0,   0],\n",
              "       [  0,   0,   0,   0,   0,   0,   0,   0,   0,   0,   0,   0,   0,\n",
              "          0,   0,   0,   0,   0,   0,   0,   0,   0,   0,   0,   0,   0,\n",
              "          0,   0],\n",
              "       [  0,   0,   0,   0,   0,   0,   0,   0,   0,   0,   0,   0,   3,\n",
              "         18,  18,  18, 126, 136, 175,  26, 166, 255, 247, 127,   0,   0,\n",
              "          0,   0],\n",
              "       [  0,   0,   0,   0,   0,   0,   0,   0,  30,  36,  94, 154, 170,\n",
              "        253, 253, 253, 253, 253, 225, 172, 253, 242, 195,  64,   0,   0,\n",
              "          0,   0],\n",
              "       [  0,   0,   0,   0,   0,   0,   0,  49, 238, 253, 253, 253, 253,\n",
              "        253, 253, 253, 253, 251,  93,  82,  82,  56,  39,   0,   0,   0,\n",
              "          0,   0],\n",
              "       [  0,   0,   0,   0,   0,   0,   0,  18, 219, 253, 253, 253, 253,\n",
              "        253, 198, 182, 247, 241,   0,   0,   0,   0,   0,   0,   0,   0,\n",
              "          0,   0],\n",
              "       [  0,   0,   0,   0,   0,   0,   0,   0,  80, 156, 107, 253, 253,\n",
              "        205,  11,   0,  43, 154,   0,   0,   0,   0,   0,   0,   0,   0,\n",
              "          0,   0],\n",
              "       [  0,   0,   0,   0,   0,   0,   0,   0,   0,  14,   1, 154, 253,\n",
              "         90,   0,   0,   0,   0,   0,   0,   0,   0,   0,   0,   0,   0,\n",
              "          0,   0],\n",
              "       [  0,   0,   0,   0,   0,   0,   0,   0,   0,   0,   0, 139, 253,\n",
              "        190,   2,   0,   0,   0,   0,   0,   0,   0,   0,   0,   0,   0,\n",
              "          0,   0],\n",
              "       [  0,   0,   0,   0,   0,   0,   0,   0,   0,   0,   0,  11, 190,\n",
              "        253,  70,   0,   0,   0,   0,   0,   0,   0,   0,   0,   0,   0,\n",
              "          0,   0],\n",
              "       [  0,   0,   0,   0,   0,   0,   0,   0,   0,   0,   0,   0,  35,\n",
              "        241, 225, 160, 108,   1,   0,   0,   0,   0,   0,   0,   0,   0,\n",
              "          0,   0],\n",
              "       [  0,   0,   0,   0,   0,   0,   0,   0,   0,   0,   0,   0,   0,\n",
              "         81, 240, 253, 253, 119,  25,   0,   0,   0,   0,   0,   0,   0,\n",
              "          0,   0],\n",
              "       [  0,   0,   0,   0,   0,   0,   0,   0,   0,   0,   0,   0,   0,\n",
              "          0,  45, 186, 253, 253, 150,  27,   0,   0,   0,   0,   0,   0,\n",
              "          0,   0],\n",
              "       [  0,   0,   0,   0,   0,   0,   0,   0,   0,   0,   0,   0,   0,\n",
              "          0,   0,  16,  93, 252, 253, 187,   0,   0,   0,   0,   0,   0,\n",
              "          0,   0],\n",
              "       [  0,   0,   0,   0,   0,   0,   0,   0,   0,   0,   0,   0,   0,\n",
              "          0,   0,   0,   0, 249, 253, 249,  64,   0,   0,   0,   0,   0,\n",
              "          0,   0],\n",
              "       [  0,   0,   0,   0,   0,   0,   0,   0,   0,   0,   0,   0,   0,\n",
              "          0,  46, 130, 183, 253, 253, 207,   2,   0,   0,   0,   0,   0,\n",
              "          0,   0],\n",
              "       [  0,   0,   0,   0,   0,   0,   0,   0,   0,   0,   0,   0,  39,\n",
              "        148, 229, 253, 253, 253, 250, 182,   0,   0,   0,   0,   0,   0,\n",
              "          0,   0],\n",
              "       [  0,   0,   0,   0,   0,   0,   0,   0,   0,   0,  24, 114, 221,\n",
              "        253, 253, 253, 253, 201,  78,   0,   0,   0,   0,   0,   0,   0,\n",
              "          0,   0],\n",
              "       [  0,   0,   0,   0,   0,   0,   0,   0,  23,  66, 213, 253, 253,\n",
              "        253, 253, 198,  81,   2,   0,   0,   0,   0,   0,   0,   0,   0,\n",
              "          0,   0],\n",
              "       [  0,   0,   0,   0,   0,   0,  18, 171, 219, 253, 253, 253, 253,\n",
              "        195,  80,   9,   0,   0,   0,   0,   0,   0,   0,   0,   0,   0,\n",
              "          0,   0],\n",
              "       [  0,   0,   0,   0,  55, 172, 226, 253, 253, 253, 253, 244, 133,\n",
              "         11,   0,   0,   0,   0,   0,   0,   0,   0,   0,   0,   0,   0,\n",
              "          0,   0],\n",
              "       [  0,   0,   0,   0, 136, 253, 253, 253, 212, 135, 132,  16,   0,\n",
              "          0,   0,   0,   0,   0,   0,   0,   0,   0,   0,   0,   0,   0,\n",
              "          0,   0],\n",
              "       [  0,   0,   0,   0,   0,   0,   0,   0,   0,   0,   0,   0,   0,\n",
              "          0,   0,   0,   0,   0,   0,   0,   0,   0,   0,   0,   0,   0,\n",
              "          0,   0],\n",
              "       [  0,   0,   0,   0,   0,   0,   0,   0,   0,   0,   0,   0,   0,\n",
              "          0,   0,   0,   0,   0,   0,   0,   0,   0,   0,   0,   0,   0,\n",
              "          0,   0],\n",
              "       [  0,   0,   0,   0,   0,   0,   0,   0,   0,   0,   0,   0,   0,\n",
              "          0,   0,   0,   0,   0,   0,   0,   0,   0,   0,   0,   0,   0,\n",
              "          0,   0]], dtype=uint8)"
            ]
          },
          "metadata": {},
          "execution_count": 12
        }
      ]
    },
    {
      "cell_type": "code",
      "source": [
        "plt.matshow(X_train[0])"
      ],
      "metadata": {
        "colab": {
          "base_uri": "https://localhost:8080/",
          "height": 454
        },
        "id": "xJ4J-082g07w",
        "outputId": "e36a09dc-37e0-418d-a754-6532ab80b354"
      },
      "execution_count": 13,
      "outputs": [
        {
          "output_type": "execute_result",
          "data": {
            "text/plain": [
              "<matplotlib.image.AxesImage at 0x7faf23020460>"
            ]
          },
          "metadata": {},
          "execution_count": 13
        },
        {
          "output_type": "display_data",
          "data": {
            "text/plain": [
              "<Figure size 480x480 with 1 Axes>"
            ],
            "image/png": "[encoded data removed]"
          },
          "metadata": {}
        }
      ]
    },
    {
      "cell_type": "code",
      "source": [
        "for i in range(10):\n",
        "  plt.matshow(X_train[i])"
      ],
      "metadata": {
        "colab": {
          "base_uri": "https://localhost:8080/",
          "height": 1000
        },
        "id": "3KeIcM8og0-G",
        "outputId": "5c16e994-3cea-4c93-f212-690117cfad59"
      },
      "execution_count": 14,
      "outputs": [
        {
          "output_type": "display_data",
          "data": {
            "text/plain": [
              "<Figure size 480x480 with 1 Axes>"
            ],
            "image/png": "[encoded data removed]"
          },
          "metadata": {}
        },
        {
          "output_type": "display_data",
          "data": {
            "text/plain": [
              "<Figure size 480x480 with 1 Axes>"
            ],
            "image/png": "[encoded data removed]"
          },
          "metadata": {}
        },
        {
          "output_type": "display_data",
          "data": {
            "text/plain": [
              "<Figure size 480x480 with 1 Axes>"
            ],
            "image/png": "[encoded data removed]"
          },
          "metadata": {}
        },
        {
          "output_type": "display_data",
          "data": {
            "text/plain": [
              "<Figure size 480x480 with 1 Axes>"
            ],
            "image/png": "[encoded data removed]"
          },
          "metadata": {}
        },
        {
          "output_type": "display_data",
          "data": {
            "text/plain": [
              "<Figure size 480x480 with 1 Axes>"
            ],
            "image/png": "[encoded data removed]"
          },
          "metadata": {}
        },
        {
          "output_type": "display_data",
          "data": {
            "text/plain": [
              "<Figure size 480x480 with 1 Axes>"
            ],
            "image/png": "[encoded data removed]"
          },
          "metadata": {}
        },
        {
          "output_type": "display_data",
          "data": {
            "text/plain": [
              "<Figure size 480x480 with 1 Axes>"
            ],
            "image/png": "[encoded data removed]"
          },
          "metadata": {}
        },
        {
          "output_type": "display_data",
          "data": {
            "text/plain": [
              "<Figure size 480x480 with 1 Axes>"
            ],
            "image/png": "[encoded data removed]"
          },
          "metadata": {}
        },
        {
          "output_type": "display_data",
          "data": {
            "text/plain": [
              "<Figure size 480x480 with 1 Axes>"
            ],
            "image/png": "[encoded data removed]"
          },
          "metadata": {}
        },
        {
          "output_type": "display_data",
          "data": {
            "text/plain": [
              "<Figure size 480x480 with 1 Axes>"
            ],
            "image/png": "[encoded data removed]"
          },
          "metadata": {}
        }
      ]
    },
    {
      "cell_type": "code",
      "source": [
        "X_train.shape"
      ],
      "metadata": {
        "colab": {
          "base_uri": "https://localhost:8080/"
        },
        "id": "Fh-jWYvp8-6q",
        "outputId": "9851b13c-0d2d-4353-d8b4-230dfa20f93f"
      },
      "execution_count": 15,
      "outputs": [
        {
          "output_type": "execute_result",
          "data": {
            "text/plain": [
              "(60000, 28, 28)"
            ]
          },
          "metadata": {},
          "execution_count": 15
        }
      ]
    },
    {
      "cell_type": "code",
      "source": [
        "y_train.shape"
      ],
      "metadata": {
        "colab": {
          "base_uri": "https://localhost:8080/"
        },
        "id": "FSAB9yhzg1CE",
        "outputId": "69353e5d-8f0f-4a60-84b9-bec0fe13afd4"
      },
      "execution_count": 16,
      "outputs": [
        {
          "output_type": "execute_result",
          "data": {
            "text/plain": [
              "(60000,)"
            ]
          },
          "metadata": {},
          "execution_count": 16
        }
      ]
    },
    {
      "cell_type": "code",
      "source": [
        "(60000, 28*28)"
      ],
      "metadata": {
        "id": "X-tVeZx49Ak8",
        "outputId": "054df014-5c35-4dc6-a9d7-0bc73a5042b7",
        "colab": {
          "base_uri": "https://localhost:8080/"
        }
      },
      "execution_count": 17,
      "outputs": [
        {
          "output_type": "execute_result",
          "data": {
            "text/plain": [
              "(60000, 784)"
            ]
          },
          "metadata": {},
          "execution_count": 17
        }
      ]
    },
    {
      "cell_type": "code",
      "source": [
        "# Flattening the X_train & X_test\n",
        "\n",
        "X_train_flat = X_train.reshape(-1, 28*28)\n",
        "X_test_flat = X_test.reshape(-1, 28*28)"
      ],
      "metadata": {
        "id": "urN9Yk9Rg1AI"
      },
      "execution_count": 18,
      "outputs": []
    },
    {
      "cell_type": "code",
      "source": [
        "X_train_flat[0].ndim"
      ],
      "metadata": {
        "colab": {
          "base_uri": "https://localhost:8080/"
        },
        "id": "NWKTt8H0g1Dy",
        "outputId": "8619584c-0e89-4249-eadf-466867c79c72"
      },
      "execution_count": 19,
      "outputs": [
        {
          "output_type": "execute_result",
          "data": {
            "text/plain": [
              "1"
            ]
          },
          "metadata": {},
          "execution_count": 19
        }
      ]
    },
    {
      "cell_type": "markdown",
      "source": [
        "# ANN Model Creation"
      ],
      "metadata": {
        "id": "Y_nKfRti9c5B"
      }
    },
    {
      "cell_type": "code",
      "source": [
        "from tensorflow.keras import Sequential\n",
        "from tensorflow.keras.layers import Dense"
      ],
      "metadata": {
        "id": "Q1GeeVIAg1Fo"
      },
      "execution_count": 20,
      "outputs": []
    },
    {
      "cell_type": "code",
      "source": [
        "model = Sequential([\n",
        "    Dense(units = 10,\n",
        "          input_shape = (784,),\n",
        "          activation='softmax')\n",
        "])\n",
        "\n",
        "model.compile(\n",
        "    optimizer='adam',\n",
        "    loss='sparse_categorical_crossentropy',\n",
        "    metrics=['accuracy']\n",
        ")"
      ],
      "metadata": {
        "id": "ZWHbdLFig1Hd"
      },
      "execution_count": 21,
      "outputs": []
    },
    {
      "cell_type": "markdown",
      "source": [
        "# Train/Fit the model"
      ],
      "metadata": {
        "id": "kI2Ytlt--o1i"
      }
    },
    {
      "cell_type": "code",
      "source": [
        "# Sigmoid\n",
        "model.fit(X_train_flat, y_train, epochs=10)"
      ],
      "metadata": {
        "colab": {
          "base_uri": "https://localhost:8080/"
        },
        "id": "LTGcLR_Rg1KC",
        "outputId": "06b4566c-74a6-4a5d-bb32-85472c642518"
      },
      "execution_count": 22,
      "outputs": [
        {
          "output_type": "stream",
          "name": "stdout",
          "text": [
            "Epoch 1/10\n",
            "1875/1875 [==============================] - 3s 1ms/step - loss: 9.5619 - accuracy: 0.8413\n",
            "Epoch 2/10\n",
            "1875/1875 [==============================] - 2s 1ms/step - loss: 6.1039 - accuracy: 0.8784\n",
            "Epoch 3/10\n",
            "1875/1875 [==============================] - 2s 1ms/step - loss: 5.6866 - accuracy: 0.8826\n",
            "Epoch 4/10\n",
            "1875/1875 [==============================] - 2s 1ms/step - loss: 5.4481 - accuracy: 0.8843\n",
            "Epoch 5/10\n",
            "1875/1875 [==============================] - 2s 1ms/step - loss: 5.4378 - accuracy: 0.8857\n",
            "Epoch 6/10\n",
            "1875/1875 [==============================] - 2s 1ms/step - loss: 5.4348 - accuracy: 0.8880\n",
            "Epoch 7/10\n",
            "1875/1875 [==============================] - 2s 1ms/step - loss: 5.3465 - accuracy: 0.8883\n",
            "Epoch 8/10\n",
            "1875/1875 [==============================] - 2s 1ms/step - loss: 5.2423 - accuracy: 0.8903\n",
            "Epoch 9/10\n",
            "1875/1875 [==============================] - 2s 1ms/step - loss: 5.1689 - accuracy: 0.8898\n",
            "Epoch 10/10\n",
            "1875/1875 [==============================] - 2s 1ms/step - loss: 5.2452 - accuracy: 0.8903\n"
          ]
        },
        {
          "output_type": "execute_result",
          "data": {
            "text/plain": [
              "<keras.callbacks.History at 0x7faf1a2d9030>"
            ]
          },
          "metadata": {},
          "execution_count": 22
        }
      ]
    },
    {
      "cell_type": "code",
      "source": [
        "# SoftMax\n",
        "model.fit(X_train_flat, y_train, epochs=10)"
      ],
      "metadata": {
        "colab": {
          "base_uri": "https://localhost:8080/"
        },
        "id": "dV2m0UNmg1Mr",
        "outputId": "d463db15-7c38-4c85-8463-ebe43e5b3131"
      },
      "execution_count": 23,
      "outputs": [
        {
          "output_type": "stream",
          "name": "stdout",
          "text": [
            "Epoch 1/10\n",
            "1875/1875 [==============================] - 2s 1ms/step - loss: 5.1254 - accuracy: 0.8895\n",
            "Epoch 2/10\n",
            "1875/1875 [==============================] - 2s 1ms/step - loss: 5.1450 - accuracy: 0.8917\n",
            "Epoch 3/10\n",
            "1875/1875 [==============================] - 2s 1ms/step - loss: 5.1307 - accuracy: 0.8924\n",
            "Epoch 4/10\n",
            "1875/1875 [==============================] - 2s 1ms/step - loss: 5.1681 - accuracy: 0.8921\n",
            "Epoch 5/10\n",
            "1875/1875 [==============================] - 2s 1ms/step - loss: 5.1101 - accuracy: 0.8926\n",
            "Epoch 6/10\n",
            "1875/1875 [==============================] - 2s 1ms/step - loss: 5.2651 - accuracy: 0.8907\n",
            "Epoch 7/10\n",
            "1875/1875 [==============================] - 2s 1ms/step - loss: 4.9858 - accuracy: 0.8948\n",
            "Epoch 8/10\n",
            "1875/1875 [==============================] - 2s 1ms/step - loss: 5.0746 - accuracy: 0.8933\n",
            "Epoch 9/10\n",
            "1875/1875 [==============================] - 2s 1ms/step - loss: 5.1786 - accuracy: 0.8926\n",
            "Epoch 10/10\n",
            "1875/1875 [==============================] - 2s 1ms/step - loss: 5.1042 - accuracy: 0.8936\n"
          ]
        },
        {
          "output_type": "execute_result",
          "data": {
            "text/plain": [
              "<keras.callbacks.History at 0x7faf1d9813c0>"
            ]
          },
          "metadata": {},
          "execution_count": 23
        }
      ]
    },
    {
      "cell_type": "markdown",
      "source": [
        "# Testing the model"
      ],
      "metadata": {
        "id": "PitNWTrc_pWB"
      }
    },
    {
      "cell_type": "code",
      "source": [
        "y_pred = model.predict(X_test_flat)"
      ],
      "metadata": {
        "colab": {
          "base_uri": "https://localhost:8080/"
        },
        "id": "_k-BM3Vsg1OU",
        "outputId": "c3ddcea3-f4db-43c3-b0ec-1fd1c5621c1d"
      },
      "execution_count": 24,
      "outputs": [
        {
          "output_type": "stream",
          "name": "stdout",
          "text": [
            "313/313 [==============================] - 0s 832us/step\n"
          ]
        }
      ]
    },
    {
      "cell_type": "code",
      "source": [
        "y_pred"
      ],
      "metadata": {
        "colab": {
          "base_uri": "https://localhost:8080/"
        },
        "id": "50sMkxNgg1Pc",
        "outputId": "f674a13e-3649-4f15-8113-b76cc9152389"
      },
      "execution_count": 25,
      "outputs": [
        {
          "output_type": "execute_result",
          "data": {
            "text/plain": [
              "array([[0.0000000e+00, 0.0000000e+00, 0.0000000e+00, ..., 9.9999994e-01,\n",
              "        0.0000000e+00, 0.0000000e+00],\n",
              "       [0.0000000e+00, 0.0000000e+00, 9.9999994e-01, ..., 0.0000000e+00,\n",
              "        0.0000000e+00, 0.0000000e+00],\n",
              "       [0.0000000e+00, 9.9999994e-01, 0.0000000e+00, ..., 0.0000000e+00,\n",
              "        0.0000000e+00, 0.0000000e+00],\n",
              "       ...,\n",
              "       [0.0000000e+00, 0.0000000e+00, 0.0000000e+00, ..., 2.0356995e-35,\n",
              "        9.8009920e-27, 6.8682863e-29],\n",
              "       [0.0000000e+00, 0.0000000e+00, 0.0000000e+00, ..., 0.0000000e+00,\n",
              "        1.3846980e-36, 0.0000000e+00],\n",
              "       [0.0000000e+00, 0.0000000e+00, 0.0000000e+00, ..., 0.0000000e+00,\n",
              "        0.0000000e+00, 0.0000000e+00]], dtype=float32)"
            ]
          },
          "metadata": {},
          "execution_count": 25
        }
      ]
    },
    {
      "cell_type": "code",
      "source": [
        "model.evaluate(X_test_flat, y_test)"
      ],
      "metadata": {
        "colab": {
          "base_uri": "https://localhost:8080/"
        },
        "id": "AbJYV4oAg1R8",
        "outputId": "16898621-fef4-4485-eeca-4b44cfda500b"
      },
      "execution_count": 26,
      "outputs": [
        {
          "output_type": "stream",
          "name": "stdout",
          "text": [
            "313/313 [==============================] - 0s 920us/step - loss: 6.8666 - accuracy: 0.8902\n"
          ]
        },
        {
          "output_type": "execute_result",
          "data": {
            "text/plain": [
              "[6.866607666015625, 0.8902000188827515]"
            ]
          },
          "metadata": {},
          "execution_count": 26
        }
      ]
    },
    {
      "cell_type": "code",
      "source": [
        "model = Sequential([\n",
        "    # First Hidden Layer\n",
        "    Dense(units = 10,\n",
        "          input_shape = (784,),\n",
        "          activation='softmax'),\n",
        "    # Second Hidden Layer\n",
        "    Dense(units = 100,\n",
        "          activation='sigmoid')\n",
        "])\n",
        "\n",
        "model.compile(\n",
        "    optimizer='adam',\n",
        "    loss='sparse_categorical_crossentropy',\n",
        "    metrics=['accuracy']\n",
        ")"
      ],
      "metadata": {
        "id": "wfh3FKDwg1T-"
      },
      "execution_count": 27,
      "outputs": []
    },
    {
      "cell_type": "code",
      "source": [
        "model.fit(X_train_flat, y_train, epochs=100)"
      ],
      "metadata": {
        "colab": {
          "base_uri": "https://localhost:8080/"
        },
        "id": "E89uGEkHg1XS",
        "outputId": "9a5d5278-199d-4e7c-d584-ddad43fc44d7"
      },
      "execution_count": 29,
      "outputs": [
        {
          "output_type": "stream",
          "name": "stdout",
          "text": [
            "Epoch 1/100\n",
            "1875/1875 [==============================] - 2s 1ms/step - loss: 1.6148 - accuracy: 0.2997\n",
            "Epoch 2/100\n",
            "1875/1875 [==============================] - 3s 1ms/step - loss: 1.5964 - accuracy: 0.3010\n",
            "Epoch 3/100\n",
            "1875/1875 [==============================] - 2s 1ms/step - loss: 1.6175 - accuracy: 0.2964\n",
            "Epoch 4/100\n",
            "1875/1875 [==============================] - 2s 1ms/step - loss: 1.6092 - accuracy: 0.2971\n",
            "Epoch 5/100\n",
            "1875/1875 [==============================] - 2s 1ms/step - loss: 1.5972 - accuracy: 0.2995\n",
            "Epoch 6/100\n",
            "1875/1875 [==============================] - 2s 1ms/step - loss: 1.5981 - accuracy: 0.3002\n",
            "Epoch 7/100\n",
            "1875/1875 [==============================] - 3s 1ms/step - loss: 1.5850 - accuracy: 0.3076\n",
            "Epoch 8/100\n",
            "1875/1875 [==============================] - 2s 1ms/step - loss: 1.5862 - accuracy: 0.3092\n",
            "Epoch 9/100\n",
            "1875/1875 [==============================] - 2s 1ms/step - loss: 1.6153 - accuracy: 0.3028\n",
            "Epoch 10/100\n",
            "1875/1875 [==============================] - 2s 1ms/step - loss: 1.5858 - accuracy: 0.3053\n",
            "Epoch 11/100\n",
            "1875/1875 [==============================] - 2s 1ms/step - loss: 1.5617 - accuracy: 0.3201\n",
            "Epoch 12/100\n",
            "1875/1875 [==============================] - 2s 1ms/step - loss: 1.5387 - accuracy: 0.3302\n",
            "Epoch 13/100\n",
            "1875/1875 [==============================] - 2s 1ms/step - loss: 1.5150 - accuracy: 0.3406\n",
            "Epoch 14/100\n",
            "1875/1875 [==============================] - 2s 1ms/step - loss: 1.4883 - accuracy: 0.3598\n",
            "Epoch 15/100\n",
            "1875/1875 [==============================] - 2s 1ms/step - loss: 1.4829 - accuracy: 0.3646\n",
            "Epoch 16/100\n",
            "1875/1875 [==============================] - 2s 1ms/step - loss: 1.4587 - accuracy: 0.3821\n",
            "Epoch 17/100\n",
            "1875/1875 [==============================] - 2s 1ms/step - loss: 1.4368 - accuracy: 0.3813\n",
            "Epoch 18/100\n",
            "1875/1875 [==============================] - 3s 1ms/step - loss: 1.4307 - accuracy: 0.3814\n",
            "Epoch 19/100\n",
            "1875/1875 [==============================] - 2s 1ms/step - loss: 1.4042 - accuracy: 0.3860\n",
            "Epoch 20/100\n",
            "1875/1875 [==============================] - 2s 1ms/step - loss: 1.3879 - accuracy: 0.3927\n",
            "Epoch 21/100\n",
            "1875/1875 [==============================] - 2s 1ms/step - loss: 1.3872 - accuracy: 0.3919\n",
            "Epoch 22/100\n",
            "1875/1875 [==============================] - 2s 1ms/step - loss: 1.3905 - accuracy: 0.3909\n",
            "Epoch 23/100\n",
            "1875/1875 [==============================] - 3s 1ms/step - loss: 1.3759 - accuracy: 0.3925\n",
            "Epoch 24/100\n",
            "1875/1875 [==============================] - 2s 1ms/step - loss: 1.3831 - accuracy: 0.3898\n",
            "Epoch 25/100\n",
            "1875/1875 [==============================] - 2s 1ms/step - loss: 1.3851 - accuracy: 0.3890\n",
            "Epoch 26/100\n",
            "1875/1875 [==============================] - 2s 1ms/step - loss: 1.3682 - accuracy: 0.3930\n",
            "Epoch 27/100\n",
            "1875/1875 [==============================] - 2s 1ms/step - loss: 1.3693 - accuracy: 0.3922\n",
            "Epoch 28/100\n",
            "1875/1875 [==============================] - 2s 1ms/step - loss: 1.3902 - accuracy: 0.3895\n",
            "Epoch 29/100\n",
            "1875/1875 [==============================] - 2s 1ms/step - loss: 1.3603 - accuracy: 0.3930\n",
            "Epoch 30/100\n",
            "1875/1875 [==============================] - 2s 1ms/step - loss: 1.3608 - accuracy: 0.3928\n",
            "Epoch 31/100\n",
            "1875/1875 [==============================] - 2s 1ms/step - loss: 1.3660 - accuracy: 0.3936\n",
            "Epoch 32/100\n",
            "1875/1875 [==============================] - 2s 1ms/step - loss: 1.3718 - accuracy: 0.3930\n",
            "Epoch 33/100\n",
            "1875/1875 [==============================] - 2s 1ms/step - loss: 1.3631 - accuracy: 0.3932\n",
            "Epoch 34/100\n",
            "1875/1875 [==============================] - 3s 1ms/step - loss: 1.3513 - accuracy: 0.3950\n",
            "Epoch 35/100\n",
            "1875/1875 [==============================] - 2s 1ms/step - loss: 1.3635 - accuracy: 0.3934\n",
            "Epoch 36/100\n",
            "1875/1875 [==============================] - 2s 1ms/step - loss: 1.3491 - accuracy: 0.3945\n",
            "Epoch 37/100\n",
            "1875/1875 [==============================] - 2s 1ms/step - loss: 1.3547 - accuracy: 0.3948\n",
            "Epoch 38/100\n",
            "1875/1875 [==============================] - 2s 1ms/step - loss: 1.3575 - accuracy: 0.3971\n",
            "Epoch 39/100\n",
            "1875/1875 [==============================] - 3s 1ms/step - loss: 1.3601 - accuracy: 0.3947\n",
            "Epoch 40/100\n",
            "1875/1875 [==============================] - 2s 1ms/step - loss: 1.3591 - accuracy: 0.3949\n",
            "Epoch 41/100\n",
            "1875/1875 [==============================] - 2s 1ms/step - loss: 1.3532 - accuracy: 0.3957\n",
            "Epoch 42/100\n",
            "1875/1875 [==============================] - 2s 1ms/step - loss: 1.3742 - accuracy: 0.3947\n",
            "Epoch 43/100\n",
            "1875/1875 [==============================] - 2s 1ms/step - loss: 1.3828 - accuracy: 0.3954\n",
            "Epoch 44/100\n",
            "1875/1875 [==============================] - 3s 1ms/step - loss: 1.3649 - accuracy: 0.3927\n",
            "Epoch 45/100\n",
            "1875/1875 [==============================] - 2s 1ms/step - loss: 1.3499 - accuracy: 0.3963\n",
            "Epoch 46/100\n",
            "1875/1875 [==============================] - 2s 1ms/step - loss: 1.3752 - accuracy: 0.3944\n",
            "Epoch 47/100\n",
            "1875/1875 [==============================] - 2s 1ms/step - loss: 1.3739 - accuracy: 0.3976\n",
            "Epoch 48/100\n",
            "1875/1875 [==============================] - 2s 1ms/step - loss: 1.3614 - accuracy: 0.3974\n",
            "Epoch 49/100\n",
            "1875/1875 [==============================] - 3s 1ms/step - loss: 1.3789 - accuracy: 0.3960\n",
            "Epoch 50/100\n",
            "1875/1875 [==============================] - 2s 1ms/step - loss: 1.3469 - accuracy: 0.3981\n",
            "Epoch 51/100\n",
            "1875/1875 [==============================] - 2s 1ms/step - loss: 1.3437 - accuracy: 0.3968\n",
            "Epoch 52/100\n",
            "1875/1875 [==============================] - 2s 1ms/step - loss: 1.3454 - accuracy: 0.3974\n",
            "Epoch 53/100\n",
            "1875/1875 [==============================] - 2s 1ms/step - loss: 1.3336 - accuracy: 0.3976\n",
            "Epoch 54/100\n",
            "1875/1875 [==============================] - 2s 1ms/step - loss: 1.3297 - accuracy: 0.3973\n",
            "Epoch 55/100\n",
            "1875/1875 [==============================] - 3s 1ms/step - loss: 1.3412 - accuracy: 0.3956\n",
            "Epoch 56/100\n",
            "1875/1875 [==============================] - 2s 1ms/step - loss: 1.3458 - accuracy: 0.3963\n",
            "Epoch 57/100\n",
            "1875/1875 [==============================] - 2s 1ms/step - loss: 1.3629 - accuracy: 0.3968\n",
            "Epoch 58/100\n",
            "1875/1875 [==============================] - 2s 1ms/step - loss: 1.3614 - accuracy: 0.3929\n",
            "Epoch 59/100\n",
            "1875/1875 [==============================] - 2s 1ms/step - loss: 1.3516 - accuracy: 0.3938\n",
            "Epoch 60/100\n",
            "1875/1875 [==============================] - 3s 1ms/step - loss: 1.3351 - accuracy: 0.3974\n",
            "Epoch 61/100\n",
            "1875/1875 [==============================] - 2s 1ms/step - loss: 1.3329 - accuracy: 0.3943\n",
            "Epoch 62/100\n",
            "1875/1875 [==============================] - 2s 1ms/step - loss: 1.3377 - accuracy: 0.3936\n",
            "Epoch 63/100\n",
            "1875/1875 [==============================] - 2s 1ms/step - loss: 1.3530 - accuracy: 0.3918\n",
            "Epoch 64/100\n",
            "1875/1875 [==============================] - 2s 1ms/step - loss: 1.3437 - accuracy: 0.3964\n",
            "Epoch 65/100\n",
            "1875/1875 [==============================] - 3s 1ms/step - loss: 1.3434 - accuracy: 0.3941\n",
            "Epoch 66/100\n",
            "1875/1875 [==============================] - 2s 1ms/step - loss: 1.3402 - accuracy: 0.3973\n",
            "Epoch 67/100\n",
            "1875/1875 [==============================] - 2s 1ms/step - loss: 1.3426 - accuracy: 0.3969\n",
            "Epoch 68/100\n",
            "1875/1875 [==============================] - 2s 1ms/step - loss: 1.3396 - accuracy: 0.3986\n",
            "Epoch 69/100\n",
            "1875/1875 [==============================] - 2s 1ms/step - loss: 1.3445 - accuracy: 0.3965\n",
            "Epoch 70/100\n",
            "1875/1875 [==============================] - 3s 1ms/step - loss: 1.3504 - accuracy: 0.3957\n",
            "Epoch 71/100\n",
            "1875/1875 [==============================] - 2s 1ms/step - loss: 1.3526 - accuracy: 0.3976\n",
            "Epoch 72/100\n",
            "1875/1875 [==============================] - 2s 1ms/step - loss: 1.3446 - accuracy: 0.3954\n",
            "Epoch 73/100\n",
            "1875/1875 [==============================] - 2s 1ms/step - loss: 1.3420 - accuracy: 0.3964\n",
            "Epoch 74/100\n",
            "1875/1875 [==============================] - 2s 1ms/step - loss: 1.3412 - accuracy: 0.3994\n",
            "Epoch 75/100\n",
            "1875/1875 [==============================] - 2s 1ms/step - loss: 1.3378 - accuracy: 0.3979\n",
            "Epoch 76/100\n",
            "1875/1875 [==============================] - 2s 1ms/step - loss: 1.3586 - accuracy: 0.3935\n",
            "Epoch 77/100\n",
            "1875/1875 [==============================] - 2s 1ms/step - loss: 1.3399 - accuracy: 0.3969\n",
            "Epoch 78/100\n",
            "1875/1875 [==============================] - 2s 1ms/step - loss: 1.3462 - accuracy: 0.3967\n",
            "Epoch 79/100\n",
            "1875/1875 [==============================] - 2s 1ms/step - loss: 1.3438 - accuracy: 0.3967\n",
            "Epoch 80/100\n",
            "1875/1875 [==============================] - 2s 1ms/step - loss: 1.3495 - accuracy: 0.3975\n",
            "Epoch 81/100\n",
            "1875/1875 [==============================] - 3s 1ms/step - loss: 1.3346 - accuracy: 0.3987\n",
            "Epoch 82/100\n",
            "1875/1875 [==============================] - 2s 1ms/step - loss: 1.3462 - accuracy: 0.3982\n",
            "Epoch 83/100\n",
            "1875/1875 [==============================] - 2s 1ms/step - loss: 1.3479 - accuracy: 0.3982\n",
            "Epoch 84/100\n",
            "1875/1875 [==============================] - 2s 1ms/step - loss: 1.3711 - accuracy: 0.3904\n",
            "Epoch 85/100\n",
            "1875/1875 [==============================] - 2s 1ms/step - loss: 1.3524 - accuracy: 0.3934\n",
            "Epoch 86/100\n",
            "1875/1875 [==============================] - 3s 1ms/step - loss: 1.3348 - accuracy: 0.3983\n",
            "Epoch 87/100\n",
            "1875/1875 [==============================] - 2s 1ms/step - loss: 1.3345 - accuracy: 0.3982\n",
            "Epoch 88/100\n",
            "1875/1875 [==============================] - 2s 1ms/step - loss: 1.3379 - accuracy: 0.3968\n",
            "Epoch 89/100\n",
            "1875/1875 [==============================] - 2s 1ms/step - loss: 1.3399 - accuracy: 0.3933\n",
            "Epoch 90/100\n",
            "1875/1875 [==============================] - 2s 1ms/step - loss: 1.3335 - accuracy: 0.3939\n",
            "Epoch 91/100\n",
            "1875/1875 [==============================] - 3s 1ms/step - loss: 1.3469 - accuracy: 0.3898\n",
            "Epoch 92/100\n",
            "1875/1875 [==============================] - 2s 1ms/step - loss: 1.3482 - accuracy: 0.3893\n",
            "Epoch 93/100\n",
            "1875/1875 [==============================] - 2s 1ms/step - loss: 1.3325 - accuracy: 0.3929\n",
            "Epoch 94/100\n",
            "1875/1875 [==============================] - 2s 1ms/step - loss: 1.3427 - accuracy: 0.3931\n",
            "Epoch 95/100\n",
            "1875/1875 [==============================] - 2s 1ms/step - loss: 1.3323 - accuracy: 0.3953\n",
            "Epoch 96/100\n",
            "1875/1875 [==============================] - 2s 1ms/step - loss: 1.3381 - accuracy: 0.3918\n",
            "Epoch 97/100\n",
            "1875/1875 [==============================] - 2s 1ms/step - loss: 1.3689 - accuracy: 0.3914\n",
            "Epoch 98/100\n",
            "1875/1875 [==============================] - 2s 1ms/step - loss: 1.3379 - accuracy: 0.3940\n",
            "Epoch 99/100\n",
            "1875/1875 [==============================] - 2s 1ms/step - loss: 1.3311 - accuracy: 0.3960\n",
            "Epoch 100/100\n",
            "1875/1875 [==============================] - 2s 1ms/step - loss: 1.3214 - accuracy: 0.3974\n"
          ]
        },
        {
          "output_type": "execute_result",
          "data": {
            "text/plain": [
              "<keras.callbacks.History at 0x7faf1d982ec0>"
            ]
          },
          "metadata": {},
          "execution_count": 29
        }
      ]
    },
    {
      "cell_type": "code",
      "source": [],
      "metadata": {
        "id": "VAh1_dPyJx-d"
      },
      "execution_count": null,
      "outputs": []
    }
  ]
}