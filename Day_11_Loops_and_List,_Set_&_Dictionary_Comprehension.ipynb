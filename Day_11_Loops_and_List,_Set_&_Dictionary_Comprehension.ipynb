{
  "nbformat": 4,
  "nbformat_minor": 0,
  "metadata": {
    "colab": {
      "provenance": [],
      "toc_visible": true,
      "include_colab_link": true
    },
    "kernelspec": {
      "name": "python3",
      "display_name": "Python 3"
    },
    "language_info": {
      "name": "python"
    }
  },
  "cells": [
    {
      "cell_type": "markdown",
      "metadata": {
        "id": "view-in-github",
        "colab_type": "text"
      },
      "source": [
        "<a href=\"https://colab.research.google.com/github/Ritvik10/Data-Science-Overview-Material-Practice-and-Revision/blob/main/Day_11_Loops_and_List%2C_Set_%26_Dictionary_Comprehension.ipynb\" target=\"_parent\"><img src=\"https://colab.research.google.com/assets/colab-badge.svg\" alt=\"Open In Colab\"/></a>"
      ]
    },
    {
      "cell_type": "code",
      "source": [
        "num = 44"
      ],
      "metadata": {
        "id": "10VQyIM-Z-KN"
      },
      "execution_count": 1,
      "outputs": []
    },
    {
      "cell_type": "code",
      "source": [
        "if num%2==0:\n",
        "  print('even')\n",
        "  num += 1\n",
        "  print('even')"
      ],
      "metadata": {
        "id": "Q0woAR-Xeqs2",
        "outputId": "de28b861-944e-4869-e4af-54dceede4925",
        "colab": {
          "base_uri": "https://localhost:8080/"
        }
      },
      "execution_count": 2,
      "outputs": [
        {
          "output_type": "stream",
          "name": "stdout",
          "text": [
            "even\n",
            "even\n"
          ]
        }
      ]
    },
    {
      "cell_type": "code",
      "source": [
        "num"
      ],
      "metadata": {
        "colab": {
          "base_uri": "https://localhost:8080/"
        },
        "id": "XbBYVUhZZ-Lh",
        "outputId": "2d1ad897-d9ba-4873-cc64-d048c6445ba6"
      },
      "execution_count": 3,
      "outputs": [
        {
          "output_type": "execute_result",
          "data": {
            "text/plain": [
              "45"
            ]
          },
          "metadata": {},
          "execution_count": 3
        }
      ]
    },
    {
      "cell_type": "code",
      "source": [
        "num"
      ],
      "metadata": {
        "colab": {
          "base_uri": "https://localhost:8080/"
        },
        "id": "sBZkqRhLZ-RE",
        "outputId": "8662d420-a45e-41e9-bc40-d5bb39a2a738"
      },
      "execution_count": 4,
      "outputs": [
        {
          "output_type": "execute_result",
          "data": {
            "text/plain": [
              "45"
            ]
          },
          "metadata": {},
          "execution_count": 4
        }
      ]
    },
    {
      "cell_type": "markdown",
      "source": [
        "# Loops - for & while"
      ],
      "metadata": {
        "id": "DCVaomjOisCX"
      }
    },
    {
      "cell_type": "code",
      "source": [
        "lis = [\"Hello\", 'World', 56, 57, 'bbye', 'goodbye']"
      ],
      "metadata": {
        "id": "gGgSFwHTZ-SZ"
      },
      "execution_count": 5,
      "outputs": []
    },
    {
      "cell_type": "code",
      "source": [
        "lis"
      ],
      "metadata": {
        "colab": {
          "base_uri": "https://localhost:8080/"
        },
        "id": "Xy3Gl1_6Z-W1",
        "outputId": "f1d4fab4-4b41-4c9d-9009-bf6dddb8df74"
      },
      "execution_count": 6,
      "outputs": [
        {
          "output_type": "execute_result",
          "data": {
            "text/plain": [
              "['Hello', 'World', 56, 57, 'bbye', 'goodbye']"
            ]
          },
          "metadata": {},
          "execution_count": 6
        }
      ]
    },
    {
      "cell_type": "code",
      "source": [
        "lis[0]"
      ],
      "metadata": {
        "colab": {
          "base_uri": "https://localhost:8080/",
          "height": 35
        },
        "id": "vsH731__Z-YL",
        "outputId": "335cfeb7-bf52-4323-be14-797ac2694abf"
      },
      "execution_count": 7,
      "outputs": [
        {
          "output_type": "execute_result",
          "data": {
            "text/plain": [
              "'Hello'"
            ],
            "application/vnd.google.colaboratory.intrinsic+json": {
              "type": "string"
            }
          },
          "metadata": {},
          "execution_count": 7
        }
      ]
    },
    {
      "cell_type": "code",
      "source": [
        "for var in lis:\n",
        "  print(var, type(var))"
      ],
      "metadata": {
        "colab": {
          "base_uri": "https://localhost:8080/"
        },
        "id": "9N3sragnZ-bF",
        "outputId": "4d6535c0-0a55-47c1-cf99-2dc28bea1a64"
      },
      "execution_count": 8,
      "outputs": [
        {
          "output_type": "stream",
          "name": "stdout",
          "text": [
            "Hello <class 'str'>\n",
            "World <class 'str'>\n",
            "56 <class 'int'>\n",
            "57 <class 'int'>\n",
            "bbye <class 'str'>\n",
            "goodbye <class 'str'>\n"
          ]
        }
      ]
    },
    {
      "cell_type": "code",
      "source": [
        "\"Hello\"\n",
        "\"World\""
      ],
      "metadata": {
        "id": "VftQj3HOZ-ci",
        "outputId": "f6646edf-4ece-4519-991e-7f2fd88efd90",
        "colab": {
          "base_uri": "https://localhost:8080/",
          "height": 35
        }
      },
      "execution_count": 9,
      "outputs": [
        {
          "output_type": "execute_result",
          "data": {
            "text/plain": [
              "'World'"
            ],
            "application/vnd.google.colaboratory.intrinsic+json": {
              "type": "string"
            }
          },
          "metadata": {},
          "execution_count": 9
        }
      ]
    },
    {
      "cell_type": "code",
      "source": [
        "iter"
      ],
      "metadata": {
        "id": "y3YugWlSZ-ez",
        "outputId": "31ce578d-867f-4b5c-c0be-2bd53698363b",
        "colab": {
          "base_uri": "https://localhost:8080/"
        }
      },
      "execution_count": 10,
      "outputs": [
        {
          "output_type": "execute_result",
          "data": {
            "text/plain": [
              "<function iter>"
            ]
          },
          "metadata": {},
          "execution_count": 10
        }
      ]
    },
    {
      "cell_type": "code",
      "source": [
        "string = \"Today is Thursday and tomorrow is Friday\""
      ],
      "metadata": {
        "id": "0ixSo9_fZ-g0"
      },
      "execution_count": 11,
      "outputs": []
    },
    {
      "cell_type": "code",
      "source": [
        "for i in string:\n",
        "  print(i)"
      ],
      "metadata": {
        "colab": {
          "base_uri": "https://localhost:8080/"
        },
        "id": "Kg2RL7FiZ-i3",
        "outputId": "4dcddcba-518b-498a-ca56-5905f2573d66"
      },
      "execution_count": 12,
      "outputs": [
        {
          "output_type": "stream",
          "name": "stdout",
          "text": [
            "T\n",
            "o\n",
            "d\n",
            "a\n",
            "y\n",
            " \n",
            "i\n",
            "s\n",
            " \n",
            "T\n",
            "h\n",
            "u\n",
            "r\n",
            "s\n",
            "d\n",
            "a\n",
            "y\n",
            " \n",
            "a\n",
            "n\n",
            "d\n",
            " \n",
            "t\n",
            "o\n",
            "m\n",
            "o\n",
            "r\n",
            "r\n",
            "o\n",
            "w\n",
            " \n",
            "i\n",
            "s\n",
            " \n",
            "F\n",
            "r\n",
            "i\n",
            "d\n",
            "a\n",
            "y\n"
          ]
        }
      ]
    },
    {
      "cell_type": "code",
      "source": [
        "string"
      ],
      "metadata": {
        "colab": {
          "base_uri": "https://localhost:8080/",
          "height": 35
        },
        "id": "NhVQcXbcZ-ob",
        "outputId": "db78ffa5-40d0-40f1-a61a-67236109ef9b"
      },
      "execution_count": 13,
      "outputs": [
        {
          "output_type": "execute_result",
          "data": {
            "text/plain": [
              "'Today is Thursday and tomorrow is Friday'"
            ],
            "application/vnd.google.colaboratory.intrinsic+json": {
              "type": "string"
            }
          },
          "metadata": {},
          "execution_count": 13
        }
      ]
    },
    {
      "cell_type": "code",
      "source": [
        "for i in string.split():\n",
        "  print(i)"
      ],
      "metadata": {
        "colab": {
          "base_uri": "https://localhost:8080/"
        },
        "id": "daCavAsSZ-ku",
        "outputId": "1b34ef8d-9c63-486f-fb46-d2a9519b9125"
      },
      "execution_count": 14,
      "outputs": [
        {
          "output_type": "stream",
          "name": "stdout",
          "text": [
            "Today\n",
            "is\n",
            "Thursday\n",
            "and\n",
            "tomorrow\n",
            "is\n",
            "Friday\n"
          ]
        }
      ]
    },
    {
      "cell_type": "code",
      "source": [
        "# range(start=0, stop, skip=1)"
      ],
      "metadata": {
        "id": "ZKanwIzTZ-rq"
      },
      "execution_count": 15,
      "outputs": []
    },
    {
      "cell_type": "code",
      "source": [
        "\"\"\"range -> budget\n",
        "\n",
        "10K - 30K\n",
        "35K\"\"\""
      ],
      "metadata": {
        "id": "hS3fTI0qZ-tG",
        "outputId": "d69d9aad-f5ee-485a-a0d5-6f5de7398f64",
        "colab": {
          "base_uri": "https://localhost:8080/",
          "height": 35
        }
      },
      "execution_count": 20,
      "outputs": [
        {
          "output_type": "execute_result",
          "data": {
            "text/plain": [
              "'range -> budget\\n\\n10K - 30K\\n35K'"
            ],
            "application/vnd.google.colaboratory.intrinsic+json": {
              "type": "string"
            }
          },
          "metadata": {},
          "execution_count": 20
        }
      ]
    },
    {
      "cell_type": "code",
      "source": [
        "\"\"\"0 (Inclusive) - 10 (Exclusive)\n",
        "\n",
        "0\n",
        "1\n",
        "2\n",
        "3\n",
        "4\n",
        "5\n",
        "6\n",
        "7\n",
        "8\n",
        "9\"\"\""
      ],
      "metadata": {
        "id": "wf2-ZXU9Z-ug",
        "outputId": "2c2241bc-5599-404b-a030-0dbaec0f5ab2",
        "colab": {
          "base_uri": "https://localhost:8080/",
          "height": 35
        }
      },
      "execution_count": 23,
      "outputs": [
        {
          "output_type": "execute_result",
          "data": {
            "text/plain": [
              "'0 (Inclusive) - 10 (Exclusive)\\n\\n0\\n1\\n2\\n3\\n4\\n5\\n6\\n7\\n8\\n9'"
            ],
            "application/vnd.google.colaboratory.intrinsic+json": {
              "type": "string"
            }
          },
          "metadata": {},
          "execution_count": 23
        }
      ]
    },
    {
      "cell_type": "code",
      "source": [
        "for i in range(0,10+1):\n",
        "  print(\"Hello World\", i)"
      ],
      "metadata": {
        "colab": {
          "base_uri": "https://localhost:8080/"
        },
        "id": "keQDtGXjZ-ww",
        "outputId": "555ca1b0-cd2b-49aa-86c3-e62d7f1d68aa"
      },
      "execution_count": 24,
      "outputs": [
        {
          "output_type": "stream",
          "name": "stdout",
          "text": [
            "Hello World 0\n",
            "Hello World 1\n",
            "Hello World 2\n",
            "Hello World 3\n",
            "Hello World 4\n",
            "Hello World 5\n",
            "Hello World 6\n",
            "Hello World 7\n",
            "Hello World 8\n",
            "Hello World 9\n",
            "Hello World 10\n"
          ]
        }
      ]
    },
    {
      "cell_type": "code",
      "source": [
        "for i in range(9,0,-1):\n",
        "  print(i)"
      ],
      "metadata": {
        "colab": {
          "base_uri": "https://localhost:8080/"
        },
        "id": "VbMl9cbzaBHJ",
        "outputId": "ba539588-758a-43ec-8543-fe3ba17f3e85"
      },
      "execution_count": 25,
      "outputs": [
        {
          "output_type": "stream",
          "name": "stdout",
          "text": [
            "9\n",
            "8\n",
            "7\n",
            "6\n",
            "5\n",
            "4\n",
            "3\n",
            "2\n",
            "1\n"
          ]
        }
      ]
    },
    {
      "cell_type": "code",
      "source": [
        "stri = \"Hello World\""
      ],
      "metadata": {
        "id": "oybVFR0raBI9"
      },
      "execution_count": 26,
      "outputs": []
    },
    {
      "cell_type": "code",
      "source": [
        "for i in range(-1,len(stri)+1,-1):\n",
        "  print(i)"
      ],
      "metadata": {
        "id": "kiXQp7AGaBKc"
      },
      "execution_count": 27,
      "outputs": []
    },
    {
      "cell_type": "code",
      "source": [
        "# dlroW olleH"
      ],
      "metadata": {
        "id": "Ipd1ot9xaBMq"
      },
      "execution_count": 28,
      "outputs": []
    },
    {
      "cell_type": "code",
      "source": [
        "\"\"\"H\n",
        "e\n",
        "l\n",
        "l\n",
        "o\n",
        "\n",
        "eH\"\"\""
      ],
      "metadata": {
        "id": "ouevgp82aBR-",
        "outputId": "2de663f3-9b9b-4a51-962e-9b08e2b717a2",
        "colab": {
          "base_uri": "https://localhost:8080/",
          "height": 35
        }
      },
      "execution_count": 30,
      "outputs": [
        {
          "output_type": "execute_result",
          "data": {
            "text/plain": [
              "'H\\ne\\nl\\nl\\no\\n \\neH'"
            ],
            "application/vnd.google.colaboratory.intrinsic+json": {
              "type": "string"
            }
          },
          "metadata": {},
          "execution_count": 30
        }
      ]
    },
    {
      "cell_type": "code",
      "source": [
        "rev_stri = ''\n",
        "for i in stri:\n",
        "  rev_stri = i + rev_stri\n",
        "  print(rev_stri)"
      ],
      "metadata": {
        "colab": {
          "base_uri": "https://localhost:8080/"
        },
        "id": "IlVBDO87aBXm",
        "outputId": "e598c4ca-ae1c-4142-8dc6-acc9fcfd1023"
      },
      "execution_count": 31,
      "outputs": [
        {
          "output_type": "stream",
          "name": "stdout",
          "text": [
            "H\n",
            "eH\n",
            "leH\n",
            "lleH\n",
            "olleH\n",
            " olleH\n",
            "W olleH\n",
            "oW olleH\n",
            "roW olleH\n",
            "lroW olleH\n",
            "dlroW olleH\n"
          ]
        }
      ]
    },
    {
      "cell_type": "code",
      "source": [
        "\"\"\"l + e + H -> leH\n",
        "e\n",
        "l\n",
        "l\n",
        "o\"\"\""
      ],
      "metadata": {
        "id": "TzCyaPRDotqh",
        "outputId": "c47bf2bc-3437-4278-faaa-a923b27eb666",
        "colab": {
          "base_uri": "https://localhost:8080/",
          "height": 35
        }
      },
      "execution_count": 33,
      "outputs": [
        {
          "output_type": "execute_result",
          "data": {
            "text/plain": [
              "'l + e + H -> leH\\ne\\nl\\nl\\no'"
            ],
            "application/vnd.google.colaboratory.intrinsic+json": {
              "type": "string"
            }
          },
          "metadata": {},
          "execution_count": 33
        }
      ]
    },
    {
      "cell_type": "code",
      "source": [
        "rev_stri"
      ],
      "metadata": {
        "colab": {
          "base_uri": "https://localhost:8080/",
          "height": 35
        },
        "id": "QxgOg0I-aBdn",
        "outputId": "1a671578-4927-4fde-c394-48f8762d13ed"
      },
      "execution_count": 34,
      "outputs": [
        {
          "output_type": "execute_result",
          "data": {
            "text/plain": [
              "'dlroW olleH'"
            ],
            "application/vnd.google.colaboratory.intrinsic+json": {
              "type": "string"
            }
          },
          "metadata": {},
          "execution_count": 34
        }
      ]
    },
    {
      "cell_type": "code",
      "source": [
        "stri[::-1]"
      ],
      "metadata": {
        "colab": {
          "base_uri": "https://localhost:8080/",
          "height": 35
        },
        "id": "MCdQzKT_aBiS",
        "outputId": "f7ee34b9-7887-4c50-e39b-09bfe715c532"
      },
      "execution_count": 35,
      "outputs": [
        {
          "output_type": "execute_result",
          "data": {
            "text/plain": [
              "'dlroW olleH'"
            ],
            "application/vnd.google.colaboratory.intrinsic+json": {
              "type": "string"
            }
          },
          "metadata": {},
          "execution_count": 35
        }
      ]
    },
    {
      "cell_type": "code",
      "source": [
        "for _ in range(20):\n",
        "  print(\"Hello World\")"
      ],
      "metadata": {
        "colab": {
          "base_uri": "https://localhost:8080/"
        },
        "id": "dsVrTVITaBk_",
        "outputId": "e3f7d9b0-8152-4c83-cbe8-b258376995c6"
      },
      "execution_count": 37,
      "outputs": [
        {
          "output_type": "stream",
          "name": "stdout",
          "text": [
            "Hello World\n",
            "Hello World\n",
            "Hello World\n",
            "Hello World\n",
            "Hello World\n",
            "Hello World\n",
            "Hello World\n",
            "Hello World\n",
            "Hello World\n",
            "Hello World\n",
            "Hello World\n",
            "Hello World\n",
            "Hello World\n",
            "Hello World\n",
            "Hello World\n",
            "Hello World\n",
            "Hello World\n",
            "Hello World\n",
            "Hello World\n",
            "Hello World\n"
          ]
        }
      ]
    },
    {
      "cell_type": "code",
      "source": [
        "for (i=0;i>0;i++){\n",
        "\n",
        "}"
      ],
      "metadata": {
        "id": "IFCYb9UnaBng",
        "outputId": "2c045cff-8352-4e64-ac30-d009746fbb5a",
        "colab": {
          "base_uri": "https://localhost:8080/",
          "height": 130
        }
      },
      "execution_count": 38,
      "outputs": [
        {
          "output_type": "error",
          "ename": "SyntaxError",
          "evalue": "ignored",
          "traceback": [
            "\u001b[0;36m  File \u001b[0;32m\"<ipython-input-38-f00573651372>\"\u001b[0;36m, line \u001b[0;32m1\u001b[0m\n\u001b[0;31m    for (i=0;i>0;i++){\u001b[0m\n\u001b[0m         ^\u001b[0m\n\u001b[0;31mSyntaxError\u001b[0m\u001b[0;31m:\u001b[0m invalid syntax. Maybe you meant '==' or ':=' instead of '='?\n"
          ]
        }
      ]
    },
    {
      "cell_type": "code",
      "source": [
        "for i in range(67):\n",
        "  print(i)"
      ],
      "metadata": {
        "colab": {
          "base_uri": "https://localhost:8080/"
        },
        "id": "d5_rZl2WaBuC",
        "outputId": "55911eec-89c8-47dd-cb46-4668980fd3f3"
      },
      "execution_count": 39,
      "outputs": [
        {
          "output_type": "stream",
          "name": "stdout",
          "text": [
            "0\n",
            "1\n",
            "2\n",
            "3\n",
            "4\n",
            "5\n",
            "6\n",
            "7\n",
            "8\n",
            "9\n",
            "10\n",
            "11\n",
            "12\n",
            "13\n",
            "14\n",
            "15\n",
            "16\n",
            "17\n",
            "18\n",
            "19\n",
            "20\n",
            "21\n",
            "22\n",
            "23\n",
            "24\n",
            "25\n",
            "26\n",
            "27\n",
            "28\n",
            "29\n",
            "30\n",
            "31\n",
            "32\n",
            "33\n",
            "34\n",
            "35\n",
            "36\n",
            "37\n",
            "38\n",
            "39\n",
            "40\n",
            "41\n",
            "42\n",
            "43\n",
            "44\n",
            "45\n",
            "46\n",
            "47\n",
            "48\n",
            "49\n",
            "50\n",
            "51\n",
            "52\n",
            "53\n",
            "54\n",
            "55\n",
            "56\n",
            "57\n",
            "58\n",
            "59\n",
            "60\n",
            "61\n",
            "62\n",
            "63\n",
            "64\n",
            "65\n",
            "66\n"
          ]
        }
      ]
    },
    {
      "cell_type": "code",
      "source": [
        "for i in range(41, 52):\n",
        "  if i == 49:\n",
        "    print(i, \"Hello World\")\n",
        "  else:\n",
        "    print(i)"
      ],
      "metadata": {
        "colab": {
          "base_uri": "https://localhost:8080/"
        },
        "id": "yihwFrNcaBwC",
        "outputId": "1eeddc29-9193-4379-9e59-624387961a84"
      },
      "execution_count": 40,
      "outputs": [
        {
          "output_type": "stream",
          "name": "stdout",
          "text": [
            "41\n",
            "42\n",
            "43\n",
            "44\n",
            "45\n",
            "46\n",
            "47\n",
            "48\n",
            "49 Hello World\n",
            "50\n",
            "51\n"
          ]
        }
      ]
    },
    {
      "cell_type": "code",
      "source": [
        "# Nested Loop -> Loop in a loop -> O(N^3)\n",
        "\n",
        "for i in range(5): # 0, 1, 2, 3, 4\n",
        "  for j in range(3): # 0,1,2\n",
        "    for k in range(3):\n",
        "      print(f'i={i}, j={j}, k={k}')"
      ],
      "metadata": {
        "colab": {
          "base_uri": "https://localhost:8080/"
        },
        "id": "wApwQJjSaByF",
        "outputId": "ed0bed75-2caa-41af-ed6c-a3009114f428"
      },
      "execution_count": 41,
      "outputs": [
        {
          "output_type": "stream",
          "name": "stdout",
          "text": [
            "i=0, j=0, k=0\n",
            "i=0, j=0, k=1\n",
            "i=0, j=0, k=2\n",
            "i=0, j=1, k=0\n",
            "i=0, j=1, k=1\n",
            "i=0, j=1, k=2\n",
            "i=0, j=2, k=0\n",
            "i=0, j=2, k=1\n",
            "i=0, j=2, k=2\n",
            "i=1, j=0, k=0\n",
            "i=1, j=0, k=1\n",
            "i=1, j=0, k=2\n",
            "i=1, j=1, k=0\n",
            "i=1, j=1, k=1\n",
            "i=1, j=1, k=2\n",
            "i=1, j=2, k=0\n",
            "i=1, j=2, k=1\n",
            "i=1, j=2, k=2\n",
            "i=2, j=0, k=0\n",
            "i=2, j=0, k=1\n",
            "i=2, j=0, k=2\n",
            "i=2, j=1, k=0\n",
            "i=2, j=1, k=1\n",
            "i=2, j=1, k=2\n",
            "i=2, j=2, k=0\n",
            "i=2, j=2, k=1\n",
            "i=2, j=2, k=2\n",
            "i=3, j=0, k=0\n",
            "i=3, j=0, k=1\n",
            "i=3, j=0, k=2\n",
            "i=3, j=1, k=0\n",
            "i=3, j=1, k=1\n",
            "i=3, j=1, k=2\n",
            "i=3, j=2, k=0\n",
            "i=3, j=2, k=1\n",
            "i=3, j=2, k=2\n",
            "i=4, j=0, k=0\n",
            "i=4, j=0, k=1\n",
            "i=4, j=0, k=2\n",
            "i=4, j=1, k=0\n",
            "i=4, j=1, k=1\n",
            "i=4, j=1, k=2\n",
            "i=4, j=2, k=0\n",
            "i=4, j=2, k=1\n",
            "i=4, j=2, k=2\n"
          ]
        }
      ]
    },
    {
      "cell_type": "code",
      "source": [
        "\"\"\"[1,2,3,1] -> [1,2,3]\n",
        "\n",
        "List -> Set -> List\"\"\""
      ],
      "metadata": {
        "id": "mrAQn1LAaB1C",
        "outputId": "82403828-1827-471a-d958-6c469b0ef52c",
        "colab": {
          "base_uri": "https://localhost:8080/",
          "height": 35
        }
      },
      "execution_count": 43,
      "outputs": [
        {
          "output_type": "execute_result",
          "data": {
            "text/plain": [
              "'[1,2,3,1] -> [1,2,3]\\n\\nList -> Set -> List'"
            ],
            "application/vnd.google.colaboratory.intrinsic+json": {
              "type": "string"
            }
          },
          "metadata": {},
          "execution_count": 43
        }
      ]
    },
    {
      "cell_type": "code",
      "source": [
        "lis = [1,2,3,1]"
      ],
      "metadata": {
        "id": "ZtOucz1eaB3y"
      },
      "execution_count": 44,
      "outputs": []
    },
    {
      "cell_type": "code",
      "source": [
        "fil_lis = []\n",
        "for i in lis:\n",
        "  if i not in fil_lis:\n",
        "    fil_lis.append(i)\n",
        "    print(fil_lis)\n",
        "print(fil_lis)"
      ],
      "metadata": {
        "colab": {
          "base_uri": "https://localhost:8080/"
        },
        "id": "gJnrwrjyaB9U",
        "outputId": "16a97756-9404-4f4f-e058-0783083223fc"
      },
      "execution_count": 45,
      "outputs": [
        {
          "output_type": "stream",
          "name": "stdout",
          "text": [
            "[1]\n",
            "[1, 2]\n",
            "[1, 2, 3]\n",
            "[1, 2, 3]\n"
          ]
        }
      ]
    },
    {
      "cell_type": "code",
      "source": [
        "# 10 inputs from the user and store each input in a list\n",
        "\n",
        "# 1st Scenario\n",
        "arr = []\n",
        "arr.append(int(input('enter a number: ')))\n",
        "arr.append(int(input('enter a number: ')))\n",
        "arr.append(int(input('enter a number: ')))\n",
        "arr.append(int(input('enter a number: ')))\n",
        "arr.append(int(input('enter a number: ')))\n",
        "arr.append(int(input('enter a number: ')))\n",
        "arr.append(int(input('enter a number: ')))\n",
        "arr.append(int(input('enter a number: ')))\n",
        "arr.append(int(input('enter a number: ')))\n",
        "arr.append(int(input('enter a number: ')))\n",
        "print(arr)\n",
        "\n",
        "# 2nd Sceario\n",
        "arr2 = []\n",
        "for i in range(10):\n",
        "  arr2.append(int(input('enter a number: ')))"
      ],
      "metadata": {
        "colab": {
          "base_uri": "https://localhost:8080/"
        },
        "id": "7pfC_IjBaCCZ",
        "outputId": "f817a335-ff6b-42c6-f2d5-af683d9c3c87"
      },
      "execution_count": 46,
      "outputs": [
        {
          "name": "stdout",
          "output_type": "stream",
          "text": [
            "enter a number: 10\n",
            "enter a number: 20\n",
            "enter a number: 30\n",
            "enter a number: 0\n",
            "enter a number: 50\n",
            "enter a number: 42\n",
            "enter a number: 28\n",
            "enter a number: 41\n",
            "enter a number: 16\n",
            "enter a number: 9\n",
            "[10, 20, 30, 0, 50, 42, 28, 41, 16, 9]\n",
            "enter a number: 90\n",
            "enter a number: 23\n",
            "enter a number: 54\n",
            "enter a number: 52\n",
            "enter a number: 67\n",
            "enter a number: 41\n",
            "enter a number: 20\n",
            "enter a number: 29\n",
            "enter a number: 31\n",
            "enter a number: 34\n"
          ]
        }
      ]
    },
    {
      "cell_type": "code",
      "source": [
        "arr2 = []\n",
        "for i in range(10):\n",
        "  arr2.append(int(input('enter a number: ')))"
      ],
      "metadata": {
        "colab": {
          "base_uri": "https://localhost:8080/"
        },
        "id": "brWYglnaaCFD",
        "outputId": "86b7e839-67dd-4657-ef3b-36af60796fbe"
      },
      "execution_count": 48,
      "outputs": [
        {
          "name": "stdout",
          "output_type": "stream",
          "text": [
            "enter a number: 1\n",
            "enter a number: 2\n",
            "enter a number: 3\n",
            "enter a number: 4\n",
            "enter a number: 5\n",
            "enter a number: 6\n",
            "enter a number: 7\n",
            "enter a number: 8\n",
            "enter a number: 9\n",
            "enter a number: 10\n"
          ]
        }
      ]
    },
    {
      "cell_type": "code",
      "source": [
        "arr2"
      ],
      "metadata": {
        "colab": {
          "base_uri": "https://localhost:8080/"
        },
        "id": "uEfGKGOSaCH-",
        "outputId": "cf8e3ac4-24c1-4492-8977-2f388adb3ee7"
      },
      "execution_count": 49,
      "outputs": [
        {
          "output_type": "execute_result",
          "data": {
            "text/plain": [
              "[1, 2, 3, 4, 5, 6, 7, 8, 9, 10]"
            ]
          },
          "metadata": {},
          "execution_count": 49
        }
      ]
    },
    {
      "cell_type": "code",
      "source": [
        "arr3 = []\n",
        "arr2.append(int(input('enter a number: '))) * 10"
      ],
      "metadata": {
        "colab": {
          "base_uri": "https://localhost:8080/",
          "height": 200
        },
        "id": "QeQBRi0EaCKt",
        "outputId": "23bb741c-9031-4dd2-fa3b-ff51e0d0d58b"
      },
      "execution_count": 50,
      "outputs": [
        {
          "name": "stdout",
          "output_type": "stream",
          "text": [
            "enter a number: 21\n"
          ]
        },
        {
          "output_type": "error",
          "ename": "TypeError",
          "evalue": "ignored",
          "traceback": [
            "\u001b[0;31m---------------------------------------------------------------------------\u001b[0m",
            "\u001b[0;31mTypeError\u001b[0m                                 Traceback (most recent call last)",
            "\u001b[0;32m<ipython-input-50-18bce648f043>\u001b[0m in \u001b[0;36m<cell line: 2>\u001b[0;34m()\u001b[0m\n\u001b[1;32m      1\u001b[0m \u001b[0marr3\u001b[0m \u001b[0;34m=\u001b[0m \u001b[0;34m[\u001b[0m\u001b[0;34m]\u001b[0m\u001b[0;34m\u001b[0m\u001b[0;34m\u001b[0m\u001b[0m\n\u001b[0;32m----> 2\u001b[0;31m \u001b[0marr2\u001b[0m\u001b[0;34m.\u001b[0m\u001b[0mappend\u001b[0m\u001b[0;34m(\u001b[0m\u001b[0mint\u001b[0m\u001b[0;34m(\u001b[0m\u001b[0minput\u001b[0m\u001b[0;34m(\u001b[0m\u001b[0;34m'enter a number: '\u001b[0m\u001b[0;34m)\u001b[0m\u001b[0;34m)\u001b[0m\u001b[0;34m)\u001b[0m \u001b[0;34m*\u001b[0m \u001b[0;36m10\u001b[0m\u001b[0;34m\u001b[0m\u001b[0;34m\u001b[0m\u001b[0m\n\u001b[0m",
            "\u001b[0;31mTypeError\u001b[0m: unsupported operand type(s) for *: 'NoneType' and 'int'"
          ]
        }
      ]
    },
    {
      "cell_type": "code",
      "source": [
        "'H' * 10"
      ],
      "metadata": {
        "colab": {
          "base_uri": "https://localhost:8080/",
          "height": 35
        },
        "id": "b49u2E5QaCNc",
        "outputId": "ae890a4a-ccd7-49f6-f602-7154148b76a7"
      },
      "execution_count": 51,
      "outputs": [
        {
          "output_type": "execute_result",
          "data": {
            "text/plain": [
              "'HHHHHHHHHH'"
            ],
            "application/vnd.google.colaboratory.intrinsic+json": {
              "type": "string"
            }
          },
          "metadata": {},
          "execution_count": 51
        }
      ]
    },
    {
      "cell_type": "code",
      "source": [
        "3 * 10"
      ],
      "metadata": {
        "colab": {
          "base_uri": "https://localhost:8080/"
        },
        "id": "4cMgr6SPaCQh",
        "outputId": "4392d332-b022-4b52-f041-ddc1795f9bc0"
      },
      "execution_count": 52,
      "outputs": [
        {
          "output_type": "execute_result",
          "data": {
            "text/plain": [
              "30"
            ]
          },
          "metadata": {},
          "execution_count": 52
        }
      ]
    },
    {
      "cell_type": "code",
      "source": [
        "# 3rd Scenario - Comprehension (List, Set, Dict, Tuple) (1 Line) - Advanced Python\n",
        "arr2 = []\n",
        "for i in range(10):\n",
        "  arr2.append(int(input('enter a number: ')))"
      ],
      "metadata": {
        "id": "4S7G7-GyaCTY",
        "outputId": "f91ab417-a608-4c63-b0dd-f514358aca0c",
        "colab": {
          "base_uri": "https://localhost:8080/"
        }
      },
      "execution_count": 53,
      "outputs": [
        {
          "name": "stdout",
          "output_type": "stream",
          "text": [
            "enter a number: 12\n",
            "enter a number: 21\n",
            "enter a number: 23\n",
            "enter a number: 43\n",
            "enter a number: 65\n",
            "enter a number: 76\n",
            "enter a number: 15\n",
            "enter a number: 35\n",
            "enter a number: 83\n",
            "enter a number: 53\n"
          ]
        }
      ]
    },
    {
      "cell_type": "code",
      "source": [
        "arr3 = [int(input('enter a number: ')) for i in range(10)]"
      ],
      "metadata": {
        "colab": {
          "base_uri": "https://localhost:8080/"
        },
        "id": "mt7S7v44aCV4",
        "outputId": "158091a8-2bd9-4d79-ee30-ada592111392"
      },
      "execution_count": 54,
      "outputs": [
        {
          "name": "stdout",
          "output_type": "stream",
          "text": [
            "enter a number: 12\n",
            "enter a number: 13\n",
            "enter a number: 14\n",
            "enter a number: 15\n",
            "enter a number: 6\n",
            "enter a number: 8\n",
            "enter a number: 12\n",
            "enter a number: 98\n",
            "enter a number: 90\n",
            "enter a number: 32\n"
          ]
        }
      ]
    },
    {
      "cell_type": "code",
      "source": [
        "arr3"
      ],
      "metadata": {
        "colab": {
          "base_uri": "https://localhost:8080/"
        },
        "id": "o2bYNWK8aCYY",
        "outputId": "1d8c4420-09bc-4202-b6a8-4ed82a90eb77"
      },
      "execution_count": 55,
      "outputs": [
        {
          "output_type": "execute_result",
          "data": {
            "text/plain": [
              "[12, 13, 14, 15, 6, 8, 12, 98, 90, 32]"
            ]
          },
          "metadata": {},
          "execution_count": 55
        }
      ]
    },
    {
      "cell_type": "code",
      "source": [
        "[i for i in range(5)]\n",
        "for i in range(5):\n",
        "  [].append(i)"
      ],
      "metadata": {
        "id": "aujYr-l4aCcK"
      },
      "execution_count": 56,
      "outputs": []
    },
    {
      "cell_type": "code",
      "source": [
        "import time"
      ],
      "metadata": {
        "id": "iCN-OKMQaCeL"
      },
      "execution_count": 57,
      "outputs": []
    },
    {
      "cell_type": "code",
      "source": [
        "start = time.time()\n",
        "com_lis = [i for i in range(100000000)]\n",
        "print(time.time() - start)"
      ],
      "metadata": {
        "colab": {
          "base_uri": "https://localhost:8080/"
        },
        "id": "50IXpU7_aCgu",
        "outputId": "fd0e0dc0-48de-4abd-b6c0-fab1a03845ad"
      },
      "execution_count": 58,
      "outputs": [
        {
          "output_type": "stream",
          "name": "stdout",
          "text": [
            "4.905747890472412\n"
          ]
        }
      ]
    },
    {
      "cell_type": "code",
      "source": [
        "start = time.time()\n",
        "for_lis = []\n",
        "for i in range(100000000):\n",
        "  for_lis.append(i)\n",
        "print(time.time() - start)"
      ],
      "metadata": {
        "colab": {
          "base_uri": "https://localhost:8080/"
        },
        "id": "XeV-qeTxaCkU",
        "outputId": "066ecb5f-b78b-466e-d088-f4d1a9924c16"
      },
      "execution_count": 59,
      "outputs": [
        {
          "output_type": "stream",
          "name": "stdout",
          "text": [
            "12.343706369400024\n"
          ]
        }
      ]
    },
    {
      "cell_type": "code",
      "source": [
        "#50%"
      ],
      "metadata": {
        "id": "ByCGwHXSaCmY"
      },
      "execution_count": 61,
      "outputs": []
    },
    {
      "cell_type": "code",
      "source": [
        "arr = [i for i in range(10)] # only for\n",
        "print(arr)"
      ],
      "metadata": {
        "colab": {
          "base_uri": "https://localhost:8080/"
        },
        "id": "8O0t4B7OaCo5",
        "outputId": "6f64d8bf-6808-4113-95f3-85f74fe65b97"
      },
      "execution_count": 62,
      "outputs": [
        {
          "output_type": "stream",
          "name": "stdout",
          "text": [
            "[0, 1, 2, 3, 4, 5, 6, 7, 8, 9]\n"
          ]
        }
      ]
    },
    {
      "cell_type": "code",
      "source": [
        "arr = [i for i in range(10) if i%2==0] # for & if\n",
        "print(arr)"
      ],
      "metadata": {
        "colab": {
          "base_uri": "https://localhost:8080/"
        },
        "id": "-ot2yql0aCr5",
        "outputId": "3b3508c5-d47f-4667-86f1-c8c39e423f6f"
      },
      "execution_count": 63,
      "outputs": [
        {
          "output_type": "stream",
          "name": "stdout",
          "text": [
            "[0, 2, 4, 6, 8]\n"
          ]
        }
      ]
    },
    {
      "cell_type": "code",
      "source": [
        "arr = [i if i%2==0 else \"Hello\" for i in range(10)] # for & if & else\n",
        "print(arr)"
      ],
      "metadata": {
        "colab": {
          "base_uri": "https://localhost:8080/"
        },
        "id": "-X9EqHXzaCuS",
        "outputId": "2217d4a0-aa73-47a7-df7d-a18ce6cb95ed"
      },
      "execution_count": 64,
      "outputs": [
        {
          "output_type": "stream",
          "name": "stdout",
          "text": [
            "[0, 'Hello', 2, 'Hello', 4, 'Hello', 6, 'Hello', 8, 'Hello']\n"
          ]
        }
      ]
    },
    {
      "cell_type": "code",
      "source": [
        "# Syntax -> Homework: for, if, else & elif"
      ],
      "metadata": {
        "id": "ieTwGbHHaCw8"
      },
      "execution_count": 65,
      "outputs": []
    },
    {
      "cell_type": "code",
      "source": [
        "seti = {i for i in range(5)} # Set Comprehension"
      ],
      "metadata": {
        "id": "bnXFXYOUaCzY"
      },
      "execution_count": 66,
      "outputs": []
    },
    {
      "cell_type": "code",
      "source": [
        "seti"
      ],
      "metadata": {
        "colab": {
          "base_uri": "https://localhost:8080/"
        },
        "id": "7DBsJjA8aC13",
        "outputId": "4d8ee1ad-e458-4b19-9f8f-307f3e684bd5"
      },
      "execution_count": 67,
      "outputs": [
        {
          "output_type": "execute_result",
          "data": {
            "text/plain": [
              "{0, 1, 2, 3, 4}"
            ]
          },
          "metadata": {},
          "execution_count": 67
        }
      ]
    },
    {
      "cell_type": "code",
      "source": [
        "tup = (i for i in range(5))"
      ],
      "metadata": {
        "id": "st7DD2bcbjyG"
      },
      "execution_count": 68,
      "outputs": []
    },
    {
      "cell_type": "code",
      "source": [
        "tup"
      ],
      "metadata": {
        "colab": {
          "base_uri": "https://localhost:8080/"
        },
        "id": "DAyYa0Zbbj32",
        "outputId": "f0587170-8916-48a3-cfcc-4072e1d38ed2"
      },
      "execution_count": 69,
      "outputs": [
        {
          "output_type": "execute_result",
          "data": {
            "text/plain": [
              "<generator object <genexpr> at 0x7f4714112f10>"
            ]
          },
          "metadata": {},
          "execution_count": 69
        }
      ]
    },
    {
      "cell_type": "code",
      "source": [
        "seti = {i:'value' for i in range(5)} # Dictionary Comprehension"
      ],
      "metadata": {
        "id": "hRndyK3Zbj59"
      },
      "execution_count": 70,
      "outputs": []
    },
    {
      "cell_type": "code",
      "source": [
        "# zip()"
      ],
      "metadata": {
        "id": "eBOSKhpNz8s2"
      },
      "execution_count": 71,
      "outputs": []
    },
    {
      "cell_type": "code",
      "source": [
        "\"\"\"i -> range(0,5), j -> range(0,5)\n",
        "i=0, j=0\"\"\""
      ],
      "metadata": {
        "id": "eNhYyoW_z8yz",
        "outputId": "cbc9cc21-2dfd-4b83-8f81-5cf8ef6420a1",
        "colab": {
          "base_uri": "https://localhost:8080/",
          "height": 35
        }
      },
      "execution_count": 73,
      "outputs": [
        {
          "output_type": "execute_result",
          "data": {
            "text/plain": [
              "'i -> range(0,5), j -> range(0,5)\\ni=0, j=0'"
            ],
            "application/vnd.google.colaboratory.intrinsic+json": {
              "type": "string"
            }
          },
          "metadata": {},
          "execution_count": 73
        }
      ]
    },
    {
      "cell_type": "code",
      "source": [
        "for i,j in zip(range(0,5), range(0,10)):\n",
        "  print(i,j)"
      ],
      "metadata": {
        "colab": {
          "base_uri": "https://localhost:8080/"
        },
        "id": "FBNf5Omjz81k",
        "outputId": "5ae9ee16-5559-44a3-8a12-a72e32db0131"
      },
      "execution_count": 74,
      "outputs": [
        {
          "output_type": "stream",
          "name": "stdout",
          "text": [
            "0 0\n",
            "1 1\n",
            "2 2\n",
            "3 3\n",
            "4 4\n"
          ]
        }
      ]
    },
    {
      "cell_type": "code",
      "source": [
        "for i in range(5):\n",
        "  for j in range(5):\n",
        "    print(i,j)"
      ],
      "metadata": {
        "colab": {
          "base_uri": "https://localhost:8080/"
        },
        "id": "i4Nhw_Rfz84l",
        "outputId": "73f56e18-935a-4931-ef99-2d8397e51d77"
      },
      "execution_count": 75,
      "outputs": [
        {
          "output_type": "stream",
          "name": "stdout",
          "text": [
            "0 0\n",
            "0 1\n",
            "0 2\n",
            "0 3\n",
            "0 4\n",
            "1 0\n",
            "1 1\n",
            "1 2\n",
            "1 3\n",
            "1 4\n",
            "2 0\n",
            "2 1\n",
            "2 2\n",
            "2 3\n",
            "2 4\n",
            "3 0\n",
            "3 1\n",
            "3 2\n",
            "3 3\n",
            "3 4\n",
            "4 0\n",
            "4 1\n",
            "4 2\n",
            "4 3\n",
            "4 4\n"
          ]
        }
      ]
    },
    {
      "cell_type": "code",
      "source": [
        "dicti = {}\n",
        "for i,j in zip(range(3), range(3)):\n",
        "  a = input(\"Enter the key: \")\n",
        "  b = input('Enter the value: ')\n",
        "  dicti[a] = b"
      ],
      "metadata": {
        "colab": {
          "base_uri": "https://localhost:8080/"
        },
        "id": "ye29xmOWz862",
        "outputId": "52f17fae-36d9-422d-c3f3-55672a94c96b"
      },
      "execution_count": 76,
      "outputs": [
        {
          "name": "stdout",
          "output_type": "stream",
          "text": [
            "Enter the key: hey\n",
            "Enter the value: 7\n",
            "Enter the key: hi\n",
            "Enter the value: 5\n",
            "Enter the key: bye\n",
            "Enter the value: 8\n"
          ]
        }
      ]
    },
    {
      "cell_type": "code",
      "source": [
        "dicti"
      ],
      "metadata": {
        "colab": {
          "base_uri": "https://localhost:8080/"
        },
        "id": "FpxtN_rqz8-L",
        "outputId": "839e1e3c-4158-4ed4-baad-12055cde8eaf"
      },
      "execution_count": 77,
      "outputs": [
        {
          "output_type": "execute_result",
          "data": {
            "text/plain": [
              "{'hey': '7', 'hi': '5', 'bye': '8'}"
            ]
          },
          "metadata": {},
          "execution_count": 77
        }
      ]
    },
    {
      "cell_type": "code",
      "source": [
        "dicti1 = {input('Key: '): input('Value: ') for i in range(5)}"
      ],
      "metadata": {
        "colab": {
          "base_uri": "https://localhost:8080/"
        },
        "id": "M-TxSf5Cz9CA",
        "outputId": "eeac0d58-b701-4543-922a-87984406129c"
      },
      "execution_count": 78,
      "outputs": [
        {
          "name": "stdout",
          "output_type": "stream",
          "text": [
            "Key: me\n",
            "Value: 1\n",
            "Key: you\n",
            "Value: 2\n",
            "Key: us\n",
            "Value: 3\n",
            "Key: them\n",
            "Value: 4\n",
            "Key: we\n",
            "Value: 5\n"
          ]
        }
      ]
    },
    {
      "cell_type": "code",
      "source": [
        "dicti1"
      ],
      "metadata": {
        "colab": {
          "base_uri": "https://localhost:8080/"
        },
        "id": "DIh4RQCxz9EC",
        "outputId": "df55b2a3-e464-43dc-cfd7-1200850ab847"
      },
      "execution_count": 79,
      "outputs": [
        {
          "output_type": "execute_result",
          "data": {
            "text/plain": [
              "{'me': '1', 'you': '2', 'us': '3', 'them': '4', 'we': '5'}"
            ]
          },
          "metadata": {},
          "execution_count": 79
        }
      ]
    },
    {
      "cell_type": "code",
      "source": [
        "for i in range(5):\n",
        "  for j in range(5):\n",
        "    for k in range(5):\n",
        "      [].append(i)"
      ],
      "metadata": {
        "id": "RfHpIKkUz9HH"
      },
      "execution_count": 80,
      "outputs": []
    },
    {
      "cell_type": "code",
      "source": [
        "lis = [((i for i in range(5))for j in range(5))for k in range(5)]"
      ],
      "metadata": {
        "id": "DrkG31M5z9KE"
      },
      "execution_count": 81,
      "outputs": []
    },
    {
      "cell_type": "code",
      "source": [
        "lis"
      ],
      "metadata": {
        "colab": {
          "base_uri": "https://localhost:8080/"
        },
        "id": "-GfnAqL9z9Me",
        "outputId": "ce0c6650-7c60-49e6-ae29-743f7a98e214"
      },
      "execution_count": 82,
      "outputs": [
        {
          "output_type": "execute_result",
          "data": {
            "text/plain": [
              "[<generator object <listcomp>.<genexpr> at 0x7f4714113450>,\n",
              " <generator object <listcomp>.<genexpr> at 0x7f47141134c0>,\n",
              " <generator object <listcomp>.<genexpr> at 0x7f4714113530>,\n",
              " <generator object <listcomp>.<genexpr> at 0x7f47141135a0>,\n",
              " <generator object <listcomp>.<genexpr> at 0x7f4714113610>]"
            ]
          },
          "metadata": {},
          "execution_count": 82
        }
      ]
    },
    {
      "cell_type": "code",
      "source": [
        "# break, continue, pass"
      ],
      "metadata": {
        "id": "Sr1hIz_jz9OV"
      },
      "execution_count": 83,
      "outputs": []
    },
    {
      "cell_type": "code",
      "source": [
        "for i in range(10):\n",
        "  if i == 7:\n",
        "    break\n",
        "  else:\n",
        "    print(i)"
      ],
      "metadata": {
        "colab": {
          "base_uri": "https://localhost:8080/"
        },
        "id": "ETnbSobJz9RP",
        "outputId": "fbe4cda2-dcfe-4c5c-e07f-7fa91e659842"
      },
      "execution_count": 84,
      "outputs": [
        {
          "output_type": "stream",
          "name": "stdout",
          "text": [
            "0\n",
            "1\n",
            "2\n",
            "3\n",
            "4\n",
            "5\n",
            "6\n"
          ]
        }
      ]
    },
    {
      "cell_type": "code",
      "source": [
        "for i in range(10):\n",
        "  if i == 7:\n",
        "    continue\n",
        "    print(i)\n",
        "  else:\n",
        "    print(i)"
      ],
      "metadata": {
        "colab": {
          "base_uri": "https://localhost:8080/"
        },
        "id": "Dsk9RuZ-z9TU",
        "outputId": "354d2bef-b8ab-446b-be73-64699889f1f9"
      },
      "execution_count": 85,
      "outputs": [
        {
          "output_type": "stream",
          "name": "stdout",
          "text": [
            "0\n",
            "1\n",
            "2\n",
            "3\n",
            "4\n",
            "5\n",
            "6\n",
            "8\n",
            "9\n"
          ]
        }
      ]
    },
    {
      "cell_type": "code",
      "source": [
        "for i in range(10):\n",
        "  if i == 7:\n",
        "    pass\n",
        "    print(i)\n",
        "  else:\n",
        "    print(i)"
      ],
      "metadata": {
        "colab": {
          "base_uri": "https://localhost:8080/"
        },
        "id": "XFeAg3sYz9VZ",
        "outputId": "7d5c7658-0f23-480b-e2a7-a2772286462f"
      },
      "execution_count": 86,
      "outputs": [
        {
          "output_type": "stream",
          "name": "stdout",
          "text": [
            "0\n",
            "1\n",
            "2\n",
            "3\n",
            "4\n",
            "5\n",
            "6\n",
            "7\n",
            "8\n",
            "9\n"
          ]
        }
      ]
    },
    {
      "cell_type": "code",
      "source": [
        "2 + 2"
      ],
      "metadata": {
        "colab": {
          "base_uri": "https://localhost:8080/"
        },
        "id": "lK32Vljtz9ZA",
        "outputId": "9c4410fd-6b08-4ef7-bbe3-f7868825cf7c"
      },
      "execution_count": 87,
      "outputs": [
        {
          "output_type": "execute_result",
          "data": {
            "text/plain": [
              "4"
            ]
          },
          "metadata": {},
          "execution_count": 87
        }
      ]
    },
    {
      "cell_type": "code",
      "source": [
        "2*2"
      ],
      "metadata": {
        "colab": {
          "base_uri": "https://localhost:8080/"
        },
        "id": "_Q7Iahw_bj8C",
        "outputId": "abeaae61-66ed-4247-dbeb-1661fc684d2d"
      },
      "execution_count": 88,
      "outputs": [
        {
          "output_type": "execute_result",
          "data": {
            "text/plain": [
              "4"
            ]
          },
          "metadata": {},
          "execution_count": 88
        }
      ]
    },
    {
      "cell_type": "code",
      "source": [
        "for i in range(10):\n",
        "  if i%2==1:\n",
        "    print('odd')\n",
        "  else:\n",
        "    pass"
      ],
      "metadata": {
        "id": "G_6yg0_mbkA-",
        "outputId": "a641fa8e-0150-42c9-9a47-33f7a23d0326",
        "colab": {
          "base_uri": "https://localhost:8080/"
        }
      },
      "execution_count": 89,
      "outputs": [
        {
          "output_type": "stream",
          "name": "stdout",
          "text": [
            "odd\n",
            "odd\n",
            "odd\n",
            "odd\n",
            "odd\n"
          ]
        }
      ]
    },
    {
      "cell_type": "code",
      "source": [
        "for i in range(10):\n",
        "  if i%2==1:\n",
        "    print('odd')"
      ],
      "metadata": {
        "id": "SVoyvohjbkDQ",
        "outputId": "26fdbc09-ebe2-49d7-e5e5-56b5ef301ee8",
        "colab": {
          "base_uri": "https://localhost:8080/"
        }
      },
      "execution_count": 90,
      "outputs": [
        {
          "output_type": "stream",
          "name": "stdout",
          "text": [
            "odd\n",
            "odd\n",
            "odd\n",
            "odd\n",
            "odd\n"
          ]
        }
      ]
    },
    {
      "cell_type": "code",
      "source": [
        "# while\n",
        "\"\"\"while condition:\n",
        "  statement\"\"\""
      ],
      "metadata": {
        "id": "P_aGGeYj4_IS",
        "outputId": "2921edc3-4040-4500-ba2c-0cdafb7595cc",
        "colab": {
          "base_uri": "https://localhost:8080/",
          "height": 35
        }
      },
      "execution_count": 92,
      "outputs": [
        {
          "output_type": "execute_result",
          "data": {
            "text/plain": [
              "'while condition:\\n  statement'"
            ],
            "application/vnd.google.colaboratory.intrinsic+json": {
              "type": "string"
            }
          },
          "metadata": {},
          "execution_count": 92
        }
      ]
    },
    {
      "cell_type": "code",
      "source": [
        "\"\"\"count = 0 # Infinite Loop\n",
        "while count < 10:\n",
        "  print(\"Hello World\")\"\"\""
      ],
      "metadata": {
        "colab": {
          "base_uri": "https://localhost:8080/",
          "height": 35
        },
        "id": "l8OFcDDF4_K-",
        "outputId": "9bc660d1-c19e-4468-d673-1efe44df1470"
      },
      "execution_count": 94,
      "outputs": [
        {
          "output_type": "execute_result",
          "data": {
            "text/plain": [
              "'count = 0 # Infinite Loop\\nwhile count < 10:\\n  print(\"Hello World\")'"
            ],
            "application/vnd.google.colaboratory.intrinsic+json": {
              "type": "string"
            }
          },
          "metadata": {},
          "execution_count": 94
        }
      ]
    },
    {
      "cell_type": "code",
      "source": [
        "count = 0\n",
        "while count < 10:\n",
        "  print(count, \"Hello World\")\n",
        "  count += 1"
      ],
      "metadata": {
        "colab": {
          "base_uri": "https://localhost:8080/"
        },
        "id": "vI3toyCK4_Nq",
        "outputId": "ee828cf1-1172-4e61-a544-bd6ae894467f"
      },
      "execution_count": 95,
      "outputs": [
        {
          "output_type": "stream",
          "name": "stdout",
          "text": [
            "0 Hello World\n",
            "1 Hello World\n",
            "2 Hello World\n",
            "3 Hello World\n",
            "4 Hello World\n",
            "5 Hello World\n",
            "6 Hello World\n",
            "7 Hello World\n",
            "8 Hello World\n",
            "9 Hello World\n"
          ]
        }
      ]
    },
    {
      "cell_type": "code",
      "source": [
        "# Task 2 -> Snake(S/s), Water(W/w), Gun(G/g)\n",
        "\n",
        "# Data Structure, Conditional Statements, Input, Loops, DataType\n",
        "\n",
        "\"\"\"User -> How many rounds do you want to play? - 3\n",
        "print('3/3 Round')\n",
        "User -> S/s, W/w, G/g\n",
        "print(\"Invalid input\")\n",
        "Computer will randomly choose a value S/s, W/w, G/g\n",
        "Compare\n",
        "print(\"___________ has won the Round 1\")\n",
        "\n",
        "S > W\n",
        "W > G\n",
        "G > S\n",
        "\n",
        "R > S\n",
        "S > P\n",
        "P > R\"\"\""
      ],
      "metadata": {
        "id": "gTACrYmq4_QC",
        "outputId": "78e63eb9-ed9e-4669-d7c7-996f039d956f",
        "colab": {
          "base_uri": "https://localhost:8080/",
          "height": 70
        }
      },
      "execution_count": 96,
      "outputs": [
        {
          "output_type": "execute_result",
          "data": {
            "text/plain": [
              "'User -> How many rounds do you want to play? - 3\\nprint(\\'3/3 Round\\')\\nUser -> S/s, W/w, G/g\\nprint(\"Invalid input\")\\nComputer will randomly choose a value S/s, W/w, G/g\\nCompare\\nprint(\"___________ has won the Round 1\")\\n\\nS > W\\nW > G\\nG > S\\n\\nR > S\\nS > P\\nP > R'"
            ],
            "application/vnd.google.colaboratory.intrinsic+json": {
              "type": "string"
            }
          },
          "metadata": {},
          "execution_count": 96
        }
      ]
    },
    {
      "cell_type": "code",
      "source": [
        "import random"
      ],
      "metadata": {
        "id": "Bpqm5KjI4_Sn"
      },
      "execution_count": 97,
      "outputs": []
    },
    {
      "cell_type": "code",
      "source": [
        "lis = [\"S\", \"W\", \"G\"]"
      ],
      "metadata": {
        "id": "UIsWiMtQ4_X0"
      },
      "execution_count": 98,
      "outputs": []
    },
    {
      "cell_type": "code",
      "source": [
        "computer = random.choice(lis)\n",
        "print(computer)"
      ],
      "metadata": {
        "colab": {
          "base_uri": "https://localhost:8080/"
        },
        "id": "bYtYjMRz4_bP",
        "outputId": "d65aaba6-f1f5-4bfb-fecb-244f6410f5db"
      },
      "execution_count": 99,
      "outputs": [
        {
          "output_type": "stream",
          "name": "stdout",
          "text": [
            "W\n"
          ]
        }
      ]
    },
    {
      "cell_type": "code",
      "source": [
        "\"\"\"1\n",
        "U\n",
        "2\n",
        "C\n",
        "3\n",
        "G G -> D\n",
        "S S -> D\"\"\"\n"
      ],
      "metadata": {
        "id": "v7UaHmkM4_eO",
        "outputId": "ead53522-76a4-45af-bc0b-7ccc3a9118f6",
        "colab": {
          "base_uri": "https://localhost:8080/",
          "height": 35
        }
      },
      "execution_count": 100,
      "outputs": [
        {
          "output_type": "execute_result",
          "data": {
            "text/plain": [
              "'1\\nU\\n2\\nC\\n3\\nG G -> D\\nS S -> D'"
            ],
            "application/vnd.google.colaboratory.intrinsic+json": {
              "type": "string"
            }
          },
          "metadata": {},
          "execution_count": 100
        }
      ]
    },
    {
      "cell_type": "code",
      "source": [
        "\"\"\"Round 1 -> User\n",
        "Round 2 -> Computer\n",
        "Round 3 -> User\"\"\""
      ],
      "metadata": {
        "id": "vY14qwE04_sT",
        "outputId": "380612b4-dfa9-4e7c-8db9-8e30b339fe65",
        "colab": {
          "base_uri": "https://localhost:8080/",
          "height": 35
        }
      },
      "execution_count": 101,
      "outputs": [
        {
          "output_type": "execute_result",
          "data": {
            "text/plain": [
              "'Round 1 -> User\\nRound 2 -> Computer\\nRound 3 -> User'"
            ],
            "application/vnd.google.colaboratory.intrinsic+json": {
              "type": "string"
            }
          },
          "metadata": {},
          "execution_count": 101
        }
      ]
    },
    {
      "cell_type": "code",
      "source": [],
      "metadata": {
        "id": "LeEHOFAjb5kt"
      },
      "execution_count": null,
      "outputs": []
    }
  ]
}