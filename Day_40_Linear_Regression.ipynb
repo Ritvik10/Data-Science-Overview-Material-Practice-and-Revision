{
  "nbformat": 4,
  "nbformat_minor": 0,
  "metadata": {
    "colab": {
      "provenance": [],
      "include_colab_link": true
    },
    "kernelspec": {
      "name": "python3",
      "display_name": "Python 3"
    },
    "language_info": {
      "name": "python"
    }
  },
  "cells": [
    {
      "cell_type": "markdown",
      "metadata": {
        "id": "view-in-github",
        "colab_type": "text"
      },
      "source": [
        "<a href=\"https://colab.research.google.com/github/Ritvik10/Data-Science-Overview-Material-Practice-and-Revision/blob/main/Day_40_Linear_Regression.ipynb\" target=\"_parent\"><img src=\"https://colab.research.google.com/assets/colab-badge.svg\" alt=\"Open In Colab\"/></a>"
      ]
    },
    {
      "cell_type": "markdown",
      "source": [
        "# Importing the libraries"
      ],
      "metadata": {
        "id": "-SXycWBj0fwk"
      }
    },
    {
      "cell_type": "code",
      "execution_count": 3,
      "metadata": {
        "id": "ux1UgRdOktUz"
      },
      "outputs": [],
      "source": [
        "import numpy as np\n",
        "import pandas as pd\n",
        "import matplotlib.pyplot as plt\n",
        "import seaborn as sns\n",
        "from sklearn.linear_model import LinearRegression\n",
        "from sklearn.metrics import r2_score\n",
        "from sklearn.model_selection import train_test_split"
      ]
    },
    {
      "cell_type": "markdown",
      "source": [
        "# Dataset\n",
        "\n",
        "Link: https://drive.google.com/file/d/1yuKjwkoLygaWP-tGM3B-KYAvQXv3qWOV/view?usp=sharing"
      ],
      "metadata": {
        "id": "u9gL5dil0anr"
      }
    },
    {
      "cell_type": "code",
      "source": [
        "df = pd.read_csv('/content/drive/MyDrive/Datasets/weight-height.csv')"
      ],
      "metadata": {
        "id": "7m8TBSUvky0f"
      },
      "execution_count": 4,
      "outputs": []
    },
    {
      "cell_type": "code",
      "source": [
        "from google.colab import drive\n",
        "drive.mount('/content/drive')"
      ],
      "metadata": {
        "id": "_la7EdUV_a2N",
        "outputId": "a416e07f-d2e1-4167-9df1-0c8169bd6908",
        "colab": {
          "base_uri": "https://localhost:8080/"
        }
      },
      "execution_count": 5,
      "outputs": [
        {
          "output_type": "stream",
          "name": "stdout",
          "text": [
            "Drive already mounted at /content/drive; to attempt to forcibly remount, call drive.mount(\"/content/drive\", force_remount=True).\n"
          ]
        }
      ]
    },
    {
      "cell_type": "code",
      "source": [
        "df.head()"
      ],
      "metadata": {
        "colab": {
          "base_uri": "https://localhost:8080/",
          "height": 206
        },
        "id": "b2dYNnXQky3D",
        "outputId": "fe19d461-1fb8-4fdf-bf06-dc6ea67f17f5"
      },
      "execution_count": 6,
      "outputs": [
        {
          "output_type": "execute_result",
          "data": {
            "text/plain": [
              "  Gender     Height      Weight\n",
              "0   Male  73.847017  241.893563\n",
              "1   Male  68.781904  162.310473\n",
              "2   Male  74.110105  212.740856\n",
              "3   Male  71.730978  220.042470\n",
              "4   Male  69.881796  206.349801"
            ],
            "text/html": [
              "\n",
              "  <div id=\"df-41144792-24e8-40e4-a7e1-37ef50f21889\">\n",
              "    <div class=\"colab-df-container\">\n",
              "      <div>\n",
              "<style scoped>\n",
              "    .dataframe tbody tr th:only-of-type {\n",
              "        vertical-align: middle;\n",
              "    }\n",
              "\n",
              "    .dataframe tbody tr th {\n",
              "        vertical-align: top;\n",
              "    }\n",
              "\n",
              "    .dataframe thead th {\n",
              "        text-align: right;\n",
              "    }\n",
              "</style>\n",
              "<table border=\"1\" class=\"dataframe\">\n",
              "  <thead>\n",
              "    <tr style=\"text-align: right;\">\n",
              "      <th></th>\n",
              "      <th>Gender</th>\n",
              "      <th>Height</th>\n",
              "      <th>Weight</th>\n",
              "    </tr>\n",
              "  </thead>\n",
              "  <tbody>\n",
              "    <tr>\n",
              "      <th>0</th>\n",
              "      <td>Male</td>\n",
              "      <td>73.847017</td>\n",
              "      <td>241.893563</td>\n",
              "    </tr>\n",
              "    <tr>\n",
              "      <th>1</th>\n",
              "      <td>Male</td>\n",
              "      <td>68.781904</td>\n",
              "      <td>162.310473</td>\n",
              "    </tr>\n",
              "    <tr>\n",
              "      <th>2</th>\n",
              "      <td>Male</td>\n",
              "      <td>74.110105</td>\n",
              "      <td>212.740856</td>\n",
              "    </tr>\n",
              "    <tr>\n",
              "      <th>3</th>\n",
              "      <td>Male</td>\n",
              "      <td>71.730978</td>\n",
              "      <td>220.042470</td>\n",
              "    </tr>\n",
              "    <tr>\n",
              "      <th>4</th>\n",
              "      <td>Male</td>\n",
              "      <td>69.881796</td>\n",
              "      <td>206.349801</td>\n",
              "    </tr>\n",
              "  </tbody>\n",
              "</table>\n",
              "</div>\n",
              "      <button class=\"colab-df-convert\" onclick=\"convertToInteractive('df-41144792-24e8-40e4-a7e1-37ef50f21889')\"\n",
              "              title=\"Convert this dataframe to an interactive table.\"\n",
              "              style=\"display:none;\">\n",
              "        \n",
              "  <svg xmlns=\"http://www.w3.org/2000/svg\" height=\"24px\"viewBox=\"0 0 24 24\"\n",
              "       width=\"24px\">\n",
              "    <path d=\"M0 0h24v24H0V0z\" fill=\"none\"/>\n",
              "    <path d=\"M18.56 5.44l.94 2.06.94-2.06 2.06-.94-2.06-.94-.94-2.06-.94 2.06-2.06.94zm-11 1L8.5 8.5l.94-2.06 2.06-.94-2.06-.94L8.5 2.5l-.94 2.06-2.06.94zm10 10l.94 2.06.94-2.06 2.06-.94-2.06-.94-.94-2.06-.94 2.06-2.06.94z\"/><path d=\"M17.41 7.96l-1.37-1.37c-.4-.4-.92-.59-1.43-.59-.52 0-1.04.2-1.43.59L10.3 9.45l-7.72 7.72c-.78.78-.78 2.05 0 2.83L4 21.41c.39.39.9.59 1.41.59.51 0 1.02-.2 1.41-.59l7.78-7.78 2.81-2.81c.8-.78.8-2.07 0-2.86zM5.41 20L4 18.59l7.72-7.72 1.47 1.35L5.41 20z\"/>\n",
              "  </svg>\n",
              "      </button>\n",
              "      \n",
              "  <style>\n",
              "    .colab-df-container {\n",
              "      display:flex;\n",
              "      flex-wrap:wrap;\n",
              "      gap: 12px;\n",
              "    }\n",
              "\n",
              "    .colab-df-convert {\n",
              "      background-color: #E8F0FE;\n",
              "      border: none;\n",
              "      border-radius: 50%;\n",
              "      cursor: pointer;\n",
              "      display: none;\n",
              "      fill: #1967D2;\n",
              "      height: 32px;\n",
              "      padding: 0 0 0 0;\n",
              "      width: 32px;\n",
              "    }\n",
              "\n",
              "    .colab-df-convert:hover {\n",
              "      background-color: #E2EBFA;\n",
              "      box-shadow: 0px 1px 2px rgba(60, 64, 67, 0.3), 0px 1px 3px 1px rgba(60, 64, 67, 0.15);\n",
              "      fill: #174EA6;\n",
              "    }\n",
              "\n",
              "    [theme=dark] .colab-df-convert {\n",
              "      background-color: #3B4455;\n",
              "      fill: #D2E3FC;\n",
              "    }\n",
              "\n",
              "    [theme=dark] .colab-df-convert:hover {\n",
              "      background-color: #434B5C;\n",
              "      box-shadow: 0px 1px 3px 1px rgba(0, 0, 0, 0.15);\n",
              "      filter: drop-shadow(0px 1px 2px rgba(0, 0, 0, 0.3));\n",
              "      fill: #FFFFFF;\n",
              "    }\n",
              "  </style>\n",
              "\n",
              "      <script>\n",
              "        const buttonEl =\n",
              "          document.querySelector('#df-41144792-24e8-40e4-a7e1-37ef50f21889 button.colab-df-convert');\n",
              "        buttonEl.style.display =\n",
              "          google.colab.kernel.accessAllowed ? 'block' : 'none';\n",
              "\n",
              "        async function convertToInteractive(key) {\n",
              "          const element = document.querySelector('#df-41144792-24e8-40e4-a7e1-37ef50f21889');\n",
              "          const dataTable =\n",
              "            await google.colab.kernel.invokeFunction('convertToInteractive',\n",
              "                                                     [key], {});\n",
              "          if (!dataTable) return;\n",
              "\n",
              "          const docLinkHtml = 'Like what you see? Visit the ' +\n",
              "            '<a target=\"_blank\" href=https://colab.research.google.com/notebooks/data_table.ipynb>data table notebook</a>'\n",
              "            + ' to learn more about interactive tables.';\n",
              "          element.innerHTML = '';\n",
              "          dataTable['output_type'] = 'display_data';\n",
              "          await google.colab.output.renderOutput(dataTable, element);\n",
              "          const docLink = document.createElement('div');\n",
              "          docLink.innerHTML = docLinkHtml;\n",
              "          element.appendChild(docLink);\n",
              "        }\n",
              "      </script>\n",
              "    </div>\n",
              "  </div>\n",
              "  "
            ]
          },
          "metadata": {},
          "execution_count": 6
        }
      ]
    },
    {
      "cell_type": "code",
      "source": [
        "df.tail()"
      ],
      "metadata": {
        "colab": {
          "base_uri": "https://localhost:8080/",
          "height": 206
        },
        "id": "xG2eXgEeky5Z",
        "outputId": "7c6e19da-1858-4e1f-e9f9-a98e519f815e"
      },
      "execution_count": 7,
      "outputs": [
        {
          "output_type": "execute_result",
          "data": {
            "text/plain": [
              "      Gender     Height      Weight\n",
              "9995  Female  66.172652  136.777454\n",
              "9996  Female  67.067155  170.867906\n",
              "9997  Female  63.867992  128.475319\n",
              "9998  Female  69.034243  163.852461\n",
              "9999  Female  61.944246  113.649103"
            ],
            "text/html": [
              "\n",
              "  <div id=\"df-f14b38db-c69a-4af9-ad46-33350cd09fcf\">\n",
              "    <div class=\"colab-df-container\">\n",
              "      <div>\n",
              "<style scoped>\n",
              "    .dataframe tbody tr th:only-of-type {\n",
              "        vertical-align: middle;\n",
              "    }\n",
              "\n",
              "    .dataframe tbody tr th {\n",
              "        vertical-align: top;\n",
              "    }\n",
              "\n",
              "    .dataframe thead th {\n",
              "        text-align: right;\n",
              "    }\n",
              "</style>\n",
              "<table border=\"1\" class=\"dataframe\">\n",
              "  <thead>\n",
              "    <tr style=\"text-align: right;\">\n",
              "      <th></th>\n",
              "      <th>Gender</th>\n",
              "      <th>Height</th>\n",
              "      <th>Weight</th>\n",
              "    </tr>\n",
              "  </thead>\n",
              "  <tbody>\n",
              "    <tr>\n",
              "      <th>9995</th>\n",
              "      <td>Female</td>\n",
              "      <td>66.172652</td>\n",
              "      <td>136.777454</td>\n",
              "    </tr>\n",
              "    <tr>\n",
              "      <th>9996</th>\n",
              "      <td>Female</td>\n",
              "      <td>67.067155</td>\n",
              "      <td>170.867906</td>\n",
              "    </tr>\n",
              "    <tr>\n",
              "      <th>9997</th>\n",
              "      <td>Female</td>\n",
              "      <td>63.867992</td>\n",
              "      <td>128.475319</td>\n",
              "    </tr>\n",
              "    <tr>\n",
              "      <th>9998</th>\n",
              "      <td>Female</td>\n",
              "      <td>69.034243</td>\n",
              "      <td>163.852461</td>\n",
              "    </tr>\n",
              "    <tr>\n",
              "      <th>9999</th>\n",
              "      <td>Female</td>\n",
              "      <td>61.944246</td>\n",
              "      <td>113.649103</td>\n",
              "    </tr>\n",
              "  </tbody>\n",
              "</table>\n",
              "</div>\n",
              "      <button class=\"colab-df-convert\" onclick=\"convertToInteractive('df-f14b38db-c69a-4af9-ad46-33350cd09fcf')\"\n",
              "              title=\"Convert this dataframe to an interactive table.\"\n",
              "              style=\"display:none;\">\n",
              "        \n",
              "  <svg xmlns=\"http://www.w3.org/2000/svg\" height=\"24px\"viewBox=\"0 0 24 24\"\n",
              "       width=\"24px\">\n",
              "    <path d=\"M0 0h24v24H0V0z\" fill=\"none\"/>\n",
              "    <path d=\"M18.56 5.44l.94 2.06.94-2.06 2.06-.94-2.06-.94-.94-2.06-.94 2.06-2.06.94zm-11 1L8.5 8.5l.94-2.06 2.06-.94-2.06-.94L8.5 2.5l-.94 2.06-2.06.94zm10 10l.94 2.06.94-2.06 2.06-.94-2.06-.94-.94-2.06-.94 2.06-2.06.94z\"/><path d=\"M17.41 7.96l-1.37-1.37c-.4-.4-.92-.59-1.43-.59-.52 0-1.04.2-1.43.59L10.3 9.45l-7.72 7.72c-.78.78-.78 2.05 0 2.83L4 21.41c.39.39.9.59 1.41.59.51 0 1.02-.2 1.41-.59l7.78-7.78 2.81-2.81c.8-.78.8-2.07 0-2.86zM5.41 20L4 18.59l7.72-7.72 1.47 1.35L5.41 20z\"/>\n",
              "  </svg>\n",
              "      </button>\n",
              "      \n",
              "  <style>\n",
              "    .colab-df-container {\n",
              "      display:flex;\n",
              "      flex-wrap:wrap;\n",
              "      gap: 12px;\n",
              "    }\n",
              "\n",
              "    .colab-df-convert {\n",
              "      background-color: #E8F0FE;\n",
              "      border: none;\n",
              "      border-radius: 50%;\n",
              "      cursor: pointer;\n",
              "      display: none;\n",
              "      fill: #1967D2;\n",
              "      height: 32px;\n",
              "      padding: 0 0 0 0;\n",
              "      width: 32px;\n",
              "    }\n",
              "\n",
              "    .colab-df-convert:hover {\n",
              "      background-color: #E2EBFA;\n",
              "      box-shadow: 0px 1px 2px rgba(60, 64, 67, 0.3), 0px 1px 3px 1px rgba(60, 64, 67, 0.15);\n",
              "      fill: #174EA6;\n",
              "    }\n",
              "\n",
              "    [theme=dark] .colab-df-convert {\n",
              "      background-color: #3B4455;\n",
              "      fill: #D2E3FC;\n",
              "    }\n",
              "\n",
              "    [theme=dark] .colab-df-convert:hover {\n",
              "      background-color: #434B5C;\n",
              "      box-shadow: 0px 1px 3px 1px rgba(0, 0, 0, 0.15);\n",
              "      filter: drop-shadow(0px 1px 2px rgba(0, 0, 0, 0.3));\n",
              "      fill: #FFFFFF;\n",
              "    }\n",
              "  </style>\n",
              "\n",
              "      <script>\n",
              "        const buttonEl =\n",
              "          document.querySelector('#df-f14b38db-c69a-4af9-ad46-33350cd09fcf button.colab-df-convert');\n",
              "        buttonEl.style.display =\n",
              "          google.colab.kernel.accessAllowed ? 'block' : 'none';\n",
              "\n",
              "        async function convertToInteractive(key) {\n",
              "          const element = document.querySelector('#df-f14b38db-c69a-4af9-ad46-33350cd09fcf');\n",
              "          const dataTable =\n",
              "            await google.colab.kernel.invokeFunction('convertToInteractive',\n",
              "                                                     [key], {});\n",
              "          if (!dataTable) return;\n",
              "\n",
              "          const docLinkHtml = 'Like what you see? Visit the ' +\n",
              "            '<a target=\"_blank\" href=https://colab.research.google.com/notebooks/data_table.ipynb>data table notebook</a>'\n",
              "            + ' to learn more about interactive tables.';\n",
              "          element.innerHTML = '';\n",
              "          dataTable['output_type'] = 'display_data';\n",
              "          await google.colab.output.renderOutput(dataTable, element);\n",
              "          const docLink = document.createElement('div');\n",
              "          docLink.innerHTML = docLinkHtml;\n",
              "          element.appendChild(docLink);\n",
              "        }\n",
              "      </script>\n",
              "    </div>\n",
              "  </div>\n",
              "  "
            ]
          },
          "metadata": {},
          "execution_count": 7
        }
      ]
    },
    {
      "cell_type": "code",
      "source": [
        "df.shape"
      ],
      "metadata": {
        "colab": {
          "base_uri": "https://localhost:8080/"
        },
        "id": "Xyxls0Teky8A",
        "outputId": "59147cf9-f8e6-4922-d425-ed49f9cc08fe"
      },
      "execution_count": 8,
      "outputs": [
        {
          "output_type": "execute_result",
          "data": {
            "text/plain": [
              "(10000, 3)"
            ]
          },
          "metadata": {},
          "execution_count": 8
        }
      ]
    },
    {
      "cell_type": "code",
      "source": [
        "df.info()"
      ],
      "metadata": {
        "colab": {
          "base_uri": "https://localhost:8080/"
        },
        "id": "PfgtZZ_PkzBA",
        "outputId": "e35f2281-a11f-4f11-a612-ebdb61a54140"
      },
      "execution_count": 9,
      "outputs": [
        {
          "output_type": "stream",
          "name": "stdout",
          "text": [
            "<class 'pandas.core.frame.DataFrame'>\n",
            "RangeIndex: 10000 entries, 0 to 9999\n",
            "Data columns (total 3 columns):\n",
            " #   Column  Non-Null Count  Dtype  \n",
            "---  ------  --------------  -----  \n",
            " 0   Gender  10000 non-null  object \n",
            " 1   Height  10000 non-null  float64\n",
            " 2   Weight  10000 non-null  float64\n",
            "dtypes: float64(2), object(1)\n",
            "memory usage: 234.5+ KB\n"
          ]
        }
      ]
    },
    {
      "cell_type": "code",
      "source": [
        "df.describe()"
      ],
      "metadata": {
        "colab": {
          "base_uri": "https://localhost:8080/",
          "height": 300
        },
        "id": "YTxLujmbkzDy",
        "outputId": "01cd15cc-650f-46d5-fd2f-c7f5ec1ce843"
      },
      "execution_count": 10,
      "outputs": [
        {
          "output_type": "execute_result",
          "data": {
            "text/plain": [
              "             Height        Weight\n",
              "count  10000.000000  10000.000000\n",
              "mean      66.367560    161.440357\n",
              "std        3.847528     32.108439\n",
              "min       54.263133     64.700127\n",
              "25%       63.505620    135.818051\n",
              "50%       66.318070    161.212928\n",
              "75%       69.174262    187.169525\n",
              "max       78.998742    269.989699"
            ],
            "text/html": [
              "\n",
              "  <div id=\"df-b1f7d698-2b65-4b31-a47b-65b1cc653063\">\n",
              "    <div class=\"colab-df-container\">\n",
              "      <div>\n",
              "<style scoped>\n",
              "    .dataframe tbody tr th:only-of-type {\n",
              "        vertical-align: middle;\n",
              "    }\n",
              "\n",
              "    .dataframe tbody tr th {\n",
              "        vertical-align: top;\n",
              "    }\n",
              "\n",
              "    .dataframe thead th {\n",
              "        text-align: right;\n",
              "    }\n",
              "</style>\n",
              "<table border=\"1\" class=\"dataframe\">\n",
              "  <thead>\n",
              "    <tr style=\"text-align: right;\">\n",
              "      <th></th>\n",
              "      <th>Height</th>\n",
              "      <th>Weight</th>\n",
              "    </tr>\n",
              "  </thead>\n",
              "  <tbody>\n",
              "    <tr>\n",
              "      <th>count</th>\n",
              "      <td>10000.000000</td>\n",
              "      <td>10000.000000</td>\n",
              "    </tr>\n",
              "    <tr>\n",
              "      <th>mean</th>\n",
              "      <td>66.367560</td>\n",
              "      <td>161.440357</td>\n",
              "    </tr>\n",
              "    <tr>\n",
              "      <th>std</th>\n",
              "      <td>3.847528</td>\n",
              "      <td>32.108439</td>\n",
              "    </tr>\n",
              "    <tr>\n",
              "      <th>min</th>\n",
              "      <td>54.263133</td>\n",
              "      <td>64.700127</td>\n",
              "    </tr>\n",
              "    <tr>\n",
              "      <th>25%</th>\n",
              "      <td>63.505620</td>\n",
              "      <td>135.818051</td>\n",
              "    </tr>\n",
              "    <tr>\n",
              "      <th>50%</th>\n",
              "      <td>66.318070</td>\n",
              "      <td>161.212928</td>\n",
              "    </tr>\n",
              "    <tr>\n",
              "      <th>75%</th>\n",
              "      <td>69.174262</td>\n",
              "      <td>187.169525</td>\n",
              "    </tr>\n",
              "    <tr>\n",
              "      <th>max</th>\n",
              "      <td>78.998742</td>\n",
              "      <td>269.989699</td>\n",
              "    </tr>\n",
              "  </tbody>\n",
              "</table>\n",
              "</div>\n",
              "      <button class=\"colab-df-convert\" onclick=\"convertToInteractive('df-b1f7d698-2b65-4b31-a47b-65b1cc653063')\"\n",
              "              title=\"Convert this dataframe to an interactive table.\"\n",
              "              style=\"display:none;\">\n",
              "        \n",
              "  <svg xmlns=\"http://www.w3.org/2000/svg\" height=\"24px\"viewBox=\"0 0 24 24\"\n",
              "       width=\"24px\">\n",
              "    <path d=\"M0 0h24v24H0V0z\" fill=\"none\"/>\n",
              "    <path d=\"M18.56 5.44l.94 2.06.94-2.06 2.06-.94-2.06-.94-.94-2.06-.94 2.06-2.06.94zm-11 1L8.5 8.5l.94-2.06 2.06-.94-2.06-.94L8.5 2.5l-.94 2.06-2.06.94zm10 10l.94 2.06.94-2.06 2.06-.94-2.06-.94-.94-2.06-.94 2.06-2.06.94z\"/><path d=\"M17.41 7.96l-1.37-1.37c-.4-.4-.92-.59-1.43-.59-.52 0-1.04.2-1.43.59L10.3 9.45l-7.72 7.72c-.78.78-.78 2.05 0 2.83L4 21.41c.39.39.9.59 1.41.59.51 0 1.02-.2 1.41-.59l7.78-7.78 2.81-2.81c.8-.78.8-2.07 0-2.86zM5.41 20L4 18.59l7.72-7.72 1.47 1.35L5.41 20z\"/>\n",
              "  </svg>\n",
              "      </button>\n",
              "      \n",
              "  <style>\n",
              "    .colab-df-container {\n",
              "      display:flex;\n",
              "      flex-wrap:wrap;\n",
              "      gap: 12px;\n",
              "    }\n",
              "\n",
              "    .colab-df-convert {\n",
              "      background-color: #E8F0FE;\n",
              "      border: none;\n",
              "      border-radius: 50%;\n",
              "      cursor: pointer;\n",
              "      display: none;\n",
              "      fill: #1967D2;\n",
              "      height: 32px;\n",
              "      padding: 0 0 0 0;\n",
              "      width: 32px;\n",
              "    }\n",
              "\n",
              "    .colab-df-convert:hover {\n",
              "      background-color: #E2EBFA;\n",
              "      box-shadow: 0px 1px 2px rgba(60, 64, 67, 0.3), 0px 1px 3px 1px rgba(60, 64, 67, 0.15);\n",
              "      fill: #174EA6;\n",
              "    }\n",
              "\n",
              "    [theme=dark] .colab-df-convert {\n",
              "      background-color: #3B4455;\n",
              "      fill: #D2E3FC;\n",
              "    }\n",
              "\n",
              "    [theme=dark] .colab-df-convert:hover {\n",
              "      background-color: #434B5C;\n",
              "      box-shadow: 0px 1px 3px 1px rgba(0, 0, 0, 0.15);\n",
              "      filter: drop-shadow(0px 1px 2px rgba(0, 0, 0, 0.3));\n",
              "      fill: #FFFFFF;\n",
              "    }\n",
              "  </style>\n",
              "\n",
              "      <script>\n",
              "        const buttonEl =\n",
              "          document.querySelector('#df-b1f7d698-2b65-4b31-a47b-65b1cc653063 button.colab-df-convert');\n",
              "        buttonEl.style.display =\n",
              "          google.colab.kernel.accessAllowed ? 'block' : 'none';\n",
              "\n",
              "        async function convertToInteractive(key) {\n",
              "          const element = document.querySelector('#df-b1f7d698-2b65-4b31-a47b-65b1cc653063');\n",
              "          const dataTable =\n",
              "            await google.colab.kernel.invokeFunction('convertToInteractive',\n",
              "                                                     [key], {});\n",
              "          if (!dataTable) return;\n",
              "\n",
              "          const docLinkHtml = 'Like what you see? Visit the ' +\n",
              "            '<a target=\"_blank\" href=https://colab.research.google.com/notebooks/data_table.ipynb>data table notebook</a>'\n",
              "            + ' to learn more about interactive tables.';\n",
              "          element.innerHTML = '';\n",
              "          dataTable['output_type'] = 'display_data';\n",
              "          await google.colab.output.renderOutput(dataTable, element);\n",
              "          const docLink = document.createElement('div');\n",
              "          docLink.innerHTML = docLinkHtml;\n",
              "          element.appendChild(docLink);\n",
              "        }\n",
              "      </script>\n",
              "    </div>\n",
              "  </div>\n",
              "  "
            ]
          },
          "metadata": {},
          "execution_count": 10
        }
      ]
    },
    {
      "cell_type": "code",
      "source": [
        "df.columns"
      ],
      "metadata": {
        "colab": {
          "base_uri": "https://localhost:8080/"
        },
        "id": "CA8g6-XgkzGb",
        "outputId": "314d7d2c-ae2a-40bc-ed60-1e019ecc8faa"
      },
      "execution_count": 11,
      "outputs": [
        {
          "output_type": "execute_result",
          "data": {
            "text/plain": [
              "Index(['Gender', 'Height', 'Weight'], dtype='object')"
            ]
          },
          "metadata": {},
          "execution_count": 11
        }
      ]
    },
    {
      "cell_type": "code",
      "source": [
        "df.drop('Gender', axis=1, inplace=True)"
      ],
      "metadata": {
        "id": "aujRRU3ekzJj"
      },
      "execution_count": 12,
      "outputs": []
    },
    {
      "cell_type": "code",
      "source": [
        "df.head()"
      ],
      "metadata": {
        "colab": {
          "base_uri": "https://localhost:8080/",
          "height": 206
        },
        "id": "jRcTtvIEkzM_",
        "outputId": "db40d7bc-686f-4bd5-f4ff-d419300e7826"
      },
      "execution_count": 13,
      "outputs": [
        {
          "output_type": "execute_result",
          "data": {
            "text/plain": [
              "      Height      Weight\n",
              "0  73.847017  241.893563\n",
              "1  68.781904  162.310473\n",
              "2  74.110105  212.740856\n",
              "3  71.730978  220.042470\n",
              "4  69.881796  206.349801"
            ],
            "text/html": [
              "\n",
              "  <div id=\"df-7f6e6e05-090b-42ed-a29c-d6357222ba95\">\n",
              "    <div class=\"colab-df-container\">\n",
              "      <div>\n",
              "<style scoped>\n",
              "    .dataframe tbody tr th:only-of-type {\n",
              "        vertical-align: middle;\n",
              "    }\n",
              "\n",
              "    .dataframe tbody tr th {\n",
              "        vertical-align: top;\n",
              "    }\n",
              "\n",
              "    .dataframe thead th {\n",
              "        text-align: right;\n",
              "    }\n",
              "</style>\n",
              "<table border=\"1\" class=\"dataframe\">\n",
              "  <thead>\n",
              "    <tr style=\"text-align: right;\">\n",
              "      <th></th>\n",
              "      <th>Height</th>\n",
              "      <th>Weight</th>\n",
              "    </tr>\n",
              "  </thead>\n",
              "  <tbody>\n",
              "    <tr>\n",
              "      <th>0</th>\n",
              "      <td>73.847017</td>\n",
              "      <td>241.893563</td>\n",
              "    </tr>\n",
              "    <tr>\n",
              "      <th>1</th>\n",
              "      <td>68.781904</td>\n",
              "      <td>162.310473</td>\n",
              "    </tr>\n",
              "    <tr>\n",
              "      <th>2</th>\n",
              "      <td>74.110105</td>\n",
              "      <td>212.740856</td>\n",
              "    </tr>\n",
              "    <tr>\n",
              "      <th>3</th>\n",
              "      <td>71.730978</td>\n",
              "      <td>220.042470</td>\n",
              "    </tr>\n",
              "    <tr>\n",
              "      <th>4</th>\n",
              "      <td>69.881796</td>\n",
              "      <td>206.349801</td>\n",
              "    </tr>\n",
              "  </tbody>\n",
              "</table>\n",
              "</div>\n",
              "      <button class=\"colab-df-convert\" onclick=\"convertToInteractive('df-7f6e6e05-090b-42ed-a29c-d6357222ba95')\"\n",
              "              title=\"Convert this dataframe to an interactive table.\"\n",
              "              style=\"display:none;\">\n",
              "        \n",
              "  <svg xmlns=\"http://www.w3.org/2000/svg\" height=\"24px\"viewBox=\"0 0 24 24\"\n",
              "       width=\"24px\">\n",
              "    <path d=\"M0 0h24v24H0V0z\" fill=\"none\"/>\n",
              "    <path d=\"M18.56 5.44l.94 2.06.94-2.06 2.06-.94-2.06-.94-.94-2.06-.94 2.06-2.06.94zm-11 1L8.5 8.5l.94-2.06 2.06-.94-2.06-.94L8.5 2.5l-.94 2.06-2.06.94zm10 10l.94 2.06.94-2.06 2.06-.94-2.06-.94-.94-2.06-.94 2.06-2.06.94z\"/><path d=\"M17.41 7.96l-1.37-1.37c-.4-.4-.92-.59-1.43-.59-.52 0-1.04.2-1.43.59L10.3 9.45l-7.72 7.72c-.78.78-.78 2.05 0 2.83L4 21.41c.39.39.9.59 1.41.59.51 0 1.02-.2 1.41-.59l7.78-7.78 2.81-2.81c.8-.78.8-2.07 0-2.86zM5.41 20L4 18.59l7.72-7.72 1.47 1.35L5.41 20z\"/>\n",
              "  </svg>\n",
              "      </button>\n",
              "      \n",
              "  <style>\n",
              "    .colab-df-container {\n",
              "      display:flex;\n",
              "      flex-wrap:wrap;\n",
              "      gap: 12px;\n",
              "    }\n",
              "\n",
              "    .colab-df-convert {\n",
              "      background-color: #E8F0FE;\n",
              "      border: none;\n",
              "      border-radius: 50%;\n",
              "      cursor: pointer;\n",
              "      display: none;\n",
              "      fill: #1967D2;\n",
              "      height: 32px;\n",
              "      padding: 0 0 0 0;\n",
              "      width: 32px;\n",
              "    }\n",
              "\n",
              "    .colab-df-convert:hover {\n",
              "      background-color: #E2EBFA;\n",
              "      box-shadow: 0px 1px 2px rgba(60, 64, 67, 0.3), 0px 1px 3px 1px rgba(60, 64, 67, 0.15);\n",
              "      fill: #174EA6;\n",
              "    }\n",
              "\n",
              "    [theme=dark] .colab-df-convert {\n",
              "      background-color: #3B4455;\n",
              "      fill: #D2E3FC;\n",
              "    }\n",
              "\n",
              "    [theme=dark] .colab-df-convert:hover {\n",
              "      background-color: #434B5C;\n",
              "      box-shadow: 0px 1px 3px 1px rgba(0, 0, 0, 0.15);\n",
              "      filter: drop-shadow(0px 1px 2px rgba(0, 0, 0, 0.3));\n",
              "      fill: #FFFFFF;\n",
              "    }\n",
              "  </style>\n",
              "\n",
              "      <script>\n",
              "        const buttonEl =\n",
              "          document.querySelector('#df-7f6e6e05-090b-42ed-a29c-d6357222ba95 button.colab-df-convert');\n",
              "        buttonEl.style.display =\n",
              "          google.colab.kernel.accessAllowed ? 'block' : 'none';\n",
              "\n",
              "        async function convertToInteractive(key) {\n",
              "          const element = document.querySelector('#df-7f6e6e05-090b-42ed-a29c-d6357222ba95');\n",
              "          const dataTable =\n",
              "            await google.colab.kernel.invokeFunction('convertToInteractive',\n",
              "                                                     [key], {});\n",
              "          if (!dataTable) return;\n",
              "\n",
              "          const docLinkHtml = 'Like what you see? Visit the ' +\n",
              "            '<a target=\"_blank\" href=https://colab.research.google.com/notebooks/data_table.ipynb>data table notebook</a>'\n",
              "            + ' to learn more about interactive tables.';\n",
              "          element.innerHTML = '';\n",
              "          dataTable['output_type'] = 'display_data';\n",
              "          await google.colab.output.renderOutput(dataTable, element);\n",
              "          const docLink = document.createElement('div');\n",
              "          docLink.innerHTML = docLinkHtml;\n",
              "          element.appendChild(docLink);\n",
              "        }\n",
              "      </script>\n",
              "    </div>\n",
              "  </div>\n",
              "  "
            ]
          },
          "metadata": {},
          "execution_count": 13
        }
      ]
    },
    {
      "cell_type": "code",
      "source": [
        "plt.scatter(df.Height, df.Weight)\n",
        "plt.xlabel('Height')\n",
        "plt.ylabel('Weight')\n",
        "plt.title('Height V/s Weight')"
      ],
      "metadata": {
        "colab": {
          "base_uri": "https://localhost:8080/",
          "height": 489
        },
        "id": "4odap7K3kzPR",
        "outputId": "7d1aebcc-b99f-4ec1-c90d-a1005d37c2f4"
      },
      "execution_count": 14,
      "outputs": [
        {
          "output_type": "execute_result",
          "data": {
            "text/plain": [
              "Text(0.5, 1.0, 'Height V/s Weight')"
            ]
          },
          "metadata": {},
          "execution_count": 14
        },
        {
          "output_type": "display_data",
          "data": {
            "text/plain": [
              "<Figure size 640x480 with 1 Axes>"
            ],
            "image/png": "[encoded data removed]"
          },
          "metadata": {}
        }
      ]
    },
    {
      "cell_type": "code",
      "source": [
        "df.corr()"
      ],
      "metadata": {
        "colab": {
          "base_uri": "https://localhost:8080/",
          "height": 112
        },
        "id": "DwkmMwFDkzR4",
        "outputId": "e413f4f2-4c84-4f7e-8716-088a7b614aa2"
      },
      "execution_count": 15,
      "outputs": [
        {
          "output_type": "execute_result",
          "data": {
            "text/plain": [
              "          Height    Weight\n",
              "Height  1.000000  0.924756\n",
              "Weight  0.924756  1.000000"
            ],
            "text/html": [
              "\n",
              "  <div id=\"df-d188ab14-2134-41c6-94b7-08b1c2fddc03\">\n",
              "    <div class=\"colab-df-container\">\n",
              "      <div>\n",
              "<style scoped>\n",
              "    .dataframe tbody tr th:only-of-type {\n",
              "        vertical-align: middle;\n",
              "    }\n",
              "\n",
              "    .dataframe tbody tr th {\n",
              "        vertical-align: top;\n",
              "    }\n",
              "\n",
              "    .dataframe thead th {\n",
              "        text-align: right;\n",
              "    }\n",
              "</style>\n",
              "<table border=\"1\" class=\"dataframe\">\n",
              "  <thead>\n",
              "    <tr style=\"text-align: right;\">\n",
              "      <th></th>\n",
              "      <th>Height</th>\n",
              "      <th>Weight</th>\n",
              "    </tr>\n",
              "  </thead>\n",
              "  <tbody>\n",
              "    <tr>\n",
              "      <th>Height</th>\n",
              "      <td>1.000000</td>\n",
              "      <td>0.924756</td>\n",
              "    </tr>\n",
              "    <tr>\n",
              "      <th>Weight</th>\n",
              "      <td>0.924756</td>\n",
              "      <td>1.000000</td>\n",
              "    </tr>\n",
              "  </tbody>\n",
              "</table>\n",
              "</div>\n",
              "      <button class=\"colab-df-convert\" onclick=\"convertToInteractive('df-d188ab14-2134-41c6-94b7-08b1c2fddc03')\"\n",
              "              title=\"Convert this dataframe to an interactive table.\"\n",
              "              style=\"display:none;\">\n",
              "        \n",
              "  <svg xmlns=\"http://www.w3.org/2000/svg\" height=\"24px\"viewBox=\"0 0 24 24\"\n",
              "       width=\"24px\">\n",
              "    <path d=\"M0 0h24v24H0V0z\" fill=\"none\"/>\n",
              "    <path d=\"M18.56 5.44l.94 2.06.94-2.06 2.06-.94-2.06-.94-.94-2.06-.94 2.06-2.06.94zm-11 1L8.5 8.5l.94-2.06 2.06-.94-2.06-.94L8.5 2.5l-.94 2.06-2.06.94zm10 10l.94 2.06.94-2.06 2.06-.94-2.06-.94-.94-2.06-.94 2.06-2.06.94z\"/><path d=\"M17.41 7.96l-1.37-1.37c-.4-.4-.92-.59-1.43-.59-.52 0-1.04.2-1.43.59L10.3 9.45l-7.72 7.72c-.78.78-.78 2.05 0 2.83L4 21.41c.39.39.9.59 1.41.59.51 0 1.02-.2 1.41-.59l7.78-7.78 2.81-2.81c.8-.78.8-2.07 0-2.86zM5.41 20L4 18.59l7.72-7.72 1.47 1.35L5.41 20z\"/>\n",
              "  </svg>\n",
              "      </button>\n",
              "      \n",
              "  <style>\n",
              "    .colab-df-container {\n",
              "      display:flex;\n",
              "      flex-wrap:wrap;\n",
              "      gap: 12px;\n",
              "    }\n",
              "\n",
              "    .colab-df-convert {\n",
              "      background-color: #E8F0FE;\n",
              "      border: none;\n",
              "      border-radius: 50%;\n",
              "      cursor: pointer;\n",
              "      display: none;\n",
              "      fill: #1967D2;\n",
              "      height: 32px;\n",
              "      padding: 0 0 0 0;\n",
              "      width: 32px;\n",
              "    }\n",
              "\n",
              "    .colab-df-convert:hover {\n",
              "      background-color: #E2EBFA;\n",
              "      box-shadow: 0px 1px 2px rgba(60, 64, 67, 0.3), 0px 1px 3px 1px rgba(60, 64, 67, 0.15);\n",
              "      fill: #174EA6;\n",
              "    }\n",
              "\n",
              "    [theme=dark] .colab-df-convert {\n",
              "      background-color: #3B4455;\n",
              "      fill: #D2E3FC;\n",
              "    }\n",
              "\n",
              "    [theme=dark] .colab-df-convert:hover {\n",
              "      background-color: #434B5C;\n",
              "      box-shadow: 0px 1px 3px 1px rgba(0, 0, 0, 0.15);\n",
              "      filter: drop-shadow(0px 1px 2px rgba(0, 0, 0, 0.3));\n",
              "      fill: #FFFFFF;\n",
              "    }\n",
              "  </style>\n",
              "\n",
              "      <script>\n",
              "        const buttonEl =\n",
              "          document.querySelector('#df-d188ab14-2134-41c6-94b7-08b1c2fddc03 button.colab-df-convert');\n",
              "        buttonEl.style.display =\n",
              "          google.colab.kernel.accessAllowed ? 'block' : 'none';\n",
              "\n",
              "        async function convertToInteractive(key) {\n",
              "          const element = document.querySelector('#df-d188ab14-2134-41c6-94b7-08b1c2fddc03');\n",
              "          const dataTable =\n",
              "            await google.colab.kernel.invokeFunction('convertToInteractive',\n",
              "                                                     [key], {});\n",
              "          if (!dataTable) return;\n",
              "\n",
              "          const docLinkHtml = 'Like what you see? Visit the ' +\n",
              "            '<a target=\"_blank\" href=https://colab.research.google.com/notebooks/data_table.ipynb>data table notebook</a>'\n",
              "            + ' to learn more about interactive tables.';\n",
              "          element.innerHTML = '';\n",
              "          dataTable['output_type'] = 'display_data';\n",
              "          await google.colab.output.renderOutput(dataTable, element);\n",
              "          const docLink = document.createElement('div');\n",
              "          docLink.innerHTML = docLinkHtml;\n",
              "          element.appendChild(docLink);\n",
              "        }\n",
              "      </script>\n",
              "    </div>\n",
              "  </div>\n",
              "  "
            ]
          },
          "metadata": {},
          "execution_count": 15
        }
      ]
    },
    {
      "cell_type": "code",
      "source": [
        "sns.heatmap(df.corr(), annot=True, cmap='Greens')"
      ],
      "metadata": {
        "colab": {
          "base_uri": "https://localhost:8080/",
          "height": 452
        },
        "id": "izy9Tbh_kzUt",
        "outputId": "2050c850-ded1-46f3-a253-90b07a14a08d"
      },
      "execution_count": 16,
      "outputs": [
        {
          "output_type": "execute_result",
          "data": {
            "text/plain": [
              "<Axes: >"
            ]
          },
          "metadata": {},
          "execution_count": 16
        },
        {
          "output_type": "display_data",
          "data": {
            "text/plain": [
              "<Figure size 640x480 with 2 Axes>"
            ],
            "image/png": "[encoded data removed]"
          },
          "metadata": {}
        }
      ]
    },
    {
      "cell_type": "code",
      "source": [
        "model = LinearRegression()"
      ],
      "metadata": {
        "id": "05Rb7wHBkzXX"
      },
      "execution_count": 17,
      "outputs": []
    },
    {
      "cell_type": "code",
      "source": [
        "df.ndim"
      ],
      "metadata": {
        "colab": {
          "base_uri": "https://localhost:8080/"
        },
        "id": "Lv-ZUvA9kzaN",
        "outputId": "c4deb13e-b5cc-44dd-a1c8-a2ab726d5989"
      },
      "execution_count": 18,
      "outputs": [
        {
          "output_type": "execute_result",
          "data": {
            "text/plain": [
              "2"
            ]
          },
          "metadata": {},
          "execution_count": 18
        }
      ]
    },
    {
      "cell_type": "code",
      "source": [
        "df.Height.ndim"
      ],
      "metadata": {
        "colab": {
          "base_uri": "https://localhost:8080/"
        },
        "id": "trAEjj-qkzc1",
        "outputId": "265971e9-17c1-400b-b0a8-6b2a0ad7cd7d"
      },
      "execution_count": 19,
      "outputs": [
        {
          "output_type": "execute_result",
          "data": {
            "text/plain": [
              "1"
            ]
          },
          "metadata": {},
          "execution_count": 19
        }
      ]
    },
    {
      "cell_type": "code",
      "source": [
        "df.Height.values.reshape(-1, 1).ndim"
      ],
      "metadata": {
        "colab": {
          "base_uri": "https://localhost:8080/"
        },
        "id": "LWq13q0RkzgE",
        "outputId": "db736c8b-aefa-408e-e2bd-29334bfc4e40"
      },
      "execution_count": 20,
      "outputs": [
        {
          "output_type": "execute_result",
          "data": {
            "text/plain": [
              "2"
            ]
          },
          "metadata": {},
          "execution_count": 20
        }
      ]
    },
    {
      "cell_type": "code",
      "source": [
        "df.Weight.ndim"
      ],
      "metadata": {
        "colab": {
          "base_uri": "https://localhost:8080/"
        },
        "id": "Uzwjti8okzin",
        "outputId": "6737ffee-def8-4cc0-9fde-68e4ed7a5e9b"
      },
      "execution_count": 21,
      "outputs": [
        {
          "output_type": "execute_result",
          "data": {
            "text/plain": [
              "1"
            ]
          },
          "metadata": {},
          "execution_count": 21
        }
      ]
    },
    {
      "cell_type": "code",
      "source": [
        "X = df.Height.values.reshape(-1, 1)\n",
        "y = df.Weight"
      ],
      "metadata": {
        "id": "_Wf3vvIbkzlu"
      },
      "execution_count": 22,
      "outputs": []
    },
    {
      "cell_type": "code",
      "source": [
        "X"
      ],
      "metadata": {
        "colab": {
          "base_uri": "https://localhost:8080/"
        },
        "id": "KGzTpmRAkzo3",
        "outputId": "6620a4df-5874-4cf1-dc51-a5ff8be9bacb"
      },
      "execution_count": 23,
      "outputs": [
        {
          "output_type": "execute_result",
          "data": {
            "text/plain": [
              "array([[73.84701702],\n",
              "       [68.78190405],\n",
              "       [74.11010539],\n",
              "       ...,\n",
              "       [63.86799221],\n",
              "       [69.03424313],\n",
              "       [61.94424588]])"
            ]
          },
          "metadata": {},
          "execution_count": 23
        }
      ]
    },
    {
      "cell_type": "code",
      "source": [
        "y"
      ],
      "metadata": {
        "colab": {
          "base_uri": "https://localhost:8080/"
        },
        "id": "aU7RuIw2kzrb",
        "outputId": "27d69ab7-e209-496b-dd09-92087a61b12c"
      },
      "execution_count": 24,
      "outputs": [
        {
          "output_type": "execute_result",
          "data": {
            "text/plain": [
              "0       241.893563\n",
              "1       162.310473\n",
              "2       212.740856\n",
              "3       220.042470\n",
              "4       206.349801\n",
              "           ...    \n",
              "9995    136.777454\n",
              "9996    170.867906\n",
              "9997    128.475319\n",
              "9998    163.852461\n",
              "9999    113.649103\n",
              "Name: Weight, Length: 10000, dtype: float64"
            ]
          },
          "metadata": {},
          "execution_count": 24
        }
      ]
    },
    {
      "cell_type": "code",
      "source": [
        "# Splitting the dataset\n",
        "\n",
        "X_train, X_test, y_train, y_test = train_test_split(X,y, test_size=0.1)"
      ],
      "metadata": {
        "id": "OjPKzKPbkzuD"
      },
      "execution_count": 25,
      "outputs": []
    },
    {
      "cell_type": "code",
      "source": [
        "len(X)"
      ],
      "metadata": {
        "colab": {
          "base_uri": "https://localhost:8080/"
        },
        "id": "nlQn198Ckzw3",
        "outputId": "52673ff7-87f9-46f0-9f80-9367802dd6d6"
      },
      "execution_count": 26,
      "outputs": [
        {
          "output_type": "execute_result",
          "data": {
            "text/plain": [
              "10000"
            ]
          },
          "metadata": {},
          "execution_count": 26
        }
      ]
    },
    {
      "cell_type": "code",
      "source": [
        "len(X_train)"
      ],
      "metadata": {
        "colab": {
          "base_uri": "https://localhost:8080/"
        },
        "id": "MC7JClldkz0N",
        "outputId": "c17771cc-2a76-49ce-826f-a418dd35092e"
      },
      "execution_count": 27,
      "outputs": [
        {
          "output_type": "execute_result",
          "data": {
            "text/plain": [
              "9000"
            ]
          },
          "metadata": {},
          "execution_count": 27
        }
      ]
    },
    {
      "cell_type": "code",
      "source": [
        "len(X_test)"
      ],
      "metadata": {
        "colab": {
          "base_uri": "https://localhost:8080/"
        },
        "id": "skhJj0jekz2o",
        "outputId": "09bea86c-131c-48b6-d791-f9f1687638f1"
      },
      "execution_count": 28,
      "outputs": [
        {
          "output_type": "execute_result",
          "data": {
            "text/plain": [
              "1000"
            ]
          },
          "metadata": {},
          "execution_count": 28
        }
      ]
    },
    {
      "cell_type": "code",
      "source": [
        "# Training the model\n",
        "\n",
        "model.fit(X_train, y_train)"
      ],
      "metadata": {
        "colab": {
          "base_uri": "https://localhost:8080/",
          "height": 75
        },
        "id": "itnZxpqfkz5v",
        "outputId": "78aa1c53-9163-43c7-940d-5bd75cf59883"
      },
      "execution_count": 29,
      "outputs": [
        {
          "output_type": "execute_result",
          "data": {
            "text/plain": [
              "LinearRegression()"
            ],
            "text/html": [
              "<style>#sk-container-id-1 {color: black;background-color: white;}#sk-container-id-1 pre{padding: 0;}#sk-container-id-1 div.sk-toggleable {background-color: white;}#sk-container-id-1 label.sk-toggleable__label {cursor: pointer;display: block;width: 100%;margin-bottom: 0;padding: 0.3em;box-sizing: border-box;text-align: center;}#sk-container-id-1 label.sk-toggleable__label-arrow:before {content: \"▸\";float: left;margin-right: 0.25em;color: #696969;}#sk-container-id-1 label.sk-toggleable__label-arrow:hover:before {color: black;}#sk-container-id-1 div.sk-estimator:hover label.sk-toggleable__label-arrow:before {color: black;}#sk-container-id-1 div.sk-toggleable__content {max-height: 0;max-width: 0;overflow: hidden;text-align: left;background-color: #f0f8ff;}#sk-container-id-1 div.sk-toggleable__content pre {margin: 0.2em;color: black;border-radius: 0.25em;background-color: #f0f8ff;}#sk-container-id-1 input.sk-toggleable__control:checked~div.sk-toggleable__content {max-height: 200px;max-width: 100%;overflow: auto;}#sk-container-id-1 input.sk-toggleable__control:checked~label.sk-toggleable__label-arrow:before {content: \"▾\";}#sk-container-id-1 div.sk-estimator input.sk-toggleable__control:checked~label.sk-toggleable__label {background-color: #d4ebff;}#sk-container-id-1 div.sk-label input.sk-toggleable__control:checked~label.sk-toggleable__label {background-color: #d4ebff;}#sk-container-id-1 input.sk-hidden--visually {border: 0;clip: rect(1px 1px 1px 1px);clip: rect(1px, 1px, 1px, 1px);height: 1px;margin: -1px;overflow: hidden;padding: 0;position: absolute;width: 1px;}#sk-container-id-1 div.sk-estimator {font-family: monospace;background-color: #f0f8ff;border: 1px dotted black;border-radius: 0.25em;box-sizing: border-box;margin-bottom: 0.5em;}#sk-container-id-1 div.sk-estimator:hover {background-color: #d4ebff;}#sk-container-id-1 div.sk-parallel-item::after {content: \"\";width: 100%;border-bottom: 1px solid gray;flex-grow: 1;}#sk-container-id-1 div.sk-label:hover label.sk-toggleable__label {background-color: #d4ebff;}#sk-container-id-1 div.sk-serial::before {content: \"\";position: absolute;border-left: 1px solid gray;box-sizing: border-box;top: 0;bottom: 0;left: 50%;z-index: 0;}#sk-container-id-1 div.sk-serial {display: flex;flex-direction: column;align-items: center;background-color: white;padding-right: 0.2em;padding-left: 0.2em;position: relative;}#sk-container-id-1 div.sk-item {position: relative;z-index: 1;}#sk-container-id-1 div.sk-parallel {display: flex;align-items: stretch;justify-content: center;background-color: white;position: relative;}#sk-container-id-1 div.sk-item::before, #sk-container-id-1 div.sk-parallel-item::before {content: \"\";position: absolute;border-left: 1px solid gray;box-sizing: border-box;top: 0;bottom: 0;left: 50%;z-index: -1;}#sk-container-id-1 div.sk-parallel-item {display: flex;flex-direction: column;z-index: 1;position: relative;background-color: white;}#sk-container-id-1 div.sk-parallel-item:first-child::after {align-self: flex-end;width: 50%;}#sk-container-id-1 div.sk-parallel-item:last-child::after {align-self: flex-start;width: 50%;}#sk-container-id-1 div.sk-parallel-item:only-child::after {width: 0;}#sk-container-id-1 div.sk-dashed-wrapped {border: 1px dashed gray;margin: 0 0.4em 0.5em 0.4em;box-sizing: border-box;padding-bottom: 0.4em;background-color: white;}#sk-container-id-1 div.sk-label label {font-family: monospace;font-weight: bold;display: inline-block;line-height: 1.2em;}#sk-container-id-1 div.sk-label-container {text-align: center;}#sk-container-id-1 div.sk-container {/* jupyter's `normalize.less` sets `[hidden] { display: none; }` but bootstrap.min.css set `[hidden] { display: none !important; }` so we also need the `!important` here to be able to override the default hidden behavior on the sphinx rendered scikit-learn.org. See: https://github.com/scikit-learn/scikit-learn/issues/21755 */display: inline-block !important;position: relative;}#sk-container-id-1 div.sk-text-repr-fallback {display: none;}</style><div id=\"sk-container-id-1\" class=\"sk-top-container\"><div class=\"sk-text-repr-fallback\"><pre>LinearRegression()</pre><b>In a Jupyter environment, please rerun this cell to show the HTML representation or trust the notebook. <br />On GitHub, the HTML representation is unable to render, please try loading this page with nbviewer.org.</b></div><div class=\"sk-container\" hidden><div class=\"sk-item\"><div class=\"sk-estimator sk-toggleable\"><input class=\"sk-toggleable__control sk-hidden--visually\" id=\"sk-estimator-id-1\" type=\"checkbox\" checked><label for=\"sk-estimator-id-1\" class=\"sk-toggleable__label sk-toggleable__label-arrow\">LinearRegression</label><div class=\"sk-toggleable__content\"><pre>LinearRegression()</pre></div></div></div></div></div>"
            ]
          },
          "metadata": {},
          "execution_count": 29
        }
      ]
    },
    {
      "cell_type": "code",
      "source": [
        "y_pred = model.predict(X_test)"
      ],
      "metadata": {
        "id": "nHhgez__kz86"
      },
      "execution_count": 30,
      "outputs": []
    },
    {
      "cell_type": "code",
      "source": [
        "y_test"
      ],
      "metadata": {
        "colab": {
          "base_uri": "https://localhost:8080/"
        },
        "id": "OmIkoAlFk0AD",
        "outputId": "1487c1cb-7e7d-469a-e87f-3d26d65bf2e8"
      },
      "execution_count": 31,
      "outputs": [
        {
          "output_type": "execute_result",
          "data": {
            "text/plain": [
              "9218    156.913240\n",
              "9413    133.780636\n",
              "6694    122.580065\n",
              "5359    138.360765\n",
              "8183    106.001349\n",
              "           ...    \n",
              "7535    137.022386\n",
              "894     181.360351\n",
              "7083    157.792424\n",
              "2160    207.683865\n",
              "2724    199.602840\n",
              "Name: Weight, Length: 1000, dtype: float64"
            ]
          },
          "metadata": {},
          "execution_count": 31
        }
      ]
    },
    {
      "cell_type": "code",
      "source": [
        "y_pred"
      ],
      "metadata": {
        "colab": {
          "base_uri": "https://localhost:8080/"
        },
        "id": "OMbnNdnHk0DI",
        "outputId": "4602fd9a-5163-4fa4-eae1-6c666c13253d"
      },
      "execution_count": 32,
      "outputs": [
        {
          "output_type": "execute_result",
          "data": {
            "text/plain": [
              "array([148.06590258, 141.33818934, 129.6511291 , 131.21866535,\n",
              "       132.50247537, 153.08194875, 181.66592356, 140.00596815,\n",
              "       168.80772056, 135.12735547, 131.19199813, 183.93793923,\n",
              "       205.82675942, 110.00703355, 138.79459299, 154.35885655,\n",
              "       212.68484416, 195.42243664, 151.76153216, 173.8153837 ,\n",
              "       173.11919694, 157.22397685, 177.91484244, 124.98925805,\n",
              "       156.85657638, 182.87777555, 141.08023292, 156.21918496,\n",
              "       167.41843994, 160.95391638, 144.5450281 , 147.4645295 ,\n",
              "       216.18824468, 225.59229416, 179.89113088, 166.08476118,\n",
              "       196.93303677, 192.34698701, 164.06777561, 145.13748978,\n",
              "       208.84105526, 136.36244566, 132.45987416, 179.98644447,\n",
              "       134.82266471, 136.84199818, 154.85658421, 147.5525231 ,\n",
              "       193.201656  , 185.3493927 , 196.78731293, 173.49338621,\n",
              "       119.86433448, 188.00902346, 154.16209724, 190.81977534,\n",
              "       143.27573935, 206.25108459, 184.83813946, 157.66843221,\n",
              "       197.79617909, 174.41664713, 184.91802255, 138.79925734,\n",
              "       177.74691844, 169.16416278, 223.49977368, 181.00098569,\n",
              "       186.14702442, 124.49669985, 239.16013274, 113.52365905,\n",
              "        74.79439736, 146.27335516, 200.64881677, 156.37535564,\n",
              "       116.5077986 , 136.56767904, 110.63474772, 180.67156909,\n",
              "       125.52929619, 144.82903704, 171.9476026 , 187.39774536,\n",
              "       217.07990187, 120.61633964, 212.50967536, 151.30805349,\n",
              "       160.27258223, 143.08842342, 165.83142504, 144.20148262,\n",
              "       157.28688008, 153.55676224, 191.09071563, 168.3220243 ,\n",
              "       135.05331673, 124.84254231, 191.30003277, 182.01517838,\n",
              "       155.98363075, 192.70228742, 193.71503528, 204.3391523 ,\n",
              "       208.27768104, 169.62051643, 141.49890599, 141.35580792,\n",
              "       221.98661463, 153.77744076, 169.8047507 , 120.55309969,\n",
              "       207.1536597 , 156.5465122 , 155.22254957, 178.79768611,\n",
              "       190.99186032, 197.60153591, 151.45163078, 224.8663732 ,\n",
              "       157.62396462, 123.93639495, 115.4267967 , 163.11745048,\n",
              "       160.69807208, 172.77640474, 164.87558648, 182.677882  ,\n",
              "       125.29578377, 123.79512704, 160.05578318, 218.95978007,\n",
              "       135.29738964, 153.12314703, 164.03764596, 117.46277769,\n",
              "       153.3762182 , 184.27663211, 151.10640387, 128.56588238,\n",
              "       187.72817923, 177.95445894, 146.66974742, 168.83244602,\n",
              "       218.38573033, 190.95969117, 127.90417317, 125.79365654,\n",
              "       163.79676738, 194.47387063, 168.89034649, 174.9400538 ,\n",
              "       197.16679839, 189.58847758, 152.61710791, 142.44643509,\n",
              "       123.79601936, 202.68683377, 186.14329614, 186.9594536 ,\n",
              "       198.89585165, 197.99978041, 173.35846519, 192.47062492,\n",
              "       135.01374806, 175.42592133, 137.81210179, 177.34587661,\n",
              "       164.9400005 , 164.35723742, 150.39489406, 175.35754257,\n",
              "       246.97504296, 183.2306622 , 161.89676137, 181.17577116,\n",
              "       186.43327058, 131.11857441, 222.62377805, 181.64058616,\n",
              "       146.18074211, 144.33605537, 160.34493925, 156.72893955,\n",
              "       131.33359389, 125.16332268, 158.59340477, 171.59280061,\n",
              "       178.36217954, 134.1450528 , 112.46270672, 138.78503737,\n",
              "       205.63920338, 162.3078947 , 119.63420481, 139.4752278 ,\n",
              "       132.97324269, 166.63987086, 181.45265657, 158.17347247,\n",
              "       127.57792954, 194.4199413 , 190.64194515, 182.76903049,\n",
              "       174.57235183, 158.81100128, 126.4842975 , 152.93764828,\n",
              "       142.16574707, 175.14216026, 148.16548515, 210.87770802,\n",
              "       145.42783514, 224.57044094, 111.51129907, 174.60060562,\n",
              "       194.15146224, 162.87923929, 174.8488835 , 175.66016631,\n",
              "       173.18409283, 201.33499244, 141.65158408, 169.7795298 ,\n",
              "       168.00851078, 174.22541503, 202.14384105, 146.29584971,\n",
              "       155.31101006, 149.34765138, 158.59982004, 165.70276372,\n",
              "       208.28665836, 168.58921442, 184.72240094, 113.67262178,\n",
              "       206.55677403, 216.73398005, 100.17865664, 137.77716492,\n",
              "       183.40362233, 114.13531284, 164.93985192, 125.28198174,\n",
              "       182.3862447 , 166.73176276, 172.09319488, 133.79023521,\n",
              "       206.93427283, 148.90208611, 193.26817968, 144.72918829,\n",
              "       225.38434182, 151.03358026, 193.37693617, 158.70663793,\n",
              "       130.01114321, 207.30553755, 237.87916072, 153.07278898,\n",
              "       149.72504723, 146.18326779, 183.70091714, 125.15545195,\n",
              "       112.50918711, 193.06034039, 117.13322558, 220.07485485,\n",
              "       130.87052913, 142.12392054, 140.71142417, 122.12727845,\n",
              "       179.72301272, 190.90515838, 152.97173805, 135.39506529,\n",
              "       206.97984813, 163.15931182, 192.36945866, 169.91531604,\n",
              "       190.57283329, 169.02679323, 184.5231703 , 119.71742576,\n",
              "       137.58230353, 147.24720934, 111.92330706, 196.80782339,\n",
              "       149.37618742, 175.0111509 , 178.59135582, 142.78286365,\n",
              "       160.79564344, 196.09866999, 169.79272061, 156.58109845,\n",
              "       197.88366419, 170.36333038, 182.39118552, 184.20896607,\n",
              "       121.33811225, 130.75616703, 148.91539588, 162.7423684 ,\n",
              "       172.1024625 , 150.44679855, 197.01415437, 160.53735907,\n",
              "       182.75219892, 148.7073693 , 136.23214488, 170.58048925,\n",
              "       116.52005563, 155.68525907, 155.95757971, 173.49184053,\n",
              "       180.35781777, 172.13943416, 196.32688422, 160.5536485 ,\n",
              "       141.59858233, 174.01807596, 178.68205531, 182.20682857,\n",
              "       174.21413489, 132.7416187 , 125.19326672, 174.14846088,\n",
              "       194.5273412 , 160.498654  , 175.32750728, 151.38321816,\n",
              "       176.0349128 , 127.11333914, 142.23912669, 209.19333223,\n",
              "       139.93339386, 111.41753993, 190.20066111, 143.63217648,\n",
              "       182.96363666, 156.42883542, 128.41717373, 176.34314173,\n",
              "       135.5175789 , 186.37058228, 183.35878861, 159.04679489,\n",
              "       127.87722412, 148.66791302, 120.07239249, 163.89161096,\n",
              "       163.63093187, 149.09575668, 147.30730159, 135.32893214,\n",
              "       127.21572732, 155.02528069, 156.21099737, 171.71659104,\n",
              "       163.34119412, 139.28874341, 165.03473514, 168.21767812,\n",
              "       167.17867141, 178.17373092, 171.56003889, 187.30132645,\n",
              "       171.54892056, 180.57543076, 196.90203526, 132.79100939,\n",
              "       210.00611057, 152.21503602, 148.63053429, 151.54257264,\n",
              "       180.15701032, 212.135528  , 154.83111415, 111.49597108,\n",
              "       156.30532377, 186.64750799, 167.1929327 , 202.72347526,\n",
              "       193.04147166, 172.70486559, 139.0749494 , 176.70859797,\n",
              "       193.68985113, 107.21744673, 119.65875602, 178.13231881,\n",
              "       194.0585376 , 188.75640846, 141.0767087 , 142.4146821 ,\n",
              "       148.74165585, 143.70632935, 129.3307602 , 196.76504216,\n",
              "       173.2699569 , 153.56044238, 213.41818328, 147.51994529,\n",
              "       133.84481649, 115.78637087, 154.11364363, 135.75648576,\n",
              "       148.85042634, 152.27729179, 157.19671416, 110.62300504,\n",
              "       145.5858718 , 180.65917369, 183.14268289, 192.59909703,\n",
              "       163.86473303, 131.8480263 , 209.68208899, 172.01436133,\n",
              "       153.18491402, 156.47128802, 181.6407831 , 179.81324912,\n",
              "       194.9415086 , 119.29138274, 137.26331346, 129.50508364,\n",
              "       166.41536323, 211.37858001, 123.58656524, 126.7588576 ,\n",
              "       120.82258579, 141.64557441, 130.55132227, 163.7441313 ,\n",
              "       166.84840025, 133.60288336, 187.28520279, 220.11177744,\n",
              "       166.8619251 , 142.8497837 , 162.11487721, 198.51729609,\n",
              "       161.80080993, 178.99258568, 126.11925899, 142.59066026,\n",
              "       203.44404737, 175.9294845 , 149.16948388, 159.72761058,\n",
              "       185.15232896, 148.16111264, 149.02925135, 138.11959391,\n",
              "       136.6062557 , 200.62188318, 134.41429902, 121.87615522,\n",
              "       185.95124018, 182.74327649, 180.81878413, 127.45226522,\n",
              "       139.69079112, 194.43233742, 193.66214698, 219.17971524,\n",
              "       118.09341822, 161.10871425, 169.86581652, 177.95159229,\n",
              "       208.35529639, 173.52583074, 147.97209149, 106.9110383 ,\n",
              "       127.92374621, 217.24553092, 169.58447085, 187.48665145,\n",
              "       159.40147346, 196.9529411 , 155.52975907, 189.04342675,\n",
              "       174.69381997, 170.60228656, 160.08297646, 210.74905988,\n",
              "       184.64132426, 169.69108365, 117.04505188, 136.82390669,\n",
              "       121.77782546, 160.34824795, 126.63976063, 172.06751375,\n",
              "       168.19167692, 167.68241529, 131.7013877 , 142.59384457,\n",
              "       218.50431627, 170.76523673, 189.74279207, 100.09614923,\n",
              "       150.45049912, 177.46316669, 182.30280873, 192.04306403,\n",
              "       241.28575347, 197.62551359, 222.08345858, 147.52764525,\n",
              "       129.50874172, 190.63233509, 179.68232449, 118.78497649,\n",
              "       172.4634041 , 161.55376013, 156.41064665, 158.40206346,\n",
              "       150.96787248, 196.90702523, 178.72593413, 158.08049715,\n",
              "       167.78161485, 128.61889752, 178.90122875, 196.31652015,\n",
              "       177.2802402 , 215.407007  , 208.25389652, 198.16673471,\n",
              "       181.975418  , 172.98596797, 170.14864983, 184.42752914,\n",
              "       168.95476419, 118.76360322, 152.55706524, 146.7950955 ,\n",
              "       149.88104972, 141.41670579, 129.05502482, 187.71919118,\n",
              "       136.93306574, 156.70229352, 165.73503947, 181.28560788,\n",
              "       162.73747952, 207.59039327, 206.44043061, 106.57637182,\n",
              "       193.51413398, 142.81369693, 135.15833506, 202.02643751,\n",
              "       210.28891767, 129.26262061, 140.86273628, 197.77341809,\n",
              "       183.99056687, 201.69401976, 109.37287485, 139.67671604,\n",
              "       152.89674038, 169.73443636, 154.16676154, 143.92894051,\n",
              "       126.88715592, 142.37196209, 201.75421688, 170.02814031,\n",
              "       160.54530083, 203.21091521, 160.35710177, 190.30671841,\n",
              "       144.99981834, 181.87620237, 193.87111604, 154.3264737 ,\n",
              "       170.49396174, 190.24257503, 156.46773658, 200.77959726,\n",
              "       125.89220863, 122.51454416, 216.51433271, 160.02655185,\n",
              "       146.26665012, 135.99310072, 122.09966619, 168.57892329,\n",
              "       219.68573973, 126.97322673, 167.27526292, 148.78512859,\n",
              "       173.37439591, 161.22250993, 137.11891298, 178.94199964,\n",
              "       210.44753714, 161.85910545, 204.47275804, 159.91998842,\n",
              "       189.86968863, 183.76204834, 128.98470219, 182.37433499,\n",
              "       173.0084996 , 127.27868696, 178.69274012, 133.11292861,\n",
              "       180.95694039, 144.29917323, 201.67526839, 190.04761213,\n",
              "       204.82964372, 177.07876391, 169.27453109, 122.35195376,\n",
              "       138.43572828, 215.99013045, 148.87206741, 145.93273959,\n",
              "       190.39355751, 201.60102415, 174.92354997, 139.27964392,\n",
              "       141.92539949, 157.51061319, 180.92646308, 138.44616738,\n",
              "       188.81827496, 124.77358699, 186.06128712, 155.43905631,\n",
              "       196.81468798, 148.85594458, 142.55985474, 168.31720229,\n",
              "       156.59477523, 195.91814703, 164.49757522, 142.67503388,\n",
              "       159.87273689, 151.11863602, 152.33973221, 138.02010338,\n",
              "       157.02664588, 212.58748166, 167.8002091 , 149.55572578,\n",
              "       189.44814143, 215.91720805, 182.97483459, 141.53389842,\n",
              "       154.40184169, 217.34262368, 137.78500844, 186.63955089,\n",
              "       213.90622736, 140.90362713, 145.99609098, 128.42350319,\n",
              "       170.06772834, 159.42817277, 201.69958037, 148.88550081,\n",
              "       199.07145084, 162.94012867, 110.41012415, 144.94973008,\n",
              "       207.52409736, 150.06861998, 137.32598799, 116.72420746,\n",
              "       148.54122617, 154.70731674, 117.30413203, 186.46943238,\n",
              "       157.9401009 , 163.41202   , 114.59927039, 224.38384536,\n",
              "       203.58759313, 149.27734651, 204.44254297, 184.59545781,\n",
              "       121.53625233, 183.01223455, 145.18732102, 160.26486394,\n",
              "       167.64392414, 185.68910115, 206.44243321, 182.17738001,\n",
              "       152.30849815, 170.29894884, 123.74956008, 203.10716412,\n",
              "       149.07645364, 168.78591817, 175.42099768, 108.83469606,\n",
              "       133.14291154, 174.07737698, 166.48479261, 181.70271997,\n",
              "       197.91347488, 132.96095447, 191.1336852 , 172.86178612,\n",
              "       180.78126531, 176.99898917, 152.9082475 , 148.10231917,\n",
              "       113.41845133, 149.78377587, 173.13861246, 146.83864352,\n",
              "       169.66931391, 130.76224588, 155.92378177, 142.3877682 ,\n",
              "       214.89020261, 148.97623133, 139.65986684, 179.59473635,\n",
              "       164.75632504, 153.30510329, 112.15187218, 157.11188132,\n",
              "       173.83484053, 170.44767211, 195.62311097, 157.84942886,\n",
              "       147.91927306, 156.89685913, 203.84876824, 154.22446285,\n",
              "       132.5334201 , 119.56748542, 109.51993265, 117.54308856,\n",
              "       172.35078864, 158.42502127, 205.88199078, 104.54782586,\n",
              "       120.98673777, 171.52739115, 111.23747827, 171.16848772,\n",
              "       164.87253387, 208.24144733, 159.15721546, 164.32411617,\n",
              "       124.81068601, 160.54108082, 188.40391241, 149.02838622,\n",
              "       131.98857311, 157.66607857, 153.94742589, 139.02072331,\n",
              "       147.39672412, 167.98976384, 169.86527138, 132.69069055,\n",
              "       145.24331822, 123.87459631, 132.31125983, 203.82010573,\n",
              "       192.14645233, 123.38057909, 185.84213749, 185.04533922,\n",
              "       145.46130008, 181.5807322 , 190.95050401, 134.27653511,\n",
              "       173.30398954, 166.89429479, 141.36041268, 180.81918618,\n",
              "       200.65235212, 157.03906063, 132.36445498, 181.36388445,\n",
              "       142.38377905, 159.03120805, 181.79319744, 145.71961106,\n",
              "       139.73655536, 158.70231206, 181.40724151, 156.01973735,\n",
              "       183.77546571, 216.18495659, 115.62256852, 149.57358128,\n",
              "       180.59378102, 177.19719264, 192.83830008, 147.69524845,\n",
              "       169.06215266, 159.82912126, 175.81064839, 219.32545174,\n",
              "       196.49657332, 145.59925181, 195.50957977, 169.7453953 ,\n",
              "       177.71717169, 135.4888536 , 137.34615445, 173.24355388,\n",
              "       123.56688128, 139.31861974, 133.81971846, 183.6885698 ,\n",
              "       161.42747217, 156.85940155, 178.91945961, 146.30011115,\n",
              "       147.86816096, 189.35349006, 166.03756423, 132.25967982,\n",
              "       200.36744028, 227.90482516, 199.95531439, 112.45627846,\n",
              "       194.66997686, 142.78027801, 120.56896447, 183.8522904 ,\n",
              "       154.88093998, 169.35313438, 183.38923777, 156.09737248,\n",
              "       147.25790215, 163.5645321 , 179.15448302, 128.91437214,\n",
              "       173.58502489, 151.4261442 , 139.8389054 , 233.90073111,\n",
              "       200.43529482, 162.09590026, 170.57412381, 193.19290268,\n",
              "       196.8053011 , 181.54691241, 151.22793485, 161.95755872,\n",
              "       128.0506068 , 124.70660064, 130.61058124, 130.10694973,\n",
              "       128.59589492, 131.80759981, 116.68554945, 191.70227976,\n",
              "       152.01316362, 183.05677619, 171.71991211, 163.9926277 ,\n",
              "       199.66223941, 142.93906896, 150.1221892 , 153.87587793,\n",
              "       168.1149454 , 190.04992748, 175.12408588, 179.44870619,\n",
              "       165.09137497, 122.32476105, 178.21433946, 154.7117809 ,\n",
              "       146.46899228, 127.60341612, 183.38302929, 129.3876779 ,\n",
              "       182.16852489, 234.44911293, 129.82667077, 154.43612419,\n",
              "       139.10396091, 109.37872101, 136.12959014, 140.98707515,\n",
              "       122.68914946, 139.58802464, 110.78541702, 154.42310928,\n",
              "       198.45427243, 200.0246796 , 158.42138581, 124.21800966,\n",
              "       207.6698674 , 161.19412375, 166.04811239, 144.84392563,\n",
              "       218.5049766 , 159.83636759, 136.82607399, 189.74450311,\n",
              "       203.81038344, 196.5921875 , 153.13650752, 173.82457685,\n",
              "       145.74389206, 195.36458505, 123.0875188 , 150.29291676,\n",
              "       127.5828925 , 182.38112614, 191.53001886, 130.21419037,\n",
              "       211.87209054, 223.47442994, 133.73402161, 215.75928894,\n",
              "       161.69402722, 157.18633665, 166.28451255, 139.72570289,\n",
              "       201.58732167, 152.89633655, 192.67426472, 151.7620856 ,\n",
              "       138.90290153, 138.84415573, 158.42446798, 137.95755346,\n",
              "       157.64378512, 176.17536646, 154.05629208, 194.727779  ,\n",
              "       100.44942903, 202.61915486, 108.25179281, 204.93692519,\n",
              "       163.5408586 , 186.32712697, 199.15404476, 157.53691186,\n",
              "       154.04247914, 171.86682779, 128.62607374, 203.36321412,\n",
              "       129.74466174, 104.89751875, 173.17387676, 194.68238331,\n",
              "       125.43175679, 153.62756837, 218.49233263, 147.50114615,\n",
              "       151.29207276, 133.87625189, 165.83467077, 146.88958846,\n",
              "       147.19060422,  94.30441994, 202.8506739 , 162.30559516,\n",
              "       110.42918212, 168.65126378, 219.18367312, 114.60234645,\n",
              "       114.60254822, 163.43415385, 211.04252859, 166.17591519,\n",
              "       116.80272622, 182.68387363, 163.8919644 , 152.51279491,\n",
              "       125.69711999, 171.1291007 , 158.29482555, 139.84715847,\n",
              "       177.34606633, 152.14269501, 174.20241861, 171.1306568 ,\n",
              "       182.74944621, 145.25936565, 127.3069961 , 170.34622944,\n",
              "       118.03294954, 201.8968547 , 154.30233839, 155.24617674,\n",
              "       182.17351078, 159.96198636, 173.53235911, 176.19174436])"
            ]
          },
          "metadata": {},
          "execution_count": 32
        }
      ]
    },
    {
      "cell_type": "code",
      "source": [
        "newdf = pd.DataFrame({\"Value of X\": X_test.flatten(),\n",
        "                      \"Actual Value\": y_test,\n",
        "                      \"Predicted Value\": y_pred.flatten()})"
      ],
      "metadata": {
        "id": "uT_H0Vcyk0GN"
      },
      "execution_count": 33,
      "outputs": []
    },
    {
      "cell_type": "code",
      "source": [
        "newdf.head()"
      ],
      "metadata": {
        "colab": {
          "base_uri": "https://localhost:8080/",
          "height": 206
        },
        "id": "DSzqbI66k0Jb",
        "outputId": "651f6e1d-25c8-40b8-fc00-70f703287071"
      },
      "execution_count": 34,
      "outputs": [
        {
          "output_type": "execute_result",
          "data": {
            "text/plain": [
              "      Value of X  Actual Value  Predicted Value\n",
              "9218   64.637502    156.913240       148.065903\n",
              "9413   63.766237    133.780636       141.338189\n",
              "6694   62.252717    122.580065       129.651129\n",
              "5359   62.455719    138.360765       131.218665\n",
              "8183   62.621978    106.001349       132.502475"
            ],
            "text/html": [
              "\n",
              "  <div id=\"df-f0788b0b-9d8a-48d2-a598-d1ac1b62bf05\">\n",
              "    <div class=\"colab-df-container\">\n",
              "      <div>\n",
              "<style scoped>\n",
              "    .dataframe tbody tr th:only-of-type {\n",
              "        vertical-align: middle;\n",
              "    }\n",
              "\n",
              "    .dataframe tbody tr th {\n",
              "        vertical-align: top;\n",
              "    }\n",
              "\n",
              "    .dataframe thead th {\n",
              "        text-align: right;\n",
              "    }\n",
              "</style>\n",
              "<table border=\"1\" class=\"dataframe\">\n",
              "  <thead>\n",
              "    <tr style=\"text-align: right;\">\n",
              "      <th></th>\n",
              "      <th>Value of X</th>\n",
              "      <th>Actual Value</th>\n",
              "      <th>Predicted Value</th>\n",
              "    </tr>\n",
              "  </thead>\n",
              "  <tbody>\n",
              "    <tr>\n",
              "      <th>9218</th>\n",
              "      <td>64.637502</td>\n",
              "      <td>156.913240</td>\n",
              "      <td>148.065903</td>\n",
              "    </tr>\n",
              "    <tr>\n",
              "      <th>9413</th>\n",
              "      <td>63.766237</td>\n",
              "      <td>133.780636</td>\n",
              "      <td>141.338189</td>\n",
              "    </tr>\n",
              "    <tr>\n",
              "      <th>6694</th>\n",
              "      <td>62.252717</td>\n",
              "      <td>122.580065</td>\n",
              "      <td>129.651129</td>\n",
              "    </tr>\n",
              "    <tr>\n",
              "      <th>5359</th>\n",
              "      <td>62.455719</td>\n",
              "      <td>138.360765</td>\n",
              "      <td>131.218665</td>\n",
              "    </tr>\n",
              "    <tr>\n",
              "      <th>8183</th>\n",
              "      <td>62.621978</td>\n",
              "      <td>106.001349</td>\n",
              "      <td>132.502475</td>\n",
              "    </tr>\n",
              "  </tbody>\n",
              "</table>\n",
              "</div>\n",
              "      <button class=\"colab-df-convert\" onclick=\"convertToInteractive('df-f0788b0b-9d8a-48d2-a598-d1ac1b62bf05')\"\n",
              "              title=\"Convert this dataframe to an interactive table.\"\n",
              "              style=\"display:none;\">\n",
              "        \n",
              "  <svg xmlns=\"http://www.w3.org/2000/svg\" height=\"24px\"viewBox=\"0 0 24 24\"\n",
              "       width=\"24px\">\n",
              "    <path d=\"M0 0h24v24H0V0z\" fill=\"none\"/>\n",
              "    <path d=\"M18.56 5.44l.94 2.06.94-2.06 2.06-.94-2.06-.94-.94-2.06-.94 2.06-2.06.94zm-11 1L8.5 8.5l.94-2.06 2.06-.94-2.06-.94L8.5 2.5l-.94 2.06-2.06.94zm10 10l.94 2.06.94-2.06 2.06-.94-2.06-.94-.94-2.06-.94 2.06-2.06.94z\"/><path d=\"M17.41 7.96l-1.37-1.37c-.4-.4-.92-.59-1.43-.59-.52 0-1.04.2-1.43.59L10.3 9.45l-7.72 7.72c-.78.78-.78 2.05 0 2.83L4 21.41c.39.39.9.59 1.41.59.51 0 1.02-.2 1.41-.59l7.78-7.78 2.81-2.81c.8-.78.8-2.07 0-2.86zM5.41 20L4 18.59l7.72-7.72 1.47 1.35L5.41 20z\"/>\n",
              "  </svg>\n",
              "      </button>\n",
              "      \n",
              "  <style>\n",
              "    .colab-df-container {\n",
              "      display:flex;\n",
              "      flex-wrap:wrap;\n",
              "      gap: 12px;\n",
              "    }\n",
              "\n",
              "    .colab-df-convert {\n",
              "      background-color: #E8F0FE;\n",
              "      border: none;\n",
              "      border-radius: 50%;\n",
              "      cursor: pointer;\n",
              "      display: none;\n",
              "      fill: #1967D2;\n",
              "      height: 32px;\n",
              "      padding: 0 0 0 0;\n",
              "      width: 32px;\n",
              "    }\n",
              "\n",
              "    .colab-df-convert:hover {\n",
              "      background-color: #E2EBFA;\n",
              "      box-shadow: 0px 1px 2px rgba(60, 64, 67, 0.3), 0px 1px 3px 1px rgba(60, 64, 67, 0.15);\n",
              "      fill: #174EA6;\n",
              "    }\n",
              "\n",
              "    [theme=dark] .colab-df-convert {\n",
              "      background-color: #3B4455;\n",
              "      fill: #D2E3FC;\n",
              "    }\n",
              "\n",
              "    [theme=dark] .colab-df-convert:hover {\n",
              "      background-color: #434B5C;\n",
              "      box-shadow: 0px 1px 3px 1px rgba(0, 0, 0, 0.15);\n",
              "      filter: drop-shadow(0px 1px 2px rgba(0, 0, 0, 0.3));\n",
              "      fill: #FFFFFF;\n",
              "    }\n",
              "  </style>\n",
              "\n",
              "      <script>\n",
              "        const buttonEl =\n",
              "          document.querySelector('#df-f0788b0b-9d8a-48d2-a598-d1ac1b62bf05 button.colab-df-convert');\n",
              "        buttonEl.style.display =\n",
              "          google.colab.kernel.accessAllowed ? 'block' : 'none';\n",
              "\n",
              "        async function convertToInteractive(key) {\n",
              "          const element = document.querySelector('#df-f0788b0b-9d8a-48d2-a598-d1ac1b62bf05');\n",
              "          const dataTable =\n",
              "            await google.colab.kernel.invokeFunction('convertToInteractive',\n",
              "                                                     [key], {});\n",
              "          if (!dataTable) return;\n",
              "\n",
              "          const docLinkHtml = 'Like what you see? Visit the ' +\n",
              "            '<a target=\"_blank\" href=https://colab.research.google.com/notebooks/data_table.ipynb>data table notebook</a>'\n",
              "            + ' to learn more about interactive tables.';\n",
              "          element.innerHTML = '';\n",
              "          dataTable['output_type'] = 'display_data';\n",
              "          await google.colab.output.renderOutput(dataTable, element);\n",
              "          const docLink = document.createElement('div');\n",
              "          docLink.innerHTML = docLinkHtml;\n",
              "          element.appendChild(docLink);\n",
              "        }\n",
              "      </script>\n",
              "    </div>\n",
              "  </div>\n",
              "  "
            ]
          },
          "metadata": {},
          "execution_count": 34
        }
      ]
    },
    {
      "cell_type": "code",
      "source": [
        "plt.scatter(newdf['Actual Value'], newdf['Predicted Value'])"
      ],
      "metadata": {
        "colab": {
          "base_uri": "https://localhost:8080/",
          "height": 447
        },
        "id": "Qd7dB0vDk0Mw",
        "outputId": "be6b09cb-52df-4adb-d2e0-2e0379349b42"
      },
      "execution_count": 35,
      "outputs": [
        {
          "output_type": "execute_result",
          "data": {
            "text/plain": [
              "<matplotlib.collections.PathCollection at 0x7f28fd911c60>"
            ]
          },
          "metadata": {},
          "execution_count": 35
        },
        {
          "output_type": "display_data",
          "data": {
            "text/plain": [
              "<Figure size 640x480 with 1 Axes>"
            ],
            "image/png": "[encoded data removed]"
          },
          "metadata": {}
        }
      ]
    },
    {
      "cell_type": "code",
      "source": [
        "newdf[['Actual Value', 'Predicted Value']].corr()"
      ],
      "metadata": {
        "colab": {
          "base_uri": "https://localhost:8080/",
          "height": 112
        },
        "id": "FzpOTSAFk0QT",
        "outputId": "ca67d23b-1ab6-4385-b029-7f26308def40"
      },
      "execution_count": 36,
      "outputs": [
        {
          "output_type": "execute_result",
          "data": {
            "text/plain": [
              "                 Actual Value  Predicted Value\n",
              "Actual Value         1.000000         0.916989\n",
              "Predicted Value      0.916989         1.000000"
            ],
            "text/html": [
              "\n",
              "  <div id=\"df-4032d37a-edc0-4b1d-9b0b-97d62566a83c\">\n",
              "    <div class=\"colab-df-container\">\n",
              "      <div>\n",
              "<style scoped>\n",
              "    .dataframe tbody tr th:only-of-type {\n",
              "        vertical-align: middle;\n",
              "    }\n",
              "\n",
              "    .dataframe tbody tr th {\n",
              "        vertical-align: top;\n",
              "    }\n",
              "\n",
              "    .dataframe thead th {\n",
              "        text-align: right;\n",
              "    }\n",
              "</style>\n",
              "<table border=\"1\" class=\"dataframe\">\n",
              "  <thead>\n",
              "    <tr style=\"text-align: right;\">\n",
              "      <th></th>\n",
              "      <th>Actual Value</th>\n",
              "      <th>Predicted Value</th>\n",
              "    </tr>\n",
              "  </thead>\n",
              "  <tbody>\n",
              "    <tr>\n",
              "      <th>Actual Value</th>\n",
              "      <td>1.000000</td>\n",
              "      <td>0.916989</td>\n",
              "    </tr>\n",
              "    <tr>\n",
              "      <th>Predicted Value</th>\n",
              "      <td>0.916989</td>\n",
              "      <td>1.000000</td>\n",
              "    </tr>\n",
              "  </tbody>\n",
              "</table>\n",
              "</div>\n",
              "      <button class=\"colab-df-convert\" onclick=\"convertToInteractive('df-4032d37a-edc0-4b1d-9b0b-97d62566a83c')\"\n",
              "              title=\"Convert this dataframe to an interactive table.\"\n",
              "              style=\"display:none;\">\n",
              "        \n",
              "  <svg xmlns=\"http://www.w3.org/2000/svg\" height=\"24px\"viewBox=\"0 0 24 24\"\n",
              "       width=\"24px\">\n",
              "    <path d=\"M0 0h24v24H0V0z\" fill=\"none\"/>\n",
              "    <path d=\"M18.56 5.44l.94 2.06.94-2.06 2.06-.94-2.06-.94-.94-2.06-.94 2.06-2.06.94zm-11 1L8.5 8.5l.94-2.06 2.06-.94-2.06-.94L8.5 2.5l-.94 2.06-2.06.94zm10 10l.94 2.06.94-2.06 2.06-.94-2.06-.94-.94-2.06-.94 2.06-2.06.94z\"/><path d=\"M17.41 7.96l-1.37-1.37c-.4-.4-.92-.59-1.43-.59-.52 0-1.04.2-1.43.59L10.3 9.45l-7.72 7.72c-.78.78-.78 2.05 0 2.83L4 21.41c.39.39.9.59 1.41.59.51 0 1.02-.2 1.41-.59l7.78-7.78 2.81-2.81c.8-.78.8-2.07 0-2.86zM5.41 20L4 18.59l7.72-7.72 1.47 1.35L5.41 20z\"/>\n",
              "  </svg>\n",
              "      </button>\n",
              "      \n",
              "  <style>\n",
              "    .colab-df-container {\n",
              "      display:flex;\n",
              "      flex-wrap:wrap;\n",
              "      gap: 12px;\n",
              "    }\n",
              "\n",
              "    .colab-df-convert {\n",
              "      background-color: #E8F0FE;\n",
              "      border: none;\n",
              "      border-radius: 50%;\n",
              "      cursor: pointer;\n",
              "      display: none;\n",
              "      fill: #1967D2;\n",
              "      height: 32px;\n",
              "      padding: 0 0 0 0;\n",
              "      width: 32px;\n",
              "    }\n",
              "\n",
              "    .colab-df-convert:hover {\n",
              "      background-color: #E2EBFA;\n",
              "      box-shadow: 0px 1px 2px rgba(60, 64, 67, 0.3), 0px 1px 3px 1px rgba(60, 64, 67, 0.15);\n",
              "      fill: #174EA6;\n",
              "    }\n",
              "\n",
              "    [theme=dark] .colab-df-convert {\n",
              "      background-color: #3B4455;\n",
              "      fill: #D2E3FC;\n",
              "    }\n",
              "\n",
              "    [theme=dark] .colab-df-convert:hover {\n",
              "      background-color: #434B5C;\n",
              "      box-shadow: 0px 1px 3px 1px rgba(0, 0, 0, 0.15);\n",
              "      filter: drop-shadow(0px 1px 2px rgba(0, 0, 0, 0.3));\n",
              "      fill: #FFFFFF;\n",
              "    }\n",
              "  </style>\n",
              "\n",
              "      <script>\n",
              "        const buttonEl =\n",
              "          document.querySelector('#df-4032d37a-edc0-4b1d-9b0b-97d62566a83c button.colab-df-convert');\n",
              "        buttonEl.style.display =\n",
              "          google.colab.kernel.accessAllowed ? 'block' : 'none';\n",
              "\n",
              "        async function convertToInteractive(key) {\n",
              "          const element = document.querySelector('#df-4032d37a-edc0-4b1d-9b0b-97d62566a83c');\n",
              "          const dataTable =\n",
              "            await google.colab.kernel.invokeFunction('convertToInteractive',\n",
              "                                                     [key], {});\n",
              "          if (!dataTable) return;\n",
              "\n",
              "          const docLinkHtml = 'Like what you see? Visit the ' +\n",
              "            '<a target=\"_blank\" href=https://colab.research.google.com/notebooks/data_table.ipynb>data table notebook</a>'\n",
              "            + ' to learn more about interactive tables.';\n",
              "          element.innerHTML = '';\n",
              "          dataTable['output_type'] = 'display_data';\n",
              "          await google.colab.output.renderOutput(dataTable, element);\n",
              "          const docLink = document.createElement('div');\n",
              "          docLink.innerHTML = docLinkHtml;\n",
              "          element.appendChild(docLink);\n",
              "        }\n",
              "      </script>\n",
              "    </div>\n",
              "  </div>\n",
              "  "
            ]
          },
          "metadata": {},
          "execution_count": 36
        }
      ]
    },
    {
      "cell_type": "code",
      "source": [
        "model.coef_"
      ],
      "metadata": {
        "colab": {
          "base_uri": "https://localhost:8080/"
        },
        "id": "yyfDdfpxk0TN",
        "outputId": "7e1a3a7c-fe10-4225-c1b1-91124dc38a58"
      },
      "execution_count": 37,
      "outputs": [
        {
          "output_type": "execute_result",
          "data": {
            "text/plain": [
              "array([7.72177605])"
            ]
          },
          "metadata": {},
          "execution_count": 37
        }
      ]
    },
    {
      "cell_type": "code",
      "source": [
        "\"\"\"\n",
        "y = mx + c\n",
        "y = 7.71932945*x -350.87940124033184\n",
        "\"\"\""
      ],
      "metadata": {
        "id": "-gNMFUxpk0WH",
        "outputId": "acd718a6-c6ba-41c3-9a47-92905a8296fe",
        "colab": {
          "base_uri": "https://localhost:8080/",
          "height": 35
        }
      },
      "execution_count": 39,
      "outputs": [
        {
          "output_type": "execute_result",
          "data": {
            "text/plain": [
              "'\\ny = mx + c\\ny = 7.71932945*x -350.87940124033184\\n'"
            ],
            "application/vnd.google.colaboratory.intrinsic+json": {
              "type": "string"
            }
          },
          "metadata": {},
          "execution_count": 39
        }
      ]
    },
    {
      "cell_type": "code",
      "source": [
        "model.intercept_"
      ],
      "metadata": {
        "colab": {
          "base_uri": "https://localhost:8080/"
        },
        "id": "BS1PDiCAk0Zb",
        "outputId": "cf7c9c1d-d723-48c5-fde7-69e0a65872ed"
      },
      "execution_count": 40,
      "outputs": [
        {
          "output_type": "execute_result",
          "data": {
            "text/plain": [
              "-351.05041192257124"
            ]
          },
          "metadata": {},
          "execution_count": 40
        }
      ]
    },
    {
      "cell_type": "code",
      "source": [
        "x = 45\n",
        "7.71932945*x -350.87940124033184"
      ],
      "metadata": {
        "colab": {
          "base_uri": "https://localhost:8080/"
        },
        "id": "urIPoaNmk0b1",
        "outputId": "1b30a085-2fde-47dd-b489-784226abcd45"
      },
      "execution_count": 41,
      "outputs": [
        {
          "output_type": "execute_result",
          "data": {
            "text/plain": [
              "-3.5095759903318253"
            ]
          },
          "metadata": {},
          "execution_count": 41
        }
      ]
    },
    {
      "cell_type": "code",
      "source": [
        "(7.71932945*x) -350.87940124033184"
      ],
      "metadata": {
        "colab": {
          "base_uri": "https://localhost:8080/"
        },
        "id": "YmLh-I1q8Osh",
        "outputId": "1f6539be-4e71-43f8-8a8d-1dbd1a526acd"
      },
      "execution_count": 42,
      "outputs": [
        {
          "output_type": "execute_result",
          "data": {
            "text/plain": [
              "-3.5095759903318253"
            ]
          },
          "metadata": {},
          "execution_count": 42
        }
      ]
    },
    {
      "cell_type": "code",
      "source": [
        "68"
      ],
      "metadata": {
        "id": "mf_-8fPj9Gph",
        "outputId": "c504783c-e617-49f5-fc96-7440d394a624",
        "colab": {
          "base_uri": "https://localhost:8080/"
        }
      },
      "execution_count": 43,
      "outputs": [
        {
          "output_type": "execute_result",
          "data": {
            "text/plain": [
              "68"
            ]
          },
          "metadata": {},
          "execution_count": 43
        }
      ]
    },
    {
      "cell_type": "code",
      "source": [
        "df.Height.describe()"
      ],
      "metadata": {
        "colab": {
          "base_uri": "https://localhost:8080/"
        },
        "id": "tx7EhnBD8awJ",
        "outputId": "1fe0cb73-fba4-4e71-8ac2-a2d2e87d0ea9"
      },
      "execution_count": 44,
      "outputs": [
        {
          "output_type": "execute_result",
          "data": {
            "text/plain": [
              "count    10000.000000\n",
              "mean        66.367560\n",
              "std          3.847528\n",
              "min         54.263133\n",
              "25%         63.505620\n",
              "50%         66.318070\n",
              "75%         69.174262\n",
              "max         78.998742\n",
              "Name: Height, dtype: float64"
            ]
          },
          "metadata": {},
          "execution_count": 44
        }
      ]
    },
    {
      "cell_type": "code",
      "source": [
        "df.Height"
      ],
      "metadata": {
        "colab": {
          "base_uri": "https://localhost:8080/"
        },
        "id": "UaEdShgIk0h5",
        "outputId": "b1d82b65-e7ab-453b-9eaa-bc68eca793a6"
      },
      "execution_count": 45,
      "outputs": [
        {
          "output_type": "execute_result",
          "data": {
            "text/plain": [
              "0       73.847017\n",
              "1       68.781904\n",
              "2       74.110105\n",
              "3       71.730978\n",
              "4       69.881796\n",
              "          ...    \n",
              "9995    66.172652\n",
              "9996    67.067155\n",
              "9997    63.867992\n",
              "9998    69.034243\n",
              "9999    61.944246\n",
              "Name: Height, Length: 10000, dtype: float64"
            ]
          },
          "metadata": {},
          "execution_count": 45
        }
      ]
    },
    {
      "cell_type": "code",
      "source": [
        "r2_score(y_test, y_pred)"
      ],
      "metadata": {
        "colab": {
          "base_uri": "https://localhost:8080/"
        },
        "id": "Qnr0yYDpk0mP",
        "outputId": "3adbcf06-5464-472a-d424-553fc6399393"
      },
      "execution_count": 46,
      "outputs": [
        {
          "output_type": "execute_result",
          "data": {
            "text/plain": [
              "0.8408047842922395"
            ]
          },
          "metadata": {},
          "execution_count": 46
        }
      ]
    },
    {
      "cell_type": "code",
      "source": [],
      "metadata": {
        "id": "LEcQUVUd_4vJ"
      },
      "execution_count": null,
      "outputs": []
    }
  ]
}