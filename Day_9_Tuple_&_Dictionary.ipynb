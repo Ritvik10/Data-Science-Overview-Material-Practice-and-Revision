{
  "nbformat": 4,
  "nbformat_minor": 0,
  "metadata": {
    "colab": {
      "provenance": [],
      "toc_visible": true,
      "include_colab_link": true
    },
    "kernelspec": {
      "name": "python3",
      "display_name": "Python 3"
    },
    "language_info": {
      "name": "python"
    }
  },
  "cells": [
    {
      "cell_type": "markdown",
      "metadata": {
        "id": "view-in-github",
        "colab_type": "text"
      },
      "source": [
        "<a href=\"https://colab.research.google.com/github/Ritvik10/Data-Science-Overview-Material-Practice-and-Revision/blob/main/Day_9_Tuple_%26_Dictionary.ipynb\" target=\"_parent\"><img src=\"https://colab.research.google.com/assets/colab-badge.svg\" alt=\"Open In Colab\"/></a>"
      ]
    },
    {
      "cell_type": "code",
      "source": [
        "var = [[1,2],[3,4],[5,6]]\n",
        "for i in var:\n",
        "  i[1]= \"Hello\""
      ],
      "metadata": {
        "id": "m5-y5M4v91mH"
      },
      "execution_count": 1,
      "outputs": []
    },
    {
      "cell_type": "code",
      "source": [
        "var"
      ],
      "metadata": {
        "colab": {
          "base_uri": "https://localhost:8080/"
        },
        "id": "Wqcmb-QV91rp",
        "outputId": "4f53a862-3293-4149-d237-da2afb944479"
      },
      "execution_count": 2,
      "outputs": [
        {
          "output_type": "execute_result",
          "data": {
            "text/plain": [
              "[[1, 'Hello'], [3, 'Hello'], [5, 'Hello']]"
            ]
          },
          "metadata": {},
          "execution_count": 2
        }
      ]
    },
    {
      "cell_type": "markdown",
      "source": [
        "# Tuple\n",
        "\n",
        "* Python's Data Structure\n",
        "* tuple -> (data(s))\n",
        "* Immutable (Unchangeable)\n",
        "* Allows Duplicacy\n",
        "* Ordered"
      ],
      "metadata": {
        "id": "bFHIt21bM5Fo"
      }
    },
    {
      "cell_type": "code",
      "source": [
        "# List Vs Tuple"
      ],
      "metadata": {
        "id": "pG3TvlG-91vr"
      },
      "execution_count": 3,
      "outputs": []
    },
    {
      "cell_type": "code",
      "source": [
        "lis = ['Mario', 'GTA', 'Road Rush', 'COD', 'PUBG', 'Among Us']\n",
        "tup = ('Mario', 'GTA', 'Road Rush', 'COD', 'PUBG', 'Among Us')"
      ],
      "metadata": {
        "id": "vJ3vMJ0x911J"
      },
      "execution_count": 4,
      "outputs": []
    },
    {
      "cell_type": "code",
      "source": [
        "print(type(lis), type(tup))"
      ],
      "metadata": {
        "colab": {
          "base_uri": "https://localhost:8080/"
        },
        "id": "UNMLGUSz914O",
        "outputId": "1b706c7b-6e5c-4d55-e6ef-f744fe25df1c"
      },
      "execution_count": 5,
      "outputs": [
        {
          "output_type": "stream",
          "name": "stdout",
          "text": [
            "<class 'list'> <class 'tuple'>\n"
          ]
        }
      ]
    },
    {
      "cell_type": "code",
      "source": [
        "tup"
      ],
      "metadata": {
        "colab": {
          "base_uri": "https://localhost:8080/"
        },
        "id": "FdaJ2MjT91-x",
        "outputId": "32e2906f-44bd-4fe0-f73d-459f5f839452"
      },
      "execution_count": 6,
      "outputs": [
        {
          "output_type": "execute_result",
          "data": {
            "text/plain": [
              "('Mario', 'GTA', 'Road Rush', 'COD', 'PUBG', 'Among Us')"
            ]
          },
          "metadata": {},
          "execution_count": 6
        }
      ]
    },
    {
      "cell_type": "code",
      "source": [
        "len(tup)"
      ],
      "metadata": {
        "colab": {
          "base_uri": "https://localhost:8080/"
        },
        "id": "qsoWiq1h92CH",
        "outputId": "d2dce94b-b977-44e7-9990-72d4113940a2"
      },
      "execution_count": 7,
      "outputs": [
        {
          "output_type": "execute_result",
          "data": {
            "text/plain": [
              "6"
            ]
          },
          "metadata": {},
          "execution_count": 7
        }
      ]
    },
    {
      "cell_type": "code",
      "source": [
        "var = ('A')"
      ],
      "metadata": {
        "id": "3FDDbeMG92P3"
      },
      "execution_count": 8,
      "outputs": []
    },
    {
      "cell_type": "code",
      "source": [
        "type(var)"
      ],
      "metadata": {
        "colab": {
          "base_uri": "https://localhost:8080/"
        },
        "id": "Ew8vrXD_92Sh",
        "outputId": "00fe0e69-df6d-4fb0-8fcc-15d4b5917b42"
      },
      "execution_count": 9,
      "outputs": [
        {
          "output_type": "execute_result",
          "data": {
            "text/plain": [
              "str"
            ]
          },
          "metadata": {},
          "execution_count": 9
        }
      ]
    },
    {
      "cell_type": "code",
      "source": [
        "# Create a tuple with one item\n",
        "var = ('A',)"
      ],
      "metadata": {
        "id": "11MEGXEU92Vp"
      },
      "execution_count": 10,
      "outputs": []
    },
    {
      "cell_type": "code",
      "source": [
        "type(var)"
      ],
      "metadata": {
        "colab": {
          "base_uri": "https://localhost:8080/"
        },
        "id": "_04s-sKm92bq",
        "outputId": "e81ec677-18f4-423e-b1a6-33a365d33f28"
      },
      "execution_count": 11,
      "outputs": [
        {
          "output_type": "execute_result",
          "data": {
            "text/plain": [
              "tuple"
            ]
          },
          "metadata": {},
          "execution_count": 11
        }
      ]
    },
    {
      "cell_type": "code",
      "source": [
        "var = ('A','B')"
      ],
      "metadata": {
        "id": "AQ9PeWCw92e6"
      },
      "execution_count": 12,
      "outputs": []
    },
    {
      "cell_type": "code",
      "source": [
        "type(var)"
      ],
      "metadata": {
        "colab": {
          "base_uri": "https://localhost:8080/"
        },
        "id": "43v5iRpo92nI",
        "outputId": "2754af7a-0f7f-45a7-f1ea-e3fae40e3ae5"
      },
      "execution_count": 13,
      "outputs": [
        {
          "output_type": "execute_result",
          "data": {
            "text/plain": [
              "tuple"
            ]
          },
          "metadata": {},
          "execution_count": 13
        }
      ]
    },
    {
      "cell_type": "code",
      "source": [
        "var1 = 1,2,3,4"
      ],
      "metadata": {
        "id": "Pbx9Y8I392pq"
      },
      "execution_count": 14,
      "outputs": []
    },
    {
      "cell_type": "code",
      "source": [
        "var1"
      ],
      "metadata": {
        "colab": {
          "base_uri": "https://localhost:8080/"
        },
        "id": "qK-HeWpH92rC",
        "outputId": "38d46874-d5ab-46be-a86d-5e6e0f34231a"
      },
      "execution_count": 15,
      "outputs": [
        {
          "output_type": "execute_result",
          "data": {
            "text/plain": [
              "(1, 2, 3, 4)"
            ]
          },
          "metadata": {},
          "execution_count": 15
        }
      ]
    },
    {
      "cell_type": "code",
      "source": [
        "type(var1)"
      ],
      "metadata": {
        "colab": {
          "base_uri": "https://localhost:8080/"
        },
        "id": "ajEVtleI92so",
        "outputId": "cd23a9f9-bd90-4961-fb73-448021753002"
      },
      "execution_count": 16,
      "outputs": [
        {
          "output_type": "execute_result",
          "data": {
            "text/plain": [
              "tuple"
            ]
          },
          "metadata": {},
          "execution_count": 16
        }
      ]
    },
    {
      "cell_type": "code",
      "source": [
        "tup"
      ],
      "metadata": {
        "colab": {
          "base_uri": "https://localhost:8080/"
        },
        "id": "xzK4MBER92t5",
        "outputId": "d8c8a84c-a0db-485b-dd54-36195b4530ff"
      },
      "execution_count": 17,
      "outputs": [
        {
          "output_type": "execute_result",
          "data": {
            "text/plain": [
              "('Mario', 'GTA', 'Road Rush', 'COD', 'PUBG', 'Among Us')"
            ]
          },
          "metadata": {},
          "execution_count": 17
        }
      ]
    },
    {
      "cell_type": "code",
      "source": [
        "tup[0]"
      ],
      "metadata": {
        "colab": {
          "base_uri": "https://localhost:8080/",
          "height": 35
        },
        "id": "5BLm_BRT92vo",
        "outputId": "8fd3ea16-241d-4a46-8ae5-5f5ff90f08f7"
      },
      "execution_count": 18,
      "outputs": [
        {
          "output_type": "execute_result",
          "data": {
            "text/plain": [
              "'Mario'"
            ],
            "application/vnd.google.colaboratory.intrinsic+json": {
              "type": "string"
            }
          },
          "metadata": {},
          "execution_count": 18
        }
      ]
    },
    {
      "cell_type": "code",
      "source": [
        "tup[-2]"
      ],
      "metadata": {
        "colab": {
          "base_uri": "https://localhost:8080/",
          "height": 35
        },
        "id": "Udyf7AU092xG",
        "outputId": "8a708cdb-ba66-4d87-9374-06910fece501"
      },
      "execution_count": 19,
      "outputs": [
        {
          "output_type": "execute_result",
          "data": {
            "text/plain": [
              "'PUBG'"
            ],
            "application/vnd.google.colaboratory.intrinsic+json": {
              "type": "string"
            }
          },
          "metadata": {},
          "execution_count": 19
        }
      ]
    },
    {
      "cell_type": "code",
      "source": [
        "tup[2:5]"
      ],
      "metadata": {
        "colab": {
          "base_uri": "https://localhost:8080/"
        },
        "id": "oOUHxCvW92yo",
        "outputId": "c4e46536-ac5f-41d4-db54-6c9cc8b7f807"
      },
      "execution_count": 20,
      "outputs": [
        {
          "output_type": "execute_result",
          "data": {
            "text/plain": [
              "('Road Rush', 'COD', 'PUBG')"
            ]
          },
          "metadata": {},
          "execution_count": 20
        }
      ]
    },
    {
      "cell_type": "code",
      "source": [
        "tup[:3]"
      ],
      "metadata": {
        "colab": {
          "base_uri": "https://localhost:8080/"
        },
        "id": "2upyoigw92z-",
        "outputId": "3b244dec-aba8-4d4c-fbc4-42e0dfad0766"
      },
      "execution_count": 21,
      "outputs": [
        {
          "output_type": "execute_result",
          "data": {
            "text/plain": [
              "('Mario', 'GTA', 'Road Rush')"
            ]
          },
          "metadata": {},
          "execution_count": 21
        }
      ]
    },
    {
      "cell_type": "code",
      "source": [
        "tup"
      ],
      "metadata": {
        "colab": {
          "base_uri": "https://localhost:8080/"
        },
        "id": "SPraS5msPCz_",
        "outputId": "b504b6e6-419c-4c87-d924-0421f62cb932"
      },
      "execution_count": 22,
      "outputs": [
        {
          "output_type": "execute_result",
          "data": {
            "text/plain": [
              "('Mario', 'GTA', 'Road Rush', 'COD', 'PUBG', 'Among Us')"
            ]
          },
          "metadata": {},
          "execution_count": 22
        }
      ]
    },
    {
      "cell_type": "code",
      "source": [
        "tup[2:-2]"
      ],
      "metadata": {
        "colab": {
          "base_uri": "https://localhost:8080/"
        },
        "id": "AJC5zQCS921d",
        "outputId": "da9c70f2-c5c9-46ab-fd22-fb474956d74f"
      },
      "execution_count": 23,
      "outputs": [
        {
          "output_type": "execute_result",
          "data": {
            "text/plain": [
              "('Road Rush', 'COD')"
            ]
          },
          "metadata": {},
          "execution_count": 23
        }
      ]
    },
    {
      "cell_type": "code",
      "source": [
        "lis"
      ],
      "metadata": {
        "colab": {
          "base_uri": "https://localhost:8080/"
        },
        "id": "lTufs4PX925X",
        "outputId": "fce2ebdf-f034-42b1-d6ca-3adb8c312a8f"
      },
      "execution_count": 24,
      "outputs": [
        {
          "output_type": "execute_result",
          "data": {
            "text/plain": [
              "['Mario', 'GTA', 'Road Rush', 'COD', 'PUBG', 'Among Us']"
            ]
          },
          "metadata": {},
          "execution_count": 24
        }
      ]
    },
    {
      "cell_type": "code",
      "source": [
        "# Updating\n",
        "lis[0] = 'Pokemon Unite'"
      ],
      "metadata": {
        "id": "Ic6Qtzr5923-"
      },
      "execution_count": 25,
      "outputs": []
    },
    {
      "cell_type": "code",
      "source": [
        "lis"
      ],
      "metadata": {
        "colab": {
          "base_uri": "https://localhost:8080/"
        },
        "id": "1jIyoAzG926u",
        "outputId": "92377674-fdf7-4c18-c0ab-01259c750773"
      },
      "execution_count": 26,
      "outputs": [
        {
          "output_type": "execute_result",
          "data": {
            "text/plain": [
              "['Pokemon Unite', 'GTA', 'Road Rush', 'COD', 'PUBG', 'Among Us']"
            ]
          },
          "metadata": {},
          "execution_count": 26
        }
      ]
    },
    {
      "cell_type": "code",
      "source": [
        "tup[0]= 'Pokemon Unite'"
      ],
      "metadata": {
        "colab": {
          "base_uri": "https://localhost:8080/",
          "height": 165
        },
        "id": "ZI9fvZxa927v",
        "outputId": "26ebe9e3-f5e2-4b6d-bef3-b33b0a7ca08f"
      },
      "execution_count": 27,
      "outputs": [
        {
          "output_type": "error",
          "ename": "TypeError",
          "evalue": "ignored",
          "traceback": [
            "\u001b[0;31m---------------------------------------------------------------------------\u001b[0m",
            "\u001b[0;31mTypeError\u001b[0m                                 Traceback (most recent call last)",
            "\u001b[0;32m<ipython-input-27-de60ffe57374>\u001b[0m in \u001b[0;36m<cell line: 1>\u001b[0;34m()\u001b[0m\n\u001b[0;32m----> 1\u001b[0;31m \u001b[0mtup\u001b[0m\u001b[0;34m[\u001b[0m\u001b[0;36m0\u001b[0m\u001b[0;34m]\u001b[0m\u001b[0;34m=\u001b[0m \u001b[0;34m'Pokemon Unite'\u001b[0m\u001b[0;34m\u001b[0m\u001b[0;34m\u001b[0m\u001b[0m\n\u001b[0m",
            "\u001b[0;31mTypeError\u001b[0m: 'tuple' object does not support item assignment"
          ]
        }
      ]
    },
    {
      "cell_type": "code",
      "source": [
        "# str(), int(), list(), tuple()"
      ],
      "metadata": {
        "id": "bcTUXzrA93BC"
      },
      "execution_count": 28,
      "outputs": []
    },
    {
      "cell_type": "code",
      "source": [
        "new = list(tup)"
      ],
      "metadata": {
        "id": "mpN2yNaT928z"
      },
      "execution_count": 29,
      "outputs": []
    },
    {
      "cell_type": "code",
      "source": [
        "new"
      ],
      "metadata": {
        "colab": {
          "base_uri": "https://localhost:8080/"
        },
        "id": "rN0J9VPl93Cf",
        "outputId": "6a693e95-7f31-47d6-8f6d-96f2fbbe5146"
      },
      "execution_count": 30,
      "outputs": [
        {
          "output_type": "execute_result",
          "data": {
            "text/plain": [
              "['Mario', 'GTA', 'Road Rush', 'COD', 'PUBG', 'Among Us']"
            ]
          },
          "metadata": {},
          "execution_count": 30
        }
      ]
    },
    {
      "cell_type": "code",
      "source": [
        "new[0] = 'Pokemon Unite'"
      ],
      "metadata": {
        "id": "-yX9cxpC93H2"
      },
      "execution_count": 31,
      "outputs": []
    },
    {
      "cell_type": "code",
      "source": [
        "new"
      ],
      "metadata": {
        "colab": {
          "base_uri": "https://localhost:8080/"
        },
        "id": "pRDUhdP093Ln",
        "outputId": "899f9889-a5e1-4c4a-c30f-e819debd0150"
      },
      "execution_count": 32,
      "outputs": [
        {
          "output_type": "execute_result",
          "data": {
            "text/plain": [
              "['Pokemon Unite', 'GTA', 'Road Rush', 'COD', 'PUBG', 'Among Us']"
            ]
          },
          "metadata": {},
          "execution_count": 32
        }
      ]
    },
    {
      "cell_type": "code",
      "source": [
        "tup = tuple(new)"
      ],
      "metadata": {
        "id": "LraAwR5e93M_"
      },
      "execution_count": 33,
      "outputs": []
    },
    {
      "cell_type": "code",
      "source": [
        "tup"
      ],
      "metadata": {
        "colab": {
          "base_uri": "https://localhost:8080/"
        },
        "id": "dgtzzxjG93OR",
        "outputId": "5747842c-9a42-4c83-fb87-bbf5d2986485"
      },
      "execution_count": 34,
      "outputs": [
        {
          "output_type": "execute_result",
          "data": {
            "text/plain": [
              "('Pokemon Unite', 'GTA', 'Road Rush', 'COD', 'PUBG', 'Among Us')"
            ]
          },
          "metadata": {},
          "execution_count": 34
        }
      ]
    },
    {
      "cell_type": "code",
      "source": [
        "# Adding the elements"
      ],
      "metadata": {
        "id": "_Ms8Pf3T93P-"
      },
      "execution_count": 35,
      "outputs": []
    },
    {
      "cell_type": "code",
      "source": [
        "tup"
      ],
      "metadata": {
        "colab": {
          "base_uri": "https://localhost:8080/"
        },
        "id": "b4RnsfOH93RQ",
        "outputId": "f7d17773-674d-4f18-9fe9-b272621016fa"
      },
      "execution_count": 36,
      "outputs": [
        {
          "output_type": "execute_result",
          "data": {
            "text/plain": [
              "('Pokemon Unite', 'GTA', 'Road Rush', 'COD', 'PUBG', 'Among Us')"
            ]
          },
          "metadata": {},
          "execution_count": 36
        }
      ]
    },
    {
      "cell_type": "code",
      "source": [
        "new = list(tup)\n",
        "new.append('Mario')\n",
        "tup = tuple(new)\n",
        "tup"
      ],
      "metadata": {
        "colab": {
          "base_uri": "https://localhost:8080/"
        },
        "id": "jNT-wPG_93TG",
        "outputId": "d4707dce-908e-4ec7-93e8-4b703342ceb1"
      },
      "execution_count": 37,
      "outputs": [
        {
          "output_type": "execute_result",
          "data": {
            "text/plain": [
              "('Pokemon Unite', 'GTA', 'Road Rush', 'COD', 'PUBG', 'Among Us', 'Mario')"
            ]
          },
          "metadata": {},
          "execution_count": 37
        }
      ]
    },
    {
      "cell_type": "code",
      "source": [
        "# Adding a tuple into a tuple"
      ],
      "metadata": {
        "id": "mQJc0LRb93Um"
      },
      "execution_count": 38,
      "outputs": []
    },
    {
      "cell_type": "code",
      "source": [
        "tup1 = ('Hello', 'World', 'Bye')\n",
        "tup2 = ('Welcome',)"
      ],
      "metadata": {
        "id": "JBcdpkAM93Wl"
      },
      "execution_count": 39,
      "outputs": []
    },
    {
      "cell_type": "code",
      "source": [
        "tup1 + tup2"
      ],
      "metadata": {
        "colab": {
          "base_uri": "https://localhost:8080/"
        },
        "id": "CcxBntaJ93YT",
        "outputId": "6bc923be-806e-488e-f315-9de4e70ad632"
      },
      "execution_count": 40,
      "outputs": [
        {
          "output_type": "execute_result",
          "data": {
            "text/plain": [
              "('Hello', 'World', 'Bye', 'Welcome')"
            ]
          },
          "metadata": {},
          "execution_count": 40
        }
      ]
    },
    {
      "cell_type": "code",
      "source": [
        "tup1, tup2"
      ],
      "metadata": {
        "colab": {
          "base_uri": "https://localhost:8080/"
        },
        "id": "hk23_qed93Zh",
        "outputId": "e36b84d2-c4d0-4919-99d2-719d1390628c"
      },
      "execution_count": 41,
      "outputs": [
        {
          "output_type": "execute_result",
          "data": {
            "text/plain": [
              "(('Hello', 'World', 'Bye'), ('Welcome',))"
            ]
          },
          "metadata": {},
          "execution_count": 41
        }
      ]
    },
    {
      "cell_type": "code",
      "source": [
        "tup1 = tup1 + tup2\n",
        "tup1 += tup2"
      ],
      "metadata": {
        "id": "PgWJ-umF93aq"
      },
      "execution_count": 42,
      "outputs": []
    },
    {
      "cell_type": "code",
      "source": [
        "# Deletion\n",
        "tup"
      ],
      "metadata": {
        "colab": {
          "base_uri": "https://localhost:8080/"
        },
        "id": "dOY4MD2G93ch",
        "outputId": "0fd4e8b4-6fbf-4162-f570-f7dc93d7f51d"
      },
      "execution_count": 43,
      "outputs": [
        {
          "output_type": "execute_result",
          "data": {
            "text/plain": [
              "('Pokemon Unite', 'GTA', 'Road Rush', 'COD', 'PUBG', 'Among Us', 'Mario')"
            ]
          },
          "metadata": {},
          "execution_count": 43
        }
      ]
    },
    {
      "cell_type": "code",
      "source": [
        "#tup -> list -> remove,pop,del -> tuple"
      ],
      "metadata": {
        "id": "jjzXtUPJ93d_"
      },
      "execution_count": 44,
      "outputs": []
    },
    {
      "cell_type": "code",
      "source": [
        "new = list(tup)\n",
        "new.remove('COD')\n",
        "tup = tuple(new)\n",
        "tup"
      ],
      "metadata": {
        "colab": {
          "base_uri": "https://localhost:8080/"
        },
        "id": "2DzO1H-393fQ",
        "outputId": "f60a3483-8adb-4811-9e22-7663320c02b8"
      },
      "execution_count": 45,
      "outputs": [
        {
          "output_type": "execute_result",
          "data": {
            "text/plain": [
              "('Pokemon Unite', 'GTA', 'Road Rush', 'PUBG', 'Among Us', 'Mario')"
            ]
          },
          "metadata": {},
          "execution_count": 45
        }
      ]
    },
    {
      "cell_type": "code",
      "source": [
        "tup = (1,2,3,4,5,1,2,1,2,1,2,1,2,7,8,9)"
      ],
      "metadata": {
        "id": "7GT5z68Z93gt"
      },
      "execution_count": 46,
      "outputs": []
    },
    {
      "cell_type": "code",
      "source": [
        "tup"
      ],
      "metadata": {
        "colab": {
          "base_uri": "https://localhost:8080/"
        },
        "id": "q8edcdeR93iM",
        "outputId": "46c2d8cf-e47e-4b73-97af-0b8f50d7a21e"
      },
      "execution_count": 47,
      "outputs": [
        {
          "output_type": "execute_result",
          "data": {
            "text/plain": [
              "(1, 2, 3, 4, 5, 1, 2, 1, 2, 1, 2, 1, 2, 7, 8, 9)"
            ]
          },
          "metadata": {},
          "execution_count": 47
        }
      ]
    },
    {
      "cell_type": "code",
      "source": [
        "# count()\n",
        "tup.count(1)"
      ],
      "metadata": {
        "colab": {
          "base_uri": "https://localhost:8080/"
        },
        "id": "pI964AJU93jx",
        "outputId": "c156d5d8-f177-49fd-d1a7-e3ddaa3608ee"
      },
      "execution_count": 48,
      "outputs": [
        {
          "output_type": "execute_result",
          "data": {
            "text/plain": [
              "5"
            ]
          },
          "metadata": {},
          "execution_count": 48
        }
      ]
    },
    {
      "cell_type": "code",
      "source": [
        "# index()\n",
        "tup.index(3)"
      ],
      "metadata": {
        "colab": {
          "base_uri": "https://localhost:8080/"
        },
        "id": "66kxcvEZ93ll",
        "outputId": "8d74022b-b381-48ac-c79e-bed065a749ef"
      },
      "execution_count": 49,
      "outputs": [
        {
          "output_type": "execute_result",
          "data": {
            "text/plain": [
              "2"
            ]
          },
          "metadata": {},
          "execution_count": 49
        }
      ]
    },
    {
      "cell_type": "code",
      "source": [
        "tup = ('Apple', 'Samsung')"
      ],
      "metadata": {
        "id": "Sb8i3zRK93nI"
      },
      "execution_count": 50,
      "outputs": []
    },
    {
      "cell_type": "code",
      "source": [
        "tup"
      ],
      "metadata": {
        "colab": {
          "base_uri": "https://localhost:8080/"
        },
        "id": "UhQR3dk993oo",
        "outputId": "ba593b81-dfd8-4b38-dd4c-2d5e534ed106"
      },
      "execution_count": 51,
      "outputs": [
        {
          "output_type": "execute_result",
          "data": {
            "text/plain": [
              "('Apple', 'Samsung')"
            ]
          },
          "metadata": {},
          "execution_count": 51
        }
      ]
    },
    {
      "cell_type": "code",
      "source": [
        "(var1, var2) = tup"
      ],
      "metadata": {
        "id": "WEgVCnEW93qb"
      },
      "execution_count": 52,
      "outputs": []
    },
    {
      "cell_type": "code",
      "source": [
        "var1"
      ],
      "metadata": {
        "colab": {
          "base_uri": "https://localhost:8080/",
          "height": 35
        },
        "id": "ciW1icYW93r_",
        "outputId": "0251aacb-78c4-430a-f8b5-caa7864700aa"
      },
      "execution_count": 53,
      "outputs": [
        {
          "output_type": "execute_result",
          "data": {
            "text/plain": [
              "'Apple'"
            ],
            "application/vnd.google.colaboratory.intrinsic+json": {
              "type": "string"
            }
          },
          "metadata": {},
          "execution_count": 53
        }
      ]
    },
    {
      "cell_type": "code",
      "source": [
        "var2"
      ],
      "metadata": {
        "colab": {
          "base_uri": "https://localhost:8080/",
          "height": 35
        },
        "id": "0wVbQjT393tp",
        "outputId": "3bad1f66-60fe-4111-8b0c-43718b2dc453"
      },
      "execution_count": 54,
      "outputs": [
        {
          "output_type": "execute_result",
          "data": {
            "text/plain": [
              "'Samsung'"
            ],
            "application/vnd.google.colaboratory.intrinsic+json": {
              "type": "string"
            }
          },
          "metadata": {},
          "execution_count": 54
        }
      ]
    },
    {
      "cell_type": "code",
      "source": [
        "(var1,) = tup"
      ],
      "metadata": {
        "colab": {
          "base_uri": "https://localhost:8080/",
          "height": 165
        },
        "id": "JVOFCrnq93vM",
        "outputId": "cabe5a59-f5d7-4d20-8e4f-04b94c307473"
      },
      "execution_count": 55,
      "outputs": [
        {
          "output_type": "error",
          "ename": "ValueError",
          "evalue": "ignored",
          "traceback": [
            "\u001b[0;31m---------------------------------------------------------------------------\u001b[0m",
            "\u001b[0;31mValueError\u001b[0m                                Traceback (most recent call last)",
            "\u001b[0;32m<ipython-input-55-46a339eb090d>\u001b[0m in \u001b[0;36m<cell line: 1>\u001b[0;34m()\u001b[0m\n\u001b[0;32m----> 1\u001b[0;31m \u001b[0;34m(\u001b[0m\u001b[0mvar1\u001b[0m\u001b[0;34m,\u001b[0m\u001b[0;34m)\u001b[0m \u001b[0;34m=\u001b[0m \u001b[0mtup\u001b[0m\u001b[0;34m\u001b[0m\u001b[0;34m\u001b[0m\u001b[0m\n\u001b[0m",
            "\u001b[0;31mValueError\u001b[0m: too many values to unpack (expected 1)"
          ]
        }
      ]
    },
    {
      "cell_type": "code",
      "source": [
        "tup"
      ],
      "metadata": {
        "colab": {
          "base_uri": "https://localhost:8080/"
        },
        "id": "e2eIpobh93w8",
        "outputId": "73a771cb-ba42-4516-e9d4-ab28b003579d"
      },
      "execution_count": 56,
      "outputs": [
        {
          "output_type": "execute_result",
          "data": {
            "text/plain": [
              "('Apple', 'Samsung')"
            ]
          },
          "metadata": {},
          "execution_count": 56
        }
      ]
    },
    {
      "cell_type": "code",
      "source": [
        "tup * 2"
      ],
      "metadata": {
        "colab": {
          "base_uri": "https://localhost:8080/"
        },
        "id": "hHT_1CKO93yj",
        "outputId": "9abccc03-9e7a-4669-a802-0c837b7b252b"
      },
      "execution_count": 57,
      "outputs": [
        {
          "output_type": "execute_result",
          "data": {
            "text/plain": [
              "('Apple', 'Samsung', 'Apple', 'Samsung')"
            ]
          },
          "metadata": {},
          "execution_count": 57
        }
      ]
    },
    {
      "cell_type": "code",
      "source": [
        "print(\"I will not talk in class \\n\" * 1000)"
      ],
      "metadata": {
        "colab": {
          "base_uri": "https://localhost:8080/"
        },
        "id": "eH4MgPE7930k",
        "outputId": "34bf997a-e72d-4ecc-c5d7-2c87a1c62e09"
      },
      "execution_count": 58,
      "outputs": [
        {
          "output_type": "stream",
          "name": "stdout",
          "text": [
            "I will not talk in class \n",
            "I will not talk in class \n",
            "I will not talk in class \n",
            "I will not talk in class \n",
            "I will not talk in class \n",
            "I will not talk in class \n",
            "I will not talk in class \n",
            "I will not talk in class \n",
            "I will not talk in class \n",
            "I will not talk in class \n",
            "I will not talk in class \n",
            "I will not talk in class \n",
            "I will not talk in class \n",
            "I will not talk in class \n",
            "I will not talk in class \n",
            "I will not talk in class \n",
            "I will not talk in class \n",
            "I will not talk in class \n",
            "I will not talk in class \n",
            "I will not talk in class \n",
            "I will not talk in class \n",
            "I will not talk in class \n",
            "I will not talk in class \n",
            "I will not talk in class \n",
            "I will not talk in class \n",
            "I will not talk in class \n",
            "I will not talk in class \n",
            "I will not talk in class \n",
            "I will not talk in class \n",
            "I will not talk in class \n",
            "I will not talk in class \n",
            "I will not talk in class \n",
            "I will not talk in class \n",
            "I will not talk in class \n",
            "I will not talk in class \n",
            "I will not talk in class \n",
            "I will not talk in class \n",
            "I will not talk in class \n",
            "I will not talk in class \n",
            "I will not talk in class \n",
            "I will not talk in class \n",
            "I will not talk in class \n",
            "I will not talk in class \n",
            "I will not talk in class \n",
            "I will not talk in class \n",
            "I will not talk in class \n",
            "I will not talk in class \n",
            "I will not talk in class \n",
            "I will not talk in class \n",
            "I will not talk in class \n",
            "I will not talk in class \n",
            "I will not talk in class \n",
            "I will not talk in class \n",
            "I will not talk in class \n",
            "I will not talk in class \n",
            "I will not talk in class \n",
            "I will not talk in class \n",
            "I will not talk in class \n",
            "I will not talk in class \n",
            "I will not talk in class \n",
            "I will not talk in class \n",
            "I will not talk in class \n",
            "I will not talk in class \n",
            "I will not talk in class \n",
            "I will not talk in class \n",
            "I will not talk in class \n",
            "I will not talk in class \n",
            "I will not talk in class \n",
            "I will not talk in class \n",
            "I will not talk in class \n",
            "I will not talk in class \n",
            "I will not talk in class \n",
            "I will not talk in class \n",
            "I will not talk in class \n",
            "I will not talk in class \n",
            "I will not talk in class \n",
            "I will not talk in class \n",
            "I will not talk in class \n",
            "I will not talk in class \n",
            "I will not talk in class \n",
            "I will not talk in class \n",
            "I will not talk in class \n",
            "I will not talk in class \n",
            "I will not talk in class \n",
            "I will not talk in class \n",
            "I will not talk in class \n",
            "I will not talk in class \n",
            "I will not talk in class \n",
            "I will not talk in class \n",
            "I will not talk in class \n",
            "I will not talk in class \n",
            "I will not talk in class \n",
            "I will not talk in class \n",
            "I will not talk in class \n",
            "I will not talk in class \n",
            "I will not talk in class \n",
            "I will not talk in class \n",
            "I will not talk in class \n",
            "I will not talk in class \n",
            "I will not talk in class \n",
            "I will not talk in class \n",
            "I will not talk in class \n",
            "I will not talk in class \n",
            "I will not talk in class \n",
            "I will not talk in class \n",
            "I will not talk in class \n",
            "I will not talk in class \n",
            "I will not talk in class \n",
            "I will not talk in class \n",
            "I will not talk in class \n",
            "I will not talk in class \n",
            "I will not talk in class \n",
            "I will not talk in class \n",
            "I will not talk in class \n",
            "I will not talk in class \n",
            "I will not talk in class \n",
            "I will not talk in class \n",
            "I will not talk in class \n",
            "I will not talk in class \n",
            "I will not talk in class \n",
            "I will not talk in class \n",
            "I will not talk in class \n",
            "I will not talk in class \n",
            "I will not talk in class \n",
            "I will not talk in class \n",
            "I will not talk in class \n",
            "I will not talk in class \n",
            "I will not talk in class \n",
            "I will not talk in class \n",
            "I will not talk in class \n",
            "I will not talk in class \n",
            "I will not talk in class \n",
            "I will not talk in class \n",
            "I will not talk in class \n",
            "I will not talk in class \n",
            "I will not talk in class \n",
            "I will not talk in class \n",
            "I will not talk in class \n",
            "I will not talk in class \n",
            "I will not talk in class \n",
            "I will not talk in class \n",
            "I will not talk in class \n",
            "I will not talk in class \n",
            "I will not talk in class \n",
            "I will not talk in class \n",
            "I will not talk in class \n",
            "I will not talk in class \n",
            "I will not talk in class \n",
            "I will not talk in class \n",
            "I will not talk in class \n",
            "I will not talk in class \n",
            "I will not talk in class \n",
            "I will not talk in class \n",
            "I will not talk in class \n",
            "I will not talk in class \n",
            "I will not talk in class \n",
            "I will not talk in class \n",
            "I will not talk in class \n",
            "I will not talk in class \n",
            "I will not talk in class \n",
            "I will not talk in class \n",
            "I will not talk in class \n",
            "I will not talk in class \n",
            "I will not talk in class \n",
            "I will not talk in class \n",
            "I will not talk in class \n",
            "I will not talk in class \n",
            "I will not talk in class \n",
            "I will not talk in class \n",
            "I will not talk in class \n",
            "I will not talk in class \n",
            "I will not talk in class \n",
            "I will not talk in class \n",
            "I will not talk in class \n",
            "I will not talk in class \n",
            "I will not talk in class \n",
            "I will not talk in class \n",
            "I will not talk in class \n",
            "I will not talk in class \n",
            "I will not talk in class \n",
            "I will not talk in class \n",
            "I will not talk in class \n",
            "I will not talk in class \n",
            "I will not talk in class \n",
            "I will not talk in class \n",
            "I will not talk in class \n",
            "I will not talk in class \n",
            "I will not talk in class \n",
            "I will not talk in class \n",
            "I will not talk in class \n",
            "I will not talk in class \n",
            "I will not talk in class \n",
            "I will not talk in class \n",
            "I will not talk in class \n",
            "I will not talk in class \n",
            "I will not talk in class \n",
            "I will not talk in class \n",
            "I will not talk in class \n",
            "I will not talk in class \n",
            "I will not talk in class \n",
            "I will not talk in class \n",
            "I will not talk in class \n",
            "I will not talk in class \n",
            "I will not talk in class \n",
            "I will not talk in class \n",
            "I will not talk in class \n",
            "I will not talk in class \n",
            "I will not talk in class \n",
            "I will not talk in class \n",
            "I will not talk in class \n",
            "I will not talk in class \n",
            "I will not talk in class \n",
            "I will not talk in class \n",
            "I will not talk in class \n",
            "I will not talk in class \n",
            "I will not talk in class \n",
            "I will not talk in class \n",
            "I will not talk in class \n",
            "I will not talk in class \n",
            "I will not talk in class \n",
            "I will not talk in class \n",
            "I will not talk in class \n",
            "I will not talk in class \n",
            "I will not talk in class \n",
            "I will not talk in class \n",
            "I will not talk in class \n",
            "I will not talk in class \n",
            "I will not talk in class \n",
            "I will not talk in class \n",
            "I will not talk in class \n",
            "I will not talk in class \n",
            "I will not talk in class \n",
            "I will not talk in class \n",
            "I will not talk in class \n",
            "I will not talk in class \n",
            "I will not talk in class \n",
            "I will not talk in class \n",
            "I will not talk in class \n",
            "I will not talk in class \n",
            "I will not talk in class \n",
            "I will not talk in class \n",
            "I will not talk in class \n",
            "I will not talk in class \n",
            "I will not talk in class \n",
            "I will not talk in class \n",
            "I will not talk in class \n",
            "I will not talk in class \n",
            "I will not talk in class \n",
            "I will not talk in class \n",
            "I will not talk in class \n",
            "I will not talk in class \n",
            "I will not talk in class \n",
            "I will not talk in class \n",
            "I will not talk in class \n",
            "I will not talk in class \n",
            "I will not talk in class \n",
            "I will not talk in class \n",
            "I will not talk in class \n",
            "I will not talk in class \n",
            "I will not talk in class \n",
            "I will not talk in class \n",
            "I will not talk in class \n",
            "I will not talk in class \n",
            "I will not talk in class \n",
            "I will not talk in class \n",
            "I will not talk in class \n",
            "I will not talk in class \n",
            "I will not talk in class \n",
            "I will not talk in class \n",
            "I will not talk in class \n",
            "I will not talk in class \n",
            "I will not talk in class \n",
            "I will not talk in class \n",
            "I will not talk in class \n",
            "I will not talk in class \n",
            "I will not talk in class \n",
            "I will not talk in class \n",
            "I will not talk in class \n",
            "I will not talk in class \n",
            "I will not talk in class \n",
            "I will not talk in class \n",
            "I will not talk in class \n",
            "I will not talk in class \n",
            "I will not talk in class \n",
            "I will not talk in class \n",
            "I will not talk in class \n",
            "I will not talk in class \n",
            "I will not talk in class \n",
            "I will not talk in class \n",
            "I will not talk in class \n",
            "I will not talk in class \n",
            "I will not talk in class \n",
            "I will not talk in class \n",
            "I will not talk in class \n",
            "I will not talk in class \n",
            "I will not talk in class \n",
            "I will not talk in class \n",
            "I will not talk in class \n",
            "I will not talk in class \n",
            "I will not talk in class \n",
            "I will not talk in class \n",
            "I will not talk in class \n",
            "I will not talk in class \n",
            "I will not talk in class \n",
            "I will not talk in class \n",
            "I will not talk in class \n",
            "I will not talk in class \n",
            "I will not talk in class \n",
            "I will not talk in class \n",
            "I will not talk in class \n",
            "I will not talk in class \n",
            "I will not talk in class \n",
            "I will not talk in class \n",
            "I will not talk in class \n",
            "I will not talk in class \n",
            "I will not talk in class \n",
            "I will not talk in class \n",
            "I will not talk in class \n",
            "I will not talk in class \n",
            "I will not talk in class \n",
            "I will not talk in class \n",
            "I will not talk in class \n",
            "I will not talk in class \n",
            "I will not talk in class \n",
            "I will not talk in class \n",
            "I will not talk in class \n",
            "I will not talk in class \n",
            "I will not talk in class \n",
            "I will not talk in class \n",
            "I will not talk in class \n",
            "I will not talk in class \n",
            "I will not talk in class \n",
            "I will not talk in class \n",
            "I will not talk in class \n",
            "I will not talk in class \n",
            "I will not talk in class \n",
            "I will not talk in class \n",
            "I will not talk in class \n",
            "I will not talk in class \n",
            "I will not talk in class \n",
            "I will not talk in class \n",
            "I will not talk in class \n",
            "I will not talk in class \n",
            "I will not talk in class \n",
            "I will not talk in class \n",
            "I will not talk in class \n",
            "I will not talk in class \n",
            "I will not talk in class \n",
            "I will not talk in class \n",
            "I will not talk in class \n",
            "I will not talk in class \n",
            "I will not talk in class \n",
            "I will not talk in class \n",
            "I will not talk in class \n",
            "I will not talk in class \n",
            "I will not talk in class \n",
            "I will not talk in class \n",
            "I will not talk in class \n",
            "I will not talk in class \n",
            "I will not talk in class \n",
            "I will not talk in class \n",
            "I will not talk in class \n",
            "I will not talk in class \n",
            "I will not talk in class \n",
            "I will not talk in class \n",
            "I will not talk in class \n",
            "I will not talk in class \n",
            "I will not talk in class \n",
            "I will not talk in class \n",
            "I will not talk in class \n",
            "I will not talk in class \n",
            "I will not talk in class \n",
            "I will not talk in class \n",
            "I will not talk in class \n",
            "I will not talk in class \n",
            "I will not talk in class \n",
            "I will not talk in class \n",
            "I will not talk in class \n",
            "I will not talk in class \n",
            "I will not talk in class \n",
            "I will not talk in class \n",
            "I will not talk in class \n",
            "I will not talk in class \n",
            "I will not talk in class \n",
            "I will not talk in class \n",
            "I will not talk in class \n",
            "I will not talk in class \n",
            "I will not talk in class \n",
            "I will not talk in class \n",
            "I will not talk in class \n",
            "I will not talk in class \n",
            "I will not talk in class \n",
            "I will not talk in class \n",
            "I will not talk in class \n",
            "I will not talk in class \n",
            "I will not talk in class \n",
            "I will not talk in class \n",
            "I will not talk in class \n",
            "I will not talk in class \n",
            "I will not talk in class \n",
            "I will not talk in class \n",
            "I will not talk in class \n",
            "I will not talk in class \n",
            "I will not talk in class \n",
            "I will not talk in class \n",
            "I will not talk in class \n",
            "I will not talk in class \n",
            "I will not talk in class \n",
            "I will not talk in class \n",
            "I will not talk in class \n",
            "I will not talk in class \n",
            "I will not talk in class \n",
            "I will not talk in class \n",
            "I will not talk in class \n",
            "I will not talk in class \n",
            "I will not talk in class \n",
            "I will not talk in class \n",
            "I will not talk in class \n",
            "I will not talk in class \n",
            "I will not talk in class \n",
            "I will not talk in class \n",
            "I will not talk in class \n",
            "I will not talk in class \n",
            "I will not talk in class \n",
            "I will not talk in class \n",
            "I will not talk in class \n",
            "I will not talk in class \n",
            "I will not talk in class \n",
            "I will not talk in class \n",
            "I will not talk in class \n",
            "I will not talk in class \n",
            "I will not talk in class \n",
            "I will not talk in class \n",
            "I will not talk in class \n",
            "I will not talk in class \n",
            "I will not talk in class \n",
            "I will not talk in class \n",
            "I will not talk in class \n",
            "I will not talk in class \n",
            "I will not talk in class \n",
            "I will not talk in class \n",
            "I will not talk in class \n",
            "I will not talk in class \n",
            "I will not talk in class \n",
            "I will not talk in class \n",
            "I will not talk in class \n",
            "I will not talk in class \n",
            "I will not talk in class \n",
            "I will not talk in class \n",
            "I will not talk in class \n",
            "I will not talk in class \n",
            "I will not talk in class \n",
            "I will not talk in class \n",
            "I will not talk in class \n",
            "I will not talk in class \n",
            "I will not talk in class \n",
            "I will not talk in class \n",
            "I will not talk in class \n",
            "I will not talk in class \n",
            "I will not talk in class \n",
            "I will not talk in class \n",
            "I will not talk in class \n",
            "I will not talk in class \n",
            "I will not talk in class \n",
            "I will not talk in class \n",
            "I will not talk in class \n",
            "I will not talk in class \n",
            "I will not talk in class \n",
            "I will not talk in class \n",
            "I will not talk in class \n",
            "I will not talk in class \n",
            "I will not talk in class \n",
            "I will not talk in class \n",
            "I will not talk in class \n",
            "I will not talk in class \n",
            "I will not talk in class \n",
            "I will not talk in class \n",
            "I will not talk in class \n",
            "I will not talk in class \n",
            "I will not talk in class \n",
            "I will not talk in class \n",
            "I will not talk in class \n",
            "I will not talk in class \n",
            "I will not talk in class \n",
            "I will not talk in class \n",
            "I will not talk in class \n",
            "I will not talk in class \n",
            "I will not talk in class \n",
            "I will not talk in class \n",
            "I will not talk in class \n",
            "I will not talk in class \n",
            "I will not talk in class \n",
            "I will not talk in class \n",
            "I will not talk in class \n",
            "I will not talk in class \n",
            "I will not talk in class \n",
            "I will not talk in class \n",
            "I will not talk in class \n",
            "I will not talk in class \n",
            "I will not talk in class \n",
            "I will not talk in class \n",
            "I will not talk in class \n",
            "I will not talk in class \n",
            "I will not talk in class \n",
            "I will not talk in class \n",
            "I will not talk in class \n",
            "I will not talk in class \n",
            "I will not talk in class \n",
            "I will not talk in class \n",
            "I will not talk in class \n",
            "I will not talk in class \n",
            "I will not talk in class \n",
            "I will not talk in class \n",
            "I will not talk in class \n",
            "I will not talk in class \n",
            "I will not talk in class \n",
            "I will not talk in class \n",
            "I will not talk in class \n",
            "I will not talk in class \n",
            "I will not talk in class \n",
            "I will not talk in class \n",
            "I will not talk in class \n",
            "I will not talk in class \n",
            "I will not talk in class \n",
            "I will not talk in class \n",
            "I will not talk in class \n",
            "I will not talk in class \n",
            "I will not talk in class \n",
            "I will not talk in class \n",
            "I will not talk in class \n",
            "I will not talk in class \n",
            "I will not talk in class \n",
            "I will not talk in class \n",
            "I will not talk in class \n",
            "I will not talk in class \n",
            "I will not talk in class \n",
            "I will not talk in class \n",
            "I will not talk in class \n",
            "I will not talk in class \n",
            "I will not talk in class \n",
            "I will not talk in class \n",
            "I will not talk in class \n",
            "I will not talk in class \n",
            "I will not talk in class \n",
            "I will not talk in class \n",
            "I will not talk in class \n",
            "I will not talk in class \n",
            "I will not talk in class \n",
            "I will not talk in class \n",
            "I will not talk in class \n",
            "I will not talk in class \n",
            "I will not talk in class \n",
            "I will not talk in class \n",
            "I will not talk in class \n",
            "I will not talk in class \n",
            "I will not talk in class \n",
            "I will not talk in class \n",
            "I will not talk in class \n",
            "I will not talk in class \n",
            "I will not talk in class \n",
            "I will not talk in class \n",
            "I will not talk in class \n",
            "I will not talk in class \n",
            "I will not talk in class \n",
            "I will not talk in class \n",
            "I will not talk in class \n",
            "I will not talk in class \n",
            "I will not talk in class \n",
            "I will not talk in class \n",
            "I will not talk in class \n",
            "I will not talk in class \n",
            "I will not talk in class \n",
            "I will not talk in class \n",
            "I will not talk in class \n",
            "I will not talk in class \n",
            "I will not talk in class \n",
            "I will not talk in class \n",
            "I will not talk in class \n",
            "I will not talk in class \n",
            "I will not talk in class \n",
            "I will not talk in class \n",
            "I will not talk in class \n",
            "I will not talk in class \n",
            "I will not talk in class \n",
            "I will not talk in class \n",
            "I will not talk in class \n",
            "I will not talk in class \n",
            "I will not talk in class \n",
            "I will not talk in class \n",
            "I will not talk in class \n",
            "I will not talk in class \n",
            "I will not talk in class \n",
            "I will not talk in class \n",
            "I will not talk in class \n",
            "I will not talk in class \n",
            "I will not talk in class \n",
            "I will not talk in class \n",
            "I will not talk in class \n",
            "I will not talk in class \n",
            "I will not talk in class \n",
            "I will not talk in class \n",
            "I will not talk in class \n",
            "I will not talk in class \n",
            "I will not talk in class \n",
            "I will not talk in class \n",
            "I will not talk in class \n",
            "I will not talk in class \n",
            "I will not talk in class \n",
            "I will not talk in class \n",
            "I will not talk in class \n",
            "I will not talk in class \n",
            "I will not talk in class \n",
            "I will not talk in class \n",
            "I will not talk in class \n",
            "I will not talk in class \n",
            "I will not talk in class \n",
            "I will not talk in class \n",
            "I will not talk in class \n",
            "I will not talk in class \n",
            "I will not talk in class \n",
            "I will not talk in class \n",
            "I will not talk in class \n",
            "I will not talk in class \n",
            "I will not talk in class \n",
            "I will not talk in class \n",
            "I will not talk in class \n",
            "I will not talk in class \n",
            "I will not talk in class \n",
            "I will not talk in class \n",
            "I will not talk in class \n",
            "I will not talk in class \n",
            "I will not talk in class \n",
            "I will not talk in class \n",
            "I will not talk in class \n",
            "I will not talk in class \n",
            "I will not talk in class \n",
            "I will not talk in class \n",
            "I will not talk in class \n",
            "I will not talk in class \n",
            "I will not talk in class \n",
            "I will not talk in class \n",
            "I will not talk in class \n",
            "I will not talk in class \n",
            "I will not talk in class \n",
            "I will not talk in class \n",
            "I will not talk in class \n",
            "I will not talk in class \n",
            "I will not talk in class \n",
            "I will not talk in class \n",
            "I will not talk in class \n",
            "I will not talk in class \n",
            "I will not talk in class \n",
            "I will not talk in class \n",
            "I will not talk in class \n",
            "I will not talk in class \n",
            "I will not talk in class \n",
            "I will not talk in class \n",
            "I will not talk in class \n",
            "I will not talk in class \n",
            "I will not talk in class \n",
            "I will not talk in class \n",
            "I will not talk in class \n",
            "I will not talk in class \n",
            "I will not talk in class \n",
            "I will not talk in class \n",
            "I will not talk in class \n",
            "I will not talk in class \n",
            "I will not talk in class \n",
            "I will not talk in class \n",
            "I will not talk in class \n",
            "I will not talk in class \n",
            "I will not talk in class \n",
            "I will not talk in class \n",
            "I will not talk in class \n",
            "I will not talk in class \n",
            "I will not talk in class \n",
            "I will not talk in class \n",
            "I will not talk in class \n",
            "I will not talk in class \n",
            "I will not talk in class \n",
            "I will not talk in class \n",
            "I will not talk in class \n",
            "I will not talk in class \n",
            "I will not talk in class \n",
            "I will not talk in class \n",
            "I will not talk in class \n",
            "I will not talk in class \n",
            "I will not talk in class \n",
            "I will not talk in class \n",
            "I will not talk in class \n",
            "I will not talk in class \n",
            "I will not talk in class \n",
            "I will not talk in class \n",
            "I will not talk in class \n",
            "I will not talk in class \n",
            "I will not talk in class \n",
            "I will not talk in class \n",
            "I will not talk in class \n",
            "I will not talk in class \n",
            "I will not talk in class \n",
            "I will not talk in class \n",
            "I will not talk in class \n",
            "I will not talk in class \n",
            "I will not talk in class \n",
            "I will not talk in class \n",
            "I will not talk in class \n",
            "I will not talk in class \n",
            "I will not talk in class \n",
            "I will not talk in class \n",
            "I will not talk in class \n",
            "I will not talk in class \n",
            "I will not talk in class \n",
            "I will not talk in class \n",
            "I will not talk in class \n",
            "I will not talk in class \n",
            "I will not talk in class \n",
            "I will not talk in class \n",
            "I will not talk in class \n",
            "I will not talk in class \n",
            "I will not talk in class \n",
            "I will not talk in class \n",
            "I will not talk in class \n",
            "I will not talk in class \n",
            "I will not talk in class \n",
            "I will not talk in class \n",
            "I will not talk in class \n",
            "I will not talk in class \n",
            "I will not talk in class \n",
            "I will not talk in class \n",
            "I will not talk in class \n",
            "I will not talk in class \n",
            "I will not talk in class \n",
            "I will not talk in class \n",
            "I will not talk in class \n",
            "I will not talk in class \n",
            "I will not talk in class \n",
            "I will not talk in class \n",
            "I will not talk in class \n",
            "I will not talk in class \n",
            "I will not talk in class \n",
            "I will not talk in class \n",
            "I will not talk in class \n",
            "I will not talk in class \n",
            "I will not talk in class \n",
            "I will not talk in class \n",
            "I will not talk in class \n",
            "I will not talk in class \n",
            "I will not talk in class \n",
            "I will not talk in class \n",
            "I will not talk in class \n",
            "I will not talk in class \n",
            "I will not talk in class \n",
            "I will not talk in class \n",
            "I will not talk in class \n",
            "I will not talk in class \n",
            "I will not talk in class \n",
            "I will not talk in class \n",
            "I will not talk in class \n",
            "I will not talk in class \n",
            "I will not talk in class \n",
            "I will not talk in class \n",
            "I will not talk in class \n",
            "I will not talk in class \n",
            "I will not talk in class \n",
            "I will not talk in class \n",
            "I will not talk in class \n",
            "I will not talk in class \n",
            "I will not talk in class \n",
            "I will not talk in class \n",
            "I will not talk in class \n",
            "I will not talk in class \n",
            "I will not talk in class \n",
            "I will not talk in class \n",
            "I will not talk in class \n",
            "I will not talk in class \n",
            "I will not talk in class \n",
            "I will not talk in class \n",
            "I will not talk in class \n",
            "I will not talk in class \n",
            "I will not talk in class \n",
            "I will not talk in class \n",
            "I will not talk in class \n",
            "I will not talk in class \n",
            "I will not talk in class \n",
            "I will not talk in class \n",
            "I will not talk in class \n",
            "I will not talk in class \n",
            "I will not talk in class \n",
            "I will not talk in class \n",
            "I will not talk in class \n",
            "I will not talk in class \n",
            "I will not talk in class \n",
            "I will not talk in class \n",
            "I will not talk in class \n",
            "I will not talk in class \n",
            "I will not talk in class \n",
            "I will not talk in class \n",
            "I will not talk in class \n",
            "I will not talk in class \n",
            "I will not talk in class \n",
            "I will not talk in class \n",
            "I will not talk in class \n",
            "I will not talk in class \n",
            "I will not talk in class \n",
            "I will not talk in class \n",
            "I will not talk in class \n",
            "I will not talk in class \n",
            "I will not talk in class \n",
            "I will not talk in class \n",
            "I will not talk in class \n",
            "I will not talk in class \n",
            "I will not talk in class \n",
            "I will not talk in class \n",
            "I will not talk in class \n",
            "I will not talk in class \n",
            "I will not talk in class \n",
            "I will not talk in class \n",
            "I will not talk in class \n",
            "I will not talk in class \n",
            "I will not talk in class \n",
            "I will not talk in class \n",
            "I will not talk in class \n",
            "I will not talk in class \n",
            "I will not talk in class \n",
            "I will not talk in class \n",
            "I will not talk in class \n",
            "I will not talk in class \n",
            "I will not talk in class \n",
            "I will not talk in class \n",
            "I will not talk in class \n",
            "I will not talk in class \n",
            "I will not talk in class \n",
            "I will not talk in class \n",
            "I will not talk in class \n",
            "I will not talk in class \n",
            "I will not talk in class \n",
            "I will not talk in class \n",
            "I will not talk in class \n",
            "I will not talk in class \n",
            "I will not talk in class \n",
            "I will not talk in class \n",
            "I will not talk in class \n",
            "I will not talk in class \n",
            "I will not talk in class \n",
            "I will not talk in class \n",
            "I will not talk in class \n",
            "I will not talk in class \n",
            "I will not talk in class \n",
            "I will not talk in class \n",
            "I will not talk in class \n",
            "I will not talk in class \n",
            "I will not talk in class \n",
            "I will not talk in class \n",
            "I will not talk in class \n",
            "I will not talk in class \n",
            "I will not talk in class \n",
            "I will not talk in class \n",
            "I will not talk in class \n",
            "I will not talk in class \n",
            "I will not talk in class \n",
            "I will not talk in class \n",
            "I will not talk in class \n",
            "I will not talk in class \n",
            "I will not talk in class \n",
            "I will not talk in class \n",
            "I will not talk in class \n",
            "I will not talk in class \n",
            "I will not talk in class \n",
            "I will not talk in class \n",
            "I will not talk in class \n",
            "I will not talk in class \n",
            "I will not talk in class \n",
            "I will not talk in class \n",
            "I will not talk in class \n",
            "I will not talk in class \n",
            "I will not talk in class \n",
            "I will not talk in class \n",
            "I will not talk in class \n",
            "I will not talk in class \n",
            "I will not talk in class \n",
            "I will not talk in class \n",
            "I will not talk in class \n",
            "I will not talk in class \n",
            "I will not talk in class \n",
            "I will not talk in class \n",
            "I will not talk in class \n",
            "I will not talk in class \n",
            "I will not talk in class \n",
            "I will not talk in class \n",
            "I will not talk in class \n",
            "I will not talk in class \n",
            "I will not talk in class \n",
            "I will not talk in class \n",
            "I will not talk in class \n",
            "I will not talk in class \n",
            "I will not talk in class \n",
            "I will not talk in class \n",
            "I will not talk in class \n",
            "I will not talk in class \n",
            "I will not talk in class \n",
            "I will not talk in class \n",
            "I will not talk in class \n",
            "I will not talk in class \n",
            "I will not talk in class \n",
            "I will not talk in class \n",
            "I will not talk in class \n",
            "I will not talk in class \n",
            "I will not talk in class \n",
            "I will not talk in class \n",
            "I will not talk in class \n",
            "I will not talk in class \n",
            "I will not talk in class \n",
            "I will not talk in class \n",
            "I will not talk in class \n",
            "I will not talk in class \n",
            "I will not talk in class \n",
            "I will not talk in class \n",
            "I will not talk in class \n",
            "I will not talk in class \n",
            "I will not talk in class \n",
            "I will not talk in class \n",
            "I will not talk in class \n",
            "I will not talk in class \n",
            "I will not talk in class \n",
            "I will not talk in class \n",
            "I will not talk in class \n",
            "I will not talk in class \n",
            "I will not talk in class \n",
            "I will not talk in class \n",
            "I will not talk in class \n",
            "I will not talk in class \n",
            "I will not talk in class \n",
            "I will not talk in class \n",
            "I will not talk in class \n",
            "I will not talk in class \n",
            "I will not talk in class \n",
            "I will not talk in class \n",
            "I will not talk in class \n",
            "I will not talk in class \n",
            "I will not talk in class \n",
            "I will not talk in class \n",
            "I will not talk in class \n",
            "I will not talk in class \n",
            "I will not talk in class \n",
            "I will not talk in class \n",
            "I will not talk in class \n",
            "I will not talk in class \n",
            "I will not talk in class \n",
            "I will not talk in class \n",
            "I will not talk in class \n",
            "I will not talk in class \n",
            "I will not talk in class \n",
            "I will not talk in class \n",
            "I will not talk in class \n",
            "I will not talk in class \n",
            "I will not talk in class \n",
            "I will not talk in class \n",
            "I will not talk in class \n",
            "I will not talk in class \n",
            "I will not talk in class \n",
            "I will not talk in class \n",
            "I will not talk in class \n",
            "I will not talk in class \n",
            "I will not talk in class \n",
            "I will not talk in class \n",
            "I will not talk in class \n",
            "I will not talk in class \n",
            "I will not talk in class \n",
            "I will not talk in class \n",
            "I will not talk in class \n",
            "I will not talk in class \n",
            "I will not talk in class \n",
            "I will not talk in class \n",
            "I will not talk in class \n",
            "I will not talk in class \n",
            "I will not talk in class \n",
            "I will not talk in class \n",
            "I will not talk in class \n",
            "I will not talk in class \n",
            "I will not talk in class \n",
            "I will not talk in class \n",
            "I will not talk in class \n",
            "I will not talk in class \n",
            "I will not talk in class \n",
            "I will not talk in class \n",
            "I will not talk in class \n",
            "I will not talk in class \n",
            "I will not talk in class \n",
            "I will not talk in class \n",
            "I will not talk in class \n",
            "I will not talk in class \n",
            "I will not talk in class \n",
            "I will not talk in class \n",
            "I will not talk in class \n",
            "I will not talk in class \n",
            "I will not talk in class \n",
            "I will not talk in class \n",
            "I will not talk in class \n",
            "I will not talk in class \n",
            "I will not talk in class \n",
            "\n"
          ]
        }
      ]
    },
    {
      "cell_type": "code",
      "source": [
        "value = (78,)\n",
        "value = [\"India\", \"Germany\", \"Japan\"]"
      ],
      "metadata": {
        "id": "X97qGYLr932k"
      },
      "execution_count": 59,
      "outputs": []
    },
    {
      "cell_type": "code",
      "source": [
        "value[0] = value[0] + 'n'"
      ],
      "metadata": {
        "id": "GIzILRj0934u"
      },
      "execution_count": 60,
      "outputs": []
    },
    {
      "cell_type": "markdown",
      "source": [
        "# Dictionary\n",
        "\n",
        "* Python's Data Structure\n",
        "* dict -> {key:value}\n",
        "* mutable -> changeable\n",
        "* Ordered -> Python v3.7+ & Unordered -> Python v3.6 or earlier\n",
        "* Doesn't allow the duplicacy"
      ],
      "metadata": {
        "id": "YZJ0WrhUV6VI"
      }
    },
    {
      "cell_type": "code",
      "source": [
        "!python --version"
      ],
      "metadata": {
        "colab": {
          "base_uri": "https://localhost:8080/"
        },
        "id": "bY0Rr5Cf936E",
        "outputId": "88f2275d-0722-4a61-f1a5-d548900e7d0c"
      },
      "execution_count": 61,
      "outputs": [
        {
          "output_type": "stream",
          "name": "stdout",
          "text": [
            "Python 3.10.12\n"
          ]
        }
      ]
    },
    {
      "cell_type": "code",
      "source": [
        "books = {} # Empty Dictionary\n",
        "# Python >= 3.7 -> dict\n",
        "# Python < 3.7 -> set"
      ],
      "metadata": {
        "id": "yN8S39nj937Y"
      },
      "execution_count": 62,
      "outputs": []
    },
    {
      "cell_type": "code",
      "source": [
        "type(books)"
      ],
      "metadata": {
        "colab": {
          "base_uri": "https://localhost:8080/"
        },
        "id": "zOt-77nZ938l",
        "outputId": "294c5b5c-2620-4e7c-db2b-d06088faadc6"
      },
      "execution_count": 63,
      "outputs": [
        {
          "output_type": "execute_result",
          "data": {
            "text/plain": [
              "dict"
            ]
          },
          "metadata": {},
          "execution_count": 63
        }
      ]
    },
    {
      "cell_type": "code",
      "source": [
        "vehicles = {\"Cars\":\"Audi\",\n",
        "            \"Wheels\":4,\n",
        "            \"Year\":[2015, 2016, 2017, 2021]}"
      ],
      "metadata": {
        "id": "4PSng5Zu939v"
      },
      "execution_count": 64,
      "outputs": []
    },
    {
      "cell_type": "code",
      "source": [
        "type(vehicles)"
      ],
      "metadata": {
        "colab": {
          "base_uri": "https://localhost:8080/"
        },
        "id": "Ca3BsEiJ93_9",
        "outputId": "5cbd5f8e-77c9-46a3-e292-74191a1c9c27"
      },
      "execution_count": 65,
      "outputs": [
        {
          "output_type": "execute_result",
          "data": {
            "text/plain": [
              "dict"
            ]
          },
          "metadata": {},
          "execution_count": 65
        }
      ]
    },
    {
      "cell_type": "code",
      "source": [
        "vehicles"
      ],
      "metadata": {
        "colab": {
          "base_uri": "https://localhost:8080/"
        },
        "id": "nHVM4M2z94CQ",
        "outputId": "c568ec70-8d7f-43be-e009-0b3c98ab61b5"
      },
      "execution_count": 66,
      "outputs": [
        {
          "output_type": "execute_result",
          "data": {
            "text/plain": [
              "{'Cars': 'Audi', 'Wheels': 4, 'Year': [2015, 2016, 2017, 2021]}"
            ]
          },
          "metadata": {},
          "execution_count": 66
        }
      ]
    },
    {
      "cell_type": "code",
      "source": [
        "len(vehicles)"
      ],
      "metadata": {
        "colab": {
          "base_uri": "https://localhost:8080/"
        },
        "id": "PGwzYpdw94Df",
        "outputId": "4bdea95f-f5bc-4299-ae73-a4e3c1fe69fe"
      },
      "execution_count": 67,
      "outputs": [
        {
          "output_type": "execute_result",
          "data": {
            "text/plain": [
              "3"
            ]
          },
          "metadata": {},
          "execution_count": 67
        }
      ]
    },
    {
      "cell_type": "code",
      "source": [
        "vehicles['Cars']"
      ],
      "metadata": {
        "colab": {
          "base_uri": "https://localhost:8080/",
          "height": 35
        },
        "id": "y7WcAoD394FS",
        "outputId": "32afb276-a9f0-4016-b674-448bc652c864"
      },
      "execution_count": 68,
      "outputs": [
        {
          "output_type": "execute_result",
          "data": {
            "text/plain": [
              "'Audi'"
            ],
            "application/vnd.google.colaboratory.intrinsic+json": {
              "type": "string"
            }
          },
          "metadata": {},
          "execution_count": 68
        }
      ]
    },
    {
      "cell_type": "code",
      "source": [
        "vehicles['cars']"
      ],
      "metadata": {
        "colab": {
          "base_uri": "https://localhost:8080/",
          "height": 165
        },
        "id": "6s-ky3Ge94G8",
        "outputId": "cf0427be-a0b5-460f-df89-11cdcb8a8c8c"
      },
      "execution_count": 69,
      "outputs": [
        {
          "output_type": "error",
          "ename": "KeyError",
          "evalue": "ignored",
          "traceback": [
            "\u001b[0;31m---------------------------------------------------------------------------\u001b[0m",
            "\u001b[0;31mKeyError\u001b[0m                                  Traceback (most recent call last)",
            "\u001b[0;32m<ipython-input-69-16519902c2b6>\u001b[0m in \u001b[0;36m<cell line: 1>\u001b[0;34m()\u001b[0m\n\u001b[0;32m----> 1\u001b[0;31m \u001b[0mvehicles\u001b[0m\u001b[0;34m[\u001b[0m\u001b[0;34m'cars'\u001b[0m\u001b[0;34m]\u001b[0m\u001b[0;34m\u001b[0m\u001b[0;34m\u001b[0m\u001b[0m\n\u001b[0m",
            "\u001b[0;31mKeyError\u001b[0m: 'cars'"
          ]
        }
      ]
    },
    {
      "cell_type": "code",
      "source": [
        "vehicles['Year'][2]"
      ],
      "metadata": {
        "colab": {
          "base_uri": "https://localhost:8080/"
        },
        "id": "Nu8o8WwC94Ie",
        "outputId": "68217709-4add-449e-b1ef-e118e4cd84b4"
      },
      "execution_count": 70,
      "outputs": [
        {
          "output_type": "execute_result",
          "data": {
            "text/plain": [
              "2017"
            ]
          },
          "metadata": {},
          "execution_count": 70
        }
      ]
    },
    {
      "cell_type": "code",
      "source": [
        "vehicles"
      ],
      "metadata": {
        "colab": {
          "base_uri": "https://localhost:8080/"
        },
        "id": "boNeSY6c94Jr",
        "outputId": "e8ed82f7-91dc-44d2-f30d-e25ea7ae2e21"
      },
      "execution_count": 71,
      "outputs": [
        {
          "output_type": "execute_result",
          "data": {
            "text/plain": [
              "{'Cars': 'Audi', 'Wheels': 4, 'Year': [2015, 2016, 2017, 2021]}"
            ]
          },
          "metadata": {},
          "execution_count": 71
        }
      ]
    },
    {
      "cell_type": "code",
      "source": [
        "vehicles['Cars']"
      ],
      "metadata": {
        "colab": {
          "base_uri": "https://localhost:8080/",
          "height": 35
        },
        "id": "JcTndymQ94LI",
        "outputId": "3b56f97d-8d49-4369-f8b8-d06d5b957b3d"
      },
      "execution_count": 72,
      "outputs": [
        {
          "output_type": "execute_result",
          "data": {
            "text/plain": [
              "'Audi'"
            ],
            "application/vnd.google.colaboratory.intrinsic+json": {
              "type": "string"
            }
          },
          "metadata": {},
          "execution_count": 72
        }
      ]
    },
    {
      "cell_type": "code",
      "source": [
        "vehicles.get('Cars')"
      ],
      "metadata": {
        "colab": {
          "base_uri": "https://localhost:8080/",
          "height": 35
        },
        "id": "z0KFnddt94Na",
        "outputId": "4c4b43dc-85d6-487b-861a-1eaba0d70055"
      },
      "execution_count": 73,
      "outputs": [
        {
          "output_type": "execute_result",
          "data": {
            "text/plain": [
              "'Audi'"
            ],
            "application/vnd.google.colaboratory.intrinsic+json": {
              "type": "string"
            }
          },
          "metadata": {},
          "execution_count": 73
        }
      ]
    },
    {
      "cell_type": "code",
      "source": [
        "vehicles.keys()"
      ],
      "metadata": {
        "colab": {
          "base_uri": "https://localhost:8080/"
        },
        "id": "xDKUoee894PD",
        "outputId": "e8b2cf59-536e-440d-f86d-cb4c20ea922b"
      },
      "execution_count": 74,
      "outputs": [
        {
          "output_type": "execute_result",
          "data": {
            "text/plain": [
              "dict_keys(['Cars', 'Wheels', 'Year'])"
            ]
          },
          "metadata": {},
          "execution_count": 74
        }
      ]
    },
    {
      "cell_type": "code",
      "source": [
        "vehicles.values()"
      ],
      "metadata": {
        "colab": {
          "base_uri": "https://localhost:8080/"
        },
        "id": "E62bxXkY94S7",
        "outputId": "935a521e-70ef-4a8d-91a7-a8825b7d6624"
      },
      "execution_count": 75,
      "outputs": [
        {
          "output_type": "execute_result",
          "data": {
            "text/plain": [
              "dict_values(['Audi', 4, [2015, 2016, 2017, 2021]])"
            ]
          },
          "metadata": {},
          "execution_count": 75
        }
      ]
    },
    {
      "cell_type": "code",
      "source": [
        "vehicles"
      ],
      "metadata": {
        "colab": {
          "base_uri": "https://localhost:8080/"
        },
        "id": "2ri0EplH94UR",
        "outputId": "60a20ef1-ea16-4a36-8b5c-f309daeed1ec"
      },
      "execution_count": 76,
      "outputs": [
        {
          "output_type": "execute_result",
          "data": {
            "text/plain": [
              "{'Cars': 'Audi', 'Wheels': 4, 'Year': [2015, 2016, 2017, 2021]}"
            ]
          },
          "metadata": {},
          "execution_count": 76
        }
      ]
    },
    {
      "cell_type": "code",
      "source": [
        "vehicles['Cars'] = 'BMW'"
      ],
      "metadata": {
        "id": "7ogxVY2S94X1"
      },
      "execution_count": 77,
      "outputs": []
    },
    {
      "cell_type": "code",
      "source": [
        "vehicles"
      ],
      "metadata": {
        "colab": {
          "base_uri": "https://localhost:8080/"
        },
        "id": "Bizoz0I594cz",
        "outputId": "6fa33816-931c-4c49-fb3f-bfb931ed534b"
      },
      "execution_count": 78,
      "outputs": [
        {
          "output_type": "execute_result",
          "data": {
            "text/plain": [
              "{'Cars': 'BMW', 'Wheels': 4, 'Year': [2015, 2016, 2017, 2021]}"
            ]
          },
          "metadata": {},
          "execution_count": 78
        }
      ]
    },
    {
      "cell_type": "code",
      "source": [
        "vehicles.update({\"Cars\":\"Audi\"})"
      ],
      "metadata": {
        "id": "vzyJUfI794fI"
      },
      "execution_count": 79,
      "outputs": []
    },
    {
      "cell_type": "code",
      "source": [
        "vehicles"
      ],
      "metadata": {
        "colab": {
          "base_uri": "https://localhost:8080/"
        },
        "id": "pRFGwfco94ga",
        "outputId": "cfe34bff-a290-4977-b2d5-3474400f9933"
      },
      "execution_count": 80,
      "outputs": [
        {
          "output_type": "execute_result",
          "data": {
            "text/plain": [
              "{'Cars': 'Audi', 'Wheels': 4, 'Year': [2015, 2016, 2017, 2021]}"
            ]
          },
          "metadata": {},
          "execution_count": 80
        }
      ]
    },
    {
      "cell_type": "code",
      "source": [
        "vehicles['Phone'] = 'iPhone'"
      ],
      "metadata": {
        "id": "mffX5gKz94h-"
      },
      "execution_count": 81,
      "outputs": []
    },
    {
      "cell_type": "code",
      "source": [
        "vehicles"
      ],
      "metadata": {
        "colab": {
          "base_uri": "https://localhost:8080/"
        },
        "id": "GYX4LBhr94kD",
        "outputId": "afefcce7-0ff7-458c-b2c5-87662f07cb8e"
      },
      "execution_count": 82,
      "outputs": [
        {
          "output_type": "execute_result",
          "data": {
            "text/plain": [
              "{'Cars': 'Audi',\n",
              " 'Wheels': 4,\n",
              " 'Year': [2015, 2016, 2017, 2021],\n",
              " 'Phone': 'iPhone'}"
            ]
          },
          "metadata": {},
          "execution_count": 82
        }
      ]
    },
    {
      "cell_type": "code",
      "source": [
        "vehicles.update({\"Laptop\":\"Ryzen\"})"
      ],
      "metadata": {
        "id": "1i7Mc6c594lV"
      },
      "execution_count": 83,
      "outputs": []
    },
    {
      "cell_type": "code",
      "source": [
        "vehicles"
      ],
      "metadata": {
        "colab": {
          "base_uri": "https://localhost:8080/"
        },
        "id": "qyUe9GvQ94mn",
        "outputId": "42ce89f6-082d-4dd2-e27d-b4e509284d65"
      },
      "execution_count": 84,
      "outputs": [
        {
          "output_type": "execute_result",
          "data": {
            "text/plain": [
              "{'Cars': 'Audi',\n",
              " 'Wheels': 4,\n",
              " 'Year': [2015, 2016, 2017, 2021],\n",
              " 'Phone': 'iPhone',\n",
              " 'Laptop': 'Ryzen'}"
            ]
          },
          "metadata": {},
          "execution_count": 84
        }
      ]
    },
    {
      "cell_type": "code",
      "source": [
        "# pop()\n",
        "# del\n",
        "# popitem()"
      ],
      "metadata": {
        "id": "H3Eq-85Y94of"
      },
      "execution_count": 85,
      "outputs": []
    },
    {
      "cell_type": "code",
      "source": [
        "vehicles.pop('Laptop')"
      ],
      "metadata": {
        "colab": {
          "base_uri": "https://localhost:8080/",
          "height": 35
        },
        "id": "NbpfrTJ994qJ",
        "outputId": "61860e5c-f8ec-41f9-c1bb-a58eeb801e3a"
      },
      "execution_count": 86,
      "outputs": [
        {
          "output_type": "execute_result",
          "data": {
            "text/plain": [
              "'Ryzen'"
            ],
            "application/vnd.google.colaboratory.intrinsic+json": {
              "type": "string"
            }
          },
          "metadata": {},
          "execution_count": 86
        }
      ]
    },
    {
      "cell_type": "code",
      "source": [
        "vehicles"
      ],
      "metadata": {
        "colab": {
          "base_uri": "https://localhost:8080/"
        },
        "id": "ELxV2KEw94r9",
        "outputId": "bafcd818-f536-484d-82f7-587585320104"
      },
      "execution_count": 87,
      "outputs": [
        {
          "output_type": "execute_result",
          "data": {
            "text/plain": [
              "{'Cars': 'Audi',\n",
              " 'Wheels': 4,\n",
              " 'Year': [2015, 2016, 2017, 2021],\n",
              " 'Phone': 'iPhone'}"
            ]
          },
          "metadata": {},
          "execution_count": 87
        }
      ]
    },
    {
      "cell_type": "code",
      "source": [
        "vehicles.pop()"
      ],
      "metadata": {
        "colab": {
          "base_uri": "https://localhost:8080/",
          "height": 165
        },
        "id": "-IPYJcvf94ts",
        "outputId": "98b3b29b-4602-42ab-b380-da1b44d25114"
      },
      "execution_count": 88,
      "outputs": [
        {
          "output_type": "error",
          "ename": "TypeError",
          "evalue": "ignored",
          "traceback": [
            "\u001b[0;31m---------------------------------------------------------------------------\u001b[0m",
            "\u001b[0;31mTypeError\u001b[0m                                 Traceback (most recent call last)",
            "\u001b[0;32m<ipython-input-88-07f152843338>\u001b[0m in \u001b[0;36m<cell line: 1>\u001b[0;34m()\u001b[0m\n\u001b[0;32m----> 1\u001b[0;31m \u001b[0mvehicles\u001b[0m\u001b[0;34m.\u001b[0m\u001b[0mpop\u001b[0m\u001b[0;34m(\u001b[0m\u001b[0;34m)\u001b[0m\u001b[0;34m\u001b[0m\u001b[0;34m\u001b[0m\u001b[0m\n\u001b[0m",
            "\u001b[0;31mTypeError\u001b[0m: pop expected at least 1 argument, got 0"
          ]
        }
      ]
    },
    {
      "cell_type": "code",
      "source": [
        "# pop() -> List , Dict"
      ],
      "metadata": {
        "id": "FHgObNKV94v0"
      },
      "execution_count": 89,
      "outputs": []
    },
    {
      "cell_type": "code",
      "source": [
        "# popitem() ->\n",
        "# Python >= v3.7 Removes the last inserted item\n",
        "# Python < v3.7 -> Removes the elements randomly"
      ],
      "metadata": {
        "id": "-cZnO0mv94zY"
      },
      "execution_count": 90,
      "outputs": []
    },
    {
      "cell_type": "code",
      "source": [
        "vehicles"
      ],
      "metadata": {
        "colab": {
          "base_uri": "https://localhost:8080/"
        },
        "id": "xzfU5oqE941W",
        "outputId": "6870ee49-49d7-4613-a70e-5e9b09cbadcc"
      },
      "execution_count": 91,
      "outputs": [
        {
          "output_type": "execute_result",
          "data": {
            "text/plain": [
              "{'Cars': 'Audi',\n",
              " 'Wheels': 4,\n",
              " 'Year': [2015, 2016, 2017, 2021],\n",
              " 'Phone': 'iPhone'}"
            ]
          },
          "metadata": {},
          "execution_count": 91
        }
      ]
    },
    {
      "cell_type": "code",
      "source": [
        "vehicles.popitem()"
      ],
      "metadata": {
        "colab": {
          "base_uri": "https://localhost:8080/"
        },
        "id": "NgRJgHtP943S",
        "outputId": "c0e7bee9-b672-4128-c389-dc779ba81310"
      },
      "execution_count": 92,
      "outputs": [
        {
          "output_type": "execute_result",
          "data": {
            "text/plain": [
              "('Phone', 'iPhone')"
            ]
          },
          "metadata": {},
          "execution_count": 92
        }
      ]
    },
    {
      "cell_type": "code",
      "source": [
        "vehicles"
      ],
      "metadata": {
        "colab": {
          "base_uri": "https://localhost:8080/"
        },
        "id": "6shxmd5N944W",
        "outputId": "db78d29a-f52f-416f-e0e8-3622f236297f"
      },
      "execution_count": 93,
      "outputs": [
        {
          "output_type": "execute_result",
          "data": {
            "text/plain": [
              "{'Cars': 'Audi', 'Wheels': 4, 'Year': [2015, 2016, 2017, 2021]}"
            ]
          },
          "metadata": {},
          "execution_count": 93
        }
      ]
    },
    {
      "cell_type": "code",
      "source": [
        "del vehicles['Wheels']"
      ],
      "metadata": {
        "id": "tK14gP7a945U"
      },
      "execution_count": 94,
      "outputs": []
    },
    {
      "cell_type": "code",
      "source": [
        "vehicles"
      ],
      "metadata": {
        "colab": {
          "base_uri": "https://localhost:8080/"
        },
        "id": "oBSgD8c-946b",
        "outputId": "669d09a8-e7b8-48bc-e5b0-2b6a90def0ba"
      },
      "execution_count": 95,
      "outputs": [
        {
          "output_type": "execute_result",
          "data": {
            "text/plain": [
              "{'Cars': 'Audi', 'Year': [2015, 2016, 2017, 2021]}"
            ]
          },
          "metadata": {},
          "execution_count": 95
        }
      ]
    },
    {
      "cell_type": "code",
      "source": [
        "# copy()\n",
        "copy_dict = vehicles.copy()"
      ],
      "metadata": {
        "id": "7KDVsDwM947j"
      },
      "execution_count": 96,
      "outputs": []
    },
    {
      "cell_type": "code",
      "source": [
        "copy_dict"
      ],
      "metadata": {
        "colab": {
          "base_uri": "https://localhost:8080/"
        },
        "id": "dqS-cTlm9482",
        "outputId": "9b127067-0a04-43b8-b27e-31d4f7e9f99c"
      },
      "execution_count": 97,
      "outputs": [
        {
          "output_type": "execute_result",
          "data": {
            "text/plain": [
              "{'Cars': 'Audi', 'Year': [2015, 2016, 2017, 2021]}"
            ]
          },
          "metadata": {},
          "execution_count": 97
        }
      ]
    },
    {
      "cell_type": "code",
      "source": [
        "# clear()"
      ],
      "metadata": {
        "id": "BhTrsjma94-i"
      },
      "execution_count": 98,
      "outputs": []
    },
    {
      "cell_type": "code",
      "source": [
        "len(vehicles)"
      ],
      "metadata": {
        "colab": {
          "base_uri": "https://localhost:8080/"
        },
        "id": "ABrFqOvY95BO",
        "outputId": "cb84a3b4-7f3d-4d3d-a4bf-b8dc817a078e"
      },
      "execution_count": 99,
      "outputs": [
        {
          "output_type": "execute_result",
          "data": {
            "text/plain": [
              "2"
            ]
          },
          "metadata": {},
          "execution_count": 99
        }
      ]
    },
    {
      "cell_type": "code",
      "source": [
        "vehicles.clear()"
      ],
      "metadata": {
        "id": "-IfK2U1z95DY"
      },
      "execution_count": 100,
      "outputs": []
    },
    {
      "cell_type": "code",
      "source": [
        "vehicles"
      ],
      "metadata": {
        "colab": {
          "base_uri": "https://localhost:8080/"
        },
        "id": "4YAc9r7995GP",
        "outputId": "7402abaf-a082-4cd6-9bdd-c14e88c8500b"
      },
      "execution_count": 101,
      "outputs": [
        {
          "output_type": "execute_result",
          "data": {
            "text/plain": [
              "{}"
            ]
          },
          "metadata": {},
          "execution_count": 101
        }
      ]
    },
    {
      "cell_type": "code",
      "source": [
        "vehicles['Monitor'] = None"
      ],
      "metadata": {
        "id": "k5M8S1kH95HY"
      },
      "execution_count": 102,
      "outputs": []
    },
    {
      "cell_type": "code",
      "source": [
        "vehicles"
      ],
      "metadata": {
        "colab": {
          "base_uri": "https://localhost:8080/"
        },
        "id": "7nnCPZiF95Id",
        "outputId": "a6f16290-9bd8-49cb-9e6e-ed3864aa21ae"
      },
      "execution_count": 103,
      "outputs": [
        {
          "output_type": "execute_result",
          "data": {
            "text/plain": [
              "{'Monitor': None}"
            ]
          },
          "metadata": {},
          "execution_count": 103
        }
      ]
    },
    {
      "cell_type": "code",
      "source": [
        "type(None)"
      ],
      "metadata": {
        "colab": {
          "base_uri": "https://localhost:8080/"
        },
        "id": "DJQN9MnH95Jh",
        "outputId": "86deebbc-cef1-4fe4-db19-50802911a190"
      },
      "execution_count": 104,
      "outputs": [
        {
          "output_type": "execute_result",
          "data": {
            "text/plain": [
              "NoneType"
            ]
          },
          "metadata": {},
          "execution_count": 104
        }
      ]
    },
    {
      "cell_type": "code",
      "source": [
        "vehicles"
      ],
      "metadata": {
        "colab": {
          "base_uri": "https://localhost:8080/"
        },
        "id": "jiGbw57F95LX",
        "outputId": "b46c6373-e240-4509-a781-f2d536261111"
      },
      "execution_count": 105,
      "outputs": [
        {
          "output_type": "execute_result",
          "data": {
            "text/plain": [
              "{'Monitor': None}"
            ]
          },
          "metadata": {},
          "execution_count": 105
        }
      ]
    },
    {
      "cell_type": "code",
      "source": [
        "vehicles['Monitors'] = vehicles['Monitor']"
      ],
      "metadata": {
        "id": "1YByFqiE95NR"
      },
      "execution_count": 106,
      "outputs": []
    },
    {
      "cell_type": "code",
      "source": [
        "vehicles"
      ],
      "metadata": {
        "colab": {
          "base_uri": "https://localhost:8080/"
        },
        "id": "VtytPfD195PK",
        "outputId": "197d8e48-83b9-475c-a1df-1f476c480bf5"
      },
      "execution_count": 107,
      "outputs": [
        {
          "output_type": "execute_result",
          "data": {
            "text/plain": [
              "{'Monitor': None, 'Monitors': None}"
            ]
          },
          "metadata": {},
          "execution_count": 107
        }
      ]
    },
    {
      "cell_type": "code",
      "source": [
        "new = {\"A\": 123,\n",
        "       \"B\": 456,\n",
        "       \"C\": 890,\n",
        "       \"A\": 789}"
      ],
      "metadata": {
        "id": "-ebRfYMM95Qy"
      },
      "execution_count": 108,
      "outputs": []
    },
    {
      "cell_type": "code",
      "source": [
        "new"
      ],
      "metadata": {
        "colab": {
          "base_uri": "https://localhost:8080/"
        },
        "id": "hfABA7Jh95Sg",
        "outputId": "90f5aad8-166a-4f03-9e94-aa6c5dda4936"
      },
      "execution_count": 109,
      "outputs": [
        {
          "output_type": "execute_result",
          "data": {
            "text/plain": [
              "{'A': 789, 'B': 456, 'C': 890}"
            ]
          },
          "metadata": {},
          "execution_count": 109
        }
      ]
    },
    {
      "cell_type": "code",
      "source": [],
      "metadata": {
        "id": "7FMenkU_Qntx"
      },
      "execution_count": null,
      "outputs": []
    }
  ]
}